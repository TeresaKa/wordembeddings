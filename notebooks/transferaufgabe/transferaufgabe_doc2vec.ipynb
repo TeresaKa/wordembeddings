{
  "nbformat": 4,
  "nbformat_minor": 0,
  "metadata": {
    "colab": {
      "name": "transferaufgabe_doc2vec.ipynb",
      "provenance": [],
      "collapsed_sections": []
    },
    "kernelspec": {
      "name": "python3",
      "display_name": "Python 3"
    }
  },
  "cells": [
    {
      "cell_type": "code",
      "metadata": {
        "id": "7SsaPkFVtNbL",
        "colab_type": "code",
        "colab": {
          "base_uri": "https://localhost:8080/",
          "height": 106
        },
        "outputId": "ab69d0da-5bb0-4b62-b66e-cff8ac18a326"
      },
      "source": [
        "import gensim\n",
        "\n",
        "from gensim.test.utils import common_texts\n",
        "from gensim.models.doc2vec import Doc2Vec, TaggedDocument\n",
        "from gensim.test.utils import get_tmpfile\n",
        "\n",
        "import nltk\n",
        "from nltk.cluster import KMeansClusterer\n",
        "nltk.download('wordnet')\n",
        "\n",
        "import pandas as pd\n",
        "import numpy as np\n",
        "from collections import Counter\n",
        "import matplotlib.pyplot as plt\n",
        "import seaborn as sns\n",
        " \n",
        "from sklearn.model_selection import train_test_split \n",
        "from sklearn.cluster import KMeans, AgglomerativeClustering\n",
        "from scipy.cluster.hierarchy import dendrogram, linkage\n",
        "from sklearn.decomposition import PCA\n",
        "from sklearn.manifold import TSNE\n",
        "\n",
        "\n",
        "import warnings\n",
        "\n",
        "warnings.filterwarnings(\"ignore\", category=FutureWarning)\n",
        "warnings.filterwarnings(\"ignore\", category=DeprecationWarning)"
      ],
      "execution_count": null,
      "outputs": [
        {
          "output_type": "stream",
          "text": [
            "[nltk_data] Downloading package wordnet to /root/nltk_data...\n",
            "[nltk_data]   Unzipping corpora/wordnet.zip.\n"
          ],
          "name": "stdout"
        },
        {
          "output_type": "stream",
          "text": [
            "/usr/local/lib/python3.6/dist-packages/statsmodels/tools/_testing.py:19: FutureWarning: pandas.util.testing is deprecated. Use the functions in the public API at pandas.testing instead.\n",
            "  import pandas.util.testing as tm\n"
          ],
          "name": "stderr"
        }
      ]
    },
    {
      "cell_type": "code",
      "metadata": {
        "id": "cjm9JizumkVJ",
        "colab_type": "code",
        "colab": {
          "base_uri": "https://localhost:8080/",
          "height": 124
        },
        "outputId": "c98fddb4-ced4-47e9-9ee0-2f3afff2421e"
      },
      "source": [
        "from google.colab import drive\n",
        "drive.mount('/content/drive')"
      ],
      "execution_count": null,
      "outputs": [
        {
          "output_type": "stream",
          "text": [
            "Go to this URL in a browser: https://accounts.google.com/o/oauth2/auth?client_id=947318989803-6bn6qk8qdgf4n4g3pfee6491hc0brc4i.apps.googleusercontent.com&redirect_uri=urn%3aietf%3awg%3aoauth%3a2.0%3aoob&scope=email%20https%3a%2f%2fwww.googleapis.com%2fauth%2fdocs.test%20https%3a%2f%2fwww.googleapis.com%2fauth%2fdrive%20https%3a%2f%2fwww.googleapis.com%2fauth%2fdrive.photos.readonly%20https%3a%2f%2fwww.googleapis.com%2fauth%2fpeopleapi.readonly&response_type=code\n",
            "\n",
            "Enter your authorization code:\n",
            "··········\n",
            "Mounted at /content/drive\n"
          ],
          "name": "stdout"
        }
      ]
    },
    {
      "cell_type": "markdown",
      "metadata": {
        "id": "y1Trfu6PR4Wx",
        "colab_type": "text"
      },
      "source": [
        "## Daten importieren und vorbereiten"
      ]
    },
    {
      "cell_type": "code",
      "metadata": {
        "id": "YV2DBXl79dFX",
        "colab_type": "code",
        "colab": {
          "base_uri": "https://localhost:8080/",
          "height": 328
        },
        "outputId": "f90e1b25-b35a-4191-df6a-e5f6b89c42be"
      },
      "source": [
        "songs_all = pd.read_csv('/content/drive/My Drive/song_decades_long.csv')\n",
        "songs = songs_all[songs_all.Genre1!='Rock']\n",
        "songs = songs[songs.Genre1!='Pop']\n",
        "songs.head()"
      ],
      "execution_count": null,
      "outputs": [
        {
          "output_type": "execute_result",
          "data": {
            "text/html": [
              "<div>\n",
              "<style scoped>\n",
              "    .dataframe tbody tr th:only-of-type {\n",
              "        vertical-align: middle;\n",
              "    }\n",
              "\n",
              "    .dataframe tbody tr th {\n",
              "        vertical-align: top;\n",
              "    }\n",
              "\n",
              "    .dataframe thead th {\n",
              "        text-align: right;\n",
              "    }\n",
              "</style>\n",
              "<table border=\"1\" class=\"dataframe\">\n",
              "  <thead>\n",
              "    <tr style=\"text-align: right;\">\n",
              "      <th></th>\n",
              "      <th>Unnamed: 0</th>\n",
              "      <th>artist</th>\n",
              "      <th>decades</th>\n",
              "      <th>text</th>\n",
              "      <th>stemmed_text</th>\n",
              "      <th>POS</th>\n",
              "      <th>Genre1</th>\n",
              "      <th>genre1</th>\n",
              "      <th>number_of_tokens</th>\n",
              "      <th>number_of_types</th>\n",
              "    </tr>\n",
              "  </thead>\n",
              "  <tbody>\n",
              "    <tr>\n",
              "      <th>4</th>\n",
              "      <td>81</td>\n",
              "      <td>*NSYNC</td>\n",
              "      <td>1990s</td>\n",
              "      <td>here we go      here we go  one more time  eve...</td>\n",
              "      <td>here we go here we go one more time everybodi...</td>\n",
              "      <td>fine fine free right fine right fine free time...</td>\n",
              "      <td>Electronic</td>\n",
              "      <td>boy band</td>\n",
              "      <td>1786.0</td>\n",
              "      <td>345.0</td>\n",
              "    </tr>\n",
              "    <tr>\n",
              "      <th>5</th>\n",
              "      <td>87</td>\n",
              "      <td>*NSYNC</td>\n",
              "      <td>2000s</td>\n",
              "      <td>this is the time of year  that we learn to giv...</td>\n",
              "      <td>thi is the time of year that we learn to give...</td>\n",
              "      <td>true hard alone dark true true true time year ...</td>\n",
              "      <td>Electronic</td>\n",
              "      <td>boy band</td>\n",
              "      <td>3700.0</td>\n",
              "      <td>548.0</td>\n",
              "    </tr>\n",
              "    <tr>\n",
              "      <th>6</th>\n",
              "      <td>98</td>\n",
              "      <td>*NSYNC</td>\n",
              "      <td>2010s</td>\n",
              "      <td>girl don't say that it's over  'cause you are ...</td>\n",
              "      <td>girl do n't say that it 's over 'caus you are...</td>\n",
              "      <td>wrong lonely beautiful beautiful beautiful bea...</td>\n",
              "      <td>Electronic</td>\n",
              "      <td>boy band</td>\n",
              "      <td>1499.0</td>\n",
              "      <td>299.0</td>\n",
              "    </tr>\n",
              "    <tr>\n",
              "      <th>31</th>\n",
              "      <td>395</td>\n",
              "      <td>Alison Krauss</td>\n",
              "      <td>1990s</td>\n",
              "      <td>when god dips his pen of love in my heart  and...</td>\n",
              "      <td>when god dip hi pen of love in my heart and h...</td>\n",
              "      <td>sinful whole sinful dreary dark cold unburdene...</td>\n",
              "      <td>Folk, World, &amp; Country</td>\n",
              "      <td>bluegrass</td>\n",
              "      <td>1689.0</td>\n",
              "      <td>369.0</td>\n",
              "    </tr>\n",
              "    <tr>\n",
              "      <th>32</th>\n",
              "      <td>402</td>\n",
              "      <td>Alison Krauss</td>\n",
              "      <td>2000s</td>\n",
              "      <td>tonight  i waited but my heart is so cold  'ca...</td>\n",
              "      <td>tonight i wait but my heart is so cold 'caus ...</td>\n",
              "      <td>cold other loving tonight heart minute job chi...</td>\n",
              "      <td>Folk, World, &amp; Country</td>\n",
              "      <td>bluegrass</td>\n",
              "      <td>1318.0</td>\n",
              "      <td>371.0</td>\n",
              "    </tr>\n",
              "  </tbody>\n",
              "</table>\n",
              "</div>"
            ],
            "text/plain": [
              "    Unnamed: 0         artist  ... number_of_tokens number_of_types\n",
              "4           81         *NSYNC  ...           1786.0           345.0\n",
              "5           87         *NSYNC  ...           3700.0           548.0\n",
              "6           98         *NSYNC  ...           1499.0           299.0\n",
              "31         395  Alison Krauss  ...           1689.0           369.0\n",
              "32         402  Alison Krauss  ...           1318.0           371.0\n",
              "\n",
              "[5 rows x 10 columns]"
            ]
          },
          "metadata": {
            "tags": []
          },
          "execution_count": 3
        }
      ]
    },
    {
      "cell_type": "code",
      "metadata": {
        "id": "eHglbMXdr-G7",
        "colab_type": "code",
        "colab": {
          "base_uri": "https://localhost:8080/",
          "height": 139
        },
        "outputId": "a9e24a08-05ea-47ab-9ffc-9512a9370367"
      },
      "source": [
        "Counter(songs.Genre1)"
      ],
      "execution_count": null,
      "outputs": [
        {
          "output_type": "execute_result",
          "data": {
            "text/plain": [
              "Counter({'Electronic': 57,\n",
              "         'Folk, World, & Country': 69,\n",
              "         'Funk / Soul': 35,\n",
              "         'Hip Hop': 68,\n",
              "         'Jazz': 15,\n",
              "         'Reggae': 9,\n",
              "         'Stage & Screen': 1})"
            ]
          },
          "metadata": {
            "tags": []
          },
          "execution_count": 4
        }
      ]
    },
    {
      "cell_type": "code",
      "metadata": {
        "id": "_iH0HzGOHXQs",
        "colab_type": "code",
        "colab": {
          "base_uri": "https://localhost:8080/",
          "height": 841
        },
        "outputId": "894be330-1dbb-4a6e-c6b5-8c2c7862cab1"
      },
      "source": [
        "songs['stemmed_split'] = ''\n",
        "for i, row in songs.iterrows():\n",
        "  songs.at[i, 'stemmed_split'] = row.stemmed_text.split()\n",
        "songs"
      ],
      "execution_count": null,
      "outputs": [
        {
          "output_type": "execute_result",
          "data": {
            "text/html": [
              "<div>\n",
              "<style scoped>\n",
              "    .dataframe tbody tr th:only-of-type {\n",
              "        vertical-align: middle;\n",
              "    }\n",
              "\n",
              "    .dataframe tbody tr th {\n",
              "        vertical-align: top;\n",
              "    }\n",
              "\n",
              "    .dataframe thead th {\n",
              "        text-align: right;\n",
              "    }\n",
              "</style>\n",
              "<table border=\"1\" class=\"dataframe\">\n",
              "  <thead>\n",
              "    <tr style=\"text-align: right;\">\n",
              "      <th></th>\n",
              "      <th>Unnamed: 0</th>\n",
              "      <th>artist</th>\n",
              "      <th>decades</th>\n",
              "      <th>text</th>\n",
              "      <th>stemmed_text</th>\n",
              "      <th>POS</th>\n",
              "      <th>Genre1</th>\n",
              "      <th>genre1</th>\n",
              "      <th>number_of_tokens</th>\n",
              "      <th>number_of_types</th>\n",
              "      <th>stemmed_split</th>\n",
              "    </tr>\n",
              "  </thead>\n",
              "  <tbody>\n",
              "    <tr>\n",
              "      <th>4</th>\n",
              "      <td>81</td>\n",
              "      <td>*NSYNC</td>\n",
              "      <td>1990s</td>\n",
              "      <td>here we go      here we go  one more time  eve...</td>\n",
              "      <td>here we go here we go one more time everybodi...</td>\n",
              "      <td>fine fine free right fine right fine free time...</td>\n",
              "      <td>Electronic</td>\n",
              "      <td>boy band</td>\n",
              "      <td>1786.0</td>\n",
              "      <td>345.0</td>\n",
              "      <td>[here, we, go, here, we, go, one, more, time, ...</td>\n",
              "    </tr>\n",
              "    <tr>\n",
              "      <th>5</th>\n",
              "      <td>87</td>\n",
              "      <td>*NSYNC</td>\n",
              "      <td>2000s</td>\n",
              "      <td>this is the time of year  that we learn to giv...</td>\n",
              "      <td>thi is the time of year that we learn to give...</td>\n",
              "      <td>true hard alone dark true true true time year ...</td>\n",
              "      <td>Electronic</td>\n",
              "      <td>boy band</td>\n",
              "      <td>3700.0</td>\n",
              "      <td>548.0</td>\n",
              "      <td>[thi, is, the, time, of, year, that, we, learn...</td>\n",
              "    </tr>\n",
              "    <tr>\n",
              "      <th>6</th>\n",
              "      <td>98</td>\n",
              "      <td>*NSYNC</td>\n",
              "      <td>2010s</td>\n",
              "      <td>girl don't say that it's over  'cause you are ...</td>\n",
              "      <td>girl do n't say that it 's over 'caus you are...</td>\n",
              "      <td>wrong lonely beautiful beautiful beautiful bea...</td>\n",
              "      <td>Electronic</td>\n",
              "      <td>boy band</td>\n",
              "      <td>1499.0</td>\n",
              "      <td>299.0</td>\n",
              "      <td>[girl, do, n't, say, that, it, 's, over, 'caus...</td>\n",
              "    </tr>\n",
              "    <tr>\n",
              "      <th>31</th>\n",
              "      <td>395</td>\n",
              "      <td>Alison Krauss</td>\n",
              "      <td>1990s</td>\n",
              "      <td>when god dips his pen of love in my heart  and...</td>\n",
              "      <td>when god dip hi pen of love in my heart and h...</td>\n",
              "      <td>sinful whole sinful dreary dark cold unburdene...</td>\n",
              "      <td>Folk, World, &amp; Country</td>\n",
              "      <td>bluegrass</td>\n",
              "      <td>1689.0</td>\n",
              "      <td>369.0</td>\n",
              "      <td>[when, god, dip, hi, pen, of, love, in, my, he...</td>\n",
              "    </tr>\n",
              "    <tr>\n",
              "      <th>32</th>\n",
              "      <td>402</td>\n",
              "      <td>Alison Krauss</td>\n",
              "      <td>2000s</td>\n",
              "      <td>tonight  i waited but my heart is so cold  'ca...</td>\n",
              "      <td>tonight i wait but my heart is so cold 'caus ...</td>\n",
              "      <td>cold other loving tonight heart minute job chi...</td>\n",
              "      <td>Folk, World, &amp; Country</td>\n",
              "      <td>bluegrass</td>\n",
              "      <td>1318.0</td>\n",
              "      <td>371.0</td>\n",
              "      <td>[tonight, i, wait, but, my, heart, is, so, col...</td>\n",
              "    </tr>\n",
              "    <tr>\n",
              "      <th>...</th>\n",
              "      <td>...</td>\n",
              "      <td>...</td>\n",
              "      <td>...</td>\n",
              "      <td>...</td>\n",
              "      <td>...</td>\n",
              "      <td>...</td>\n",
              "      <td>...</td>\n",
              "      <td>...</td>\n",
              "      <td>...</td>\n",
              "      <td>...</td>\n",
              "      <td>...</td>\n",
              "    </tr>\n",
              "    <tr>\n",
              "      <th>1030</th>\n",
              "      <td>13214</td>\n",
              "      <td>Z-Ro</td>\n",
              "      <td>2000s</td>\n",
              "      <td>from the south  i got the diamonds in my mou...</td>\n",
              "      <td>from the south i got the diamond in my mouth ...</td>\n",
              "      <td>ready rear cold deep nice many enough many rea...</td>\n",
              "      <td>Hip Hop</td>\n",
              "      <td>chopped and screwed</td>\n",
              "      <td>10992.0</td>\n",
              "      <td>2210.0</td>\n",
              "      <td>[from, the, south, i, got, the, diamond, in, m...</td>\n",
              "    </tr>\n",
              "    <tr>\n",
              "      <th>1031</th>\n",
              "      <td>13233</td>\n",
              "      <td>Z-Ro</td>\n",
              "      <td>2010s</td>\n",
              "      <td>[z-ro]  time and time again  i try to cope wit...</td>\n",
              "      <td>[ z-ro ] time and time again i tri to cope wi...</td>\n",
              "      <td>poor confused survive bad desperate ready role...</td>\n",
              "      <td>Hip Hop</td>\n",
              "      <td>chopped and screwed</td>\n",
              "      <td>3260.0</td>\n",
              "      <td>955.0</td>\n",
              "      <td>[[, z-ro, ], time, and, time, again, i, tri, t...</td>\n",
              "    </tr>\n",
              "    <tr>\n",
              "      <th>1033</th>\n",
              "      <td>13252</td>\n",
              "      <td>Zac Brown Band</td>\n",
              "      <td>2000s</td>\n",
              "      <td>you know i like my chicken fried  cold beer on...</td>\n",
              "      <td>you know i like my chicken fri cold beer on a...</td>\n",
              "      <td>cold sweet pecan homemade much southern little...</td>\n",
              "      <td>Folk, World, &amp; Country</td>\n",
              "      <td>contemporary country</td>\n",
              "      <td>1582.0</td>\n",
              "      <td>399.0</td>\n",
              "      <td>[you, know, i, like, my, chicken, fri, cold, b...</td>\n",
              "    </tr>\n",
              "    <tr>\n",
              "      <th>1034</th>\n",
              "      <td>13257</td>\n",
              "      <td>Zac Brown Band</td>\n",
              "      <td>2010s</td>\n",
              "      <td>we never spoke a word  but every thought she h...</td>\n",
              "      <td>we never spoke a word but everi thought she h...</td>\n",
              "      <td>foolish wise word thought room face face move ...</td>\n",
              "      <td>Folk, World, &amp; Country</td>\n",
              "      <td>contemporary country</td>\n",
              "      <td>5467.0</td>\n",
              "      <td>950.0</td>\n",
              "      <td>[we, never, spoke, a, word, but, everi, though...</td>\n",
              "    </tr>\n",
              "    <tr>\n",
              "      <th>1037</th>\n",
              "      <td>13287</td>\n",
              "      <td>Ziggy Marley</td>\n",
              "      <td>2000s</td>\n",
              "      <td>everybody's worried about time  but i just kee...</td>\n",
              "      <td>everybodi 's worri about time but i just keep...</td>\n",
              "      <td>worried worried same beautiful old same beauti...</td>\n",
              "      <td>Reggae</td>\n",
              "      <td>reggae</td>\n",
              "      <td>1529.0</td>\n",
              "      <td>397.0</td>\n",
              "      <td>[everybodi, 's, worri, about, time, but, i, ju...</td>\n",
              "    </tr>\n",
              "  </tbody>\n",
              "</table>\n",
              "<p>254 rows × 11 columns</p>\n",
              "</div>"
            ],
            "text/plain": [
              "      Unnamed: 0  ...                                      stemmed_split\n",
              "4             81  ...  [here, we, go, here, we, go, one, more, time, ...\n",
              "5             87  ...  [thi, is, the, time, of, year, that, we, learn...\n",
              "6             98  ...  [girl, do, n't, say, that, it, 's, over, 'caus...\n",
              "31           395  ...  [when, god, dip, hi, pen, of, love, in, my, he...\n",
              "32           402  ...  [tonight, i, wait, but, my, heart, is, so, col...\n",
              "...          ...  ...                                                ...\n",
              "1030       13214  ...  [from, the, south, i, got, the, diamond, in, m...\n",
              "1031       13233  ...  [[, z-ro, ], time, and, time, again, i, tri, t...\n",
              "1033       13252  ...  [you, know, i, like, my, chicken, fri, cold, b...\n",
              "1034       13257  ...  [we, never, spoke, a, word, but, everi, though...\n",
              "1037       13287  ...  [everybodi, 's, worri, about, time, but, i, ju...\n",
              "\n",
              "[254 rows x 11 columns]"
            ]
          },
          "metadata": {
            "tags": []
          },
          "execution_count": 5
        }
      ]
    },
    {
      "cell_type": "code",
      "metadata": {
        "id": "INIvH4JhwUMj",
        "colab_type": "code",
        "colab": {
          "base_uri": "https://localhost:8080/",
          "height": 424
        },
        "outputId": "9febfeb4-8de4-430e-ed92-93a715bc3652"
      },
      "source": [
        "cols = ['Genre1', 'stemmed_split']\n",
        "songs_datasplit = songs[cols]\n",
        "songs_datasplit"
      ],
      "execution_count": null,
      "outputs": [
        {
          "output_type": "execute_result",
          "data": {
            "text/html": [
              "<div>\n",
              "<style scoped>\n",
              "    .dataframe tbody tr th:only-of-type {\n",
              "        vertical-align: middle;\n",
              "    }\n",
              "\n",
              "    .dataframe tbody tr th {\n",
              "        vertical-align: top;\n",
              "    }\n",
              "\n",
              "    .dataframe thead th {\n",
              "        text-align: right;\n",
              "    }\n",
              "</style>\n",
              "<table border=\"1\" class=\"dataframe\">\n",
              "  <thead>\n",
              "    <tr style=\"text-align: right;\">\n",
              "      <th></th>\n",
              "      <th>Genre1</th>\n",
              "      <th>stemmed_split</th>\n",
              "    </tr>\n",
              "  </thead>\n",
              "  <tbody>\n",
              "    <tr>\n",
              "      <th>4</th>\n",
              "      <td>Electronic</td>\n",
              "      <td>[here, we, go, here, we, go, one, more, time, ...</td>\n",
              "    </tr>\n",
              "    <tr>\n",
              "      <th>5</th>\n",
              "      <td>Electronic</td>\n",
              "      <td>[thi, is, the, time, of, year, that, we, learn...</td>\n",
              "    </tr>\n",
              "    <tr>\n",
              "      <th>6</th>\n",
              "      <td>Electronic</td>\n",
              "      <td>[girl, do, n't, say, that, it, 's, over, 'caus...</td>\n",
              "    </tr>\n",
              "    <tr>\n",
              "      <th>31</th>\n",
              "      <td>Folk, World, &amp; Country</td>\n",
              "      <td>[when, god, dip, hi, pen, of, love, in, my, he...</td>\n",
              "    </tr>\n",
              "    <tr>\n",
              "      <th>32</th>\n",
              "      <td>Folk, World, &amp; Country</td>\n",
              "      <td>[tonight, i, wait, but, my, heart, is, so, col...</td>\n",
              "    </tr>\n",
              "    <tr>\n",
              "      <th>...</th>\n",
              "      <td>...</td>\n",
              "      <td>...</td>\n",
              "    </tr>\n",
              "    <tr>\n",
              "      <th>1030</th>\n",
              "      <td>Hip Hop</td>\n",
              "      <td>[from, the, south, i, got, the, diamond, in, m...</td>\n",
              "    </tr>\n",
              "    <tr>\n",
              "      <th>1031</th>\n",
              "      <td>Hip Hop</td>\n",
              "      <td>[[, z-ro, ], time, and, time, again, i, tri, t...</td>\n",
              "    </tr>\n",
              "    <tr>\n",
              "      <th>1033</th>\n",
              "      <td>Folk, World, &amp; Country</td>\n",
              "      <td>[you, know, i, like, my, chicken, fri, cold, b...</td>\n",
              "    </tr>\n",
              "    <tr>\n",
              "      <th>1034</th>\n",
              "      <td>Folk, World, &amp; Country</td>\n",
              "      <td>[we, never, spoke, a, word, but, everi, though...</td>\n",
              "    </tr>\n",
              "    <tr>\n",
              "      <th>1037</th>\n",
              "      <td>Reggae</td>\n",
              "      <td>[everybodi, 's, worri, about, time, but, i, ju...</td>\n",
              "    </tr>\n",
              "  </tbody>\n",
              "</table>\n",
              "<p>254 rows × 2 columns</p>\n",
              "</div>"
            ],
            "text/plain": [
              "                      Genre1                                      stemmed_split\n",
              "4                 Electronic  [here, we, go, here, we, go, one, more, time, ...\n",
              "5                 Electronic  [thi, is, the, time, of, year, that, we, learn...\n",
              "6                 Electronic  [girl, do, n't, say, that, it, 's, over, 'caus...\n",
              "31    Folk, World, & Country  [when, god, dip, hi, pen, of, love, in, my, he...\n",
              "32    Folk, World, & Country  [tonight, i, wait, but, my, heart, is, so, col...\n",
              "...                      ...                                                ...\n",
              "1030                 Hip Hop  [from, the, south, i, got, the, diamond, in, m...\n",
              "1031                 Hip Hop  [[, z-ro, ], time, and, time, again, i, tri, t...\n",
              "1033  Folk, World, & Country  [you, know, i, like, my, chicken, fri, cold, b...\n",
              "1034  Folk, World, & Country  [we, never, spoke, a, word, but, everi, though...\n",
              "1037                  Reggae  [everybodi, 's, worri, about, time, but, i, ju...\n",
              "\n",
              "[254 rows x 2 columns]"
            ]
          },
          "metadata": {
            "tags": []
          },
          "execution_count": 6
        }
      ]
    },
    {
      "cell_type": "code",
      "metadata": {
        "id": "V9zxpABdVpT-",
        "colab_type": "code",
        "colab": {
          "base_uri": "https://localhost:8080/",
          "height": 69
        },
        "outputId": "0c99593f-e50d-400e-fe11-90b56fd42061"
      },
      "source": [
        "print(np.unique(songs_datasplit.Genre1))\n",
        "len(np.unique(songs_datasplit.Genre1))"
      ],
      "execution_count": null,
      "outputs": [
        {
          "output_type": "stream",
          "text": [
            "['Electronic' 'Folk, World, & Country' 'Funk / Soul' 'Hip Hop' 'Jazz'\n",
            " 'Reggae' 'Stage & Screen']\n"
          ],
          "name": "stdout"
        },
        {
          "output_type": "execute_result",
          "data": {
            "text/plain": [
              "7"
            ]
          },
          "metadata": {
            "tags": []
          },
          "execution_count": 7
        }
      ]
    },
    {
      "cell_type": "code",
      "metadata": {
        "id": "KC60KsNH3BNY",
        "colab_type": "code",
        "colab": {}
      },
      "source": [
        "train, test = train_test_split(songs_datasplit, test_size=0.2)"
      ],
      "execution_count": null,
      "outputs": []
    },
    {
      "cell_type": "code",
      "metadata": {
        "id": "4nR3qGg63F8o",
        "colab_type": "code",
        "colab": {}
      },
      "source": [
        "train_dict = train.groupby('Genre1')['stemmed_split'].apply(list).to_dict()\n",
        "test_dict = test.groupby('Genre1')['stemmed_split'].apply(list).to_dict()"
      ],
      "execution_count": null,
      "outputs": []
    },
    {
      "cell_type": "code",
      "metadata": {
        "id": "iuXPqFT-s5yC",
        "colab_type": "code",
        "colab": {}
      },
      "source": [
        "train_tagged = {} # Contains clean tagged training data organized by category. To be used for the training corpus.\n",
        "test_clean = {} # Contains clean un-tagged training data organized by category.\n",
        "test_tagged = {}\n",
        "\n",
        "offset = 0 # Used for managing IDs of tagged documents\n",
        "for k, v in train_dict.items():\n",
        "    train_tagged[k] = [gensim.models.doc2vec.TaggedDocument(doc, [i+offset]) for i, doc in enumerate(v)]\n",
        "    offset += len(v)\n",
        "\n",
        "offset = 0\n",
        "for k, v in test_dict.items():\n",
        "    test_clean[k] = [text for i, text in enumerate(v)]\n",
        "    test_tagged[k] = [gensim.models.doc2vec.TaggedDocument(doc, [i+offset]) for i, doc in enumerate(v)]\n",
        "    offset += len(v)\n",
        "    \n",
        "# Eventually contains final versions of the training data to actually train the model\n",
        "train_corpus = [taggeddoc for taggeddoc_list in list(train_tagged.values()) for taggeddoc in taggeddoc_list]\n",
        "test_corpus = [taggeddoc for taggeddoc_list in list(test_tagged.values()) for taggeddoc in taggeddoc_list]"
      ],
      "execution_count": null,
      "outputs": []
    },
    {
      "cell_type": "code",
      "metadata": {
        "id": "gL34eIMJxitw",
        "colab_type": "code",
        "colab": {
          "base_uri": "https://localhost:8080/",
          "height": 424
        },
        "outputId": "19ff545e-8e91-46a8-bccb-5be37d3e8978"
      },
      "source": [
        "# model.delete_temporary_training_data(keep_doctags_vectors=True, keep_inference=True)\n",
        "train"
      ],
      "execution_count": null,
      "outputs": [
        {
          "output_type": "execute_result",
          "data": {
            "text/html": [
              "<div>\n",
              "<style scoped>\n",
              "    .dataframe tbody tr th:only-of-type {\n",
              "        vertical-align: middle;\n",
              "    }\n",
              "\n",
              "    .dataframe tbody tr th {\n",
              "        vertical-align: top;\n",
              "    }\n",
              "\n",
              "    .dataframe thead th {\n",
              "        text-align: right;\n",
              "    }\n",
              "</style>\n",
              "<table border=\"1\" class=\"dataframe\">\n",
              "  <thead>\n",
              "    <tr style=\"text-align: right;\">\n",
              "      <th></th>\n",
              "      <th>Genre1</th>\n",
              "      <th>stemmed_split</th>\n",
              "    </tr>\n",
              "  </thead>\n",
              "  <tbody>\n",
              "    <tr>\n",
              "      <th>895</th>\n",
              "      <td>Folk, World, &amp; Country</td>\n",
              "      <td>[do, n't, you, rememb, the, fizz, in, a, peppe...</td>\n",
              "    </tr>\n",
              "    <tr>\n",
              "      <th>715</th>\n",
              "      <td>Jazz</td>\n",
              "      <td>[babi, dim, the, light, so, while, i, pour, th...</td>\n",
              "    </tr>\n",
              "    <tr>\n",
              "      <th>767</th>\n",
              "      <td>Reggae</td>\n",
              "      <td>[we, push, back, the, gate, we, open, the, doo...</td>\n",
              "    </tr>\n",
              "    <tr>\n",
              "      <th>1037</th>\n",
              "      <td>Reggae</td>\n",
              "      <td>[everybodi, 's, worri, about, time, but, i, ju...</td>\n",
              "    </tr>\n",
              "    <tr>\n",
              "      <th>174</th>\n",
              "      <td>Folk, World, &amp; Country</td>\n",
              "      <td>[you, 've, made, thi, a, christma, to, rememb,...</td>\n",
              "    </tr>\n",
              "    <tr>\n",
              "      <th>...</th>\n",
              "      <td>...</td>\n",
              "      <td>...</td>\n",
              "    </tr>\n",
              "    <tr>\n",
              "      <th>922</th>\n",
              "      <td>Electronic</td>\n",
              "      <td>[in, the, howl, wind, come, a, sting, rain, se...</td>\n",
              "    </tr>\n",
              "    <tr>\n",
              "      <th>852</th>\n",
              "      <td>Hip Hop</td>\n",
              "      <td>[fuck, bitch, get, money, fuck, nigga, get, mo...</td>\n",
              "    </tr>\n",
              "    <tr>\n",
              "      <th>617</th>\n",
              "      <td>Folk, World, &amp; Country</td>\n",
              "      <td>[sittin, ', on, the, front, porch, tryin, ', t...</td>\n",
              "    </tr>\n",
              "    <tr>\n",
              "      <th>236</th>\n",
              "      <td>Hip Hop</td>\n",
              "      <td>[[, choru, :, ], just, ball, till, you, fall, ...</td>\n",
              "    </tr>\n",
              "    <tr>\n",
              "      <th>454</th>\n",
              "      <td>Folk, World, &amp; Country</td>\n",
              "      <td>[well, i, 've, been, around, sinc, befor, the,...</td>\n",
              "    </tr>\n",
              "  </tbody>\n",
              "</table>\n",
              "<p>203 rows × 2 columns</p>\n",
              "</div>"
            ],
            "text/plain": [
              "                      Genre1                                      stemmed_split\n",
              "895   Folk, World, & Country  [do, n't, you, rememb, the, fizz, in, a, peppe...\n",
              "715                     Jazz  [babi, dim, the, light, so, while, i, pour, th...\n",
              "767                   Reggae  [we, push, back, the, gate, we, open, the, doo...\n",
              "1037                  Reggae  [everybodi, 's, worri, about, time, but, i, ju...\n",
              "174   Folk, World, & Country  [you, 've, made, thi, a, christma, to, rememb,...\n",
              "...                      ...                                                ...\n",
              "922               Electronic  [in, the, howl, wind, come, a, sting, rain, se...\n",
              "852                  Hip Hop  [fuck, bitch, get, money, fuck, nigga, get, mo...\n",
              "617   Folk, World, & Country  [sittin, ', on, the, front, porch, tryin, ', t...\n",
              "236                  Hip Hop  [[, choru, :, ], just, ball, till, you, fall, ...\n",
              "454   Folk, World, & Country  [well, i, 've, been, around, sinc, befor, the,...\n",
              "\n",
              "[203 rows x 2 columns]"
            ]
          },
          "metadata": {
            "tags": []
          },
          "execution_count": 71
        }
      ]
    },
    {
      "cell_type": "markdown",
      "metadata": {
        "id": "Zkxd6KXlSYPA",
        "colab_type": "text"
      },
      "source": [
        "## Modell vorbereiten und trainieren"
      ]
    },
    {
      "cell_type": "markdown",
      "metadata": {
        "id": "r_I8X9sjD0DF",
        "colab_type": "text"
      },
      "source": [
        "https://tmthyjames.github.io/2018/january/Analyzing-Rap-Lyrics-Using-Word-Vectors/"
      ]
    },
    {
      "cell_type": "markdown",
      "metadata": {
        "id": "qzKEJcOo3mPO",
        "colab_type": "text"
      },
      "source": [
        "#### ohne besondere Parameter"
      ]
    },
    {
      "cell_type": "code",
      "metadata": {
        "id": "cGLVYQlm3J-F",
        "colab_type": "code",
        "colab": {
          "base_uri": "https://localhost:8080/",
          "height": 89
        },
        "outputId": "88ad32f0-52d8-4d5f-ec85-8fc8ecec46c1"
      },
      "source": [
        "model_raw = Doc2Vec()\n",
        "\n",
        "model_raw.build_vocab(train_corpus)\n",
        "model_raw.train(train_corpus,\n",
        "            total_examples=model_raw.corpus_count,\n",
        "                epochs=model_raw.epochs)\n",
        "\n",
        "\n",
        "model_raw.save(\"/content/d2v_raw.model\")\n",
        "print(\"Model Saved\")"
      ],
      "execution_count": null,
      "outputs": [
        {
          "output_type": "stream",
          "text": [
            "Model Saved\n"
          ],
          "name": "stdout"
        },
        {
          "output_type": "stream",
          "text": [
            "/usr/local/lib/python3.6/dist-packages/smart_open/smart_open_lib.py:254: UserWarning: This function is deprecated, use smart_open.open instead. See the migration notes for details: https://github.com/RaRe-Technologies/smart_open/blob/master/README.rst#migrating-to-the-new-open-function\n",
            "  'See the migration notes for details: %s' % _MIGRATION_NOTES_URL\n"
          ],
          "name": "stderr"
        }
      ]
    },
    {
      "cell_type": "code",
      "metadata": {
        "id": "deGHXpLF3lFC",
        "colab_type": "code",
        "colab": {
          "base_uri": "https://localhost:8080/",
          "height": 89
        },
        "outputId": "f7f65dec-9aed-4325-abc6-008926cd91d8"
      },
      "source": [
        "model_raw=Doc2Vec.load(\"/content/d2v_raw.model\")\n",
        "print(len(model_raw.docvecs))\n",
        "# model_raw.wv.vocab"
      ],
      "execution_count": null,
      "outputs": [
        {
          "output_type": "stream",
          "text": [
            "203\n"
          ],
          "name": "stdout"
        },
        {
          "output_type": "stream",
          "text": [
            "/usr/local/lib/python3.6/dist-packages/smart_open/smart_open_lib.py:254: UserWarning: This function is deprecated, use smart_open.open instead. See the migration notes for details: https://github.com/RaRe-Technologies/smart_open/blob/master/README.rst#migrating-to-the-new-open-function\n",
            "  'See the migration notes for details: %s' % _MIGRATION_NOTES_URL\n"
          ],
          "name": "stderr"
        }
      ]
    },
    {
      "cell_type": "code",
      "metadata": {
        "id": "YRb_qjg236Py",
        "colab_type": "code",
        "colab": {
          "base_uri": "https://localhost:8080/",
          "height": 191
        },
        "outputId": "edf5efd8-4f67-401f-ea5e-80ecfbc449be"
      },
      "source": [
        "model_raw.wv.most_similar('love')"
      ],
      "execution_count": null,
      "outputs": [
        {
          "output_type": "execute_result",
          "data": {
            "text/plain": [
              "[('momma', 0.6776702404022217),\n",
              " ('disguis', 0.67164146900177),\n",
              " ('true', 0.6511076092720032),\n",
              " ('troubl', 0.6509400606155396),\n",
              " ('protect', 0.6502864360809326),\n",
              " ('remind', 0.6500006318092346),\n",
              " ('truli', 0.6496425867080688),\n",
              " ('trust', 0.6397024393081665),\n",
              " ('spell', 0.6378685832023621),\n",
              " ('miss', 0.6340818405151367)]"
            ]
          },
          "metadata": {
            "tags": []
          },
          "execution_count": 10
        }
      ]
    },
    {
      "cell_type": "code",
      "metadata": {
        "id": "kDAM7T53DGRa",
        "colab_type": "code",
        "colab": {
          "base_uri": "https://localhost:8080/",
          "height": 191
        },
        "outputId": "f3be1bdb-41aa-40cd-f788-1b5a81b019b9"
      },
      "source": [
        "model_raw.wv.most_similar('hate')"
      ],
      "execution_count": null,
      "outputs": [
        {
          "output_type": "execute_result",
          "data": {
            "text/plain": [
              "[('claim', 0.7673227787017822),\n",
              " ('disrespect', 0.7535995244979858),\n",
              " ('expect', 0.7251617908477783),\n",
              " ('bricksquad', 0.7227978706359863),\n",
              " ('diploma', 0.7079200148582458),\n",
              " ('forgiv', 0.7045320272445679),\n",
              " ('bite', 0.7025936841964722),\n",
              " ('fake', 0.7002298831939697),\n",
              " ('comment', 0.6914138793945312),\n",
              " ('justifi', 0.6906228065490723)]"
            ]
          },
          "metadata": {
            "tags": []
          },
          "execution_count": 11
        }
      ]
    },
    {
      "cell_type": "code",
      "metadata": {
        "id": "0fIliNClvqir",
        "colab_type": "code",
        "colab": {
          "base_uri": "https://localhost:8080/",
          "height": 191
        },
        "outputId": "f25d1175-1137-4c9e-91ef-8bcdae9020bf"
      },
      "source": [
        "model_raw.wv.most_similar('jesu')"
      ],
      "execution_count": null,
      "outputs": [
        {
          "output_type": "execute_result",
          "data": {
            "text/plain": [
              "[('christ', 0.8243474364280701),\n",
              " ('seren', 0.8227735757827759),\n",
              " ('reminisc', 0.8047426342964172),\n",
              " ('almighti', 0.7662370204925537),\n",
              " ('sir', 0.7588210701942444),\n",
              " ('touchdown', 0.7490431070327759),\n",
              " ('deporte', 0.7391777038574219),\n",
              " ('god', 0.7255496978759766),\n",
              " ('shalom', 0.7254279851913452),\n",
              " ('thank', 0.7147030830383301)]"
            ]
          },
          "metadata": {
            "tags": []
          },
          "execution_count": 16
        }
      ]
    },
    {
      "cell_type": "code",
      "metadata": {
        "id": "rkWQWlZfD8Ao",
        "colab_type": "code",
        "colab": {
          "base_uri": "https://localhost:8080/",
          "height": 191
        },
        "outputId": "a2778d1d-d756-4a9f-bbbe-116dc471d0e2"
      },
      "source": [
        "model_raw.wv.most_similar('feelin')"
      ],
      "execution_count": null,
      "outputs": [
        {
          "output_type": "execute_result",
          "data": {
            "text/plain": [
              "[('livin', 0.87395179271698),\n",
              " ('amazin', 0.8436154723167419),\n",
              " ('believin', 0.8375616073608398),\n",
              " ('laughin', 0.8284662365913391),\n",
              " ('pimpin', 0.8174110054969788),\n",
              " ('talkin', 0.8130110502243042),\n",
              " ('dealin', 0.8106324076652527),\n",
              " ('makin', 0.8092284798622131),\n",
              " ('playin', 0.8060166835784912),\n",
              " ('trippin', 0.8058133125305176)]"
            ]
          },
          "metadata": {
            "tags": []
          },
          "execution_count": 12
        }
      ]
    },
    {
      "cell_type": "code",
      "metadata": {
        "id": "tjgCXgB2DSzg",
        "colab_type": "code",
        "colab": {
          "base_uri": "https://localhost:8080/",
          "height": 191
        },
        "outputId": "8839ae90-12ca-4106-b8f9-b45642ed697f"
      },
      "source": [
        "model_raw.wv.most_similar('fuck')"
      ],
      "execution_count": null,
      "outputs": [
        {
          "output_type": "execute_result",
          "data": {
            "text/plain": [
              "[('hampton', 0.7019562721252441),\n",
              " ('fatboy', 0.6922492980957031),\n",
              " ('bitch', 0.675545334815979),\n",
              " ('nigga', 0.6704035997390747),\n",
              " ('slim', 0.6680967807769775),\n",
              " ('hater', 0.6646748781204224),\n",
              " ('deal', 0.6558020114898682),\n",
              " ('thang', 0.6543315052986145),\n",
              " ('handcuff', 0.653915524482727),\n",
              " ('shit', 0.6517994403839111)]"
            ]
          },
          "metadata": {
            "tags": []
          },
          "execution_count": 13
        }
      ]
    },
    {
      "cell_type": "code",
      "metadata": {
        "id": "4ZFoUsS84Uem",
        "colab_type": "code",
        "colab": {
          "base_uri": "https://localhost:8080/",
          "height": 89
        },
        "outputId": "17169506-fd74-4e02-a6c7-4ec3dc36124e"
      },
      "source": [
        "# Index in Similarity-Rank für Vergleich eines Dokuments mit sich selbst\n",
        "ranks = []\n",
        "second_ranks = []\n",
        "print(len(model_raw.docvecs))\n",
        "for doc_id in range(len(train_corpus)):\n",
        "    inferred_vector = model_raw.infer_vector(train_corpus[doc_id].words)\n",
        "    sims = model_raw.docvecs.most_similar([inferred_vector], topn=(len(model_raw.docvecs)))\n",
        "\n",
        "    rank = [docid for docid, sim in sims].index(doc_id)\n",
        "    ranks.append(rank)\n",
        "\n",
        "    second_ranks.append(sims[1])"
      ],
      "execution_count": null,
      "outputs": [
        {
          "output_type": "stream",
          "text": [
            "203\n"
          ],
          "name": "stdout"
        },
        {
          "output_type": "stream",
          "text": [
            "/usr/local/lib/python3.6/dist-packages/gensim/matutils.py:737: FutureWarning: Conversion of the second argument of issubdtype from `int` to `np.signedinteger` is deprecated. In future, it will be treated as `np.int64 == np.dtype(int).type`.\n",
            "  if np.issubdtype(vec.dtype, np.int):\n"
          ],
          "name": "stderr"
        }
      ]
    },
    {
      "cell_type": "code",
      "metadata": {
        "id": "XUuSMboB4VOe",
        "colab_type": "code",
        "colab": {
          "base_uri": "https://localhost:8080/",
          "height": 34
        },
        "outputId": "cc454091-801d-4953-a74f-32d4d2b2bf58"
      },
      "source": [
        "# 198 Dokumente haben Rank erster Stelle, wenn miteinander verglichen; 98 % richtig\n",
        "Counter(ranks)"
      ],
      "execution_count": null,
      "outputs": [
        {
          "output_type": "execute_result",
          "data": {
            "text/plain": [
              "Counter({0: 200, 1: 1, 2: 2})"
            ]
          },
          "metadata": {
            "tags": []
          },
          "execution_count": 36
        }
      ]
    },
    {
      "cell_type": "code",
      "metadata": {
        "id": "mgwkR1a75Cwq",
        "colab_type": "code",
        "colab": {
          "base_uri": "https://localhost:8080/",
          "height": 245
        },
        "outputId": "62341749-a572-4591-f0fe-c9e7d973fe98"
      },
      "source": [
        "model_raw.wv.most_similar(\n",
        "    positive=[model_raw['love']],\n",
        "    negative=[model_raw['hate']]\n",
        ")"
      ],
      "execution_count": null,
      "outputs": [
        {
          "output_type": "stream",
          "text": [
            "/usr/local/lib/python3.6/dist-packages/gensim/matutils.py:737: FutureWarning: Conversion of the second argument of issubdtype from `int` to `np.signedinteger` is deprecated. In future, it will be treated as `np.int64 == np.dtype(int).type`.\n",
            "  if np.issubdtype(vec.dtype, np.int):\n"
          ],
          "name": "stderr"
        },
        {
          "output_type": "execute_result",
          "data": {
            "text/plain": [
              "[('love', 0.8159700632095337),\n",
              " ('sweet', 0.5959122776985168),\n",
              " ('ooh', 0.584757924079895),\n",
              " ('desir', 0.574454128742218),\n",
              " ('lover', 0.5654397010803223),\n",
              " ('momma', 0.5386863946914673),\n",
              " ('babi', 0.5222477912902832),\n",
              " ('lone', 0.4976498782634735),\n",
              " ('disguis', 0.49684834480285645),\n",
              " ('biddi', 0.49481767416000366)]"
            ]
          },
          "metadata": {
            "tags": []
          },
          "execution_count": 37
        }
      ]
    },
    {
      "cell_type": "code",
      "metadata": {
        "id": "ThO2ZpJ9PT-M",
        "colab_type": "code",
        "colab": {
          "base_uri": "https://localhost:8080/",
          "height": 191
        },
        "outputId": "68e13a81-b19b-4b09-9e11-0362129a6ac1"
      },
      "source": [
        "model_raw.wv.most_similar(\n",
        "    positive=[model_raw['king'], model_raw['woman']],\n",
        "    negative=[model_raw['man']]\n",
        ")"
      ],
      "execution_count": null,
      "outputs": [
        {
          "output_type": "execute_result",
          "data": {
            "text/plain": [
              "[('broken', 0.6781483888626099),\n",
              " ('joy', 0.6530748605728149),\n",
              " ('vain', 0.65165114402771),\n",
              " ('darkest', 0.627507209777832),\n",
              " ('pillow', 0.6274367570877075),\n",
              " ('grace', 0.6203761100769043),\n",
              " ('warm', 0.6196659803390503),\n",
              " ('heart', 0.6133634448051453),\n",
              " ('memori', 0.6082785129547119),\n",
              " ('frozen', 0.6058111190795898)]"
            ]
          },
          "metadata": {
            "tags": []
          },
          "execution_count": 14
        }
      ]
    },
    {
      "cell_type": "code",
      "metadata": {
        "id": "050pdSnV5Gtb",
        "colab_type": "code",
        "colab": {
          "base_uri": "https://localhost:8080/",
          "height": 91
        },
        "outputId": "a0689665-e925-4ccf-9753-2a537baaab37"
      },
      "source": [
        "model_raw.wv.most_similar_to_given(\n",
        "    'love', \n",
        "    ['hate','woman', 'man', 'wife','husband', 'sky']\n",
        ")"
      ],
      "execution_count": null,
      "outputs": [
        {
          "output_type": "stream",
          "text": [
            "/usr/local/lib/python3.6/dist-packages/gensim/matutils.py:737: FutureWarning: Conversion of the second argument of issubdtype from `int` to `np.signedinteger` is deprecated. In future, it will be treated as `np.int64 == np.dtype(int).type`.\n",
            "  if np.issubdtype(vec.dtype, np.int):\n"
          ],
          "name": "stderr"
        },
        {
          "output_type": "execute_result",
          "data": {
            "application/vnd.google.colaboratory.intrinsic+json": {
              "type": "string"
            },
            "text/plain": [
              "'woman'"
            ]
          },
          "metadata": {
            "tags": []
          },
          "execution_count": 39
        }
      ]
    },
    {
      "cell_type": "markdown",
      "metadata": {
        "id": "O2Q-_ZTl3q3Y",
        "colab_type": "text"
      },
      "source": [
        "#### Parameter-Finetuning"
      ]
    },
    {
      "cell_type": "code",
      "metadata": {
        "id": "rJP7tLbcA3pZ",
        "colab_type": "code",
        "colab": {
          "base_uri": "https://localhost:8080/",
          "height": 124
        },
        "outputId": "0bf8a91f-a41d-40df-ff3f-1d0aff0b0d2d"
      },
      "source": [
        "model = Doc2Vec(size=1000,      # Songlängen zwischen 1000 und 5000 Wörtern\n",
        "                min_count=10,\n",
        "                window=5,\n",
        "                epochs=40,\n",
        "                dm=1)\n",
        "\n",
        "model.build_vocab(train_corpus)\n",
        "model.train(train_corpus,\n",
        "            total_examples=model.corpus_count,\n",
        "                epochs=model.epochs)\n",
        " \n",
        "# for epoch in range(max_epochs):\n",
        "#     print('iteration {0}'.format(epoch))\n",
        "#     model.train(documents,\n",
        "#                 total_examples=model.corpus_count,\n",
        "#                 epochs=model.iter)\n",
        "#     # decrease the learning rate\n",
        "#     model.alpha -= 0.0002\n",
        "#     # fix the learning rate, no decay\n",
        "#     model.min_alpha = model.alpha\n",
        "\n",
        "model.save(\"/content/d2v.model\")\n",
        "print(\"Model Saved\")"
      ],
      "execution_count": null,
      "outputs": [
        {
          "output_type": "stream",
          "text": [
            "/usr/local/lib/python3.6/dist-packages/gensim/models/doc2vec.py:570: UserWarning: The parameter `size` is deprecated, will be removed in 4.0.0, use `vector_size` instead.\n",
            "  warnings.warn(\"The parameter `size` is deprecated, will be removed in 4.0.0, use `vector_size` instead.\")\n",
            "/usr/local/lib/python3.6/dist-packages/smart_open/smart_open_lib.py:254: UserWarning: This function is deprecated, use smart_open.open instead. See the migration notes for details: https://github.com/RaRe-Technologies/smart_open/blob/master/README.rst#migrating-to-the-new-open-function\n",
            "  'See the migration notes for details: %s' % _MIGRATION_NOTES_URL\n"
          ],
          "name": "stderr"
        },
        {
          "output_type": "stream",
          "text": [
            "Model Saved\n"
          ],
          "name": "stdout"
        }
      ]
    },
    {
      "cell_type": "code",
      "metadata": {
        "id": "9nyZgHt6zKY7",
        "colab_type": "code",
        "colab": {
          "base_uri": "https://localhost:8080/",
          "height": 89
        },
        "outputId": "13aa4210-6590-4518-e5a8-1e23535914cc"
      },
      "source": [
        "# Modell mit allen Daten\n",
        "\n",
        "model=Doc2Vec.load(\"/content/d2v_all.model\")\n",
        "print(len(model.docvecs))\n",
        "# model.wv.vocab"
      ],
      "execution_count": null,
      "outputs": [
        {
          "output_type": "stream",
          "text": [
            "/usr/local/lib/python3.6/dist-packages/smart_open/smart_open_lib.py:254: UserWarning: This function is deprecated, use smart_open.open instead. See the migration notes for details: https://github.com/RaRe-Technologies/smart_open/blob/master/README.rst#migrating-to-the-new-open-function\n",
            "  'See the migration notes for details: %s' % _MIGRATION_NOTES_URL\n"
          ],
          "name": "stderr"
        },
        {
          "output_type": "stream",
          "text": [
            "830\n"
          ],
          "name": "stdout"
        }
      ]
    },
    {
      "cell_type": "code",
      "metadata": {
        "id": "BDbfK_jIA4lg",
        "colab_type": "code",
        "colab": {
          "base_uri": "https://localhost:8080/",
          "height": 89
        },
        "outputId": "fcab0b22-0171-49e0-bf3e-e209ec88e5a2"
      },
      "source": [
        "# Modell mit Daten ohne Rock und Pop\n",
        "\n",
        "model=Doc2Vec.load(\"/content/d2v.model\")\n",
        "print(len(model.docvecs))\n",
        "# model.wv.vocab"
      ],
      "execution_count": null,
      "outputs": [
        {
          "output_type": "stream",
          "text": [
            "/usr/local/lib/python3.6/dist-packages/smart_open/smart_open_lib.py:254: UserWarning: This function is deprecated, use smart_open.open instead. See the migration notes for details: https://github.com/RaRe-Technologies/smart_open/blob/master/README.rst#migrating-to-the-new-open-function\n",
            "  'See the migration notes for details: %s' % _MIGRATION_NOTES_URL\n"
          ],
          "name": "stderr"
        },
        {
          "output_type": "stream",
          "text": [
            "203\n"
          ],
          "name": "stdout"
        }
      ]
    },
    {
      "cell_type": "code",
      "metadata": {
        "id": "3UxaWwKnitnU",
        "colab_type": "code",
        "colab": {}
      },
      "source": [
        ""
      ],
      "execution_count": null,
      "outputs": []
    },
    {
      "cell_type": "markdown",
      "metadata": {
        "id": "nnmrzn8ziyLk",
        "colab_type": "text"
      },
      "source": [
        "## Modell evaluieren"
      ]
    },
    {
      "cell_type": "markdown",
      "metadata": {
        "id": "j6hq2L-cF5vK",
        "colab_type": "text"
      },
      "source": [
        "#### \"scharfes Hinsehen\""
      ]
    },
    {
      "cell_type": "code",
      "metadata": {
        "id": "R5Yq6EK1Cmco",
        "colab_type": "code",
        "colab": {
          "base_uri": "https://localhost:8080/",
          "height": 191
        },
        "outputId": "e9c5be92-30ac-45fc-af61-bc0b604e8194"
      },
      "source": [
        "model.wv.most_similar('love')"
      ],
      "execution_count": null,
      "outputs": [
        {
          "output_type": "execute_result",
          "data": {
            "text/plain": [
              "[('darlin', 0.3121795952320099),\n",
              " ('skyscrap', 0.3120884895324707),\n",
              " ('suspicion', 0.2888720631599426),\n",
              " ('truli', 0.2842741012573242),\n",
              " ('opi', 0.26150578260421753),\n",
              " ('fever', 0.2578656077384949),\n",
              " ('mmm', 0.25604885816574097),\n",
              " ('lovin', 0.2555534541606903),\n",
              " ('particl', 0.2552875876426697),\n",
              " ('runaway', 0.2550531029701233)]"
            ]
          },
          "metadata": {
            "tags": []
          },
          "execution_count": 74
        }
      ]
    },
    {
      "cell_type": "code",
      "metadata": {
        "id": "vLuI-1PoDK75",
        "colab_type": "code",
        "colab": {
          "base_uri": "https://localhost:8080/",
          "height": 191
        },
        "outputId": "813413b0-12b0-4360-83ae-33bcd5668d96"
      },
      "source": [
        "model_raw.wv.most_similar('hate')"
      ],
      "execution_count": null,
      "outputs": [
        {
          "output_type": "execute_result",
          "data": {
            "text/plain": [
              "[('claim', 0.7673227787017822),\n",
              " ('disrespect', 0.7535995244979858),\n",
              " ('expect', 0.7251617908477783),\n",
              " ('bricksquad', 0.7227978706359863),\n",
              " ('diploma', 0.7079200148582458),\n",
              " ('forgiv', 0.7045320272445679),\n",
              " ('bite', 0.7025936841964722),\n",
              " ('fake', 0.7002298831939697),\n",
              " ('comment', 0.6914138793945312),\n",
              " ('justifi', 0.6906228065490723)]"
            ]
          },
          "metadata": {
            "tags": []
          },
          "execution_count": 32
        }
      ]
    },
    {
      "cell_type": "code",
      "metadata": {
        "id": "AYTy2Gjl7XKe",
        "colab_type": "code",
        "colab": {
          "base_uri": "https://localhost:8080/",
          "height": 191
        },
        "outputId": "f42b9d1e-ad3f-4134-bdb5-c8aa7e70333a"
      },
      "source": [
        "model_raw.wv.most_similar('feelin')"
      ],
      "execution_count": null,
      "outputs": [
        {
          "output_type": "execute_result",
          "data": {
            "text/plain": [
              "[('livin', 0.87395179271698),\n",
              " ('amazin', 0.8436154723167419),\n",
              " ('believin', 0.8375616073608398),\n",
              " ('laughin', 0.8284662365913391),\n",
              " ('pimpin', 0.8174110054969788),\n",
              " ('talkin', 0.8130110502243042),\n",
              " ('dealin', 0.8106324076652527),\n",
              " ('makin', 0.8092284798622131),\n",
              " ('playin', 0.8060166835784912),\n",
              " ('trippin', 0.8058133125305176)]"
            ]
          },
          "metadata": {
            "tags": []
          },
          "execution_count": 33
        }
      ]
    },
    {
      "cell_type": "code",
      "metadata": {
        "id": "E_OFSIxg7bBI",
        "colab_type": "code",
        "colab": {
          "base_uri": "https://localhost:8080/",
          "height": 191
        },
        "outputId": "44e15697-f1f8-45cb-dc2b-53a3ec30089b"
      },
      "source": [
        "model_raw.wv.most_similar('fuck')"
      ],
      "execution_count": null,
      "outputs": [
        {
          "output_type": "execute_result",
          "data": {
            "text/plain": [
              "[('hampton', 0.7019562721252441),\n",
              " ('fatboy', 0.6922492980957031),\n",
              " ('bitch', 0.675545334815979),\n",
              " ('nigga', 0.6704035997390747),\n",
              " ('slim', 0.6680967807769775),\n",
              " ('hater', 0.6646748781204224),\n",
              " ('deal', 0.6558020114898682),\n",
              " ('thang', 0.6543315052986145),\n",
              " ('handcuff', 0.653915524482727),\n",
              " ('shit', 0.6517994403839111)]"
            ]
          },
          "metadata": {
            "tags": []
          },
          "execution_count": 34
        }
      ]
    },
    {
      "cell_type": "code",
      "metadata": {
        "id": "4YMnLTphC-If",
        "colab_type": "code",
        "colab": {
          "base_uri": "https://localhost:8080/",
          "height": 191
        },
        "outputId": "050dd805-92ae-48b3-8029-d42c2e833974"
      },
      "source": [
        "model.wv.most_similar(\n",
        "    positive=[model['love']],\n",
        "    negative=[model['hate']]\n",
        ")"
      ],
      "execution_count": null,
      "outputs": [
        {
          "output_type": "execute_result",
          "data": {
            "text/plain": [
              "[('love', 0.4257357120513916),\n",
              " ('bliss', 0.20423951745033264),\n",
              " ('cheri', 0.20039401948451996),\n",
              " ('prize', 0.17981019616127014),\n",
              " ('tenderoni', 0.16779202222824097),\n",
              " ('heart', 0.16504433751106262),\n",
              " ('glock', 0.16490930318832397),\n",
              " ('darl', 0.16333428025245667),\n",
              " ('sparkl', 0.16302894055843353),\n",
              " ('mahia', 0.1619812399148941)]"
            ]
          },
          "metadata": {
            "tags": []
          },
          "execution_count": 35
        }
      ]
    },
    {
      "cell_type": "code",
      "metadata": {
        "id": "bjKUcYGIA4o9",
        "colab_type": "code",
        "colab": {
          "base_uri": "https://localhost:8080/",
          "height": 36
        },
        "outputId": "a90d4236-790e-4b44-a73d-227684406949"
      },
      "source": [
        "model.wv.most_similar_to_given(\n",
        "    'love', \n",
        "    ['hate','woman', 'man', 'wife','husband', 'sky']\n",
        ")\n",
        "\n"
      ],
      "execution_count": null,
      "outputs": [
        {
          "output_type": "execute_result",
          "data": {
            "application/vnd.google.colaboratory.intrinsic+json": {
              "type": "string"
            },
            "text/plain": [
              "'husband'"
            ]
          },
          "metadata": {
            "tags": []
          },
          "execution_count": 36
        }
      ]
    },
    {
      "cell_type": "code",
      "metadata": {
        "id": "6a3gsUYKEj-f",
        "colab_type": "code",
        "colab": {}
      },
      "source": [
        ""
      ],
      "execution_count": null,
      "outputs": []
    },
    {
      "cell_type": "code",
      "metadata": {
        "id": "KHK1yJyd59Dx",
        "colab_type": "code",
        "colab": {}
      },
      "source": [
        ""
      ],
      "execution_count": null,
      "outputs": []
    },
    {
      "cell_type": "code",
      "metadata": {
        "id": "jHfT3uvG59On",
        "colab_type": "code",
        "colab": {
          "base_uri": "https://localhost:8080/",
          "height": 34
        },
        "outputId": "5b5a5334-edc1-4343-8173-850a1ac90ebd"
      },
      "source": [
        "ranks = []\n",
        "second_ranks = []\n",
        "print(len(model.docvecs))\n",
        "for doc_id in range(len(train_corpus)):\n",
        "    inferred_vector = model.infer_vector(train_corpus[doc_id].words)\n",
        "    sims = model.docvecs.most_similar([inferred_vector], topn=(len(model.docvecs)))\n",
        "\n",
        "    rank = [docid for docid, sim in sims].index(doc_id)\n",
        "    ranks.append(rank)\n",
        "\n",
        "    second_ranks.append(sims[1])"
      ],
      "execution_count": null,
      "outputs": [
        {
          "output_type": "stream",
          "text": [
            "830\n"
          ],
          "name": "stdout"
        }
      ]
    },
    {
      "cell_type": "code",
      "metadata": {
        "id": "Nkpd3yzQ59LL",
        "colab_type": "code",
        "colab": {
          "base_uri": "https://localhost:8080/",
          "height": 34
        },
        "outputId": "a73a6415-5c99-42d2-a5a7-f4ed2d9484f5"
      },
      "source": [
        "counter = Counter(ranks)\n",
        "print(counter)"
      ],
      "execution_count": null,
      "outputs": [
        {
          "output_type": "stream",
          "text": [
            "Counter({0: 830})\n"
          ],
          "name": "stdout"
        }
      ]
    },
    {
      "cell_type": "code",
      "metadata": {
        "id": "JU5KH72QEUAM",
        "colab_type": "code",
        "colab": {
          "base_uri": "https://localhost:8080/",
          "height": 245
        },
        "outputId": "c653ea09-3a01-40f3-85a3-b7639ea62697"
      },
      "source": [
        "print('Document ({}): «{}»\\n'.format(doc_id, ' '.join(train_corpus[doc_id].words)))\n",
        "print(u'SIMILAR/DISSIMILAR DOCS PER MODEL %s:\\n' % model)\n",
        "for label, index in [('MOST', 0), ('SECOND-MOST', 1), ('MEDIAN', len(sims)//2), ('LEAST', len(sims) - 1)]:\n",
        "    print(u'%s %s: «%s»\\n' % (label, sims[index], ' '.join(train_corpus[sims[index][0]].words)))\n"
      ],
      "execution_count": null,
      "outputs": [
        {
          "output_type": "stream",
          "text": [
            "Document (829): «take my hand take a breath pull me close and take one step keep your eye lock on mine and let the music be your guid wo n't you promis me ? now wo n't you promis me ? that you 'll never forget we 'll keep danc to keep danc wherev we go next it 's like catch lightn the chanc of find someon like you it 's one in a million the chanc of feel the way we do and with everi step togeth we just keep on get better so can i have thi danc ? can i have thi danc ? can i have thi danc ? take my hand i 'll take the lead and everi turn will be safe with me do n't be afraid afraid to fall you know i 'll catch you through it all and you ca n't keep us apart even a thousand mile ca n't keep us apart 'caus my heart is wherev you are it 's like catch lighten the chanc of find someon like you it 's one in a million the chanc of feel the way we do and with everi step togeth we just keep on get better so can i have thi danc ? can i have thi danc ? can i have thi danc ? oh no mountain 's too high and no ocean 's too wide 'caus togeth or not our danc wo n't stop let it rain let it pour what we have is worth fight for you know i believ that we were meant to be ! oh ! it 's like catch lighten the chanc of find someon like you it 's one in a million the chanc of feel the way we do and with everi step togeth we just keep on get better so can i have thi danc ? can i have thi danc ? can i have thi danc ? can i have thi danc ? can i have thi danc ? hmm yea hey yea can you imagin what would happen if we could have ani dream i wish thi moment wa our to own it and that it would never leav then i would thank that star that made our wish come true oh yea caus he know that where you are is where i should be too choru : right here right now i 'm look at you and my heart love the view cuz you mean everyth everyth right here i 'll promis you somehow that tomorrow can wait for some other day to be to be but right now there 's you and me if thi wa forev what could be better we alreadi prove it wa but in 2123 hour abandon the univers gon na make you everyth in our whole world chang it 's our chang yea and you know that where we are will never be th same oh no oh no choru : right here right now i 'm look at you and my heart love the view cuz you mean everyth right here i 'll promis you somehow that tomorrow can wait for some other day to be to be but right now there 's you and me oh we know it 's come and it 's come fast as long as there 's you and me oh yea so let make thi second last make it last choru : right here ohh right now yea i 'm look at you and my heart love the view cuz you mean everyth right here i 'll promis you somehow that tomorrow can wait for some other day to be to be but right now there 's you and me right here i promis you somehow tomorrow can wait for some other day to be to be but right now there 's you and me you and me ohh you and me but right now there 's you and meee take it back to the place where you know it all began we could be anyth we wan na be you can tell by the nois that the boy are back again togeth make histori it 's time to show how to be a superhero just like a showdown will smith and bobbi deniro we 're the best no doubt do it like we use to do thi is our time and i 'm tell you all ! the boy are back the boy are back the boy are back gon na do it again gon na wake up the neighborhood the boy are back the boy are back climb up the wall anytim we want the word is out the boy are back the boy are back back to save the day the boy are back oh yeah keep come with the right win the fight everi singl time undef here in our hous yeah we can rock we can shock anytim we like and tonight we 're go all out it 's time to show how to be a superhero just like a showdown keep the pedal to the metal we 're the best no doubt do it like we use to do thi is our time and i 'm tell you all ! lookout ! the boy are back the boy are back the boy are back gon na do it again gon na wake up the neighborhood the boy are back the boy are back climb up the wall anytim we want the word is out the boy are back here to chang the world to solv the mysteri fight the battl save the girl no one can stop us now we 're the one that make the rule oh ! the boy are back oh yeah ! the boy are back the boy are back the boy are back gon na do it again gon na wake up the neighborhood the boy are back the boy are back climb up the wall anytim we want no need to worri 'caus the boy are back the boy are back the boy are back gon na do it again and we make it look good the boy are back the boy are back tear down the wall anytim we want i 'm sure that you know by now the boy are back ! i guess i should 've known better to believ i 'm a lucki chain oh i lent my heart out forev and final learn each other 's name i tell myself thi time it 's differ no goodby caus eye ca n't bear to see it i 'll never surviv on one that 's come if i stay ooh no ! just walk away ! oh and do n't look back caus if my heart break it 's gon na hurt so bad you know i 'm strong but i ca n't take that befor it 's too late oh just walk away ! walk walk walk away ooh just walk away ! walk walk walk away aye aye aye yeah i realli wish i could blame you but i know that it 's no one 's fault no no no no a cinderella with no shoe and a princ that doe n't know he 's lost he say that her face is so familiar each goodby with just the same old song but thi time i will not surrend ! 'caus i 'm gone ooh yeah ! just walk away ! ooh and do n't look back caus if my heart break it 's gon na hurt so bad you know i 'm strong but i ca n't take that befor it 's too late oh just walk away ! walk walk walk away oh just walk away ! walk walk walk away oh just walk away ! i 've got to let it go ooh start protect my heart and soul caus i do n't think i 'll surviv a goodby again not again ! just walk away ! oh and do n't look back caus if my heart break it 's gon na hurt so bad you know i 'm strong but i ca n't take that befor it 's too late befor it 's too late ! oh just walk away ! walk walk walk away walk away walk away yeah ! walk walk walk away ! walk away walk away all right walk away walk walk away walk away walk away walk walk walk away ! walk away walk away oh ooh here we go come on alright littl louder now hey ! lookin ' forward from center stage to graduat day time to get the futur start what we leav what we take with us no matter what it 's somethin ' we 're part of we learn to fli togeth side by side i just hope the rest of my life would feel as good as my high school music who say we have to let it go ? it 's the best part we 've ever known step into the futur we 'll hold on to high school music let 's celebr where we come from with friend who 've been there all along just like our high school high school music improvis without a script no one 's written it and now we have the chanc to someday we 'll be lookin ' back memori we 'll had all the song that we live through the best of time so whi leav them behind ? whi ca n't the rest of my life be like my high school music who say we have to let it go ? it 's the best part we 've ever known step into the futur we 'll hold on to high school music let 's celebr where we come from with friend who 've been there all along that 's right now we final realiz who we are it just took some time we have to live and to learn to see the truth learn to see the truth noth 's ever imposs into the futur we all free fall but forev we 'll alway have high school time to parti now celebr 'caus the world 's one big stage and ani part you want it can be your everybodi sing yeah ! and the show 's never gon na close it 's what it got us here we know high school live on forev more high school high school music high school music who say we have to let it go ? it 's the best part we 've ever known step into the futur we 'll hold on to high school music let 's celebr where we come from with friend who 've been there all along oh yeah i wish my life could feel like a high school music who say we have to let it go ? it 's the best part we 've ever known step into the futur we 'll hold on to high school music let 's celebr where we come from all togeth make it better memori that 'll last forev i want the rest of my life to feel just like a high school music 'rememb the time ' i 've heard those word befor but now they 're mine everi memori all the sweet time shine is live here in my heart and mind oh everi laugh we share togeth yeah we still give back can you believ all the fun we 've had ? just gettin ' readi for the other half you know a friend becom a part of you like thi dream that 's final comin ' true comin ' true ! it 's all good all right 'see ya later ' doe n't mean 'goodby ' 'caus it ai n't over just time to fli and we 're just gettin ' start oh let 's celebr life is comin ' yeah and i ca n't wait it 's a ride that we all get to take we 're gon na help each other find our way oh everi friend is now a part of me togeth we 're just like a famili just breakin ' free ! it 's all good all right 'see ya later ' doe n't mean 'goodby ' it ai n't over just time to fli and we 're just gettin ' start just gettin ' start ! it 's all good all right our world is changin ' that ai n't no surpris but that ca n't stop us just let it tri 'caus we 're just gettin ' start who know what we 'll find it 's the great unknown the steppin ' stone wherev we 're goin ' i know we 're gon na get there from here hey yeah hoo ! it 's all good all right 'see ya later ' doe n't mean 'goodby ' 'caus it ai n't over just time to fli and we 're just gettin ' start just gettin ' start it 's all good all right our world is changin ' that ai n't no surpris that ca n't stop us just let it tri let it tri let it tri 'caus we 're just gettin ' start it 's all good all right 'see ya later ' doe n't mean 'goodby ' the day the door is close the echo fill your soul they wo n't say which way to go just trust your heart to find what you 're here for open anoth door but i 'm not sure anymor it 's just so hard the voic in my head tell me they know best got me on the edg they 're pushin ' pushin ' they 're pushin ' i know they 've got a plan but the ball 's in my hand thi time it 's man-to-man i 'm droppin ' fightin ' insid the whole world 's upsid down it 's spin faster what do i do now without ya ? i do n't know where to go what 's the right team ? i want my own thing so bad i 'm gon na scream i ca n't choos so confus what 's it all mean ? i want my own dream so bad i 'm gon na scream i 'm kickin ' down the wall i got ta make 'em fall just break through them all i 'm pushin ' crashin ' i 'm gon na fight to find myself me and no one els which way i get down searchin ' searchin ' ca n't find a road that i should take i should tomorrow left us it 's like noth work without you i do n't know where to go what 's the right team ? i want my own thing so bad i 'm gon na scream i ca n't choos so confus what 's it all mean ? i want my own dream so bad i 'm gon na scream yeah the clock 's run down hear the crowd gettin ' loud i 'm consum by the sound is it hurt ? is it love ? can the music ever be enough ? got ta work it out work it out you can do it you can do it i do n't know where to go what 's the right team ? i want my own thing so bad i 'm gon na scream i ca n't choos so confus what 's it all mean ? i want my own dream so bad i 'm gon na scream i do n't know where to go what 's the right team ? i want my own thing i want my own thing i ca n't choos so confus what 's it all mean ? i want my own dream so bad i 'm gon na scream oh ahh ! it 's our last chanc to share the stage befor we go our separ way high school wa n't meant to last forev it 's our last chanc for us to shine to bring you music one more time so come on come on come on come on come on come on come on come on come on w i l d wildcat you know we are w i l d wildcat come on come on east high boy let 's make some nois oh yeah w i l d wildcat now 's the time thi is the last time to get it right thi is the last chanc to make it our night we got ta show what we 're all about team work togeth thi is the last chanc to make our mark histori will know who we are thi is the last time to make it count it 's now or never yeah i want it all i want it want it want it the fame and the fortun and more i want it all i want it want it want it i got ta have my star on the door i want the world noth less all the glam and the press onli give me the best review i want it all want it all want it all want it all want it all kick it girl i want it all want it all want it all want it all want it all we want it my band thank you east high you 're amaz good night ooh yeah ooh yeah i got ta lot of thing i have to do all these distract our futur 's come soon we 're be pull a hundr differ direct but whatev happen i know i 've got you you 're on my mind you 're in my heart it doe n't matter where we are we 'll be alright even if we 're mile apart even if we 're mile apart even if we 're mile and mile and mile apart all i wan na do is be with you be with you there 's noth we ca n't do eww i just wan na be with you onli you and no matter where life take us noth can break us apart a-a-achoo i just wan na be with eww you you know how life can be it chang overnight it 's sunni then rain but it 's alright a friend like you alway make it easi i know that you get me everi time through everi up through everi down you know i 'll alway be around through anyth you can count on me all i wan na do is be with you be with you there 's noth we can do i just wan na be with you onli you no matter where life take us noth can break us apart you know it 's true i just wan na be with you you i just wan na be with you the sun will alway shine that 's how you made me feel we 're gon na be alright 'caus what we have is real and will alway be togeth all i wan na do is be with you be with you there 's noth we can do i just wan na be with you onli you no matter where life take us noth can break us apart you know it 's true i just wan na be with you all i wan na do ! all that i wan na do is be with you all that i wan na do is be with you all that i wan na do i just wan na be with you all that i wan na do i just wan na be with you who 's that girl ? she 's so fine who 's that girl ? i do n't recogn who 's that girl ? she look so good yeah guess we 've never realli notic but we 've probabl should big fun on the night of night the night of night tonight let 's danc on the night of night you know we 're gon na do it right it 's gon na be our night you know it to rememb for all time surpris big fun it 's gon na be the night the best to last forev the rest of our live we 'll never ever ever forget it 's gon na be my night oh yeah all togeth say it loud come on now everyon that 's right ! it 's gon na be a night you can bet to rememb hear the crowd and never ever ever never ever ever never ever never ever ever forget ! [ vers 1 ] togeth togeth togeth everyon togeth togeth come on let 's have some fun togeth were there for each other everi time togeth togeth come on let do thi right troy : here and now it 's time for celebr to final figur it out that all our dream have no limit that 's what it 's all about gabi : everyon is special in their own way we make each other strong were not the same were differ in a good way togeth 's where we belong all : we 're all in thi togeth onc we know that we are we 're all star and we see that we 're all in thi togeth and it show when we stand hand in hand make our dream come true togeth togeth togeth everyon togeth togeth come on let have some fun togeth were there for each other everi time togeth togeth come on let do thi right ryan : we 're all here and speak out in one voic were go to rock the hous the parti 's on now everybodi make some nois come on scream and shout sharpay : we 've arriv becaus we stuck togeth champion one and all all : we 're all in thi togeth onc we know that we are we 're all star and we see that we 're all in thi togeth and it show when we stand hand in hand make our dream come we 're all in thi togeth when we reach we can fli go in sight we can make it we 're all in thi togeth onc we see there 's a chanc that we have and we take it wild cat sing along you know realli got it go on wild cat in the hous everybodi say it now wild cat everywher wave your hand up in the air that 's the way we do it let 's get to it time to show the world we 're all in thi togeth onc we know that we are we 're all star and we see that we 're all in thi togeth and it show when we stand hand in hand make our dream come we 're all in thi togeth when we reach we can fli go in sight we can make it we 're all in thi togeth onc we see there 's a chanc that we have and we take it wild cat everywher wave your hand up in the air that 's the way we do it let 's get to it come on everyon»\n",
            "\n",
            "SIMILAR/DISSIMILAR DOCS PER MODEL Doc2Vec(dm/m,d1000,n5,w5,mc10,s0.001,t3):\n",
            "\n",
            "MOST (829, 0.9419656991958618): «take my hand take a breath pull me close and take one step keep your eye lock on mine and let the music be your guid wo n't you promis me ? now wo n't you promis me ? that you 'll never forget we 'll keep danc to keep danc wherev we go next it 's like catch lightn the chanc of find someon like you it 's one in a million the chanc of feel the way we do and with everi step togeth we just keep on get better so can i have thi danc ? can i have thi danc ? can i have thi danc ? take my hand i 'll take the lead and everi turn will be safe with me do n't be afraid afraid to fall you know i 'll catch you through it all and you ca n't keep us apart even a thousand mile ca n't keep us apart 'caus my heart is wherev you are it 's like catch lighten the chanc of find someon like you it 's one in a million the chanc of feel the way we do and with everi step togeth we just keep on get better so can i have thi danc ? can i have thi danc ? can i have thi danc ? oh no mountain 's too high and no ocean 's too wide 'caus togeth or not our danc wo n't stop let it rain let it pour what we have is worth fight for you know i believ that we were meant to be ! oh ! it 's like catch lighten the chanc of find someon like you it 's one in a million the chanc of feel the way we do and with everi step togeth we just keep on get better so can i have thi danc ? can i have thi danc ? can i have thi danc ? can i have thi danc ? can i have thi danc ? hmm yea hey yea can you imagin what would happen if we could have ani dream i wish thi moment wa our to own it and that it would never leav then i would thank that star that made our wish come true oh yea caus he know that where you are is where i should be too choru : right here right now i 'm look at you and my heart love the view cuz you mean everyth everyth right here i 'll promis you somehow that tomorrow can wait for some other day to be to be but right now there 's you and me if thi wa forev what could be better we alreadi prove it wa but in 2123 hour abandon the univers gon na make you everyth in our whole world chang it 's our chang yea and you know that where we are will never be th same oh no oh no choru : right here right now i 'm look at you and my heart love the view cuz you mean everyth right here i 'll promis you somehow that tomorrow can wait for some other day to be to be but right now there 's you and me oh we know it 's come and it 's come fast as long as there 's you and me oh yea so let make thi second last make it last choru : right here ohh right now yea i 'm look at you and my heart love the view cuz you mean everyth right here i 'll promis you somehow that tomorrow can wait for some other day to be to be but right now there 's you and me right here i promis you somehow tomorrow can wait for some other day to be to be but right now there 's you and me you and me ohh you and me but right now there 's you and meee take it back to the place where you know it all began we could be anyth we wan na be you can tell by the nois that the boy are back again togeth make histori it 's time to show how to be a superhero just like a showdown will smith and bobbi deniro we 're the best no doubt do it like we use to do thi is our time and i 'm tell you all ! the boy are back the boy are back the boy are back gon na do it again gon na wake up the neighborhood the boy are back the boy are back climb up the wall anytim we want the word is out the boy are back the boy are back back to save the day the boy are back oh yeah keep come with the right win the fight everi singl time undef here in our hous yeah we can rock we can shock anytim we like and tonight we 're go all out it 's time to show how to be a superhero just like a showdown keep the pedal to the metal we 're the best no doubt do it like we use to do thi is our time and i 'm tell you all ! lookout ! the boy are back the boy are back the boy are back gon na do it again gon na wake up the neighborhood the boy are back the boy are back climb up the wall anytim we want the word is out the boy are back here to chang the world to solv the mysteri fight the battl save the girl no one can stop us now we 're the one that make the rule oh ! the boy are back oh yeah ! the boy are back the boy are back the boy are back gon na do it again gon na wake up the neighborhood the boy are back the boy are back climb up the wall anytim we want no need to worri 'caus the boy are back the boy are back the boy are back gon na do it again and we make it look good the boy are back the boy are back tear down the wall anytim we want i 'm sure that you know by now the boy are back ! i guess i should 've known better to believ i 'm a lucki chain oh i lent my heart out forev and final learn each other 's name i tell myself thi time it 's differ no goodby caus eye ca n't bear to see it i 'll never surviv on one that 's come if i stay ooh no ! just walk away ! oh and do n't look back caus if my heart break it 's gon na hurt so bad you know i 'm strong but i ca n't take that befor it 's too late oh just walk away ! walk walk walk away ooh just walk away ! walk walk walk away aye aye aye yeah i realli wish i could blame you but i know that it 's no one 's fault no no no no a cinderella with no shoe and a princ that doe n't know he 's lost he say that her face is so familiar each goodby with just the same old song but thi time i will not surrend ! 'caus i 'm gone ooh yeah ! just walk away ! ooh and do n't look back caus if my heart break it 's gon na hurt so bad you know i 'm strong but i ca n't take that befor it 's too late oh just walk away ! walk walk walk away oh just walk away ! walk walk walk away oh just walk away ! i 've got to let it go ooh start protect my heart and soul caus i do n't think i 'll surviv a goodby again not again ! just walk away ! oh and do n't look back caus if my heart break it 's gon na hurt so bad you know i 'm strong but i ca n't take that befor it 's too late befor it 's too late ! oh just walk away ! walk walk walk away walk away walk away yeah ! walk walk walk away ! walk away walk away all right walk away walk walk away walk away walk away walk walk walk away ! walk away walk away oh ooh here we go come on alright littl louder now hey ! lookin ' forward from center stage to graduat day time to get the futur start what we leav what we take with us no matter what it 's somethin ' we 're part of we learn to fli togeth side by side i just hope the rest of my life would feel as good as my high school music who say we have to let it go ? it 's the best part we 've ever known step into the futur we 'll hold on to high school music let 's celebr where we come from with friend who 've been there all along just like our high school high school music improvis without a script no one 's written it and now we have the chanc to someday we 'll be lookin ' back memori we 'll had all the song that we live through the best of time so whi leav them behind ? whi ca n't the rest of my life be like my high school music who say we have to let it go ? it 's the best part we 've ever known step into the futur we 'll hold on to high school music let 's celebr where we come from with friend who 've been there all along that 's right now we final realiz who we are it just took some time we have to live and to learn to see the truth learn to see the truth noth 's ever imposs into the futur we all free fall but forev we 'll alway have high school time to parti now celebr 'caus the world 's one big stage and ani part you want it can be your everybodi sing yeah ! and the show 's never gon na close it 's what it got us here we know high school live on forev more high school high school music high school music who say we have to let it go ? it 's the best part we 've ever known step into the futur we 'll hold on to high school music let 's celebr where we come from with friend who 've been there all along oh yeah i wish my life could feel like a high school music who say we have to let it go ? it 's the best part we 've ever known step into the futur we 'll hold on to high school music let 's celebr where we come from all togeth make it better memori that 'll last forev i want the rest of my life to feel just like a high school music 'rememb the time ' i 've heard those word befor but now they 're mine everi memori all the sweet time shine is live here in my heart and mind oh everi laugh we share togeth yeah we still give back can you believ all the fun we 've had ? just gettin ' readi for the other half you know a friend becom a part of you like thi dream that 's final comin ' true comin ' true ! it 's all good all right 'see ya later ' doe n't mean 'goodby ' 'caus it ai n't over just time to fli and we 're just gettin ' start oh let 's celebr life is comin ' yeah and i ca n't wait it 's a ride that we all get to take we 're gon na help each other find our way oh everi friend is now a part of me togeth we 're just like a famili just breakin ' free ! it 's all good all right 'see ya later ' doe n't mean 'goodby ' it ai n't over just time to fli and we 're just gettin ' start just gettin ' start ! it 's all good all right our world is changin ' that ai n't no surpris but that ca n't stop us just let it tri 'caus we 're just gettin ' start who know what we 'll find it 's the great unknown the steppin ' stone wherev we 're goin ' i know we 're gon na get there from here hey yeah hoo ! it 's all good all right 'see ya later ' doe n't mean 'goodby ' 'caus it ai n't over just time to fli and we 're just gettin ' start just gettin ' start it 's all good all right our world is changin ' that ai n't no surpris that ca n't stop us just let it tri let it tri let it tri 'caus we 're just gettin ' start it 's all good all right 'see ya later ' doe n't mean 'goodby ' the day the door is close the echo fill your soul they wo n't say which way to go just trust your heart to find what you 're here for open anoth door but i 'm not sure anymor it 's just so hard the voic in my head tell me they know best got me on the edg they 're pushin ' pushin ' they 're pushin ' i know they 've got a plan but the ball 's in my hand thi time it 's man-to-man i 'm droppin ' fightin ' insid the whole world 's upsid down it 's spin faster what do i do now without ya ? i do n't know where to go what 's the right team ? i want my own thing so bad i 'm gon na scream i ca n't choos so confus what 's it all mean ? i want my own dream so bad i 'm gon na scream i 'm kickin ' down the wall i got ta make 'em fall just break through them all i 'm pushin ' crashin ' i 'm gon na fight to find myself me and no one els which way i get down searchin ' searchin ' ca n't find a road that i should take i should tomorrow left us it 's like noth work without you i do n't know where to go what 's the right team ? i want my own thing so bad i 'm gon na scream i ca n't choos so confus what 's it all mean ? i want my own dream so bad i 'm gon na scream yeah the clock 's run down hear the crowd gettin ' loud i 'm consum by the sound is it hurt ? is it love ? can the music ever be enough ? got ta work it out work it out you can do it you can do it i do n't know where to go what 's the right team ? i want my own thing so bad i 'm gon na scream i ca n't choos so confus what 's it all mean ? i want my own dream so bad i 'm gon na scream i do n't know where to go what 's the right team ? i want my own thing i want my own thing i ca n't choos so confus what 's it all mean ? i want my own dream so bad i 'm gon na scream oh ahh ! it 's our last chanc to share the stage befor we go our separ way high school wa n't meant to last forev it 's our last chanc for us to shine to bring you music one more time so come on come on come on come on come on come on come on come on come on w i l d wildcat you know we are w i l d wildcat come on come on east high boy let 's make some nois oh yeah w i l d wildcat now 's the time thi is the last time to get it right thi is the last chanc to make it our night we got ta show what we 're all about team work togeth thi is the last chanc to make our mark histori will know who we are thi is the last time to make it count it 's now or never yeah i want it all i want it want it want it the fame and the fortun and more i want it all i want it want it want it i got ta have my star on the door i want the world noth less all the glam and the press onli give me the best review i want it all want it all want it all want it all want it all kick it girl i want it all want it all want it all want it all want it all we want it my band thank you east high you 're amaz good night ooh yeah ooh yeah i got ta lot of thing i have to do all these distract our futur 's come soon we 're be pull a hundr differ direct but whatev happen i know i 've got you you 're on my mind you 're in my heart it doe n't matter where we are we 'll be alright even if we 're mile apart even if we 're mile apart even if we 're mile and mile and mile apart all i wan na do is be with you be with you there 's noth we ca n't do eww i just wan na be with you onli you and no matter where life take us noth can break us apart a-a-achoo i just wan na be with eww you you know how life can be it chang overnight it 's sunni then rain but it 's alright a friend like you alway make it easi i know that you get me everi time through everi up through everi down you know i 'll alway be around through anyth you can count on me all i wan na do is be with you be with you there 's noth we can do i just wan na be with you onli you no matter where life take us noth can break us apart you know it 's true i just wan na be with you you i just wan na be with you the sun will alway shine that 's how you made me feel we 're gon na be alright 'caus what we have is real and will alway be togeth all i wan na do is be with you be with you there 's noth we can do i just wan na be with you onli you no matter where life take us noth can break us apart you know it 's true i just wan na be with you all i wan na do ! all that i wan na do is be with you all that i wan na do is be with you all that i wan na do i just wan na be with you all that i wan na do i just wan na be with you who 's that girl ? she 's so fine who 's that girl ? i do n't recogn who 's that girl ? she look so good yeah guess we 've never realli notic but we 've probabl should big fun on the night of night the night of night tonight let 's danc on the night of night you know we 're gon na do it right it 's gon na be our night you know it to rememb for all time surpris big fun it 's gon na be the night the best to last forev the rest of our live we 'll never ever ever forget it 's gon na be my night oh yeah all togeth say it loud come on now everyon that 's right ! it 's gon na be a night you can bet to rememb hear the crowd and never ever ever never ever ever never ever never ever ever forget ! [ vers 1 ] togeth togeth togeth everyon togeth togeth come on let 's have some fun togeth were there for each other everi time togeth togeth come on let do thi right troy : here and now it 's time for celebr to final figur it out that all our dream have no limit that 's what it 's all about gabi : everyon is special in their own way we make each other strong were not the same were differ in a good way togeth 's where we belong all : we 're all in thi togeth onc we know that we are we 're all star and we see that we 're all in thi togeth and it show when we stand hand in hand make our dream come true togeth togeth togeth everyon togeth togeth come on let have some fun togeth were there for each other everi time togeth togeth come on let do thi right ryan : we 're all here and speak out in one voic were go to rock the hous the parti 's on now everybodi make some nois come on scream and shout sharpay : we 've arriv becaus we stuck togeth champion one and all all : we 're all in thi togeth onc we know that we are we 're all star and we see that we 're all in thi togeth and it show when we stand hand in hand make our dream come we 're all in thi togeth when we reach we can fli go in sight we can make it we 're all in thi togeth onc we see there 's a chanc that we have and we take it wild cat sing along you know realli got it go on wild cat in the hous everybodi say it now wild cat everywher wave your hand up in the air that 's the way we do it let 's get to it time to show the world we 're all in thi togeth onc we know that we are we 're all star and we see that we 're all in thi togeth and it show when we stand hand in hand make our dream come we 're all in thi togeth when we reach we can fli go in sight we can make it we 're all in thi togeth onc we see there 's a chanc that we have and we take it wild cat everywher wave your hand up in the air that 's the way we do it let 's get to it come on everyon»\n",
            "\n",
            "SECOND-MOST (303, 0.2757492661476135): «[ vers 1 ] ca n't keep my hand to myself no matter how hard i 'm tri to i want you all to myself you 're metaphor gin and juic so come on give me a tast of what it 's like to be next to you wo n't let one drop go to wast you 're metaphor gin and juic [ pre-choru ] caus all of the doubt and the outburst keep make love to each other and i 'm tri tri i 'm tri tri all of the doubt and the outburst keep make love to each other and i 'm tri tri i 'm tri but i ca n't keep my hand to myself my hand to myself ca n't keep my hand to myself my hand to myself [ vers 2 ] my doctor say you 're no good but peopl say what they wan na say and you should know if i could i 'd breath you in everi singl day [ pre-choru ] all of the doubt and the outburst keep make love to each other and i 'm tri tri i 'm tri tri all of the doubt and the outburst keep make love to each other and i 'm tri tri i 'm tri but i ca n't keep my hand to myself my hand to myself ca n't keep my hand to myself my hand to myself [ bridg ] ca n't keep my hand to myself i want it all no noth els ca n't keep my hand to myself give me your all and noth els oh i i want it all i want it all i want it all ca n't keep my hand to myself i mean i could but whi would i want to ? my hand to myself ca n't keep my hand to myself my hand to myself ca n't keep my hand to myself i want it all no noth els ca n't keep my hand to myself give me your all and noth els ca n't keep my hand to myself [ intro ] wild wild wild wild wild wild wild wild wild wild mmm [ vers 1 ] you built me from a broken heart with brick you made from broken part you 've fix the paint so we could start so now what 's mine is our i still have proof in form of scar the first time alway fall so far those heal wound heal twice as hard but now what 's mine is our but now what 's mine is our we are survivor we are survivor of the wild we are survivor we are survivor of the wild [ vers 2 ] my sweet devot counterpart we kept each other 's shoot star howev close howev far whatev 's mine is our whatev 's mine is our we are survivor we are survivor of the wild we are survivor we are survivor of the wild we are survivor we are survivor of the wild we are survivor we are survivor we are survivor of the wild [ bridg ] woahoooo we are we are woahoooo we are we are woahoooo we are we are we are survivor of the wild woahoooo we are we are woahoooo we are we are woahoooo we are we are we are survivor of the wild [ outro ] we are survivor of the wild we are survivor woah we are survivor of the wild we are survivor we are survivor we are survivor of the wild tell 'em that is my birthday tell 'em that is my birthday tell 'em that is my birthday when i parti like that everi night 's my birthday they do n't know so it 's okay tell 'em that is my birthday when i parti like that jazz it up jazz it up happi as can be fall into you fall into me how do you do call me the queen bake cream blow your dream blow your dream blow your dream away with me blow your dream blow your dream blow your dream away with me so yummi tell 'em that is my birthday tell 'em that is my birthday tell 'em that is my birthday when i parti like that everi night 's my birthday they do n't know so it 's okay tell em that is my birthday when i parti like that jazz it up jazz it up feel fine and free crash into you crash into me so yummi it 's all i wan na do come and danc with me pretti pleas blow your dream blow your dream blow your dream away with me blow your dream blow your dream blow your dream away with me tell 'em that is my birthday tell 'em that is my birthday tell 'em that is my birthday when i parti like that everi night 's my birthday they do n't know so it 's okay tell 'em that is my birthday when i parti like that tell 'em that is my birthday tell 'em that is my birthday tell 'em that is my birthday when i parti like that everi night 's my birthday they do n't know so it 's okay tell 'em that is my birthday when i parti like that blow your dream blow your dream blow your dream away with me blow your dream blow your dream blow your dream away with me blow your dream blow your dream blow your dream away with me blow your dream blow your dream blow your dream away with me tell 'em that is my birthday tell 'em that is my birthday tell 'em that is my birthday when i parti like that everi night 's my birthday they do n't know so it 's okay tell 'em that is my birthday when i parti like that tell 'em that is my birthday tell 'em that is my birthday tell 'em that is my birthday when i parti like that everi night 's my birthday they do n't know so it 's okay tell 'em that is my birthday when i parti like that [ vers 1 ] dead-end street and boulevard you threw in the towel i broke your heart but there 's a first time for everyth who would 've thought you 'd feel so cold and all these memori seem so old to think you were my everyth [ pre-choru ] rememb when we 'd talk all night but time ai n't easi on us how can love die ? i got so much shit to say but i ca n't help feel like i 'm camouflag fortress around my heart you were mine just yesterday now i have no idea who you are it 's like you camouflag [ post-choru ] but it 's good to see you here again i do n't wan na say goodby but it 's about half past ten and i have to catch my ride [ vers 2 ] ride alon on the 405 and life 's so fragil it 's like i could cri if that 's the last time i 'd see you again but i 'll never tell you just how i felt you might just not care and it might just not help what if the feel just do n't make no sens to you you [ pre-choru ] rememb when we 'd talk all night but time ai n't easi on us how can love die ? i got so much shit to say but i ca n't help feel like i 'm camouflag fortress around my heart you were mine just yesterday now i have no idea who you are it 's like you camouflag [ post-choru ] but it 's good to see you here again i do n't wan na say goodby but it 's about half past ten and i have to catch my ride i got so much shit to say but i ca n't help feel like i 'm camouflag fortress around my heart you were mine just yesterday now i have no idea who you are it 's like you camouflag [ post-choru ] but it 's good to see you here again i do n't wan na say goodby but it 's about half past ten and i have to catch my ride i told i told i told myself again i 'm never run back on what i said tri not to run but you 're so far away so far away wo n't listen to the conscienc in my head i 'm consciou but i 'm lone halfway dead tire of the thing you never you never said you never said our love wa made to rule the world you came and broke the perfect girl our love wa made to rule the world our love wa made to rule the world you left me want what we were our love wa made to rule the world forget forev forget forev forget you ever knew my name my name my name my name i know i know i know we ca n't pretend that we never lover in the end i tri to tell myself that thi pain would go away just go away our love wa made to rule the world you came and broke the perfect girl our love wa made to rule the world our love wa made to rule the world you left me want what we were our love wa made to rule the world forget forev forget forev forget you ever knew my name my name my name my name our love wa made to rule the world you came and broke the perfect girl our love wa made to rule the world forget forev forget forev forget you ever knew my name my name my name my name forget forev forget forev walk like a champion talk like a champion ram pa pa pam pam ram pa pa pam pam walk like a champion talk like a champion ram pa pa pam pam tonight becom aliv stand up 'caus you got the pride danc and the sweat do n't dri onc shot so babi hit it right no doubt 'caus we young and free walk like you run the citi like your name in the sky live it up 'caus babi it 's your time it 's in the way you hold yourself you got ta know you 're someth els it 's sure that you 've never felt so sexi sexi sexi walk like a champion talk like a champion ram pa pa pam pam ram pa pa pam pam walk like a champion talk like a champion ram pa pa pam pam ram pa pa pam pam walk like a champion talk like a champion ram pa pa pam pam ram pa pa pam pam walk like a champion talk like a champion ram pa pa pam pam we got noth to lose we got noth to prove shine bright like diamond in the sky live it up 'caus babi it 's your time it 's in the way you hold yourself you got ta know you 're someth els it 's sure that you 've never felt so sexi sexi sexi walk like a champion talk like a champion ram pa pa pam pam ram pa pa pam pam walk like a champion talk like a champion ram pa pa pam pam ram pa pa pam pam walk like a champion talk like a champion ram pa pa pam pam ram pa pa pam pam walk like a champion talk like a champion ram pa pa pam pam ram pa pa pam pam walk like a champion talk like a champion stand up let 'em know that you shine bright throw down let 'em know that you got fight walk like a champion walk like a champion stand up let 'em know that you shine bright throw down let 'em know that you got fight it 's sure that you 've never felt so sexi sexi sexi walk like a champion talk like a champion ram pa pa pam pam ram pa pa pam pam walk like a champion talk like a champion ram pa pa pam pam ram pa pa pam pam walk like a champion talk like a champion ram pa pa pam pam ram pa pa pam pam walk like a champion talk like a champion ram pa pa pam pam ram pa pa pam pam walk like a champion talk like a champion now 's all we got and time ca n't be bought . i know it insid my heart forev will forev be our . even if we tri to forget love will rememb . you said you love me i said i love you back what happen to that what happen to that all your promis and all them plan we had what happen to that what happen to that boom gone yeah we move on even if we tri to forget love will rememb you love will rememb me i know it insid of my heart forev will forev be our even if we tri to forget love will rememb love will rememb love will rememb love will rememb love will rememb the trip we dream of take the tack left on the map what happen to that what happen to that when all you had wa noth and all we did wa laugh what happen to that what happen what happen to that boom gone yeah we move on even if we tri to forget love will rememb you love will rememb me i know it insid of my heart forev will forev be our even if we tri to forget love will rememb love will rememb love will rememb love will rememb love will rememb break down the wall let heaven in somewher and forev we 'll danc again we use to be insepar i use to think that i wa irreplac we lit the whole world up befor we blew it up i still do n't know just how we screw it up forev forev forev love will rememb you love will rememb me i know it insid of my heart forev will forev be our even if we tri to forget love will rememb love will rememb love will rememb love will rememb love will rememb love will rememb love will rememb love will rememb love 'll rememb [ intro ] i dive into the futur but i 'm blind by the sun i 'm reborn in everi moment so who know what i 'll becom [ vers 1 ] i feel like i 've awaken late the chain around me are final break i 've been under self-restor i 'm becom my own salvat show up no more hide hide the light insid me is burst shine it 's my my my time to butterfli what i 've learn is so vital more than just surviv thi is my reviv thi is a reviv oh-oh-oh-oh oh-oh-oh oh-oh-oh-oh reviv oh-oh-oh-oh oh-oh-oh oh-oh-oh-oh reviv [ vers 2 ] i 'll walk through the fire i 'll begin again i 'll burn through my skin caus i caus i wan na feel it reach for the truth not afraid to lose what shatter through me like a rifl wa a reviv i admit it 's been pain pain but i 'll be honest i 'm grate grate it 's my my my time to realiz what i 've learn is so vital more than just surviv thi is my reviv thi is a reviv oh-oh-oh-oh oh-oh-oh oh-oh-oh-oh reviv oh-oh-oh-oh oh-oh-oh oh-oh-oh-oh reviv [ bridg ] thi wo n't take too long you 'll see i 'm just tryna get to me ooh what shatter through me like a rifl wa a reviv what i 've learn is so vital more than just surviv thi is my reviv thi is a reviv oh-oh-oh-oh oh-oh-oh oh-oh-oh-oh reviv oh-oh-oh-oh oh-oh-oh oh-oh-oh-oh reviv [ outro ] what i 've learn is so vital more than just surviv thi is my reviv thi is a reviv kiss the moon goodby but do n't close your eye your eye it 's the end of the night but the begin of time for you and i i ca n't believ that my bodi is still move it make me feel like we 're do someth right . babi when the night start slip when the night start slip when the night start slip away boy you got my heartbeat skip when you touch me even though the time is tick away just tell me it 's not over and we 'll never reach the end but when the night start slip away save the day de de de de de de day de de de de de de day de de de de de de day save the day de de de de de de day de de de de de de day de de de de de de day save the day yeah we 're still wide awak got me lose my mind my mind no it 's never too late put your lip on mine in the burn sunlight i i ca n't believ that my bodi is still move it make me feel like we 're do someth right . babi when the night start slip when the night start slip when the night start slip away boy you got my heartbeat skip when you touch me even though the time is tick away just tell me it 's not over and we 'll never reach the end but when the night start slip away save the day de de de de de de day de de de de de de day de de de de de de day save the day de de de de de de day de de de de de de day de de de de de de day save the day oh eh oh eh oh eh oh ah ah ah ah oh eh oh eh oh eh oh ah ah ah ah oh eh oh eh oh eh oh ah ah ah ah kiss the moon goodby but do n't close your eye eye eye babi when the night start slip when the night start slip when the night start slip away boy you got my heartbeat skip when you touch me even though the time is tick away just tell me it 's not over and we 'll never reach the end but when the night start slip away save the day de de de de de de day de de de de de de day de de de de de de day save the day de de de de de de day de de de de de de day de de de de de de day save the day do n't like wait do n't like wait let go right now ! got ta ' hit the ground danc befor the music slow down what i 'm sayin ' what i 'm sayin ' if there 's someth to fix take it to anoth level thi is the remix everybodi everybodi get out on the floor it can get a littl crazi when the kick hit the floor make a scene make a scene nobodi can ignor do n't knock it til you rock it we ca n't take it no more bring the light up bust the door down dust yourself off shake it up ! shake it up ! dj set it off ! take it up a notch all togeth now ! shake it up ! shake it up ! shake it up ! break it down break it down i 've got someth to say when you 're dancin ' with me it 's like we go mia make a scene make a scene nobodi can ignor do n't knock it til you rock it we ca n't take it no more bring the light up bust the door down dust yourself off shake it up shake it up dj set it off take it up a notch all togeth now shake it up shake it up sh-sh-sh-shake it up you got ta chang it up and if the day not right ? just brush it off tonight put on the attitud your in my pocket mood and when you 've had enough sh-sh-sh-shake it up bring the light up bust the door down dust yourself off shake it up shake it up dj set it off take it up a notch all togeth now shake it up shake it up bring the light up bust the door down dust yourself off shake it up shake it up dj set it off take it up a notch all togeth now shake it up shake it up [ vers 1 ] we fall for each other at the wrong time onli for a moment but i do n't mind guess i do n't know where to draw the line the line the line and we 'll play the same game everi night [ pre-choru ] up in the cloud yeah you know how to make me want you when we come down oh i know yeah i know it 's over you do n't know how to love me when you 're sober when the bottl 's done you pull me closer and you 're say all the thing that you 're suppos to but you do n't know how to love me when you 're sober [ vers 2 ] whi is it so differ when we wake up ? same lip same kiss but not the same touch do n't you know that you do it just enough but not enough but i know what 's next and i want so much [ pre-choru ] up in the cloud yeah you know how to make me want you when we come down oh i know yeah i know it 's over you do n't know how to love me when you 're sober when the bottl 's done you pull me closer and you 're say all the thing that you 're suppos to but you do n't know how to love me when you 're sober [ bridg ] i know i should leav i know i should should should but your love 's too good your love 's too good good good i know i should leav i know i should should should but your love 's too good your love 's too good good good yeah ! you do n't know how to love me when you 're sober when the bottl 's done you pull me closer and you 're say all the thing that you 're suppos to but you do n't know how to love me when you 're sober [ outro ] you 've got a hold on me you 're like a wast dream i gave you everyth but you do n't know how to love me when you 're sobe wake up to your dream and watch them come true i 'll make you whisper my name i 'll never leav the room night and day i 'll be your muse no other girl can make you feel the way i do i can make the star danc light up the moon i can make the star danc if you want me to the sky is everywher so meet me under there i can make the star danc danc danc with you do n't be afraid close your eye let me take you to place you 've never been tonight i thought by know you 'd realiz i can do anyth i put my mind to i can make the star danc light up the moon i can make the star danc if you want me to the sky is everywher so meet me under there i can make the star danc danc danc with you everyth i touch turn to love everyth i do will open up heaven it 's dead steadi there 's fall and fli in love noth 's forev becaus we are just star danc i can make the star danc light up the moon i can make the star danc if you want me to the sky is everywher so meet me under there i can make the star danc danc danc with you i can make the star danc i can make the star danc i can make i can make i can make the star danc the sky is everywher so meet me under there i can make the star danc danc danc with you i look at you and all i wan na do it 's just disappear i got a crave for you babi can we get out of here you 're a sexi machin you 're a hollywood dream and you got me feel like a homecom queen let 's drop out of thi crowd somewher no one 's allow i want you all to myself i want you all to myself and nobodi els yeah you do n't need no other lover we can keep it undercov find me in the shadow i 'm protege damn until tomorrow and make sure that no-nobodi follow you do n't need no other lover we can keep it undercov you do n't need no other lover we can keep it undercov i wan na find a place where we can be alon in the dark and you can navig me like a map that you know by heart you 're a sexi machin you 're a hollywood dream and you got me feel like a homecom queen let 's drop out of thi crowd somewher no one 's allow i want you all to myself i want you all to myself and nobodi els yeah you do n't need no other lover we can keep it undercov find me in the shadow i 'm protege damn until tomorrow and make sure that no-nobodi follow you do n't need no other lover we can keep it undercov you do n't need no other lover we can keep it undercov i wan na find a place where we can be alon in the dark and you can navig me like a map that you know by heart all to myself i want you all to myself and nobodi els yeah you do n't need no other lover you do n't need no other lover you do n't need no other lover we can keep it undercov you do n't need no other lover we can keep it undercov you do n't need no other lover we can keep it undercov»\n",
            "\n",
            "MEDIAN (102, 0.079453244805336): «david robert who will be the one you run to whenev it 's dark and cold outsid and where will you go when you need a place to hide babi did you know that i 'd love you still but i wo n't relax until you 're back in my arm ca n't you see that my love is real darl anywher you run to i will be right behind you and you know i 'll find you anywher you run to i will be right behind you 'caus i must remind you i would sail a boat across the sea i would fli a plane to wherev you may be think you should know that my love can onli grow but if it 's the last thing that i 'll ever do i swear that i 'll make it back to you befor you leav there 's one thing that you must believ darl anywher you run to i will be right behind you and you know i 'll find you anywher you run to i will be right behind you 'caus i must remind you i would sail a boat across the sea i would fli a plane to wherev you may be think you should know that my love can onli grow but if it 's the last thing that i 'll ever do i swear that i 'll make it back to you befor you leav there 's one thing that you must believ darl anywher you run to i will be right behind you and you know i 'll find you anywher you run to i will be right behind you 'caus i must remind you anywher you run to i will be right behind you and you know i 'll find you anywher you run to i will be right behind you 'caus i must remind you anywher you run to i will be right behind you and you know i 'll find you ... you say it 's better to behav just like i never met you whi is it onli i can cri and you can say goodby in a minut do n't you rememb i wa your friend and you can just eras all those day and those tender reflect we bear we promis not to fall in love but it wa there and soon i wa in it alreadi i wa more than your friend it 's harder for me no word or express can make you hungri for me i 've never seen you on your knee like i 'm beggin ' you do n't give up give up on each other back where we start no love to hold us down i 'll never give anoth anymor than i gave to you will never come around alway and alway you told me love wa ever and ever togeth the dream will come true if we turn back if you turn back to me you wo n't be sorri if you stay i 'll stake my life upon it littl flame insid us can be fed take our preciou love to the limit it 's the one that you need and it 's your friend it 's harder for me no word or express anyth that make you worri i 've never seen you on your knee and i 'm in a hurri how is it you can break my heart but you ca n't be sorri push away whoever you pleas but i 'm beg you do n't give up give up on each other back where we start no love to hold us down i 'll never give anoth anymor than i gave to you will never come around oh do n't give up give up on each other we ca n't lose tomorrow better treasur what we 've got i 'll never give anoth anymor than i gave to you r. parker jr. had a nice time i enjoy the pictur show when you walk me to my door i knew i want more when i ask you in it wa alreadi get late though i knew better i did n't eaven hesit i like the way you hold me and make me feel so good though i say i would n't you kinda knew that i would it 's been so long sinc i 've been with a man better ask myself while i still can is thi love or is it just loneli when the sun come up is thi someth we will both regret is thi love or is it just loneli we ought to stop and ask ourselv is it realli worth it and how about you do you realli want me or am i just here to pleas your masculin you do n't see me emough to let me know you care you know the worst thing for a woman is a sometim love affair seem like everi time i satisfi your need you do n't call me back for two or three week what am i gon na do i just ca n't fight the temptat of love you is thi love or is it just loneli when the sun come up is thi someth we will both regret is thi love or is it just loneli we ought to stop and ask ourselv is it realli worth it sometim it 's hard to tel the differ i 'm just not sure if it 's worth it is thi love or is it just loneli when the sun come up is thi someth we will both regret is thi love or is it just loneli we ought to stop and ask ourselv is it realli worth it 'caus you never show up 'til midnight then you go home earli now you know that ai n't right i 've got a question i wan na ask you do you realli love me or am i just a fool is thi love or is it just loneli when the sun come up is thi someth we will both regret is thi love or is it just loneli we ought to stop and ask ourselv is it realli worth it i thought i 'd alreadi touch the sky i got to know you and i do n't know whi but all of my life could n't mean as much as just be touch by you i never thought of me grow up got my direct but the road wa rough it 's onli the dream of a teenag queen but somehow i made it through and i 'd love to see those face of those friend i left behind and even those who spoke for me just tri to be kind and no one said i love you just the way i know you do and i love be in love with you live insid your heart the give and the take you are not forsaken i love be in love with you thank you just for choos me that we should be be in love forev and ever ever i stare and wonder at what i found i just discov whi the world is round round in a circl my arm will be and do the same as you it ai n't right it 's onli for you and me onli the lone do it separ keep it aliv on the food of love but onli the chosen few in my life you see some chang in me we listen and we grow ani child that cling to childish thing is tri to let go and up to now i 'd thought i 'd seen as far as i could see and i love be in love with you live insid your heart the give and the take you are not forsaken i love be in love with you thank you just for choos me that we should be be in love forev and ever ever and i love be in love with you live insid your heart the give and the take you are not forsaken i love be in love with you thank you just for choos me that we should be you took a mysteri and made me want it you got a pedest and put me on it you made me love you out of feel noth someth that you do and i wa there and not danc with anyon you took a littl then you took me over you set your mark on steal my heart away cri tri anyth for you i 'm in the middl of a chain reaction you give me all the after midnight action i want to get you where i can let you make all that love to me i 'm on a journey for the inspir to anywher and there ai n't no salvat i need you to get me nearer to you so you can set me free we talk about love love love we talk about love we talk about love love love we talk about love you make me trembl when your hand move lower you tast a littl then you swallow slower natur ha a way of yield treasur pleasur made for you oh you got ta plan your futur is on the run shine a light for the whole world over you never find your love if you hide away cri die all you got ta do is get in the middl of a chain reaction you get a medal when you 're lost in action i want to get your love all readi for the sweet sensat instant radiat you let me hold you for the first explos we get a pictur of our love in motion my arm will cover my lip will smother you with no more left to say we talk about love love love we talk about love you let me hold you for the first explos my arm will cover you all you got ta do is get in the middl of a chain reaction you get a medal when you 're lost in action do n't pass me by i want to get your love all readi for the chain reaction how do you live with a broken heart ? everytim you come too close i just run away i need you so much and that 's so hard to say there is me and there is you and i get confus and sooner or later i know that i 'll have to choos you know it 's true i 'm cri my heart out for you what can i do i 'm lose myself over you over and over again i 'm cri my heart out for you no one in love like to lose how do you live with a broken heart and i can honestli say i want to be on my own that too bare exist when i wa all alon i know you 're not ask me to just live for you but it 's alway how i 've love and all i know how to do you know it 's true i 'm cri my heart out for you what can i do i 'm lose myself over you over and over again i 'm cri my heart out for you no-on in love like to lose but how do you live with a broken heart ? onc again i 'm fall in love like a fool i 'm fall in love and i do n't know what i 'm do onc again it 's somebodi els that i need i 'm lose myself and i 'm scare of what i 'm feel it 's true i 'm cri my heart out for you what can i do i 'm lose myself over you over and over again i 'm cri my heart out for you no one in love like to lose onc again i 'm fall in love like a fool i 'm fall in love and i do n't know what i 'm do do onc again it 's somebodi els that i need i 'm lose myself and i 'm scare of what i 'm feel about you i 'm cri my heart out for you what can i do i 'm lose myself over you over and over again i 'm cri my heart out for you what can i do i 'm lose myself over you over and over again what do you want babi one last piec of my heart what do you need babi we could make a new start i 'm not scare all the night alon lie there cri with the televis on watch those scoop about love and happi wonder what i ever did to deserv a fate like i do n't wan na be around for that famou final scene i just ca n't help myself i 'm a fool for your love leav me alon pleas my heart ca n't take ani more you left me go crazi it start like just like a phone you 're the number one you 're the onli one i need if you do n't want my love then set me free i do n't wan na be around for that famou final scene i ca n't help myself i 'm a fool for your love do n't come closer you know i 'm easi to phone you do n't love me ani fool can see i 'm tell you goodby bye bye leav me alon pleas my heart ca n't take anymor leav me alon pleas let me walk out that door leav me alon leav me alon leav me alon i do n't wan na be around for that famou final scene i just ca n't help myself i 'm a fool for your love i 'm a fool for your love i 'm a fool for your love leav me alon leav me alon leav me alon a fool for your love i 'm a fool for your love leav me alon pleas my heart ca n't take it no more leav me alon leav me alon i ca n't cover up my feel in the name of love or play it safe for a while that wa easi and if live for myself is what i 'm guilti of go on and sentenc me i 'll still be free it 's my turn to see what i can see i hope you 'll understand thi time 's just for me becaus it 's my turn with no apolog i 've given up the truth to those i 've tri to pleas but now it 's my turn if i do n't have all the answer at least i know i 'll take my share of chanc ai n't no use of hold of when noth stay the same so i 'll let it rain 'caus the rain ai n't gon na hurt me and i 'll let you go 'though i know it wo n't be easi it 's my turn with no more room for lie for year i 'd seen my life through someon els 's eye and now it 's my turn to tri and find my way and if i should get lost at least i 'll own today it 's my turn ye it 's my turn and there ai n't no use in hold of when noth stay the same so i 'll let it rain 'caus the rain ai n't gon na hurt me and i 'll let you go 'though i know it wo n't be easi it 's my turn to see what i can see i hope you 'll understand thi time 's just for me becaus it 's my turn to turn and say good-by i sure would like to know that you 're still on my side becaus it 's my turn it 's my turn it 's my turn to start from number one tri to undo some damag that 's been done but now it 's my turn to reach and touch the sky no one 's gon na say at least i did n't tri it 's my turn ye it 's my turn it 's my turn it 's my turn it 's my turn i do n't understand it 'caus you wo n't say ye but you do n't say no sayin ' no should n't you keep holdin ' out but you do n't let go i 'm givin ' up on tri to sell you thing that you ai n't buy it 's your move i play all of mine time is run out make your move or we ca n't go on till you understand it 's all in your hand it 's your move you 're give me the busi with that old come on but you do n't come across you get me so excit do n't you know you 're such a teas when i think you 're gettin ' hot you 're not so what 's the problem what 's wrong thi kiss and miss you know it ca n't go on it 's your move i play all of mine time is run out make your move or we ca n't go on till you understand it 's all in your hand it 's your move i 'm givin ' up on tri now it 's girl if you ai n't buyin ' now it 's i gave it all i got now it 's i thought you were hot but you 're not so it 's your move your move your move it 's your move i play all of mine time is run out make your move or we ca n't go on till you understand it 's all in your hand it 's your move it 's your move i play all of mine time is run out make your move or we ca n't go on till you understand it 's all in your hand it 's your move it 's your move i play all of mine time is run out make your move or we ca n't go on till you understand it 's all in your hand it 's your move she said she want a man to alway understand but that 's alright for her still it ai n't enough for me she said she want a guy to keep her satisfi but that 's alright for her but it ai n't enough for me still i do n't care if he 's young or old just make him beauti i just want someon i can hold on to i want muscl all all over hi bodi make him strong enough from hi head down to hi toe i want muscl all all over hi bodi make him strong enough from hi head down to hi toe they say they have to see hi real person but that 's alright for them still it ai n't enough for me i need what the eye can see ah hi anatomi if that 's alright for them still it ai n't enough for me i do n't care if he 's young or old just make him beauti i just want some strong man to hold on to i want muscl all all over hi bodi make him strong enough from hi head down to hi toe i want muscl all over hi bodi make him strong enough from hi head down to hi toe muscl man i want to love you in person i want your bodi come with me hide the cascad let thi be we 've got thi thing made lost at sea hide the desert stay with me you wo n't regret it take thi love so deep to swim in come to me and let the love in she said she want a man to alway understand but that 's alright for her still it ai n't enough for me i do n't care if he 's young or old just make him beauti i just want someon i can hold on to i want muscl all all over hi bodi make him strong enough from hi head down to hi toe i want muscl all over him all over him i want muscl all all over hi bodi i want muscl i want all i can get all over him all over him i want muscl muscl muscl»\n",
            "\n",
            "LEAST (487, -0.08370409905910492): «outsid in new orlean the heat wa almost frighten but my hotel room as usual wa freez and unkind on tv they prosecut anyon who 's excit so i put on my overcoat and went down to find in revlon and crimpelen they captur my heart to the strain of a piano and a cocktail murderess she wa sing that `` it 's too late '' i agre with that part for two english girl who had chang their address now it seem we 've been cri for year and for year now i do n't speak ani english just american without tear just american without tear one had been a beauti queen and the other wa her friend they had known rogu and rascal and showbiz impresario while the boy were lick hitler they had someth to defend from men arm with chew gum and fine nylon hose by a bicycl factori as they sound the siren and return into the danc hall she knew he wa the one though he wa n't tall or handsom she laugh when he told her `` i 'm the sheriff of nottingham and thi is littl john '' at a dock in southampton full of tear goodby newsreel comment said `` cheerio g.i . bride '' soon they 'll be find the cold fact and lie new word for suspend and young girl backsid now i 'm in america and run from you like my grandfath befor me walk the street of new york and i think of all the women i pretend mean more than you when i open my mouth and i ca n't seem to talk now it seem we 've been cri for year and for year now i do n't speak ani english just american without tear just american without tear you 're a fine one oh ye you are you 're a fine one just like me and we 're friend now oh would n't you say ? we 've been friend now oh have n't we ? stay at home tonight if you know what 's good for you i ca n't say more it would be tell for if you do n't what will becom of you just is n't worth ani king 's shill i will answer when they make that call pull upon thi rag uniform up 'til now i know it 's been your trade spit and polish the potato parad stay at home tonight if you know what 's good for you i ca n't say more it would be tell for if you do n't what will becom of you just is n't worth ani king 's shill pleas do n't put your silli head in that pretti soldier 's hat you 've done your duti that 's enough of that i do n't know if what i 'm do is right i do n't know if you should be forgiv but for me it seem it mean my life while for you it could just be a live stay at home tonight if you know what 's good for you i ca n't say more it would be tell for if you do n't what will becom of you just is n't worth ani king 's shill pleas do n't put your silli head in that british soldier 's hat you 've done your duti that 's enough of that you 're a fine one oh ye you are you 're a fine one just like me yesterday 's coal train came to rest in the bitter cut and as the signal took an age to chang it wa easi pick so you go to the movi where they smash it up you want to feel your heart pump it make you feel good a few of the rooki cop were squeal the hit as anoth mercedes-benz get blown to bit while all the time in the camptown theatr of piccadilli they 're go to throw a black-fac minstrel show for the barefoot children that they 're alway sell they 'll say `` it 's quaint '' as the guilti one faint and claim they ai n't underneath thi paint we interrupt these liber saint with their whip and watermelon report are come in of a coal-train robberi it 's like anoth world or it had better be so we return to whitewash pout of hi commit lip sinc he wa declar the long lost fountain of youth that drip and drip and drip they 'll be send him round from door to door to sell you back what 's alreadi your `` so mani good deed so littl time '' say the advertis agenc swine when man ha destroy what he think he own i hope no live thing cri over hi bone if you do n't believ that i 'm go for good you can count the day i 'm gone and chop up the chair for firewood report are come in of a coal-train robberi it 's like anoth world or it had better be one day you 're go to have to face a deep dark truth mirror and it 's go to tell you thing that i still love you too much to say the sky wa just a purpl bruis the ground wa iron and you fell all around the town until you look the same [ choru : ] the same eye the same lip the same lie from your tongu trip deep dark deep dark truth mirror deep dark deep dark truth mirror now the flagston street where the newspap shout ring to the boot ofroustabout but you 're never in ani doubt there 's someth happen somewher you chase down the road 'til your finger bleed on a fiberglass tumblewe you can blow around the town but it all shut down the same so you bay for the boy in the tiger-skin trunk they set him up set him up on the stool he fall down fall down like a drunk and you drink 'til you drool and it 's hi stori you 'll flatter you 'll stretch him out like a saint but the canva that he splatter will be the pictur that you never paint a strip puppet on a liquid stick get into it pretti thick a butterfli drink a turtl 's tear but how do you know he realli need it ? as a butterfli feed on a dead monkey 's hand jesu wept he felt abandon you 're spellbound babi there 's no doubt that did you ever see a stare like a persian cat ? hey everybodi i 'm a talk to you i ai n't tell you jealou it 's just the natur truth oh oh oh i got the eisenhow blue think about me and you and what on earth are we gon na do ? my money 's gone the fun is gone the way thing look i ca n't be here long oh oh oh i got the eisenhow blue think about me and you and what on earth are we gon na do ? take all my money to pay the tax i 'm tell you peopl the natur fact i 'm tell you peopl in my belief i am head straight on relief oh i got the eisenhow blue think about me and you and what on earth are we gon na do ? i ai n't got a dime ai n't got a cent ai n't got no money to pay my rent she want some cloth she want some shoe i 'm tell you peopl i do n't know what to do oh i got the eisenhow blue talk about me and you and what on earth are we gon na do ? take all my money to pay the tax i 'm tell you peopl the natur fact i 'm tell you peopl in my belief i am head straight on relief oh i got the eisenhow blue think about me and you and what on earth are we gon na do ? oh i got the eisenhow blue talk about me and you and what the hell are we gon na do ? enter madam x paint in a shock pink spangl dress her teeth are perfect but her mouth is loos rub their hand togeth she persuad them that it 's better to confess which unpleas fate they 'd like to choos everi step might be your last money sign are in your eye sucker you 've been taken in thi time you might just get out aliv if you 're lucki all the vultur tune in to glitter gulch are look in on you and they 're hungri he stood five feet tall in hi elev shoe and stovepip hat he wa known by sever differ name prompt by madam x he answer all their question and then after that he said i 'm sick and tire of stupid game we 've got prize if you can afford some small humili befor you get your reward and i 'd rather be an outlaw than an in-law to you and to live my life in miser poverti than to have to grovel to have some dream home hovel so watch me while i get away with prime time robberi as he enter madam x he thing of red rage face and the sweet greenback he climb upon hi honey and he cover her with money as they do their victori danc he think i hope they choke upon their laughter track they can all go straight to hell while we howl down the whole hotel i wish you 'd known me when i wa aliv i wa a funni feller the crowd would hoot and holler for more i wore a drunk 's red nose for applaus oh ye i wa a comic priest `` with a joke for the flock and a hand up your fleec '' drool the drink and the lipstick and greasepaint down the cardboard front of my dirti dog-collar [ choru : ] now i 'm dead now i 'm dead now i 'm dead now i 'm dead now i 'm dead and i 'm go on to meet my reward i wa scare i wa scare i wa scare i wa scare he might of never heard god 's comic so there he wa on a water-b drink a cola of a mysteri brand read an airport novelett listen to andrew lloyd-webb 's `` requiem '' he said befor it had realli begun `` i prefer the one about my son '' `` i 've been wade through all thi unbeliev junk and wonder if i should have given the world to the monkey '' i 'm go to take a littl trip down paradis 's endless shore they say that travel broaden the mind 'til you ca n't get your head out ofdoor i 'm sit here on the top of the world i hang around in the longest night until each beast ha gone bed and then i say `` god bless '' and turn out the light while you lie in the dark afraid to breath and you beg and you promis and you bargain and you plead sometim you confus me with santa clau it 's the big white beard i suppos i 'm go up to the pole where you folk die of cold i might be gone for a while if you need me now i 'm dead now i 'm dead now i 'm dead now i 'm dead now i 'm dead and you 're all go on to meet your reward are you scare ? are you scare ? are you scare ? are you scare ? you might have never heard but god 's comic i hate these flame curtain they 're not the color of your hair i hate these strip light they 're not so undo as your stare i hate the button on your shirt when all i want to do is tear i hate thi bloodi big bed of mine when you 're not here well i final found someon to turn me upsid down and nail my feet up where my head should be if they had a king of fool then i could wear that crown and you can all die laugh becaus i 'll wear it proudli well you seem to be shiver dear and the room is aw warm in the white and scarlet billow that subsid beyond the storm you have thi express dear no word could take it place and i wear it like a badg that you put all over my face i 'll wear it proudli through the dive and the danc hall if you 'll wear it proudli through the snake pit and catcal like a fifteen year old kid wear a vampir kiss if you do n't know what is wrong with me then you do n't know what you 've miss we are arm and leg wrap round more than my memori tonight when the bell rang out and the air outsid turn blue from fright but in shameless moment you made more of me than just a mess and a hand of eager say `` what do you suggest ? '' when we first met i did n't know what to do my old love line were all worn out on you and the world walk round at my mouth they lit me up and they snuf me out and i wa everybodi 's boy but soon that thrill just fade to be the love of one true heart or the jack of all parad you wo n't know who to thank you wo n't know who to blame it 's just a part of the murder game caus down in the fleshpot where they pay you in pound they 're laugh like drain and bay like bloodhound for the jack of all parad the jack of all parad onc i knew a girl that look so much like judi garland that peopl would stop and give her money and everybodi wa franki jimmi or bobbi not the jack the jack of all parad oh the jack the jack of all parad oh the jack of all parad . now the way that i feel is no longer news you know my love and how to refus it caus you know where the door is and how to use it oh you know you do but from my checker past to thi shatter terrac where you ca n't keep your mind off the crime of pari and you ca n't keep your peac and tri to forget it and i ca n't forgiv you for thing you have n't done yet oh i wa anybodi 's boy but soon that thrill just fade to be the love of one true heart or the jack of all parad when we first met i did n't know what to do my old love line were all worn out on you and the world walk 'round my mouth i did n't mean to say it i just blurt it out as you pretend not to notic or be taken aback and i love you there and then it 's as simpl as that oh i wa everybodi 's boy but soon that thrill just fade to be the love of one true heart or the jack of all parad to be the love of one true heart or the jack of all parad oh the jack of all parad in chocol town all the train are paint brown on the silver paper of the wrapper there 's a dapper littl man and he wear a wax mustach that he twist with nicotin finger as he drop hi cigarett ash and someon come and sweep it up and then he doff hi cap and there 's a rat in someon 's bedroom and they 're shut someon 's trap and they 'll soon be pull down the littl palac and the door swing back and forward from the past into the present and the bedsid crucifixion turn from wood to phosphoresc . and they 're move problem famili from the south up to the north mother 's cri over some soft soap opera divorc and you say you did n't do it but you know you did of cours and they 'll soon be pull down the littl palac . it 's like shout in a matchbox fill with plasterboard and hope like a pictur of princ william in the arm of john the pope . there 's a world of good intent and piti in their eye the sedat home of england are their to vandal . so you knock the kid about a bit becaus they 've got your name and you knock the kid about a bit until they feel the same . and they feel like knock down the littl palac . you 're the twinkl in your daddi 's eye a name you spray and scribbl you made the girl all turn their head and in turn they made you miser . to be the heir appar to the kingdom of the invis . so you knock the kid about a bit becaus they 've got your name and you knock the kid about a bit until they feel the same . and they feel like knock down the littl palac . he thought he wa the king of america where they pour coca cola just like vintag wine now i tri hard not to becom hyster but i 'm not sure if i am laugh or cri i wish that i could push a button and talk in the past and not the present tens and watch thi hurtin ' feel disappear like it wa common sens it wa a fine idea at the time now it 's a brilliant mistak she said that she wa work for the abc news it wa as much of the alphabet as she knew how to use her perfum wa unspeak it linger in the air like her artifici laughter her memento of affair `` oh '' i said `` i see you know him '' `` is n't that veri fortun for you '' and she show me hi call card he came third or fourth and there were more than one or two he wa a fine idea at the time now he 's a brilliant mistak he thought he wa the king of america but it wa just a boulevard of broken dream a trick they do with mirror and with chemic the word of love in whisper and the act of love in scream i wish that i could push a button and talk in the past and not the present tens and watch thi lovin ' feel disappear like it wa common sens i wa a fine idea at the time now i 'm a brilliant mistak oh well now you 're the girl i 'm simpli mad about . oh ye i 'm realli glad it 's been me . oh yeah . i hope that you 've been get readi caus i 'm gon na ask you to go steadi with me . i got two eye that happen by ya and when they saw you they said they knew you were fine . i got two lip that long to kiss you and when they speak they say they wish you were mine . hey sweet babi oh do n't you know that i am your from head to toe . oh i got a littl heart insid me beat and when it speak it keep repeat your name all the time . you better watch out 'caus of what i say caus babi do n't you know that i ai n't play a game ? hey sweet babi oh do n't you know that i am your from head to toe . all the way down from the top to the ground sweet babi . i got two leg and i got two feet that alway take me to your street everyday all the time . no matter which way i tri to go my leg and my feet they seem to know the way . hey sweet babi oh do n't you know that i am your from head to toe . all the way down from the top to the ground . hey sweet babi . i am your from head to toe . sweet babi .»\n",
            "\n"
          ],
          "name": "stdout"
        }
      ]
    },
    {
      "cell_type": "code",
      "metadata": {
        "id": "_TZYqa_WET5_",
        "colab_type": "code",
        "colab": {
          "base_uri": "https://localhost:8080/",
          "height": 365
        },
        "outputId": "a333ea01-d11a-4305-9e83-1f9b6553e787"
      },
      "source": [
        "#evtl nicht nötig\n",
        "metadata = {}\n",
        "inferred_vectors_test = {} # Contains, category-wise, inferred doc vecs for each document in the test set\n",
        "for category, docs in test_clean.items():\n",
        "    inferred_vectors_test[category] = [model.infer_vector(doc) for doc in list(docs)]\n",
        "    metadata[category] = len(inferred_vectors_test[category])"
      ],
      "execution_count": null,
      "outputs": [
        {
          "output_type": "error",
          "ename": "KeyboardInterrupt",
          "evalue": "ignored",
          "traceback": [
            "\u001b[0;31m---------------------------------------------------------------------------\u001b[0m",
            "\u001b[0;31mKeyboardInterrupt\u001b[0m                         Traceback (most recent call last)",
            "\u001b[0;32m<ipython-input-119-394ae55d7882>\u001b[0m in \u001b[0;36m<module>\u001b[0;34m()\u001b[0m\n\u001b[1;32m      3\u001b[0m \u001b[0minferred_vectors_test\u001b[0m \u001b[0;34m=\u001b[0m \u001b[0;34m{\u001b[0m\u001b[0;34m}\u001b[0m \u001b[0;31m# Contains, category-wise, inferred doc vecs for each document in the test set\u001b[0m\u001b[0;34m\u001b[0m\u001b[0;34m\u001b[0m\u001b[0m\n\u001b[1;32m      4\u001b[0m \u001b[0;32mfor\u001b[0m \u001b[0mcategory\u001b[0m\u001b[0;34m,\u001b[0m \u001b[0mdocs\u001b[0m \u001b[0;32min\u001b[0m \u001b[0mtest_clean\u001b[0m\u001b[0;34m.\u001b[0m\u001b[0mitems\u001b[0m\u001b[0;34m(\u001b[0m\u001b[0;34m)\u001b[0m\u001b[0;34m:\u001b[0m\u001b[0;34m\u001b[0m\u001b[0;34m\u001b[0m\u001b[0m\n\u001b[0;32m----> 5\u001b[0;31m     \u001b[0minferred_vectors_test\u001b[0m\u001b[0;34m[\u001b[0m\u001b[0mcategory\u001b[0m\u001b[0;34m]\u001b[0m \u001b[0;34m=\u001b[0m \u001b[0;34m[\u001b[0m\u001b[0mmodel\u001b[0m\u001b[0;34m.\u001b[0m\u001b[0minfer_vector\u001b[0m\u001b[0;34m(\u001b[0m\u001b[0mdoc\u001b[0m\u001b[0;34m)\u001b[0m \u001b[0;32mfor\u001b[0m \u001b[0mdoc\u001b[0m \u001b[0;32min\u001b[0m \u001b[0mlist\u001b[0m\u001b[0;34m(\u001b[0m\u001b[0mdocs\u001b[0m\u001b[0;34m)\u001b[0m\u001b[0;34m]\u001b[0m\u001b[0;34m\u001b[0m\u001b[0;34m\u001b[0m\u001b[0m\n\u001b[0m\u001b[1;32m      6\u001b[0m     \u001b[0mmetadata\u001b[0m\u001b[0;34m[\u001b[0m\u001b[0mcategory\u001b[0m\u001b[0;34m]\u001b[0m \u001b[0;34m=\u001b[0m \u001b[0mlen\u001b[0m\u001b[0;34m(\u001b[0m\u001b[0minferred_vectors_test\u001b[0m\u001b[0;34m[\u001b[0m\u001b[0mcategory\u001b[0m\u001b[0;34m]\u001b[0m\u001b[0;34m)\u001b[0m\u001b[0;34m\u001b[0m\u001b[0;34m\u001b[0m\u001b[0m\n",
            "\u001b[0;32m<ipython-input-119-394ae55d7882>\u001b[0m in \u001b[0;36m<listcomp>\u001b[0;34m(.0)\u001b[0m\n\u001b[1;32m      3\u001b[0m \u001b[0minferred_vectors_test\u001b[0m \u001b[0;34m=\u001b[0m \u001b[0;34m{\u001b[0m\u001b[0;34m}\u001b[0m \u001b[0;31m# Contains, category-wise, inferred doc vecs for each document in the test set\u001b[0m\u001b[0;34m\u001b[0m\u001b[0;34m\u001b[0m\u001b[0m\n\u001b[1;32m      4\u001b[0m \u001b[0;32mfor\u001b[0m \u001b[0mcategory\u001b[0m\u001b[0;34m,\u001b[0m \u001b[0mdocs\u001b[0m \u001b[0;32min\u001b[0m \u001b[0mtest_clean\u001b[0m\u001b[0;34m.\u001b[0m\u001b[0mitems\u001b[0m\u001b[0;34m(\u001b[0m\u001b[0;34m)\u001b[0m\u001b[0;34m:\u001b[0m\u001b[0;34m\u001b[0m\u001b[0;34m\u001b[0m\u001b[0m\n\u001b[0;32m----> 5\u001b[0;31m     \u001b[0minferred_vectors_test\u001b[0m\u001b[0;34m[\u001b[0m\u001b[0mcategory\u001b[0m\u001b[0;34m]\u001b[0m \u001b[0;34m=\u001b[0m \u001b[0;34m[\u001b[0m\u001b[0mmodel\u001b[0m\u001b[0;34m.\u001b[0m\u001b[0minfer_vector\u001b[0m\u001b[0;34m(\u001b[0m\u001b[0mdoc\u001b[0m\u001b[0;34m)\u001b[0m \u001b[0;32mfor\u001b[0m \u001b[0mdoc\u001b[0m \u001b[0;32min\u001b[0m \u001b[0mlist\u001b[0m\u001b[0;34m(\u001b[0m\u001b[0mdocs\u001b[0m\u001b[0;34m)\u001b[0m\u001b[0;34m]\u001b[0m\u001b[0;34m\u001b[0m\u001b[0;34m\u001b[0m\u001b[0m\n\u001b[0m\u001b[1;32m      6\u001b[0m     \u001b[0mmetadata\u001b[0m\u001b[0;34m[\u001b[0m\u001b[0mcategory\u001b[0m\u001b[0;34m]\u001b[0m \u001b[0;34m=\u001b[0m \u001b[0mlen\u001b[0m\u001b[0;34m(\u001b[0m\u001b[0minferred_vectors_test\u001b[0m\u001b[0;34m[\u001b[0m\u001b[0mcategory\u001b[0m\u001b[0;34m]\u001b[0m\u001b[0;34m)\u001b[0m\u001b[0;34m\u001b[0m\u001b[0;34m\u001b[0m\u001b[0m\n",
            "\u001b[0;32m/usr/local/lib/python3.6/dist-packages/gensim/models/doc2vec.py\u001b[0m in \u001b[0;36minfer_vector\u001b[0;34m(self, doc_words, alpha, min_alpha, epochs, steps)\u001b[0m\n\u001b[1;32m    923\u001b[0m                 train_document_dm(\n\u001b[1;32m    924\u001b[0m                     \u001b[0mself\u001b[0m\u001b[0;34m,\u001b[0m \u001b[0mdoc_words\u001b[0m\u001b[0;34m,\u001b[0m \u001b[0mdoctag_indexes\u001b[0m\u001b[0;34m,\u001b[0m \u001b[0malpha\u001b[0m\u001b[0;34m,\u001b[0m \u001b[0mwork\u001b[0m\u001b[0;34m,\u001b[0m \u001b[0mneu1\u001b[0m\u001b[0;34m,\u001b[0m\u001b[0;34m\u001b[0m\u001b[0;34m\u001b[0m\u001b[0m\n\u001b[0;32m--> 925\u001b[0;31m                     \u001b[0mlearn_words\u001b[0m\u001b[0;34m=\u001b[0m\u001b[0;32mFalse\u001b[0m\u001b[0;34m,\u001b[0m \u001b[0mlearn_hidden\u001b[0m\u001b[0;34m=\u001b[0m\u001b[0;32mFalse\u001b[0m\u001b[0;34m,\u001b[0m \u001b[0mdoctag_vectors\u001b[0m\u001b[0;34m=\u001b[0m\u001b[0mdoctag_vectors\u001b[0m\u001b[0;34m,\u001b[0m \u001b[0mdoctag_locks\u001b[0m\u001b[0;34m=\u001b[0m\u001b[0mdoctag_locks\u001b[0m\u001b[0;34m\u001b[0m\u001b[0;34m\u001b[0m\u001b[0m\n\u001b[0m\u001b[1;32m    926\u001b[0m                 )\n\u001b[1;32m    927\u001b[0m             \u001b[0malpha\u001b[0m \u001b[0;34m-=\u001b[0m \u001b[0malpha_delta\u001b[0m\u001b[0;34m\u001b[0m\u001b[0;34m\u001b[0m\u001b[0m\n",
            "\u001b[0;31mKeyboardInterrupt\u001b[0m: "
          ]
        }
      ]
    },
    {
      "cell_type": "code",
      "metadata": {
        "id": "afz_qfvaiqyn",
        "colab_type": "code",
        "colab": {}
      },
      "source": [
        "# testen mit Testkorpus\n",
        "ranks = []\n",
        "second_ranks = []\n",
        "print(len(model.docvecs))\n",
        "for doc_id in range(len(test_corpus)):\n",
        "    inferred_vector = model.infer_vector(test_corpus[doc_id].words)\n",
        "    sims = model.docvecs.most_similar([inferred_vector], topn=(len(model.docvecs)))\n",
        "\n",
        "    rank = [docid for docid, sim in sims].index(doc_id)\n",
        "    ranks.append(rank)\n",
        "\n",
        "    second_ranks.append(sims[1])"
      ],
      "execution_count": null,
      "outputs": []
    },
    {
      "cell_type": "code",
      "metadata": {
        "id": "ktwHSoCPi0wb",
        "colab_type": "code",
        "colab": {
          "base_uri": "https://localhost:8080/",
          "height": 1000
        },
        "outputId": "dfb22029-ad6c-49e4-acde-3d13a45551ea"
      },
      "source": [
        "counter = Counter(ranks)\n",
        "counter"
      ],
      "execution_count": null,
      "outputs": [
        {
          "output_type": "execute_result",
          "data": {
            "text/plain": [
              "Counter({0: 1,\n",
              "         3: 1,\n",
              "         9: 1,\n",
              "         12: 1,\n",
              "         15: 1,\n",
              "         19: 1,\n",
              "         21: 1,\n",
              "         22: 2,\n",
              "         23: 1,\n",
              "         25: 1,\n",
              "         41: 1,\n",
              "         49: 1,\n",
              "         51: 1,\n",
              "         67: 1,\n",
              "         72: 1,\n",
              "         83: 1,\n",
              "         90: 1,\n",
              "         100: 1,\n",
              "         107: 1,\n",
              "         117: 1,\n",
              "         122: 1,\n",
              "         126: 1,\n",
              "         127: 1,\n",
              "         128: 1,\n",
              "         129: 1,\n",
              "         136: 1,\n",
              "         137: 1,\n",
              "         140: 1,\n",
              "         144: 1,\n",
              "         147: 1,\n",
              "         150: 2,\n",
              "         152: 1,\n",
              "         154: 1,\n",
              "         162: 1,\n",
              "         163: 1,\n",
              "         174: 1,\n",
              "         176: 1,\n",
              "         183: 1,\n",
              "         184: 1,\n",
              "         192: 1,\n",
              "         196: 1,\n",
              "         205: 1,\n",
              "         210: 2,\n",
              "         211: 1,\n",
              "         215: 1,\n",
              "         218: 1,\n",
              "         220: 1,\n",
              "         222: 1,\n",
              "         235: 1,\n",
              "         237: 1,\n",
              "         240: 1,\n",
              "         241: 1,\n",
              "         248: 1,\n",
              "         251: 1,\n",
              "         257: 1,\n",
              "         261: 1,\n",
              "         264: 1,\n",
              "         269: 1,\n",
              "         276: 1,\n",
              "         284: 1,\n",
              "         291: 1,\n",
              "         300: 1,\n",
              "         310: 1,\n",
              "         311: 1,\n",
              "         313: 1,\n",
              "         320: 1,\n",
              "         331: 1,\n",
              "         345: 1,\n",
              "         347: 2,\n",
              "         349: 1,\n",
              "         351: 2,\n",
              "         352: 1,\n",
              "         357: 1,\n",
              "         359: 1,\n",
              "         377: 1,\n",
              "         386: 1,\n",
              "         387: 1,\n",
              "         391: 1,\n",
              "         405: 1,\n",
              "         411: 1,\n",
              "         413: 1,\n",
              "         414: 1,\n",
              "         417: 1,\n",
              "         434: 1,\n",
              "         439: 1,\n",
              "         441: 1,\n",
              "         447: 1,\n",
              "         449: 1,\n",
              "         454: 1,\n",
              "         456: 1,\n",
              "         457: 1,\n",
              "         460: 1,\n",
              "         465: 1,\n",
              "         467: 1,\n",
              "         472: 1,\n",
              "         476: 1,\n",
              "         486: 1,\n",
              "         500: 1,\n",
              "         502: 1,\n",
              "         504: 1,\n",
              "         511: 1,\n",
              "         526: 1,\n",
              "         537: 2,\n",
              "         540: 1,\n",
              "         550: 1,\n",
              "         552: 1,\n",
              "         555: 1,\n",
              "         556: 1,\n",
              "         564: 1,\n",
              "         565: 1,\n",
              "         566: 1,\n",
              "         569: 1,\n",
              "         571: 1,\n",
              "         572: 1,\n",
              "         573: 1,\n",
              "         577: 2,\n",
              "         578: 1,\n",
              "         580: 2,\n",
              "         585: 3,\n",
              "         591: 1,\n",
              "         598: 1,\n",
              "         601: 1,\n",
              "         602: 1,\n",
              "         612: 2,\n",
              "         623: 2,\n",
              "         628: 1,\n",
              "         629: 1,\n",
              "         630: 1,\n",
              "         632: 1,\n",
              "         633: 1,\n",
              "         635: 1,\n",
              "         637: 1,\n",
              "         642: 1,\n",
              "         643: 1,\n",
              "         655: 2,\n",
              "         657: 1,\n",
              "         665: 1,\n",
              "         671: 2,\n",
              "         680: 1,\n",
              "         684: 1,\n",
              "         687: 1,\n",
              "         688: 2,\n",
              "         691: 1,\n",
              "         694: 1,\n",
              "         698: 1,\n",
              "         702: 1,\n",
              "         707: 1,\n",
              "         708: 1,\n",
              "         713: 1,\n",
              "         714: 1,\n",
              "         721: 1,\n",
              "         732: 1,\n",
              "         737: 1,\n",
              "         738: 2,\n",
              "         741: 1,\n",
              "         745: 1,\n",
              "         746: 1,\n",
              "         749: 3,\n",
              "         752: 2,\n",
              "         753: 2,\n",
              "         754: 1,\n",
              "         755: 1,\n",
              "         758: 1,\n",
              "         759: 1,\n",
              "         760: 1,\n",
              "         770: 3,\n",
              "         776: 1,\n",
              "         782: 1,\n",
              "         783: 1,\n",
              "         784: 1,\n",
              "         788: 1,\n",
              "         789: 1,\n",
              "         792: 1,\n",
              "         797: 1,\n",
              "         800: 1,\n",
              "         802: 1,\n",
              "         804: 1,\n",
              "         807: 1,\n",
              "         809: 1,\n",
              "         810: 2,\n",
              "         812: 1,\n",
              "         813: 1,\n",
              "         814: 1,\n",
              "         822: 1,\n",
              "         825: 1})"
            ]
          },
          "metadata": {
            "tags": []
          },
          "execution_count": 66
        }
      ]
    },
    {
      "cell_type": "code",
      "metadata": {
        "id": "R21P4ja4Gq6f",
        "colab_type": "code",
        "colab": {
          "base_uri": "https://localhost:8080/",
          "height": 211
        },
        "outputId": "b9e181eb-7780-4feb-d866-bc35b21d2471"
      },
      "source": [
        "import random\n",
        "# Pick a random document from the test corpus and infer a vector from the model\n",
        "doc_id = random.randint(0, len(test_corpus) - 1)\n",
        "inferred_vector = model.infer_vector(test_corpus[doc_id].words)\n",
        "sims = model.docvecs.most_similar([inferred_vector], topn=len(model.docvecs))\n",
        "\n",
        "# Compare and print the most/median/least similar documents from the train corpus\n",
        "print('Test Document ({}): «{}»\\n'.format(doc_id, ' '.join(test_corpus[doc_id].words)))\n",
        "print(u'SIMILAR/DISSIMILAR DOCS PER MODEL %s:\\n' % model)\n",
        "for label, index in [('MOST', 0), ('MEDIAN', len(sims)//2), ('LEAST', len(sims) - 1)]:\n",
        "    print(u'%s %s: «%s»\\n' % (label, sims[index], ' '.join(train_corpus[sims[index][0]].words)))\n",
        "\n"
      ],
      "execution_count": null,
      "outputs": [
        {
          "output_type": "stream",
          "text": [
            "Test Document (8): «ooh - knock on my door - ooh oh babi when i see your eye i feel like i 'm in paradis my heart is beat just for you do n't play game with me oh - tomorrow tomorrow there 's anoth day i 'm beg you oh babi stay you said to me you had to go but i realli know realli know you said to me the time will show but i realli know one day you 're knock on my door and you want to come in wan na come in all i want to do is just everyth everyth save a littl room in your lone heart i promis you will be my babi oh tell me you 'll never make me lone caus you 're the one and onli the one and onli girl for me ooh - knock on my door - ooh nobodi know the way i feel i promis you my love is real it 's larger than the univers i promis from my heart oh - togeth togeth til the end of time oh babi you 're alway on my mind you said to me you have to go but i realli know realli know you said to me the time will show but i realli know one day you 're knock on my door and you want to come in wan na come in all i want to do is just everyth everyth save a littl room in your lone heart i promis you will be my babi oh tell me you 'll never make me lone caus you 're the one and onli the one and onli girl for me one day you 're knock on my door and you want to come in wan na come in all i want to do is just everyth everyth save a littl room in your lone heart i promis you will be my babi oh tell me you 'll never make me lone caus you 're the one and onli the one and onli girl for me ooh - knocki deep in my heart - there 's a fire - a burn heart deep in my heart - there 's desir - for a start i 'm die in emot it 's my world in fantasi i 'm live in my live in my dream you 're my heart you 're my soul i keep it shine everywher i go you 're my heart you 're my soul i 'll be hold you forev stay with you togeth you 're my heart you 're my soul yeah a feel that our love will grow you 're my heart you 're my soul that 's the onli thing i realli know you pack your thing in a carpetbag left and never look back ring on your finger paint on your toe music wherev you go you do n't fit in a smalltown world but i feel you 're the girl for me ring on your finger paint on your toe you 're leav town where nobodi know you can win if you want if you want it you will win on your way you will see that life is more than fantasi take my hand follow me oh you 've got a brand new friend for your life you can win if you want if you want it you will win oh come on take a chanc for a brand new wild romanc take my hand for the night and your feel will be right hold me ti-i-i-i-ight oh i can not explain everi time it 's the same oh i feel that it 's real take my heart i 've been lone too long oh i ca n't be so strong take the chanc for romanc take my heart i need you so there 's no time i 'll ever go cheri cheri ladi go through a motion love is where you find it listen to your heart cheri cheri ladi live in devot it 's alway like the first time let me take a part cheri cheri ladi like there 's no tomorrow take my heart - do n't lose it listen to your heart cheri cheri ladi to know you is to love you if you call me babi i 'll be alway your deep love is a burn fire stay 'caus then the flame grow higher babe do n't let him steal your heart it 's easi easi girl thi game ca n't last forev whi we can not live togeth ? tri do n't let him take your love from me you 're no good ca n't you see brother louie louie louie i 'm in love - set you free oh she 's onli look to me onli love break her heart brother louie louie louie onli love 's paradis oh she 's onli look to me brother louie louie louie oh she 's onli look to me oh let it louie she is undercov brother louie louie louie oh do what he 's do so leav it louie 'caus i 'm her lover ladi i know it wa hard but it 's much harder to ignor there 's a chanc and i 'll promis i wo n't hurt you anymor hollywood night we 're romancin ' you can trust me anytim somewher oh babe there is someon oh you 're danc in my mind ohoho littl queeni i 'm your fool come on teach me the rule and i will send a s. o. s. for love ohoho littl queeni i 'm your fool you need love like i do and i will send a s. o. s. for love atlanti is call s. o. s. for love atlanti is call from the star abov atlanti is call s. o. s. for love atlanti is call it 's too hot to stop oh you are lie lie you said it wa forev babi now see me cri cri whi ca n't we be togeth ladi your lip say hello but thay mean goodby tomorrow bye tomorrow do n't tell me girl you 're run back to him - babi should i would i could i listen to your lie heart - babi babi should i would i could i promis you a brand new start - babi babi should i would i could i open up my heart tonight - babi babi should i would i could i do n't know if it 's right i rememb rememb you said love ai n't like fashion babi the last decemb desemb your love wa full of passion ladi you know it all you promis me a perfect heaven perfect heaven do n't tell me girl you 're run back to him - babi should i would i could i listen to your lie heart - babi babi should i would i could i promis you a brand new start - babi babi should i would i could i open up my heart tonight - babi babi should i would i could i do n't know if it 's right should i would i could i listen to your lie heart should i would i could i promis you a brand new start should i would i could i open up my heart tonight - babi babi should i would i could i do n't know if it 's right - babi should i would i could i listen to your lie heart - babi babi should i would i could i promis you a brand new start - babi babi should i would i could i open up my heart tonight - babi babi should i would i could i do n't know if it 's right you take your chanc to be the one and anyth is possibl if you 're strong oh yeah sometim you up sometim you down but you feel it in your heart you ca n't go wrong you wa so nervou just everi singl day hear the voic from heaven you find your way oh tv make it tv even break it tv make the superstar wherev you are oh yeah tv make it tv even break it tv make the superstar sometim it 's so hard tv make a star make a superstar you 'll see your crazi life tv take you higher i take you low when your heart surviv tv make a star make a superstar and make your dream come true tv make a lover and make you cri do it jast for you do n't be so sad you 're not the one there 's anoth chanc for you keep hold on oh yeah just take your time and you will see you can win it if you want just like me you need some fiction for everi singl day i keep my finger cross you find your way oh yeah tv make it tv even break it tv make the superstar wherev you are oh yeah tv make it tv even break it tv make the superstar sometim it 's so hard tv make a star make a superstar you 'll see your crazi life tv take you higher i take you low when your heart surviv tv make the star make the superstar and make your dream come true tv make a lover and make you cri do it jast for you tv make it tv even break it tv make it tv even break it tv make the superstar wherev you are oh yeah tv make it tv even break it tv make the superstar sometim it 's so hard tv make a star make a superstar you 'll see your crazi life tv take you higher and take you low when your heart surviv tv make a star make a superstar and it make your dream come true tv make a lover it make you cri do it jast for you tv make it tv even break it i can not sleep - the night is young i can not eat - i want some fun i pick you up - rout 66 life give me the kick i can not live - i love thi life i can not die - can i surviv i can not breath - without your love i ca n't get enough it 's the last exit to brooklyn new york citi oh is wait you 're a new boy you 're a parti guy babi let 's danc and have some joy west coast east side that is the place where new york l.a. i wan na live there new york citi boy l.a. parti girl babi let 's danc in a brand new world 4 - 6 - 0 - 1 - east avenu whi doe my heart - beat just for you i can not give - you more i 'll give babi pleas forgiv i can not tell - you thousant lie i have the love - right in my eye the night is young - i want your heart babi can we start in between hold on babi babi hold on parti up parti up parti up babi parti up parti up i ca n't believ - oh what i see i ca n't control - it 's extaci i ca n't explain - oh what i feel my dream come so real i can not leav - your love alon i can not go - i 'm not a stone i can not say - good bye to you when my dream come true noth but the truth noth but the truth noth but the truth noth but the truth like an angel you came in my life i 'm walk on on cloud number 9 thi may not be the start of the world is your heart realli mind ? when will i see you again ? when will thi sad moment end ? noth but the truth noth but the truth noth but my heart noth but my heart noth chang thi love - oh it 's forev i will never tear apart noth but the truth noth but the truth noth but my heart noth but my heart noth take the place of you my love like a stranger you 're sometim to me but whatev will be will be one step from heaven i do n't stop thi love i know you 're my destini when will i see you again ? when will thi sad moment end ? noth but the truth noth but the truth noth but my heart noth but my heart noth chang thi love - oh it 's forev i will never tear apart noth but the truth noth but the truth noth but my heart noth but my heart noth take the place of you my love noth but the truth noth but the truth noth but the truth noth but the truth noth but the truth noth but the truth noth but my heart noth but my heart noth chang thi love - oh it 's forev i will never tear apart noth but the truth noth but the truth noth but my heart noth but my heart noth take the place of you my love noth but the trunt who will be there who will be there the rain is get stronger i listen to the rain and i ca n't wait no longer oh pleas come back again if i could live forev babi i will live with you if we ca n't be togeth babi i will die it 's true who will be there when the light go out who will be there my heart cri loud babi i swear that i 'll be there if you need me who will be there when i 'm alon who will be there where is my home who will be there it 's so unfair stay by my said who will be there who will be there the summer wa oh magic oh babi just we two now time are get tragic and lone without you oh when my heart is cri babi oh it cri for you and if our love is die babi i will die it 's true who will be there when the light go out who will be there my heart cri loud babi i swear that i 'll be there if you need me who will be there when i 'm alon who will be there where is my home who will be there it 's so unfair stay by my said who will be there when the light go out and when my heart cri loud and if you need me who will be there when the light go out who will be there who will be there my heart cri loud who will be there babi i swear that i 'll be there if you need me who will be there when i 'm alon who will be there where is my home who will be there it 's so unfair stay by my said who will be there who will be there who will be there who will be there dream are fli like an eagl to the orinoco flow from the desert of eldorado to the east coast ye i know a heart of gold and she 's alon garden eden is her home she 's like a storm she 's like a star you think she 's near but she so far she 's like the sun in wintertim she 's hard to find she 's the witch queen of eldorado high on the mountain heya heya heya hoh for the freedom in eldorado she 's the fountain heya heya heya hoh she 's the witch queen of eldorado ladi of fire - heya heya heya heya hoh and she fight for eldorado with her desir - heya heya heya heya hoh she is warm frozen rose - give you dream money ca n't buy - in the desert of eldorado all your dream will learn to you she 's justifi in wound knee some lie are true oh ca n't you see follow the sun and you will find a secret room just in your mind let 's make thi world a better place for the human race love can move the greatest mountain and all your love come back to you in the desert of eldorado oh some dream are come true walk on water - walk on fire the wind must come from somewher in the desert of eldorado there is the answer oh take care»\n",
            "\n",
            "SIMILAR/DISSIMILAR DOCS PER MODEL Doc2Vec(dm/m,d1000,n5,w5,mc10,s0.001,t3):\n",
            "\n",
            "MOST (34, 0.9389330148696899): «sweet cun eye tri to take from me you 're too young i 'm too wise thi is parodi a tast of what you like can be fatal sometim arm that hold you tight but leav you cold so cold the star in the sky are out of reach tonight tear fall like rain wrong again word wo n't make me right 'caus i knew from the start you were wrong for me call it fate if you like or black comedi love mayb lust made me sweet sixteen so my soul lost control noth in between a tast of what you want can be brutal sometim arm that hold you tight but leav you cold so cold the star in the sky are out of reach tonight tear fall like rain wrong again word wo n't make me right 'caus i knew from the start you were wrong for me call it fate if you like or black comedi the star in the sky are out of reach tonight tear fall like rain wrong again word wo n't make me right 'caus i knew from the start you were wrong for me call it fate if you like or black comedi the star in the sky are out of reach tonight tear fall like rain wrong again word wo n't make me right 'caus i knew from the start you were wrong for me call it fate if you like or black comedi the star in the sky are out of reach tonight tear fall like rain wrong again word wo n't make me right 'caus i knew from the start you were wrong for me call it fate if you like or black comedi is there cream in thi soup ? i look in the mirror i know i 'm not good enough to eat i 'll tell you someth my hunger ha noth to do with greed so i bleed thi is junki love when you 've got no sugar you behav like a wretch when you could be the buddha you say it 's you but i know it 's me is there cream in thi soup is there truth in thi lie ? a promis that wa made in the strangest eye would you kill for love can you go the mile ? babi do n't lie take the needl off the record it 's been playin ' such a long time take the needl off the record i 'm so tire of hearin ' that line same old line i look in the mirror i know i 'm not good enough to eat i 'll tell you someth my hunger ha nothin ' to do with greed so feed me thi is junki love when you 've got no sugar you live like a wretch when you should be the buddha you say it 's you but i know it 's me is there cream in thi soup is there truth in thi lie ? a promis that wa made in the strangest eye would you kill for love would you do or die ? babi do n't lie take the needl off the record it 's been play such a long time take the needl off the record i 'm so tire of hear that line take the needl off the record it 's been play such a long time take the needl off the record i 'm so tire of hear that line lie lie lie lie lie lie lie lie lie i never meant to hurt you i do n't know whi you come with your lawyer and your alibi how can you look me straight in the eye when you know your truth is a lie lie lie lie lie lie lie lie lie ohh take the needl off the record it 's been play such a long time take the needl off the record i 'm so tire of hear that line take the needl off the record it 's been play such a long time take the needl off the record i 'm so tire of hear that line line line spill now scream now take the needl off the record come on take the needl off the record take the needl off the record dirti babylon you 're nasti everyon said you are the don respect reject down trodden and stun hold up your head like the innoc one threaten my life tell me my time will come babylon boy with the honey and gold rob the black men stori of old whi tell the truth ? i can not be i am the light that you never see oh noth more than the lion 's roar gim me truth and understand oh noth more than the lion 's roar the voic in your head said i am a thief you stand on the land and you lie through your teeth babylon boy with the honey and gold rob the black men stori of old whi tell them truth ? i can not be i am the light that you never see oh noth more than the lion 's roar gim me truth and understand oh noth more than the lion 's roar oh noth more than the lion 's roar gim me truth and understand oh noth more than the lion 's roar gim me truth and understand you 're nasti i know you want to see me dead you come on upon my head i know you want to see me dead you come on upon my head oh noth more than the lion 's roar gim me truth and understand oh noth more than the lion 's roar oh noth more than the lion 's roar gim me truth and understand oh noth more than the lion 's roar my show put it down they move thi town they follow with their eye ice cold kiss fierc surpris a good a good disguis is all you need to bleed a situat you know pull it back and put on attack admiss in your eye ice cold kiss compromis a good a good disguis is all you need to bleed a situat let go put it down they move thi town they follow with their eye ice cold kiss terror a good a good disguis is all you need to bleed a situat i could pull it with a bullet down in seven shine a light boy i could pull it with a bullet what a wast revolut i could pull it with a bullet i 'm a white boy need confus i could pull it with a bullet we 're all out togeth togeth forev put it down they move thi town they follow with their eye ice cold kiss fierc surpris a good a good disguis is all you need to bleed a situat i could pull it with a bullet down in seven shine a light boy i could pull it with a bullet what a wast revolut i could pull it with a bullet i 'm a white boy need confus i could pull it with a bullet we 're all out togeth togeth forev stand down yeah stand down ooh yeah ooh yeah got to let it ooh yeah got ta do it yeah yeah oh yeah friend and lover bewar 'caus there 's someth in the air i feel it come i feel it come and i 'm talk to you all 'caus when that hammer start to fall there 'll be no run there 'll be no run but my peopl and your peopl must do the thing they do yeah and my peopl are such sweet peopl do n't worri babi wo n't get those hook on you stand down do n't let them know your secret stand stand down if you wan na live your life stand stand down do n't let them know your secret stand stand down if you wan na live your life stand stand down ooh yeah stand down yeah it is written in the sky there 's no place for you and i to keep on strum no strum in the messag that we send they 're gon na tell us in the end that we had it come we had it come but my peopl and your peopl must do the thing they do yeah and my peopl are such sweet peopl do n't worri babi wo n't get those hook on you stand down do n't let 'em know your secret stand stand down if you wan na live your life stand stand down do n't let 'em know your secret stand stand down if you want if you wan na live your life stand if all the thing that we possess the most import is tender too cold when that wind blow today and bitter is the easi way stand down low stand down got to got to need you got to but my peopl and your peopl must do the thing they do yeah and my peopl are such sweet peopl do n't worri babi wo n't get those hook on you stand down do n't let 'em know your secret stand stand down if you wan na live your life stand stand down do n't let them know your secret stand stand down if you wan na live your life stand stand down stand stand down stand stand down last night you breath the deepest sigh turn away with those cold cool eye you said wo n't you give me space to breath and my tear gave it confid to leav now you say i 'm just to much for you there are thing you 'll never know if you lie and cheat so easili you 'd better go go go go yeah all i know is how i feel and my heart wa alway your to steal but you take and never give to me your kiss are chariti your kiss are chariti yesterday you were my brightest star but even when you 're near i do n't know where you are i wa wrong to show my weaker side now it 's much too late to cri cri cri i wa blind to put my trust in you if you leav me i 'll fall apart did you plan to make a fool out of me from the start yeah yeah yeah all i know is how i feel and my heart wa alway your to steal but you take and never give to me your kiss are chariti your kiss are chariti now you say i 'm too much for you there are thing you 'll never know if you lie and cheat so easili you 'd better go go go go yeah all i know is how i feel and my heart wa alway your to steal but you take and never give to me your kiss are chariti your kiss are chariti»\n",
            "\n",
            "MEDIAN (591, 0.10088437050580978): «some day when i 'm far away in a lone room in a cold seclus some night when i 'm wound so tight there is no releas there is no solut in hell there 's a big hotel where the bar just close and the window never open no phone so you ca n't call home and the tv work but the clicker is broken but in the dark i see your light turn on you know my weak you know how i respond to choru blond over blue your hand are cold your eye are fire blond over blue they shine as though you 're burn insid one word from you is all i need to be inspir blond over blue i need your inspir tonight these day there 's a million way to be pull and torn to be misdirect these time there are sin and crime on the morn show for the disconnect i look and i write my book and i walk away with the wrong impress i do n't care 'caus i 've done my share and i need some time for my own obsess it doe n't matter i 've let that life go by it 's been forgotten 'caus all i want wa you choru these day not a damn soul pray and there is no faith 'caus there 's noth to believ in these day onli good luck pay if we do n't get paid then we tri to get even i look and i write my book and i have my say and i draw conclus some night when i 'm wound so tight there is no releas there is no solut but in the dark i see your light turn on you know my weak you know how i respond to choru advic is cheap you can take it from me it 's your 's to keep caus opinion are free nobodi know about the troubl i 've seen nobodi 's perfect mister nobodi 's clean it coast too much and take too long to find out too late some word are n't heard 'til after they 're spoken your role wa protect your soul wa too defect some peopl just do n't have a heart to be broken we could 've gone all the way to the great wall of china if you onli had a littl more faith in me in lieu of diamond gold and platinum remind will still shine bright all the king 's men and all the king 's hors ca n't put you togeth the way you use to be we could have been stand on the great wall of china you take a piec of whatev you touch too mani piec mean you 're touch too much you never win if you ca n't play it straight you onli beat me if you get me to hate it must be so lone to think that you have onli somebodi els life to live if they let you i ai n't too select but it do n't take no detect to find out how fast your friend will forget you we could have gone all the way to the great wall of china now all you 're go to be is histori help yourself it 's all you can eat at the empir diner tonight you coulda had class you coulda been a contend charli you shoulda look out for me you could have been stand stand on the great wall of china thi wa not your call just look how far you 've fallen i heard your stori man you 've got to be joke keep thing in perspect thi is my true object whi tear thi heart out if it 's onli been broken ? we could 've gone all the way to the great wall of china if you onli had a littl more faith in me in lieu of diamond gold and platinum remind will still shine bright all the king 's men and all the king 's hors ca n't put you togeth the way you use to be we could have been stand on the great wall of china some day i have to give right in to the blue despit how i tri to keep fightin ' it 's a sure shot i 'm go to lose and i 'll tell you whi you think i 'm crazi it 's such a sad composit but can you blame me for what 's been caus my bad disposit ? ai n't noth new with my blue situat and noth 's fine it 's just a minor variat when troubl want to find me i ai n't hard to find they know where i am like a hungri pack of wolv when it 's feed time they tear up a man and it 's a strang thing `` caus now it do n't realli matter more of the same thing do n't even hurt it 's been part of the pattern but still in all it 's a small consul i just defin it as a minor variat ai n't now way to fight 'em darl ai n't no way around 'em babi ai n't now way to take 'em honey nowher to hide and believ me i 've tri to shake 'em i 'm get to the point where i do n't feel the pain and i 've had enough i 'm readi for the next time it hit me again `` caus i 've gotten tough it doe n't faze me and now i 've made my decis i may be crazi it 's not as though i do n't know that condit until i 'm through with thi blue situat pass me the wine it 's just a minor variat ai n't nobodi 's busi babi ai n't nobodi 's worri darlin ' ai n't nobodi 's problem no way to win when you 've alreadi been forgotten and it 's a strang thing `` caus now it do n't realli matter more of the same thing do n't even hurt it 's a part of the pattern until i 'm through with thi blue situat pass me the wine it 's just a minor variat she wait for me at night she wait for me in silenc she give me all her tender and take away my pain and so far she ha n't run though i swear she 's had her moment she still believ in miracl while other cri in vain it 's all about soul it 's all about faith and a deeper devot it 's all about soul 'caus under the love is a stronger emot she 's got to be strong 'caus so mani thing get out of control should drive her away so whi doe she stay ? it 's all about soul she turn to me sometim and ask me what i 'm dream and i realiz i must have gone a million mile away and i ask her how she knew to reach out for me that moment and she smile becaus it 's understood there are no word to say it 's all about soul it 's all about know what someon is feel the woman 's got soul the power of love and the power of heal thi life is n't fair it 's gon na get dark it 's gon na get cold you 've got to be tough but that ai n't enough it 's all about soul there are peopl who have lost everi trace of human kind there are mani who have fallen there are some who still surviv she come to me at night and she tell me her desir and she give me all the love i need to keep my faith aliv it 's all about soul it 's all about joy that come out of sorrow it 's all about soul who 's stand now and who 's stand tomorrow you 've got to be hard hard as the rock in that old rock ' n ' roll but that 's onli part you know in your heart it 's all about soul sit here in avalon look at the pour rain summertim ha come and gone and everybodi 's home again close down for the season i found the last of the souvenir i can still tast the wed cake and it 's sweet after all these year these are the last word i have to say that 's whi thi took so long to write there will be other word some other day but that 's the stori of my life there 's comfort in my coffe cup and appl in the earli fall they 're pull all the moor up and gather at the legion hall they swept away all the streamer after the labor day parad noth left for a dream now onli one final serenad and these are the last word i have to say befor anoth age goe by with all those other song i 'll have to play but that 's the stori of my life and it 's so clear stand here where i am ai n't that what justic is for ? frankli my dear i do n't give a damn anymor stack the chair on the tabl top hang the sheet on the chandeli it slow down but it never stop ai n't it sweet after all these year and these are the last word i have to say it 's alway hard to say goodby but now it 's time to put thi book away and that 's the stori of my life these are the last word i have to say that 's whi thi took so long to write there will be other word some other day ai n't that the stori of my life these are the last word i have to say befor anoth age goe by with all those other song i 'll have to play ai n't that the stori of my life she stand befor you nake you can see it you can tast it but she come to you light as the breez you can drink or you can nurs it it do n't matter how you worship as long as you 're down on your knee so i knelt there at the delta at the alpha and the omega at the cradl of the river and the sea and like a bless come from heaven for someth like a second i wa heal and my heart wa at eas o babi i wait so long for your kiss for someth to happen oh someth like thi and you 're weak and you 're harmless and you 're sleep in your har and the wind 's go wild in the tree and it 's not exactli prison but you 'll never be forgiven for whatev you 've done with the key o babi i wait so long for your kiss for someth to happen oh someth like thi it 's dark and it 's snow oh my love i must be go the river is start to freez and i 'm sick of pretend i 'm broken from bend i 've live too long on my knee and she danc so grace and your heart 's hard and hate and she 's nake but that 's just a teas and you turn in disgust from your hatr and from your love and she come to you light as the breez o babi i wait so long for your kiss for someth to happen oh someth like thi there 's blood on everi bracelet you can see it you can tast it and it 's pleas babi pleas babi pleas and she say drink deepli pilgrim but do n't forget there 's still a woman beneath thi resplend chemis so i knelt there at the delta at the alpha and omega i knelt there like one who believ and like a bless come from heaven for someth like a second i wa cure and my heart wa at eas o babi i wait so long for your kiss for someth to happen oh someth like thi i 've seen those big machin come roll through the quiet pine blue suit and banker with their volvo and their valentin give us thi day our daili discount outlet merchandis rais up a multiplex and we will make a sacrific now we 're gon na get the big busi now we 're gon na get the real thing everybodi 's all excit about it who rememb when it all began out here in no man 's land befor they pass the master plan out here in no man 's land low suppli and high demand here in no man 's land there ai n't much work out here in our consum power base no major industri just mile and mile of park space thi morn 's paper say our neighbor 's in a cocain bust lot more to read about lolita and suburban lust now we 're gon na get the whole stori now we 're gon na be in prime time everybodi 's all excit about it who rememb when it all began out here in no man 's land we 've just begun to understand out here in no man 's land low suppli and high demand here in no man 's land i see these children with their boredom and their vacant stare god help us all if we 're to blame for their unansw prayer they roll the sidewalk up at night thi place goe underground thank to the condo king there 's cabl now in zombietown now we 're gon na get the close circuit now we 're gon na get the top 40 now we 're gon na get the sport franchis now we 're gon na get the major attract who rememb when it all began out here in no man 's land befor the whole world wa in our hand out here in no man 's land befor the banner and the march band out here in no man 's land low suppli and high demand here in no man 's land in the middl of the night i go walk in my sleep from the mountain of faith to a river so deep i must be look for someth someth sacr i lost but the river is wide and it 's too hard to cross and even though i know the river is wide i walk down everi even and i stand on the shore and tri to cross to the opposit side so i can final find what i 've been look for in the middl of the night i go walk in my sleep through the valley of fear to a river so deep and i 've been search for someth taken out of my soul someth i 'd never lose someth somebodi stole i do n't know whi i go walk at night but now i 'm tire and i do n't want to walk anymor i hope it doe n't take the rest of my life until i find what it is that i 've been look for in the middl of the night i go walk in my sleep through the jungl of doubt to a river so deep i know i 'm search for someth someth so undefin that it can onli be seen by the eye of the blind in the middl of the night i 'm not sure about a life after thi god know i 've never been a spiritu man baptiz by the fire i wade into the river that run to the promis land in the middl of the night i go walk in my sleep through the desert of truth to the river so deep we all end in the ocean we all start in the stream we 're all carri along by the river of dream in the middl of the night ba ba baduwa ba ba baduwa ba ba baduwa taa ! ba ba baduwa ba ba baduwa ba ba baduwa taa ! some thing were perfectli clear seen with the vision of youth no doubt and noth to fear i claim the corner on truth these day it 's harder to say i know what i 'm fight for my faith is fall away i 'm not that sure anymor shade of grey wherev i go the more i find out the less that i know black and white is how it should be but shade of grey are the color i see ba ba baduwa ba ba baduwa ba ba baduwa taa ! ba ba baduwa ba ba baduwa ba ba baduwa taa ! onc there were trench and wall and one point of everi view fight 'til the other man fall kill him befor he kill you these day the edg are blur i 'm old and tire of war i hear the other man 's word i 'm not that sure anymor shade of grey are all that i find when i look to the enemi line black and white wa so easi for me but shade of grey are the color i see ba ba baduwa ba ba baduwa ba ba baduwa taa ! ba ba baduwa ba ba baduwa ba ba baduwa taa ! now with the wisdom of year i tri to reason thing out and the onli peopl i fear are those who never have doubt save us all from arrog men and all the caus they 're for i wo n't be righteou again i 'm not that sure anymor shade of grey are all that i find when i look to the enemi line there ai n't no rainbow shine on me shade of grey are the color i see shade of grey wherev i go the more i find out the less that i know there ai n't no rainbow shine on me shade of grey are the color i see guitar solo ba ba baduwa ba ba baduwa ba ba baduwa taa ! ba ba baduwa ba ba baduwa ba ba baduwa taa ! in the begin there wa the cold and the night prophet and angel gave us the fire and the light man wa triumphant arm with the faith and the will even the darkest age could n't kill too mani kingdom too mani flag on the field so mani battl so mani wound to be heal time is relentless onli true love persever it 's been a long time and now i 'm with you after two thousand year thi is our moment here at the crossroad of time we hope our children carri our dream down the line they are the vintag what kind of life will they live ? is thi a curs or a bless that we give ? sometim i wonder whi are we so blind to fate ? without compass there can be no end to hate no end to sorrow caus by the same endless fear whi ca n't we learn from all we 've been through after two thousand year ? there will be miracl after the last war is won scienc and poetri rule in the new world to come prophet and angel gave us the power to see what an amaz futur there will be and in the even after the fire and the light one thing is certain : noth can hold back the night time is relentless and as the past disappear we 're on the verg of all thing new we are two thousand year»\n",
            "\n",
            "LEAST (602, -0.09684375673532486): «wake up maggi i think i got someth to say to you it 's late septemb and i realli should be back at school i know i keep you amus but i feel i 'm be use oh maggi i could n't have tri ani more you led me away from home just to save you from be alon you stole my heart and that 's what realli hurt the morn sun when it 's in your face realli show your age but that do n't worri me none in my eye you 're everyth i laugh at all of your joke my love you did n't need to coax oh maggi i could n't have tri ani more you led me away from home just to save you from be alon you stole my soul and that 's a pain i can do without . all i need wa a friend to lend a guid hand but you turn into a lover and mother what a lover you wore me out all you did wa wreck my bed and in the morn kick me in the head oh maggi i could n't have tri ani more you led me away from home 'caus you did n't want to be alon you stole my heart i could n't leav you if i tri i suppos i could collect my book and get on back to school or steal my daddi 's cue and make a live out of play pool or find myself a rock ' n ' roll band that need a help hand oh maggi i wish i 'd never seen your face you made a first-class fool out of me but i 'm as blind as a fool can be you stole my heart but i love you anyway maggi i wish that i 'd never seen your face i 'll get a ride home one of these day one two one two three four sick of leav in the morn with the night you gave away yeah so now i 'm gon na take that all that i can get with those angel eye you make saint do sin all the time say i 'm gon na stay home and away well well when i said i ? d catch you when you 're fall have my heart open wide and you who 's not naiv i thought say i ? d thought i ? d mend my heart oh peopl say i 'm so automat peopl say i 'm not so systemat when i 'm down i 'm in manual lord and time on time again i walk on by with the look of love and with those angel eye woh woh you set me on fire babi and with those angel eye woh woh see'mon now ladi the saddest thing i 've ever seen on my tv screen wa a die man who die for hi dream the toughest thing i 've ever heard wa that new-born scream in thi nake world yeah and peopl say that i 'm so automat peopl say i 'm not so systemat when i 'm down i 'm in manual lord been all around those edg but ai n't never been in love ai n't never been in love with ya ladi and with ya ladi gon na tell the world gon na tell the world gon na tell the world gon na tell the world i love her babi i wa born by the river so i know where the river run dri i could n't last forev accus just for live but i know that the live wa right i could n't last forev look at me make movi make live like i 've never live befor and the peopl want out of the river like a poor boy realli should now i can sit and stand it like other peopl do what you do for me i 'll do for you yeah now i can sit and stand it like other peopl do what is blue for me is blue for you there 's a man who i know you know he 's got a fist full of dirti dollar and i know they wo n't last forev doe he realli know what peopl are say alway feel sure what he is there say but the other 's disappear he wa alon now i can sit and stand it like other peopl do what you do for me i 'll do for you now i can sit and stand it like other peopl do what is blue for me is blue for you i go back to the river caus i know where the river run dri i could n't last forev take the night make movi like a villain never ever seen the night of day do n't you know that i ca n't last forev now i can sit and stand it like other peopl do what you do for me i 'll do for you now i can sit and stand it like other peopl do what is blue for me is blue for you now i can sit and stand it like other peopl do what is blue for me is kind of blue for you yeah hello i 'm go down you know i do n't want to wear no pretti crown help peopl i 'm go down here i am i want you to know that i understand what it is you 're give me i 've got it all brand new here we are put up a show of hand but i 've got the feel that they do n't know what they 're gon na do we do n't live there no more we 've got the room on the second floor oh we do n't live there no more stay with me heartach so i can keep it right anoth day with the heartach you know i ca n't stand the night think about the peopl in the foreign land think about the dirti money in my hand think i know the reason whi it doe n't work out right think of all the needi with a help hand think of all the greedi peopl in our land think they know the reason whi it doe n't work out right i do n't live there no more i 've got the suit on the penthous floor oh i do n't live there no more stay with me heartach so i can keep it right anoth day with the heartach you know i ca n't stand the night stay with me heartach so i can keep it right anoth day with the heartach you know i ca n't stand the night i do n't live there no more i 've got the suit on the penthous floor oh i do n't live there no more see my pride been look for it onc or twice lost my pride i 'm realli gon na make it right i do n't live there no more i 've got no room on the penthous floor oh i do n't live there no more stay with me heartach so i can keep it right anoth day with the heartach you know i ca n't stand the night stay with me heartach so i can keep it right anoth day with the heartach you know i ca n't stand the night you might say you do n't love me that might be right say that you want me say that you need me say that you want me and i said now hold me pleas hold me make thi seem right all through the night i said hold me pleas hold me ye you can tri just a littl for you to make it right hold on for so long get me the key to your heart so let me take a littl while to tell you about heaven heaven in my life it could be a secret it could be a lie it 's a case of hold on til i die now i said now hold me pleas hold me make thi seem right all through the night and i said now hold me pleas hold me ye you can tri just a littl for you to make it right hold on for so long get me the key to your heart hold on for so long get me the key to your heart and i said now hold me pleas hold me ye you can tri just a littl pleas tri just a littl pleas tri and you will see hold on for so long get me the key to your heart hold on for so long get me the key to your heart you got ta give a littl to get the key to your heart get me the key to your heart babi babi babi yeah western union man send me a telegraph my love ha taken a tumbl oh but i 'm still stand you 're such a natur sing it 's that what you are say i would n't steer you wrong now babi i would n't steer you wrong it 's just that sweet littl mysteri that make me tri tri tri tri it make me tri sweet littl mysteri that make me tri tri tri tri shake a bitti did n't i come insist a sight of wonder did n't i come resist a higher decis did n't i come insist a sight of wonder to your life say i would n't steer you wrong now babi i would n't steer you wrong it 's just that sweet littl mysteri that make me tri tri tri tri it 's just that sweet littl mysteri that make me tri tri tri tri sweet littl mysteri that make me tri tri tri tri it make me tri sweet littl mysteri that make me tri it make me tri tri tri tri and oh just think of the magic ooh-ooh do n't think it is tragic hey hey hey just think of the magic come on listen my love ha taken a tumbl woh woh my love ha taken a tumbl c'mon it my love ha taken a tumbl but i 'm still stand and if onli onli onli onli onli onli love me like you use to do just that sweet littl mysteri that make me tri tri tri tri come on listen hey tri tri tri tri tri tri tri tri tri tri tri tri tri tri tri c'mon c'mon my love ha taken a tumbl my love ha taken a tumbl my love ha taken a tumbl say i 'm still stand pay due and learn vice when the big gun start to shoot with the bullet of decept honey with a smile upon your face you 're go from second hand to almost new well i tri to live life eye to eye to eye to eye but i say i find it far too tall tall tall tall tall show me one more sign gim me one more time caus you gim me gim me you gim me gim me gim me temptat babi show me one more sign gim me one more time caus you gim me gim me you gim me gim me gim me temptat babi sing along sing along babi sing along for the love of the children and if thi wa to be true say i 'd give all the tea in china and mayb all the tulip in amsterdam well i tri to live life eye to eye but i say i find it far too tall tall tall tall tall show me one more sign gim me one more time caus you gim me gim me you gim me gim me gim me temptat show me one more sign gim me one more time caus you gim me gim me you gim me gim me gim me temptat sing along babi for the love of the children first you make me move until i 'm so damn close take me back again take me back again they 'll say i 'm mighti thank but it 's much too easi good god y'all pay due and learn vice but no but no but oh no you wo n't wast my fuck spirit my spirit wast my spirit yeah show me one more sign gim me one more time caus you gim me gim me caus you gim me gim me you gim me gim me gim me temptat show me one more sign gim me one more time caus you gim me you gim me you gim me gim me gim me temptat i want peac love and understand peac love and understand peac love and understand to the last sing along sing along babi sing along sing along babi sing along for the love of the children yeah yeah yeah yeah well i tri to live life eye to eye to eye to eye but i say i find it far too tall tall tall tall tall say i find it far too tall he would swear by hi mouth almighti i wa live in a world of make believ when my best friend wrote and told me that there may be a job in the citi i wa live in a world of make believ when my best friend wrote and told me that there may be a job in the citi and you never told me he would dream about anoth scheme about anoth sordid hall of dream about a man who 's king of industri he would swear by hi mouth almighti he would buy the best but never someth new and he never told me i like kick in the gutter and wish i wa lucki wish i wa lucki wish i wa lucki oh i like kick in the gutter wish i wa lucki wish i wa lucki it 's the onli life i know lie lie lie is all you ever do to make me want to push on through cri cri cri is all i ever do say you want to make me push on through i like kick in the gutter and wish i wa lucki wish i wa lucki wish i wa lucki oh i like kick in the gutter wish i wa lucki i wa wish i wa lucki kick in the gutter wish i wa lucki wish i wa lucki it 's the onli life i know my best friend wrote and told me so he said that there may be a job in the citi yeah yeah yeah oh babi i like kick in the gutter and wish i wa lucki wish i wa lucki wish i wa lucki i like kick in the gutter wish i wa lucki i wa wish i wa lucki kick in the gutter wish i wa lucki wish i wa lucki hey son go hey son go to the citi [ repeat : x4 ] um can you make it so can you make it are you someth special some stupid a thing say they thrill a lot of my life like the feel that i want to get to know you better say if you 're in my heart say i could and i would and you might and you should n't no i ca n't go on think thi love is n't strong thi love is n't strong till i seek those word of wisdom until i seek those word of wisdom till i seek those until i seek those word until i seek those word of you got ta learn you may wear your heart upon your sleev but viciou lie they onli teas teas everi eye open is not see everi eye close say if you 're in my heart say i could and i would and you might and you should n't no i ca n't go on think thi love is n't strong thi love is n't strong till i seek those word of wisdom until i seek those word of wisdom till i seek those word until i seek those word until i seek those word of she said you got ta learn got ta learn babi you got to learn c'mon babi 'caus i seek those word of wisdom i seek those word of wisdom until i seek those word of wisdom till i seek those word until i seek those word until i seek those word of wisdom she said i shall sing a sad sad song i shall sing a sad sad song had mani lover in my day just like the wind they 've all blown away say i 've had mani lover in my day just like the wind they 've all blown away say if your girl say if your girl i seek those word i seek those word of wisdom until i seek those word of wisdom until i seek those word of wisdom woah check it out check it out some stupid thing mean a lot in my life like the feel like that i want to now ya . like the feel like that i want to now ya . if you 're in my heart say i could and i would be strong man say i could and i would be strong man world in anoth i wa trap within a world within anoth world in anoth say i wa trap within a world within anoth and is it true ? you better believ it honey better believ it honey but you may wear your heart upon your sleev but viciou lie onli teas teas come on come on come on come on everi eye open wa not see everi eye close is not sleep thi is true everi eye open wa not see world in anoth i wa trap within a world within anoth oh and is it veri true that we can have a fine romanc is it veri true that we can have a fine romanc is it veri true that we can have a fine romanc a fine romanc let me hear it let me hear it . ooh check it out world world world world . world in anoth world world world there 's a world within anoth world in anoth i wa trap within a world within anoth it 's a world made for one anoth you better believ it honey»\n",
            "\n"
          ],
          "name": "stdout"
        }
      ]
    },
    {
      "cell_type": "markdown",
      "metadata": {
        "id": "qvUkEKuhGBLv",
        "colab_type": "text"
      },
      "source": [
        "#### Berechnung der Ähnlichkeit von Dokumenten desselben Genres"
      ]
    },
    {
      "cell_type": "code",
      "metadata": {
        "id": "qOTEmJi8ojw0",
        "colab_type": "code",
        "colab": {}
      },
      "source": [
        "def get_doc_index(sims, train_tagged):\n",
        "  result = []\n",
        "  for sim in sims:\n",
        "    for k,v in train_tagged.items():\n",
        "      for i in range(len(v)):\n",
        "        if v[i][1][0] == sim[0]:\n",
        "          result.append((k, v[i][0],sim[1]))\n",
        "  return result"
      ],
      "execution_count": null,
      "outputs": []
    },
    {
      "cell_type": "code",
      "metadata": {
        "id": "AfjvUW6akQXR",
        "colab_type": "code",
        "colab": {}
      },
      "source": [
        "def assign_genre_combination(df):\n",
        "  for i, row in df.iterrows():\n",
        "    genre = df.iloc[0,7]\n",
        "    # print((df.iloc[i,6]))\n",
        "    df.at[i, 'genre_comb'] = str(genre)+'_'+str(df.iloc[i,7])\n",
        "  return df"
      ],
      "execution_count": null,
      "outputs": []
    },
    {
      "cell_type": "code",
      "metadata": {
        "id": "Ak5Yg6zLqrbn",
        "colab_type": "code",
        "colab": {}
      },
      "source": [
        "def most_similar_doc(songs, sims, train_tagged):\n",
        "  match = []\n",
        "  similarity = []\n",
        "  for i, row in songs_all.iterrows():\n",
        "    for res in get_doc_index(sims, train_tagged):\n",
        "      if res[1]==row.stemmed_split:\n",
        "        match.append(row)\n",
        "        similarity.append(res[2])\n",
        "  match_df = pd.DataFrame(match)\n",
        "  match_df['similarity'] = similarity\n",
        "  match_df.sort_values(by=['similarity'], inplace=True, ascending=False)\n",
        "  match_df = match_df.reset_index()\n",
        "  # print(match_df)\n",
        "  match_df = assign_genre_combination(match_df)\n",
        "\n",
        "  return match_df\n",
        "\n",
        "corpus = train_corpus + test_corpus\n",
        "\n",
        "match_df = most_similar_doc(songs, sims, train_tagged)\n",
        "match_df"
      ],
      "execution_count": null,
      "outputs": []
    },
    {
      "cell_type": "code",
      "metadata": {
        "id": "X7bO3W7rf7qU",
        "colab_type": "code",
        "colab": {
          "base_uri": "https://localhost:8080/",
          "height": 554
        },
        "outputId": "26c1858c-36ed-4c80-d9ca-0645654e3900"
      },
      "source": [
        "match_df.drop('number_of_tokens', axis=1, inplace=True)\n",
        "match_df.drop('stemmed_split', axis=1, inplace=True)\n",
        "match_df.drop('number_of_types', axis=1, inplace=True)\n",
        "# match_df.drop('index', axis=1, inplace=True)\n",
        "# match_df.drop('index', axis=1, inplace=True)\n",
        "match_df[:10]"
      ],
      "execution_count": null,
      "outputs": [
        {
          "output_type": "execute_result",
          "data": {
            "text/html": [
              "<div>\n",
              "<style scoped>\n",
              "    .dataframe tbody tr th:only-of-type {\n",
              "        vertical-align: middle;\n",
              "    }\n",
              "\n",
              "    .dataframe tbody tr th {\n",
              "        vertical-align: top;\n",
              "    }\n",
              "\n",
              "    .dataframe thead th {\n",
              "        text-align: right;\n",
              "    }\n",
              "</style>\n",
              "<table border=\"1\" class=\"dataframe\">\n",
              "  <thead>\n",
              "    <tr style=\"text-align: right;\">\n",
              "      <th></th>\n",
              "      <th>index</th>\n",
              "      <th>Unnamed: 0</th>\n",
              "      <th>artist</th>\n",
              "      <th>decades</th>\n",
              "      <th>text</th>\n",
              "      <th>stemmed_text</th>\n",
              "      <th>POS</th>\n",
              "      <th>Genre1</th>\n",
              "      <th>genre1</th>\n",
              "      <th>similarity</th>\n",
              "      <th>genre_comb</th>\n",
              "    </tr>\n",
              "  </thead>\n",
              "  <tbody>\n",
              "    <tr>\n",
              "      <th>0</th>\n",
              "      <td>137</td>\n",
              "      <td>1811</td>\n",
              "      <td>Culture Club</td>\n",
              "      <td>2000s</td>\n",
              "      <td>sweet cunning eyes try to take from me  you're...</td>\n",
              "      <td>sweet cun eye tri to take from me you 're too...</td>\n",
              "      <td>sweet cunning young wise fatal cold cold right...</td>\n",
              "      <td>Electronic</td>\n",
              "      <td>dance rock</td>\n",
              "      <td>0.938933</td>\n",
              "      <td>Electronic_Electronic</td>\n",
              "    </tr>\n",
              "    <tr>\n",
              "      <th>1</th>\n",
              "      <td>605</td>\n",
              "      <td>8004</td>\n",
              "      <td>Nickelback</td>\n",
              "      <td>2010s</td>\n",
              "      <td>don't let it end.  don't let it end.  don't ev...</td>\n",
              "      <td>do n't let it end . do n't let it end . do n'...</td>\n",
              "      <td>great whole tired terrified same drunk favorit...</td>\n",
              "      <td>Rock</td>\n",
              "      <td>alternative metal</td>\n",
              "      <td>0.286839</td>\n",
              "      <td>Electronic_Rock</td>\n",
              "    </tr>\n",
              "    <tr>\n",
              "      <th>2</th>\n",
              "      <td>877</td>\n",
              "      <td>11451</td>\n",
              "      <td>The Used</td>\n",
              "      <td>2000s</td>\n",
              "      <td>exercise the demon that is living up inside yo...</td>\n",
              "      <td>exercis the demon that is live up insid you a...</td>\n",
              "      <td>wrong strong worth wrong full supernatural tru...</td>\n",
              "      <td>Rock</td>\n",
              "      <td>emo</td>\n",
              "      <td>0.284185</td>\n",
              "      <td>Electronic_Rock</td>\n",
              "    </tr>\n",
              "    <tr>\n",
              "      <th>3</th>\n",
              "      <td>5</td>\n",
              "      <td>87</td>\n",
              "      <td>*NSYNC</td>\n",
              "      <td>2000s</td>\n",
              "      <td>this is the time of year  that we learn to giv...</td>\n",
              "      <td>thi is the time of year that we learn to give...</td>\n",
              "      <td>true hard alone dark true true true time year ...</td>\n",
              "      <td>Electronic</td>\n",
              "      <td>boy band</td>\n",
              "      <td>0.277372</td>\n",
              "      <td>Electronic_Electronic</td>\n",
              "    </tr>\n",
              "    <tr>\n",
              "      <th>4</th>\n",
              "      <td>211</td>\n",
              "      <td>2758</td>\n",
              "      <td>Elvis Presley</td>\n",
              "      <td>1970s</td>\n",
              "      <td>lord almighty   i feel my temperature rising  ...</td>\n",
              "      <td>lord almighti i feel my temperatur rise highe...</td>\n",
              "      <td>sweet fine sweet hard sweet temperature soul g...</td>\n",
              "      <td>Rock</td>\n",
              "      <td>adult standards</td>\n",
              "      <td>0.262360</td>\n",
              "      <td>Electronic_Rock</td>\n",
              "    </tr>\n",
              "    <tr>\n",
              "      <th>5</th>\n",
              "      <td>474</td>\n",
              "      <td>6217</td>\n",
              "      <td>Korn</td>\n",
              "      <td>1990s</td>\n",
              "      <td>something takes a part of me  something lost a...</td>\n",
              "      <td>someth take a part of me someth lost and neve...</td>\n",
              "      <td>free vain vain cheap many diseased free free c...</td>\n",
              "      <td>Rock</td>\n",
              "      <td>alternative metal</td>\n",
              "      <td>0.257974</td>\n",
              "      <td>Electronic_Rock</td>\n",
              "    </tr>\n",
              "    <tr>\n",
              "      <th>6</th>\n",
              "      <td>335</td>\n",
              "      <td>4235</td>\n",
              "      <td>Hillsong UNITED</td>\n",
              "      <td>2000s</td>\n",
              "      <td>so i look to you  so i look to you  no one els...</td>\n",
              "      <td>so i look to you so i look to you no one els ...</td>\n",
              "      <td>one one life sin grace sky life wonder love sk...</td>\n",
              "      <td>Pop</td>\n",
              "      <td>ccm</td>\n",
              "      <td>0.252346</td>\n",
              "      <td>Electronic_Pop</td>\n",
              "    </tr>\n",
              "    <tr>\n",
              "      <th>7</th>\n",
              "      <td>102</td>\n",
              "      <td>1387</td>\n",
              "      <td>Chaka Khan</td>\n",
              "      <td>1980s</td>\n",
              "      <td>come along let's park  let's park   can't you ...</td>\n",
              "      <td>come along let 's park let 's park ca n't you...</td>\n",
              "      <td>strong good cool spaced outta little unnurture...</td>\n",
              "      <td>Funk / Soul</td>\n",
              "      <td>dance pop</td>\n",
              "      <td>0.250851</td>\n",
              "      <td>Electronic_Funk / Soul</td>\n",
              "    </tr>\n",
              "    <tr>\n",
              "      <th>8</th>\n",
              "      <td>651</td>\n",
              "      <td>8681</td>\n",
              "      <td>Passenger</td>\n",
              "      <td>2010s</td>\n",
              "      <td>well he's been collecting since the age of nin...</td>\n",
              "      <td>well he 's been collect sinc the age of nine ...</td>\n",
              "      <td>shiny wooden shiny own old old brown much live...</td>\n",
              "      <td>Rock</td>\n",
              "      <td>folk-pop</td>\n",
              "      <td>0.247437</td>\n",
              "      <td>Electronic_Rock</td>\n",
              "    </tr>\n",
              "    <tr>\n",
              "      <th>9</th>\n",
              "      <td>202</td>\n",
              "      <td>2673</td>\n",
              "      <td>Ellie Goulding</td>\n",
              "      <td>2020s</td>\n",
              "      <td>you're so quiet  but it doesn't faze me  you'r...</td>\n",
              "      <td>you 're so quiet but it doe n't faze me you '...</td>\n",
              "      <td>quiet lazy open worth same open worth same cle...</td>\n",
              "      <td>Pop</td>\n",
              "      <td>dance pop</td>\n",
              "      <td>0.245187</td>\n",
              "      <td>Electronic_Pop</td>\n",
              "    </tr>\n",
              "  </tbody>\n",
              "</table>\n",
              "</div>"
            ],
            "text/plain": [
              "   index  Unnamed: 0  ... similarity              genre_comb\n",
              "0    137        1811  ...   0.938933   Electronic_Electronic\n",
              "1    605        8004  ...   0.286839         Electronic_Rock\n",
              "2    877       11451  ...   0.284185         Electronic_Rock\n",
              "3      5          87  ...   0.277372   Electronic_Electronic\n",
              "4    211        2758  ...   0.262360         Electronic_Rock\n",
              "5    474        6217  ...   0.257974         Electronic_Rock\n",
              "6    335        4235  ...   0.252346          Electronic_Pop\n",
              "7    102        1387  ...   0.250851  Electronic_Funk / Soul\n",
              "8    651        8681  ...   0.247437         Electronic_Rock\n",
              "9    202        2673  ...   0.245187          Electronic_Pop\n",
              "\n",
              "[10 rows x 11 columns]"
            ]
          },
          "metadata": {
            "tags": []
          },
          "execution_count": 124
        }
      ]
    },
    {
      "cell_type": "code",
      "metadata": {
        "id": "4bAKvVNIobgU",
        "colab_type": "code",
        "colab": {}
      },
      "source": [
        "all_tagged = {}\n",
        "all_tagged.update(train_tagged)\n",
        "all_tagged.update(test_tagged)"
      ],
      "execution_count": null,
      "outputs": []
    },
    {
      "cell_type": "code",
      "metadata": {
        "id": "-QY8Y_HfoPgJ",
        "colab_type": "code",
        "colab": {
          "base_uri": "https://localhost:8080/",
          "height": 1000
        },
        "outputId": "773010f3-d616-4951-93b8-aebb12047215"
      },
      "source": [
        "match = pd.DataFrame(columns=['index', 'Unnamed: 0', 'artist', 'decades', 'text', 'stemmed_text',\n",
        "       'POS', 'Genre1', 'genre1', 'number_of_tokens', 'number_of_types',\n",
        "       'stemmed_split', 'similarity', 'genre_comb'])\n",
        "corpus = test_corpus # + train_corpus\n",
        "for doc_id in range(len(corpus)):\n",
        "  inferred_vector = model.infer_vector(corpus[doc_id].words)\n",
        "  sims = model.docvecs.most_similar([inferred_vector], topn=(len(model.docvecs)))\n",
        "  match = pd.concat([match,most_similar_doc(songs_all, sims, all_tagged)])\n",
        "match"
      ],
      "execution_count": null,
      "outputs": [
        {
          "output_type": "execute_result",
          "data": {
            "text/html": [
              "<div>\n",
              "<style scoped>\n",
              "    .dataframe tbody tr th:only-of-type {\n",
              "        vertical-align: middle;\n",
              "    }\n",
              "\n",
              "    .dataframe tbody tr th {\n",
              "        vertical-align: top;\n",
              "    }\n",
              "\n",
              "    .dataframe thead th {\n",
              "        text-align: right;\n",
              "    }\n",
              "</style>\n",
              "<table border=\"1\" class=\"dataframe\">\n",
              "  <thead>\n",
              "    <tr style=\"text-align: right;\">\n",
              "      <th></th>\n",
              "      <th>index</th>\n",
              "      <th>Unnamed: 0</th>\n",
              "      <th>artist</th>\n",
              "      <th>decades</th>\n",
              "      <th>text</th>\n",
              "      <th>stemmed_text</th>\n",
              "      <th>POS</th>\n",
              "      <th>Genre1</th>\n",
              "      <th>genre1</th>\n",
              "      <th>number_of_tokens</th>\n",
              "      <th>number_of_types</th>\n",
              "      <th>stemmed_split</th>\n",
              "      <th>similarity</th>\n",
              "      <th>genre_comb</th>\n",
              "    </tr>\n",
              "  </thead>\n",
              "  <tbody>\n",
              "    <tr>\n",
              "      <th>0</th>\n",
              "      <td>345</td>\n",
              "      <td>4309</td>\n",
              "      <td>Ice Cube</td>\n",
              "      <td>1990s</td>\n",
              "      <td>little boys and girls  they all love me  come ...</td>\n",
              "      <td>littl boy and girl they all love me come sit ...</td>\n",
              "      <td>little nimble quick hot pro dumb front back im...</td>\n",
              "      <td>Hip Hop</td>\n",
              "      <td>conscious hip hop</td>\n",
              "      <td>19096.0</td>\n",
              "      <td>3518.0</td>\n",
              "      <td>[littl, boy, and, girl, they, all, love, me, c...</td>\n",
              "      <td>0.254519</td>\n",
              "      <td>Hip Hop_Hip Hop</td>\n",
              "    </tr>\n",
              "    <tr>\n",
              "      <th>1</th>\n",
              "      <td>667</td>\n",
              "      <td>8846</td>\n",
              "      <td>Pet Shop Boys</td>\n",
              "      <td>1980s</td>\n",
              "      <td>do it  do it do it do it do it do it   do it d...</td>\n",
              "      <td>do it do it do it do it do it do it do it do ...</td>\n",
              "      <td>many split much evening commotion street someo...</td>\n",
              "      <td>Electronic</td>\n",
              "      <td>art pop</td>\n",
              "      <td>5313.0</td>\n",
              "      <td>818.0</td>\n",
              "      <td>[do, it, do, it, do, it, do, it, do, it, do, i...</td>\n",
              "      <td>0.241060</td>\n",
              "      <td>Hip Hop_Electronic</td>\n",
              "    </tr>\n",
              "    <tr>\n",
              "      <th>2</th>\n",
              "      <td>414</td>\n",
              "      <td>5361</td>\n",
              "      <td>Johnny Cash</td>\n",
              "      <td>1990s</td>\n",
              "      <td>i got a friend named whiskey sam  he was my bo...</td>\n",
              "      <td>i got a friend name whiskey sam he wa my boon...</td>\n",
              "      <td>little good hot scared cold crazy wild dead re...</td>\n",
              "      <td>Folk, World, &amp; Country</td>\n",
              "      <td>arkansas country</td>\n",
              "      <td>1840.0</td>\n",
              "      <td>535.0</td>\n",
              "      <td>[i, got, a, friend, name, whiskey, sam, he, wa...</td>\n",
              "      <td>0.239728</td>\n",
              "      <td>Hip Hop_Folk, World, &amp; Country</td>\n",
              "    </tr>\n",
              "    <tr>\n",
              "      <th>3</th>\n",
              "      <td>166</td>\n",
              "      <td>2181</td>\n",
              "      <td>Diana Ross</td>\n",
              "      <td>1970s</td>\n",
              "      <td>luther vandross     everybody look around  'c...</td>\n",
              "      <td>luther vandross everybodi look around 'caus t...</td>\n",
              "      <td>glad silent new new new new glad different fre...</td>\n",
              "      <td>Funk / Soul</td>\n",
              "      <td>adult standards</td>\n",
              "      <td>4427.0</td>\n",
              "      <td>702.0</td>\n",
              "      <td>[luther, vandross, everybodi, look, around, 'c...</td>\n",
              "      <td>0.238802</td>\n",
              "      <td>Hip Hop_Funk / Soul</td>\n",
              "    </tr>\n",
              "    <tr>\n",
              "      <th>4</th>\n",
              "      <td>836</td>\n",
              "      <td>10946</td>\n",
              "      <td>The Human League</td>\n",
              "      <td>1990s</td>\n",
              "      <td>tell me when  tell me when.  tell me when will...</td>\n",
              "      <td>tell me when tell me when . tell me when will...</td>\n",
              "      <td>bottom fretting positive kind youthful common ...</td>\n",
              "      <td>Electronic</td>\n",
              "      <td>art rock</td>\n",
              "      <td>3374.0</td>\n",
              "      <td>688.0</td>\n",
              "      <td>[tell, me, when, tell, me, when, ., tell, me, ...</td>\n",
              "      <td>0.227504</td>\n",
              "      <td>Hip Hop_Electronic</td>\n",
              "    </tr>\n",
              "    <tr>\n",
              "      <th>...</th>\n",
              "      <td>...</td>\n",
              "      <td>...</td>\n",
              "      <td>...</td>\n",
              "      <td>...</td>\n",
              "      <td>...</td>\n",
              "      <td>...</td>\n",
              "      <td>...</td>\n",
              "      <td>...</td>\n",
              "      <td>...</td>\n",
              "      <td>...</td>\n",
              "      <td>...</td>\n",
              "      <td>...</td>\n",
              "      <td>...</td>\n",
              "      <td>...</td>\n",
              "    </tr>\n",
              "    <tr>\n",
              "      <th>47</th>\n",
              "      <td>1030</td>\n",
              "      <td>13214</td>\n",
              "      <td>Z-Ro</td>\n",
              "      <td>2000s</td>\n",
              "      <td>from the south  i got the diamonds in my mou...</td>\n",
              "      <td>from the south i got the diamond in my mouth ...</td>\n",
              "      <td>ready rear cold deep nice many enough many rea...</td>\n",
              "      <td>Hip Hop</td>\n",
              "      <td>chopped and screwed</td>\n",
              "      <td>10992.0</td>\n",
              "      <td>2210.0</td>\n",
              "      <td>[from, the, south, i, got, the, diamond, in, m...</td>\n",
              "      <td>0.015706</td>\n",
              "      <td>Folk, World, &amp; Country_Hip Hop</td>\n",
              "    </tr>\n",
              "    <tr>\n",
              "      <th>48</th>\n",
              "      <td>989</td>\n",
              "      <td>12769</td>\n",
              "      <td>Wiz Khalifa</td>\n",
              "      <td>2000s</td>\n",
              "      <td>be easy  be easy  or it'll be a long day    ho...</td>\n",
              "      <td>be easi be easi or it 'll be a long day hold ...</td>\n",
              "      <td>easy easy long blunt new sick mandigo broke ol...</td>\n",
              "      <td>Hip Hop</td>\n",
              "      <td>hip hop</td>\n",
              "      <td>4261.0</td>\n",
              "      <td>1079.0</td>\n",
              "      <td>[be, easi, be, easi, or, it, 'll, be, a, long,...</td>\n",
              "      <td>0.014747</td>\n",
              "      <td>Folk, World, &amp; Country_Hip Hop</td>\n",
              "    </tr>\n",
              "    <tr>\n",
              "      <th>49</th>\n",
              "      <td>347</td>\n",
              "      <td>4362</td>\n",
              "      <td>Ice Cube</td>\n",
              "      <td>2010s</td>\n",
              "      <td>man i ain't gonna be shit in the morning after...</td>\n",
              "      <td>man i ai n't gon na be shit in the morn after...</td>\n",
              "      <td>american suggestible own drunk american americ...</td>\n",
              "      <td>Hip Hop</td>\n",
              "      <td>conscious hip hop</td>\n",
              "      <td>4299.0</td>\n",
              "      <td>1303.0</td>\n",
              "      <td>[man, i, ai, n't, gon, na, be, shit, in, the, ...</td>\n",
              "      <td>-0.015788</td>\n",
              "      <td>Folk, World, &amp; Country_Hip Hop</td>\n",
              "    </tr>\n",
              "    <tr>\n",
              "      <th>50</th>\n",
              "      <td>58</td>\n",
              "      <td>774</td>\n",
              "      <td>Bill Withers</td>\n",
              "      <td>1970s</td>\n",
              "      <td>whoa now  when i'm kissing my love  yeah thump...</td>\n",
              "      <td>whoa now when i 'm kiss my love yeah thump a ...</td>\n",
              "      <td>pretty only pretty sweet young good sweet youn...</td>\n",
              "      <td>Funk / Soul</td>\n",
              "      <td>funk</td>\n",
              "      <td>2089.0</td>\n",
              "      <td>432.0</td>\n",
              "      <td>[whoa, now, when, i, 'm, kiss, my, love, yeah,...</td>\n",
              "      <td>-0.015941</td>\n",
              "      <td>Folk, World, &amp; Country_Funk / Soul</td>\n",
              "    </tr>\n",
              "    <tr>\n",
              "      <th>51</th>\n",
              "      <td>791</td>\n",
              "      <td>10414</td>\n",
              "      <td>Stevie Wonder</td>\n",
              "      <td>2000s</td>\n",
              "      <td>you can't say we shall and not fight through h...</td>\n",
              "      <td>you ca n't say we shall and not fight through...</td>\n",
              "      <td>evil proud sacred much unknown fearful alone r...</td>\n",
              "      <td>Funk / Soul</td>\n",
              "      <td>adult standards</td>\n",
              "      <td>3583.0</td>\n",
              "      <td>822.0</td>\n",
              "      <td>[you, ca, n't, say, we, shall, and, not, fight...</td>\n",
              "      <td>-0.031990</td>\n",
              "      <td>Folk, World, &amp; Country_Funk / Soul</td>\n",
              "    </tr>\n",
              "  </tbody>\n",
              "</table>\n",
              "<p>2652 rows × 14 columns</p>\n",
              "</div>"
            ],
            "text/plain": [
              "   index Unnamed: 0  ... similarity                          genre_comb\n",
              "0    345       4309  ...   0.254519                     Hip Hop_Hip Hop\n",
              "1    667       8846  ...   0.241060                  Hip Hop_Electronic\n",
              "2    414       5361  ...   0.239728      Hip Hop_Folk, World, & Country\n",
              "3    166       2181  ...   0.238802                 Hip Hop_Funk / Soul\n",
              "4    836      10946  ...   0.227504                  Hip Hop_Electronic\n",
              "..   ...        ...  ...        ...                                 ...\n",
              "47  1030      13214  ...   0.015706      Folk, World, & Country_Hip Hop\n",
              "48   989      12769  ...   0.014747      Folk, World, & Country_Hip Hop\n",
              "49   347       4362  ...  -0.015788      Folk, World, & Country_Hip Hop\n",
              "50    58        774  ...  -0.015941  Folk, World, & Country_Funk / Soul\n",
              "51   791      10414  ...  -0.031990  Folk, World, & Country_Funk / Soul\n",
              "\n",
              "[2652 rows x 14 columns]"
            ]
          },
          "metadata": {
            "tags": []
          },
          "execution_count": 76
        }
      ]
    },
    {
      "cell_type": "code",
      "metadata": {
        "id": "WnyZh-1CryG8",
        "colab_type": "code",
        "colab": {
          "base_uri": "https://localhost:8080/",
          "height": 1000
        },
        "outputId": "60e97ae1-b37e-4459-bd1b-022e81167703"
      },
      "source": [
        "comb_dic = {}\n",
        "for combination in np.unique(match.genre_comb):\n",
        "  combo = match[match['genre_comb']==combination]['similarity']\n",
        "  print(combo.sum(), len(combo))\n",
        "  comb_dic[combination] = combo.sum()/len(combo)\n",
        "comb_dic"
      ],
      "execution_count": null,
      "outputs": [
        {
          "output_type": "stream",
          "text": [
            "9.833998389542103 55\n",
            "7.633151106536388 65\n",
            "3.437524951994419 30\n",
            "9.101014787331223 70\n",
            "2.5899843890219927 20\n",
            "2.007298808544874 15\n",
            "0.7058625519275665 5\n",
            "6.061440033838153 44\n",
            "6.445248688571155 52\n",
            "1.8578263586387038 24\n",
            "6.268685005605221 56\n",
            "1.51646632514894 16\n",
            "0.6691326908767223 12\n",
            "0.5120053142309189 4\n",
            "9.863838059594855 231\n",
            "13.354841489344835 273\n",
            "8.39514343184419 126\n",
            "13.689024734543636 294\n",
            "1.7995976973325014 84\n",
            "1.193161912728101 63\n",
            "0.9715194441378117 21\n",
            "10.542686793021858 88\n",
            "10.831319444812834 104\n",
            "3.658957574516535 48\n",
            "12.11099733132869 112\n",
            "3.0008999025449157 32\n",
            "2.3628190644085407 24\n",
            "0.9577970020473003 8\n",
            "6.103893384337425 44\n",
            "5.4296846287325025 52\n",
            "2.453283056151122 24\n",
            "5.742551621980965 56\n",
            "3.2926031723618507 16\n",
            "2.389838896691799 12\n",
            "0.5003712773323059 4\n",
            "9.69055652897805 88\n",
            "8.08472320693545 104\n",
            "3.9169536866247654 48\n",
            "9.269894826691598 112\n",
            "4.8443917743861675 32\n",
            "5.61262933909893 24\n",
            "0.3212473285384476 8\n",
            "1.5776718631386757 11\n",
            "1.282804049551487 13\n",
            "0.551139809191227 6\n",
            "0.9923871653154492 14\n",
            "0.4132479801774025 4\n",
            "0.4189707264304161 3\n",
            "0.244893416762352 1\n"
          ],
          "name": "stdout"
        },
        {
          "output_type": "execute_result",
          "data": {
            "text/plain": [
              "{'Electronic_Electronic': 0.17879997071894732,\n",
              " 'Electronic_Folk, World, & Country': 0.11743309394671367,\n",
              " 'Electronic_Funk / Soul': 0.11458416506648064,\n",
              " 'Electronic_Hip Hop': 0.13001449696187461,\n",
              " 'Electronic_Jazz': 0.12949921945109963,\n",
              " 'Electronic_Reggae': 0.13381992056965827,\n",
              " 'Electronic_Stage & Screen': 0.14117251038551332,\n",
              " 'Folk, World, & Country_Electronic': 0.13776000076904893,\n",
              " 'Folk, World, & Country_Folk, World, & Country': 0.12394709016482991,\n",
              " 'Folk, World, & Country_Funk / Soul': 0.077409431609946,\n",
              " 'Folk, World, & Country_Hip Hop': 0.1119408036715218,\n",
              " 'Folk, World, & Country_Jazz': 0.09477914532180876,\n",
              " 'Folk, World, & Country_Reggae': 0.05576105757306019,\n",
              " 'Folk, World, & Country_Stage & Screen': 0.12800132855772972,\n",
              " 'Funk / Soul_Electronic': 0.04270059766058379,\n",
              " 'Funk / Soul_Folk, World, & Country': 0.048918833294303424,\n",
              " 'Funk / Soul_Funk / Soul': 0.0666281224749539,\n",
              " 'Funk / Soul_Hip Hop': 0.046561308620896726,\n",
              " 'Funk / Soul_Jazz': 0.021423782111101207,\n",
              " 'Funk / Soul_Reggae': 0.018939077979811127,\n",
              " 'Funk / Soul_Stage & Screen': 0.04626283067322913,\n",
              " 'Hip Hop_Electronic': 0.11980325901161203,\n",
              " 'Hip Hop_Folk, World, & Country': 0.10414730235396956,\n",
              " 'Hip Hop_Funk / Soul': 0.07622828280242781,\n",
              " 'Hip Hop_Hip Hop': 0.10813390474400617,\n",
              " 'Hip Hop_Jazz': 0.09377812195452861,\n",
              " 'Hip Hop_Reggae': 0.09845079435035586,\n",
              " 'Hip Hop_Stage & Screen': 0.11972462525591254,\n",
              " 'Jazz_Electronic': 0.1387248496440324,\n",
              " 'Jazz_Folk, World, & Country': 0.10441701209100966,\n",
              " 'Jazz_Funk / Soul': 0.10222012733963008,\n",
              " 'Jazz_Hip Hop': 0.10254556467823152,\n",
              " 'Jazz_Jazz': 0.20578769827261567,\n",
              " 'Jazz_Reggae': 0.19915324139098325,\n",
              " 'Jazz_Stage & Screen': 0.12509281933307648,\n",
              " 'Reggae_Electronic': 0.11011996055656875,\n",
              " 'Reggae_Folk, World, & Country': 0.0777377231436101,\n",
              " 'Reggae_Funk / Soul': 0.08160320180468261,\n",
              " 'Reggae_Hip Hop': 0.08276691809546069,\n",
              " 'Reggae_Jazz': 0.15138724294956774,\n",
              " 'Reggae_Reggae': 0.23385955579578876,\n",
              " 'Reggae_Stage & Screen': 0.04015591606730595,\n",
              " 'Stage & Screen_Electronic': 0.1434247148307887,\n",
              " 'Stage & Screen_Folk, World, & Country': 0.09867723458088361,\n",
              " 'Stage & Screen_Funk / Soul': 0.0918566348652045,\n",
              " 'Stage & Screen_Hip Hop': 0.07088479752253209,\n",
              " 'Stage & Screen_Jazz': 0.10331199504435062,\n",
              " 'Stage & Screen_Reggae': 0.1396569088101387,\n",
              " 'Stage & Screen_Stage & Screen': 0.244893416762352}"
            ]
          },
          "metadata": {
            "tags": []
          },
          "execution_count": 90
        }
      ]
    },
    {
      "cell_type": "code",
      "metadata": {
        "id": "giVhfZvQRwOv",
        "colab_type": "code",
        "colab": {
          "base_uri": "https://localhost:8080/",
          "height": 408
        },
        "outputId": "1fcdccbd-e4a1-4c7a-f25a-7eb26a4af699"
      },
      "source": [
        "# siehe Formel https://towardsdatascience.com/detecting-document-similarity-with-doc2vec-f8289a9a7db7\n",
        "\n",
        "genres = np.unique(songs.Genre1)\n",
        "print(len(genres))\n",
        "difference_dic = {}\n",
        "same_dic = []\n",
        "for g in genres:\n",
        "  difdif = []\n",
        "  sum = 0\n",
        "  for k, v in comb_dic.items():\n",
        "    if k.split('_')[0] == g and k.split('_')[1] == g:\n",
        "      selfdif = v\n",
        "      same_dic.append(v)\n",
        "      print(k,v)\n",
        "    if k.split('_')[0] == g and k.split('_')[1] != g:\n",
        "      difdif.append(v)\n",
        "  for d in difdif:\n",
        "    sum+=selfdif-d\n",
        "  difference_dic[g] = sum/9\n",
        "differences = pd.DataFrame([difference_dic]).T\n",
        "differences.rename(columns={0:'mean different_category'},inplace=True)\n",
        "differences['same_category'] = same_dic\n",
        "differences"
      ],
      "execution_count": null,
      "outputs": [
        {
          "output_type": "stream",
          "text": [
            "7\n",
            "Electronic_Electronic 0.17879997071894732\n",
            "Folk, World, & Country_Folk, World, & Country 0.12394709016482991\n",
            "Funk / Soul_Funk / Soul 0.0666281224749539\n",
            "Hip Hop_Hip Hop 0.10813390474400617\n",
            "Jazz_Jazz 0.20578769827261567\n",
            "Reggae_Reggae 0.23385955579578876\n",
            "Stage & Screen_Stage & Screen 0.244893416762352\n"
          ],
          "name": "stdout"
        },
        {
          "output_type": "execute_result",
          "data": {
            "text/html": [
              "<div>\n",
              "<style scoped>\n",
              "    .dataframe tbody tr th:only-of-type {\n",
              "        vertical-align: middle;\n",
              "    }\n",
              "\n",
              "    .dataframe tbody tr th {\n",
              "        vertical-align: top;\n",
              "    }\n",
              "\n",
              "    .dataframe thead th {\n",
              "        text-align: right;\n",
              "    }\n",
              "</style>\n",
              "<table border=\"1\" class=\"dataframe\">\n",
              "  <thead>\n",
              "    <tr style=\"text-align: right;\">\n",
              "      <th></th>\n",
              "      <th>mean different_category</th>\n",
              "      <th>same_category</th>\n",
              "    </tr>\n",
              "  </thead>\n",
              "  <tbody>\n",
              "    <tr>\n",
              "      <th>Electronic</th>\n",
              "      <td>0.034031</td>\n",
              "      <td>0.178800</td>\n",
              "    </tr>\n",
              "    <tr>\n",
              "      <th>Folk, World, &amp; Country</th>\n",
              "      <td>0.015337</td>\n",
              "      <td>0.123947</td>\n",
              "    </tr>\n",
              "    <tr>\n",
              "      <th>Funk / Soul</th>\n",
              "      <td>0.019440</td>\n",
              "      <td>0.066628</td>\n",
              "    </tr>\n",
              "    <tr>\n",
              "      <th>Hip Hop</th>\n",
              "      <td>0.004075</td>\n",
              "      <td>0.108134</td>\n",
              "    </tr>\n",
              "    <tr>\n",
              "      <th>Jazz</th>\n",
              "      <td>0.051397</td>\n",
              "      <td>0.205788</td>\n",
              "    </tr>\n",
              "    <tr>\n",
              "      <th>Reggae</th>\n",
              "      <td>0.095487</td>\n",
              "      <td>0.233860</td>\n",
              "    </tr>\n",
              "    <tr>\n",
              "      <th>Stage &amp; Screen</th>\n",
              "      <td>0.091283</td>\n",
              "      <td>0.244893</td>\n",
              "    </tr>\n",
              "  </tbody>\n",
              "</table>\n",
              "</div>"
            ],
            "text/plain": [
              "                        mean different_category  same_category\n",
              "Electronic                             0.034031       0.178800\n",
              "Folk, World, & Country                 0.015337       0.123947\n",
              "Funk / Soul                            0.019440       0.066628\n",
              "Hip Hop                                0.004075       0.108134\n",
              "Jazz                                   0.051397       0.205788\n",
              "Reggae                                 0.095487       0.233860\n",
              "Stage & Screen                         0.091283       0.244893"
            ]
          },
          "metadata": {
            "tags": []
          },
          "execution_count": 94
        }
      ]
    },
    {
      "cell_type": "code",
      "metadata": {
        "id": "Ysfl4MQrGKBH",
        "colab_type": "code",
        "colab": {}
      },
      "source": [
        ""
      ],
      "execution_count": null,
      "outputs": []
    },
    {
      "cell_type": "markdown",
      "metadata": {
        "id": "sJLfEVPvi7aK",
        "colab_type": "text"
      },
      "source": [
        "# Clustering"
      ]
    },
    {
      "cell_type": "code",
      "metadata": {
        "id": "DA8nuvxNyUpT",
        "colab_type": "code",
        "colab": {}
      },
      "source": [
        "lyrics = list(songs.stemmed_split)"
      ],
      "execution_count": null,
      "outputs": []
    },
    {
      "cell_type": "code",
      "metadata": {
        "id": "yBFWAkykr0rc",
        "colab_type": "code",
        "colab": {
          "base_uri": "https://localhost:8080/",
          "height": 89
        },
        "outputId": "54b3d7f0-4b28-4ee8-e1f0-8d3aae94a9b4"
      },
      "source": [
        "model=Doc2Vec.load(\"/content/d2v_all.model\")\n",
        "print(len(model.docvecs))\n",
        "# model_raw.wv.vocab\n",
        "# model=Doc2Vec.load(\"/content/d2v.model\")\n",
        "# print(len(model.docvecs))"
      ],
      "execution_count": null,
      "outputs": [
        {
          "output_type": "stream",
          "text": [
            "/usr/local/lib/python3.6/dist-packages/smart_open/smart_open_lib.py:254: UserWarning: This function is deprecated, use smart_open.open instead. See the migration notes for details: https://github.com/RaRe-Technologies/smart_open/blob/master/README.rst#migrating-to-the-new-open-function\n",
            "  'See the migration notes for details: %s' % _MIGRATION_NOTES_URL\n"
          ],
          "name": "stderr"
        },
        {
          "output_type": "stream",
          "text": [
            "830\n"
          ],
          "name": "stdout"
        }
      ]
    },
    {
      "cell_type": "code",
      "metadata": {
        "id": "iD-MVtAI0_yt",
        "colab_type": "code",
        "colab": {}
      },
      "source": [
        "# concat text aus train und test\n",
        "# Vektor für Satz als X Input für Kmeans\n",
        "\n",
        "X = []\n",
        "\n",
        "for song in lyrics:\n",
        "  X.append(model.infer_vector(song))"
      ],
      "execution_count": null,
      "outputs": []
    },
    {
      "cell_type": "code",
      "metadata": {
        "id": "eYrSh209GuG7",
        "colab_type": "code",
        "colab": {}
      },
      "source": [
        "def compute_PCA(text):\n",
        "    pca = PCA(n_components = 2)\n",
        "    Y = pca.fit_transform(text)\n",
        "    return Y"
      ],
      "execution_count": null,
      "outputs": []
    },
    {
      "cell_type": "code",
      "metadata": {
        "id": "T0DSaiuEGuDV",
        "colab_type": "code",
        "colab": {}
      },
      "source": [
        "def visualise_PCA(Y, hue, style, title, path=None):\n",
        "    markers = ('o', 'v', '^', '<', '>', 's', 'p','8', '*', 'h', 'H', 'D', 'd', 'P', 'X', 'o', 'v', '^')\n",
        "    plt.figure(figsize=(15,10))\n",
        "    sns.scatterplot(Y[:, 0], Y[:, 1],hue=hue, style=style, markers=markers, palette=sns.color_palette(\"hls\", len(np.unique(hue))))\n",
        "    plt.title(title)\n",
        "    if path is not None:\n",
        "        plt.savefig(path, bbox_inches = \"tight\")"
      ],
      "execution_count": null,
      "outputs": []
    },
    {
      "cell_type": "code",
      "metadata": {
        "id": "WbBSBfkttQ9N",
        "colab_type": "code",
        "colab": {}
      },
      "source": [
        "def visualise_TSNE(X, hue, style, title, perplexity=50, path=None):\n",
        "    # X_reduced = TruncatedSVD(n_components=10, random_state=0).fit_transform(tf_idf_array)\n",
        "    X_embedded = TSNE(n_components=2, perplexity=perplexity, n_iter=1000,learning_rate=10, verbose=2).fit_transform(X)\n",
        "        \n",
        "    markers = ('o', 'v', '^', 's', 'p', '*','d', 'P', 'X')\n",
        "    plt.figure(figsize=(15,10))\n",
        "    sns.set_style(\"white\")\n",
        "    sns.scatterplot(X_embedded[:, 0], X_embedded[:, 1],hue=hue, style=style, markers=markers, palette=sns.color_palette(\"hls\", len(np.unique(hue))))\n",
        "    plt.title(title)\n",
        "    if path is not None:\n",
        "        plt.savefig(path, bbox_inches = \"tight\")"
      ],
      "execution_count": null,
      "outputs": []
    },
    {
      "cell_type": "markdown",
      "metadata": {
        "id": "7xOuUX271zmu",
        "colab_type": "text"
      },
      "source": [
        "## K-Means"
      ]
    },
    {
      "cell_type": "code",
      "metadata": {
        "id": "DcE8A6uHGqTJ",
        "colab_type": "code",
        "colab": {}
      },
      "source": [
        "k = len(np.unique(songs.Genre1))\n",
        "kmeans = KMeans(n_clusters=k, max_iter=600, algorithm = 'auto')\n",
        "fitted = kmeans.fit(X)\n",
        "prediction = kmeans.predict(X)\n",
        "\n",
        "Y = compute_PCA(X)"
      ],
      "execution_count": null,
      "outputs": []
    },
    {
      "cell_type": "code",
      "metadata": {
        "id": "IO-lKGyuGtP5",
        "colab_type": "code",
        "colab": {
          "base_uri": "https://localhost:8080/",
          "height": 607
        },
        "outputId": "b1001a89-2047-42e6-a46a-fcb4f67ae09c"
      },
      "source": [
        "visualise_PCA(Y, songs.Genre1, prediction,'Doc2Vec auf allen Daten trainiert, PCA','/content/d2v_all_PCA.png')"
      ],
      "execution_count": null,
      "outputs": [
        {
          "output_type": "display_data",
          "data": {
            "image/png": "[encoded data removed]",
            "text/plain": [
              "<Figure size 1080x720 with 1 Axes>"
            ]
          },
          "metadata": {
            "tags": []
          }
        }
      ]
    },
    {
      "cell_type": "code",
      "metadata": {
        "id": "6VqFelMw0mOV",
        "colab_type": "code",
        "colab": {
          "base_uri": "https://localhost:8080/",
          "height": 1000
        },
        "outputId": "28f9190e-8df8-448b-e32d-afaac8f61dd7"
      },
      "source": [
        "visualise_TSNE(X=X, hue=songs.Genre1, style=prediction,title='Doc2Vec auf allen Daten trainiert, T-SNE',path='/content/d2v_all_TSNE.png', perplexity=50)"
      ],
      "execution_count": null,
      "outputs": [
        {
          "output_type": "stream",
          "text": [
            "[t-SNE] Computing 151 nearest neighbors...\n",
            "[t-SNE] Indexed 254 samples in 0.003s...\n",
            "[t-SNE] Computed neighbors for 254 samples in 0.018s...\n",
            "[t-SNE] Computed conditional probabilities for sample 254 / 254\n",
            "[t-SNE] Mean sigma: 9.033271\n",
            "[t-SNE] Computed conditional probabilities in 0.043s\n",
            "[t-SNE] Iteration 50: error = 45.1436005, gradient norm = 0.0037099 (50 iterations in 0.180s)\n",
            "[t-SNE] Iteration 100: error = 45.1435928, gradient norm = 0.0000284 (50 iterations in 0.094s)\n",
            "[t-SNE] Iteration 150: error = 45.1435928, gradient norm = 0.0000009 (50 iterations in 0.090s)\n",
            "[t-SNE] Iteration 200: error = 45.1465492, gradient norm = 0.0000000 (50 iterations in 0.096s)\n",
            "[t-SNE] Iteration 200: gradient norm 0.000000. Finished.\n",
            "[t-SNE] KL divergence after 200 iterations with early exaggeration: 45.146549\n",
            "[t-SNE] Iteration 250: error = 0.9464027, gradient norm = 0.0123732 (50 iterations in 0.085s)\n",
            "[t-SNE] Iteration 300: error = 0.8448671, gradient norm = 0.0013480 (50 iterations in 0.088s)\n",
            "[t-SNE] Iteration 350: error = 0.8352984, gradient norm = 0.0008182 (50 iterations in 0.090s)\n",
            "[t-SNE] Iteration 400: error = 0.8311491, gradient norm = 0.0006975 (50 iterations in 0.087s)\n",
            "[t-SNE] Iteration 450: error = 0.8225875, gradient norm = 0.0005725 (50 iterations in 0.085s)\n",
            "[t-SNE] Iteration 500: error = 0.8190442, gradient norm = 0.0005598 (50 iterations in 0.093s)\n",
            "[t-SNE] Iteration 550: error = 0.8168672, gradient norm = 0.0002623 (50 iterations in 0.085s)\n",
            "[t-SNE] Iteration 600: error = 0.8165337, gradient norm = 0.0001506 (50 iterations in 0.083s)\n",
            "[t-SNE] Iteration 650: error = 0.8154963, gradient norm = 0.0002570 (50 iterations in 0.098s)\n",
            "[t-SNE] Iteration 700: error = 0.8153436, gradient norm = 0.0001500 (50 iterations in 0.087s)\n",
            "[t-SNE] Iteration 750: error = 0.8149098, gradient norm = 0.0001984 (50 iterations in 0.084s)\n",
            "[t-SNE] Iteration 800: error = 0.8144507, gradient norm = 0.0001964 (50 iterations in 0.088s)\n",
            "[t-SNE] Iteration 850: error = 0.8142068, gradient norm = 0.0001384 (50 iterations in 0.084s)\n",
            "[t-SNE] Iteration 900: error = 0.8141479, gradient norm = 0.0001234 (50 iterations in 0.084s)\n",
            "[t-SNE] Iteration 950: error = 0.8141572, gradient norm = 0.0000887 (50 iterations in 0.094s)\n",
            "[t-SNE] Iteration 1000: error = 0.8139354, gradient norm = 0.0000934 (50 iterations in 0.084s)\n",
            "[t-SNE] KL divergence after 1000 iterations: 0.813935\n"
          ],
          "name": "stdout"
        },
        {
          "output_type": "display_data",
          "data": {
            "image/png": "[encoded data removed]",
            "text/plain": [
              "<Figure size 1080x720 with 1 Axes>"
            ]
          },
          "metadata": {
            "tags": []
          }
        }
      ]
    },
    {
      "cell_type": "code",
      "metadata": {
        "id": "sXwuDba1d9UI",
        "colab_type": "code",
        "colab": {}
      },
      "source": [
        "clustered_sentences = [[] for i in range(k)]\n",
        "for sentence_id, cluster_id in enumerate(kmeans.labels_):\n",
        "    clustered_sentences[cluster_id].append(list(songs.stemmed_text)[sentence_id])\n",
        "freq_list=[]\n",
        "for i, cluster in enumerate(clustered_sentences):\n",
        "    freqs = {}\n",
        "\n",
        "    for j in cluster:\n",
        "       \n",
        "        indx = list(songs.stemmed_text).index(j)\n",
        "        topic = songs.iloc[indx]['Genre1']\n",
        "        if not topic in freqs:\n",
        "            freqs[topic] = 1\n",
        "        else:\n",
        "            freqs[topic] +=1\n",
        "\n",
        "    freq_list.append(freqs)"
      ],
      "execution_count": null,
      "outputs": []
    },
    {
      "cell_type": "code",
      "metadata": {
        "id": "q3XH0EgSeAma",
        "colab_type": "code",
        "colab": {
          "base_uri": "https://localhost:8080/",
          "height": 1000
        },
        "outputId": "84c7b1ce-0497-4a09-c45e-873bf51414bf"
      },
      "source": [
        "# häufigste Wörter pro Cluster\n",
        "def hist(freqs):\n",
        "    i = 0\n",
        "    for dic in freqs:\n",
        "        plt.figure(figsize=(10,7))\n",
        "        plt.bar(list(dic.keys()),dic.values())\n",
        "        plt.xticks(fontsize=8)\n",
        "        plt.title('Cluster '+str(i))\n",
        "        plt.savefig('/content/d2v_all_kmeans_genres_in_cluster'+str(i)+'.png')\n",
        "        plt.show()\n",
        "        i +=1\n",
        "\n",
        "hist(freq_list)"
      ],
      "execution_count": null,
      "outputs": [
        {
          "output_type": "display_data",
          "data": {
            "image/png": "[encoded data removed]",
            "text/plain": [
              "<Figure size 720x504 with 1 Axes>"
            ]
          },
          "metadata": {
            "tags": []
          }
        },
        {
          "output_type": "display_data",
          "data": {
            "image/png": "[encoded data removed]",
            "text/plain": [
              "<Figure size 720x504 with 1 Axes>"
            ]
          },
          "metadata": {
            "tags": []
          }
        },
        {
          "output_type": "display_data",
          "data": {
            "image/png": "[encoded data removed]",
            "text/plain": [
              "<Figure size 720x504 with 1 Axes>"
            ]
          },
          "metadata": {
            "tags": []
          }
        },
        {
          "output_type": "display_data",
          "data": {
            "image/png": "[encoded data removed]",
            "text/plain": [
              "<Figure size 720x504 with 1 Axes>"
            ]
          },
          "metadata": {
            "tags": []
          }
        },
        {
          "output_type": "display_data",
          "data": {
            "image/png": "[encoded data removed]",
            "text/plain": [
              "<Figure size 720x504 with 1 Axes>"
            ]
          },
          "metadata": {
            "tags": []
          }
        },
        {
          "output_type": "display_data",
          "data": {
            "image/png": "[encoded data removed]",
            "text/plain": [
              "<Figure size 720x504 with 1 Axes>"
            ]
          },
          "metadata": {
            "tags": []
          }
        },
        {
          "output_type": "display_data",
          "data": {
            "image/png": "[encoded data removed]",
            "text/plain": [
              "<Figure size 720x504 with 1 Axes>"
            ]
          },
          "metadata": {
            "tags": []
          }
        }
      ]
    },
    {
      "cell_type": "code",
      "metadata": {
        "id": "PVLaMnt86zfp",
        "colab_type": "code",
        "colab": {
          "base_uri": "https://localhost:8080/",
          "height": 896
        },
        "outputId": "1eaf4e16-7340-46ab-bba2-a6ec9432b8b7"
      },
      "source": [
        "df = pd.DataFrame()\n",
        "df['Genre'] = songs.Genre1\n",
        "df['predicted'] = prediction\n",
        "genre_group = pd.DataFrame(df.groupby('Genre')['predicted'].apply(lambda x: x.value_counts()))\n",
        "genre_group"
      ],
      "execution_count": null,
      "outputs": [
        {
          "output_type": "execute_result",
          "data": {
            "text/html": [
              "<div>\n",
              "<style scoped>\n",
              "    .dataframe tbody tr th:only-of-type {\n",
              "        vertical-align: middle;\n",
              "    }\n",
              "\n",
              "    .dataframe tbody tr th {\n",
              "        vertical-align: top;\n",
              "    }\n",
              "\n",
              "    .dataframe thead th {\n",
              "        text-align: right;\n",
              "    }\n",
              "</style>\n",
              "<table border=\"1\" class=\"dataframe\">\n",
              "  <thead>\n",
              "    <tr style=\"text-align: right;\">\n",
              "      <th></th>\n",
              "      <th></th>\n",
              "      <th>predicted</th>\n",
              "    </tr>\n",
              "    <tr>\n",
              "      <th>Genre</th>\n",
              "      <th></th>\n",
              "      <th></th>\n",
              "    </tr>\n",
              "  </thead>\n",
              "  <tbody>\n",
              "    <tr>\n",
              "      <th rowspan=\"5\" valign=\"top\">Electronic</th>\n",
              "      <th>1</th>\n",
              "      <td>37</td>\n",
              "    </tr>\n",
              "    <tr>\n",
              "      <th>3</th>\n",
              "      <td>9</td>\n",
              "    </tr>\n",
              "    <tr>\n",
              "      <th>4</th>\n",
              "      <td>5</td>\n",
              "    </tr>\n",
              "    <tr>\n",
              "      <th>5</th>\n",
              "      <td>4</td>\n",
              "    </tr>\n",
              "    <tr>\n",
              "      <th>6</th>\n",
              "      <td>2</td>\n",
              "    </tr>\n",
              "    <tr>\n",
              "      <th rowspan=\"2\" valign=\"top\">Folk, World, &amp; Country</th>\n",
              "      <th>4</th>\n",
              "      <td>68</td>\n",
              "    </tr>\n",
              "    <tr>\n",
              "      <th>3</th>\n",
              "      <td>1</td>\n",
              "    </tr>\n",
              "    <tr>\n",
              "      <th rowspan=\"4\" valign=\"top\">Funk / Soul</th>\n",
              "      <th>3</th>\n",
              "      <td>18</td>\n",
              "    </tr>\n",
              "    <tr>\n",
              "      <th>4</th>\n",
              "      <td>10</td>\n",
              "    </tr>\n",
              "    <tr>\n",
              "      <th>1</th>\n",
              "      <td>5</td>\n",
              "    </tr>\n",
              "    <tr>\n",
              "      <th>0</th>\n",
              "      <td>2</td>\n",
              "    </tr>\n",
              "    <tr>\n",
              "      <th rowspan=\"6\" valign=\"top\">Hip Hop</th>\n",
              "      <th>5</th>\n",
              "      <td>41</td>\n",
              "    </tr>\n",
              "    <tr>\n",
              "      <th>6</th>\n",
              "      <td>18</td>\n",
              "    </tr>\n",
              "    <tr>\n",
              "      <th>2</th>\n",
              "      <td>4</td>\n",
              "    </tr>\n",
              "    <tr>\n",
              "      <th>3</th>\n",
              "      <td>2</td>\n",
              "    </tr>\n",
              "    <tr>\n",
              "      <th>1</th>\n",
              "      <td>2</td>\n",
              "    </tr>\n",
              "    <tr>\n",
              "      <th>4</th>\n",
              "      <td>1</td>\n",
              "    </tr>\n",
              "    <tr>\n",
              "      <th rowspan=\"4\" valign=\"top\">Jazz</th>\n",
              "      <th>4</th>\n",
              "      <td>12</td>\n",
              "    </tr>\n",
              "    <tr>\n",
              "      <th>5</th>\n",
              "      <td>1</td>\n",
              "    </tr>\n",
              "    <tr>\n",
              "      <th>3</th>\n",
              "      <td>1</td>\n",
              "    </tr>\n",
              "    <tr>\n",
              "      <th>1</th>\n",
              "      <td>1</td>\n",
              "    </tr>\n",
              "    <tr>\n",
              "      <th rowspan=\"4\" valign=\"top\">Reggae</th>\n",
              "      <th>6</th>\n",
              "      <td>5</td>\n",
              "    </tr>\n",
              "    <tr>\n",
              "      <th>3</th>\n",
              "      <td>2</td>\n",
              "    </tr>\n",
              "    <tr>\n",
              "      <th>4</th>\n",
              "      <td>1</td>\n",
              "    </tr>\n",
              "    <tr>\n",
              "      <th>1</th>\n",
              "      <td>1</td>\n",
              "    </tr>\n",
              "    <tr>\n",
              "      <th>Stage &amp; Screen</th>\n",
              "      <th>3</th>\n",
              "      <td>1</td>\n",
              "    </tr>\n",
              "  </tbody>\n",
              "</table>\n",
              "</div>"
            ],
            "text/plain": [
              "                          predicted\n",
              "Genre                              \n",
              "Electronic             1         37\n",
              "                       3          9\n",
              "                       4          5\n",
              "                       5          4\n",
              "                       6          2\n",
              "Folk, World, & Country 4         68\n",
              "                       3          1\n",
              "Funk / Soul            3         18\n",
              "                       4         10\n",
              "                       1          5\n",
              "                       0          2\n",
              "Hip Hop                5         41\n",
              "                       6         18\n",
              "                       2          4\n",
              "                       3          2\n",
              "                       1          2\n",
              "                       4          1\n",
              "Jazz                   4         12\n",
              "                       5          1\n",
              "                       3          1\n",
              "                       1          1\n",
              "Reggae                 6          5\n",
              "                       3          2\n",
              "                       4          1\n",
              "                       1          1\n",
              "Stage & Screen         3          1"
            ]
          },
          "metadata": {
            "tags": []
          },
          "execution_count": 40
        }
      ]
    },
    {
      "cell_type": "code",
      "metadata": {
        "id": "8PHMadQgA7wS",
        "colab_type": "code",
        "colab": {
          "base_uri": "https://localhost:8080/",
          "height": 896
        },
        "outputId": "a8b94865-6b22-49e7-bc5e-45c29a49e653"
      },
      "source": [
        "pred_group = pd.DataFrame(df.groupby('predicted')['Genre'].apply(lambda x: x.value_counts()))\n",
        "pred_group"
      ],
      "execution_count": null,
      "outputs": [
        {
          "output_type": "execute_result",
          "data": {
            "text/html": [
              "<div>\n",
              "<style scoped>\n",
              "    .dataframe tbody tr th:only-of-type {\n",
              "        vertical-align: middle;\n",
              "    }\n",
              "\n",
              "    .dataframe tbody tr th {\n",
              "        vertical-align: top;\n",
              "    }\n",
              "\n",
              "    .dataframe thead th {\n",
              "        text-align: right;\n",
              "    }\n",
              "</style>\n",
              "<table border=\"1\" class=\"dataframe\">\n",
              "  <thead>\n",
              "    <tr style=\"text-align: right;\">\n",
              "      <th></th>\n",
              "      <th></th>\n",
              "      <th>Genre</th>\n",
              "    </tr>\n",
              "    <tr>\n",
              "      <th>predicted</th>\n",
              "      <th></th>\n",
              "      <th></th>\n",
              "    </tr>\n",
              "  </thead>\n",
              "  <tbody>\n",
              "    <tr>\n",
              "      <th>0</th>\n",
              "      <th>Funk / Soul</th>\n",
              "      <td>2</td>\n",
              "    </tr>\n",
              "    <tr>\n",
              "      <th rowspan=\"5\" valign=\"top\">1</th>\n",
              "      <th>Electronic</th>\n",
              "      <td>37</td>\n",
              "    </tr>\n",
              "    <tr>\n",
              "      <th>Funk / Soul</th>\n",
              "      <td>5</td>\n",
              "    </tr>\n",
              "    <tr>\n",
              "      <th>Hip Hop</th>\n",
              "      <td>2</td>\n",
              "    </tr>\n",
              "    <tr>\n",
              "      <th>Reggae</th>\n",
              "      <td>1</td>\n",
              "    </tr>\n",
              "    <tr>\n",
              "      <th>Jazz</th>\n",
              "      <td>1</td>\n",
              "    </tr>\n",
              "    <tr>\n",
              "      <th>2</th>\n",
              "      <th>Hip Hop</th>\n",
              "      <td>4</td>\n",
              "    </tr>\n",
              "    <tr>\n",
              "      <th rowspan=\"7\" valign=\"top\">3</th>\n",
              "      <th>Funk / Soul</th>\n",
              "      <td>18</td>\n",
              "    </tr>\n",
              "    <tr>\n",
              "      <th>Electronic</th>\n",
              "      <td>9</td>\n",
              "    </tr>\n",
              "    <tr>\n",
              "      <th>Reggae</th>\n",
              "      <td>2</td>\n",
              "    </tr>\n",
              "    <tr>\n",
              "      <th>Hip Hop</th>\n",
              "      <td>2</td>\n",
              "    </tr>\n",
              "    <tr>\n",
              "      <th>Stage &amp; Screen</th>\n",
              "      <td>1</td>\n",
              "    </tr>\n",
              "    <tr>\n",
              "      <th>Folk, World, &amp; Country</th>\n",
              "      <td>1</td>\n",
              "    </tr>\n",
              "    <tr>\n",
              "      <th>Jazz</th>\n",
              "      <td>1</td>\n",
              "    </tr>\n",
              "    <tr>\n",
              "      <th rowspan=\"6\" valign=\"top\">4</th>\n",
              "      <th>Folk, World, &amp; Country</th>\n",
              "      <td>68</td>\n",
              "    </tr>\n",
              "    <tr>\n",
              "      <th>Jazz</th>\n",
              "      <td>12</td>\n",
              "    </tr>\n",
              "    <tr>\n",
              "      <th>Funk / Soul</th>\n",
              "      <td>10</td>\n",
              "    </tr>\n",
              "    <tr>\n",
              "      <th>Electronic</th>\n",
              "      <td>5</td>\n",
              "    </tr>\n",
              "    <tr>\n",
              "      <th>Reggae</th>\n",
              "      <td>1</td>\n",
              "    </tr>\n",
              "    <tr>\n",
              "      <th>Hip Hop</th>\n",
              "      <td>1</td>\n",
              "    </tr>\n",
              "    <tr>\n",
              "      <th rowspan=\"3\" valign=\"top\">5</th>\n",
              "      <th>Hip Hop</th>\n",
              "      <td>41</td>\n",
              "    </tr>\n",
              "    <tr>\n",
              "      <th>Electronic</th>\n",
              "      <td>4</td>\n",
              "    </tr>\n",
              "    <tr>\n",
              "      <th>Jazz</th>\n",
              "      <td>1</td>\n",
              "    </tr>\n",
              "    <tr>\n",
              "      <th rowspan=\"3\" valign=\"top\">6</th>\n",
              "      <th>Hip Hop</th>\n",
              "      <td>18</td>\n",
              "    </tr>\n",
              "    <tr>\n",
              "      <th>Reggae</th>\n",
              "      <td>5</td>\n",
              "    </tr>\n",
              "    <tr>\n",
              "      <th>Electronic</th>\n",
              "      <td>2</td>\n",
              "    </tr>\n",
              "  </tbody>\n",
              "</table>\n",
              "</div>"
            ],
            "text/plain": [
              "                                  Genre\n",
              "predicted                              \n",
              "0         Funk / Soul                 2\n",
              "1         Electronic                 37\n",
              "          Funk / Soul                 5\n",
              "          Hip Hop                     2\n",
              "          Reggae                      1\n",
              "          Jazz                        1\n",
              "2         Hip Hop                     4\n",
              "3         Funk / Soul                18\n",
              "          Electronic                  9\n",
              "          Reggae                      2\n",
              "          Hip Hop                     2\n",
              "          Stage & Screen              1\n",
              "          Folk, World, & Country      1\n",
              "          Jazz                        1\n",
              "4         Folk, World, & Country     68\n",
              "          Jazz                       12\n",
              "          Funk / Soul                10\n",
              "          Electronic                  5\n",
              "          Reggae                      1\n",
              "          Hip Hop                     1\n",
              "5         Hip Hop                    41\n",
              "          Electronic                  4\n",
              "          Jazz                        1\n",
              "6         Hip Hop                    18\n",
              "          Reggae                      5\n",
              "          Electronic                  2"
            ]
          },
          "metadata": {
            "tags": []
          },
          "execution_count": 41
        }
      ]
    },
    {
      "cell_type": "code",
      "metadata": {
        "id": "CNM7kxciCCwK",
        "colab_type": "code",
        "colab": {
          "base_uri": "https://localhost:8080/",
          "height": 175
        },
        "outputId": "9bba7948-1ebc-4666-c554-c93af17bdfa9"
      },
      "source": [
        "# search for certain Genre-Prediction Combinations\n",
        "\n",
        "# df.reset_index(inplace=True)\n",
        "# songs.reset_index(inplace=True)\n",
        "evaluate = []\n",
        "for i, row in df.iterrows():\n",
        "  if row.Genre=='Hip Hop' and row.predicted==2:\n",
        "    evaluate.append(songs.loc[i])\n",
        "eval = pd.DataFrame(evaluate)\n",
        "# eval.drop('level_0', axis=1, inplace=True)\n",
        "eval.drop('Unnamed: 0', axis=1, inplace=True)\n",
        "# eval.drop('index', axis=1, inplace=True)\n",
        "eval.drop('stemmed_text', axis=1, inplace=True)\n",
        "eval.drop('POS', axis=1, inplace=True)\n",
        "eval.drop('number_of_tokens', axis=1, inplace=True)\n",
        "eval.drop('number_of_types', axis=1, inplace=True)\n",
        "eval.drop('stemmed_split', axis=1, inplace=True)\n",
        "eval"
      ],
      "execution_count": null,
      "outputs": [
        {
          "output_type": "execute_result",
          "data": {
            "text/html": [
              "<div>\n",
              "<style scoped>\n",
              "    .dataframe tbody tr th:only-of-type {\n",
              "        vertical-align: middle;\n",
              "    }\n",
              "\n",
              "    .dataframe tbody tr th {\n",
              "        vertical-align: top;\n",
              "    }\n",
              "\n",
              "    .dataframe thead th {\n",
              "        text-align: right;\n",
              "    }\n",
              "</style>\n",
              "<table border=\"1\" class=\"dataframe\">\n",
              "  <thead>\n",
              "    <tr style=\"text-align: right;\">\n",
              "      <th></th>\n",
              "      <th>artist</th>\n",
              "      <th>decades</th>\n",
              "      <th>text</th>\n",
              "      <th>Genre1</th>\n",
              "      <th>genre1</th>\n",
              "    </tr>\n",
              "  </thead>\n",
              "  <tbody>\n",
              "    <tr>\n",
              "      <th>851</th>\n",
              "      <td>The Notorious B.I.G.</td>\n",
              "      <td>1990s</td>\n",
              "      <td>uh  uh  check it out  yeah   junior m.a.f.i.a....</td>\n",
              "      <td>Hip Hop</td>\n",
              "      <td>east coast hip hop</td>\n",
              "    </tr>\n",
              "    <tr>\n",
              "      <th>991</th>\n",
              "      <td>Wu-Tang Clan</td>\n",
              "      <td>1990s</td>\n",
              "      <td>hang glide for my nigga tical  yo  word to god...</td>\n",
              "      <td>Hip Hop</td>\n",
              "      <td>east coast hip hop</td>\n",
              "    </tr>\n",
              "    <tr>\n",
              "      <th>992</th>\n",
              "      <td>Wu-Tang Clan</td>\n",
              "      <td>2000s</td>\n",
              "      <td>i'm the one  i'm the one  i'm the one  i'm the...</td>\n",
              "      <td>Hip Hop</td>\n",
              "      <td>east coast hip hop</td>\n",
              "    </tr>\n",
              "    <tr>\n",
              "      <th>993</th>\n",
              "      <td>Wu-Tang Clan</td>\n",
              "      <td>2010s</td>\n",
              "      <td>i flip goods like a stock trader  get money!  ...</td>\n",
              "      <td>Hip Hop</td>\n",
              "      <td>east coast hip hop</td>\n",
              "    </tr>\n",
              "  </tbody>\n",
              "</table>\n",
              "</div>"
            ],
            "text/plain": [
              "                   artist decades  ...   Genre1              genre1\n",
              "851  The Notorious B.I.G.   1990s  ...  Hip Hop  east coast hip hop\n",
              "991          Wu-Tang Clan   1990s  ...  Hip Hop  east coast hip hop\n",
              "992          Wu-Tang Clan   2000s  ...  Hip Hop  east coast hip hop\n",
              "993          Wu-Tang Clan   2010s  ...  Hip Hop  east coast hip hop\n",
              "\n",
              "[4 rows x 5 columns]"
            ]
          },
          "metadata": {
            "tags": []
          },
          "execution_count": 49
        }
      ]
    },
    {
      "cell_type": "code",
      "metadata": {
        "id": "CarhGOw4Cqq2",
        "colab_type": "code",
        "colab": {}
      },
      "source": [
        ""
      ],
      "execution_count": null,
      "outputs": []
    },
    {
      "cell_type": "code",
      "metadata": {
        "id": "x-358_fFG7X8",
        "colab_type": "code",
        "colab": {
          "base_uri": "https://localhost:8080/",
          "height": 34
        },
        "outputId": "b5cfc728-bb10-4285-9dc0-99d6a0595876"
      },
      "source": [
        "from sklearn import metrics\n",
        "labels = kmeans.labels_\n",
        "silhouette_score = metrics.silhouette_score(X, labels, metric='euclidean')\n",
        "silhouette_score"
      ],
      "execution_count": null,
      "outputs": [
        {
          "output_type": "execute_result",
          "data": {
            "text/plain": [
              "0.005966984"
            ]
          },
          "metadata": {
            "tags": []
          },
          "execution_count": 30
        }
      ]
    },
    {
      "cell_type": "code",
      "metadata": {
        "id": "fF8syaZY5hZT",
        "colab_type": "code",
        "colab": {
          "base_uri": "https://localhost:8080/",
          "height": 295
        },
        "outputId": "d48840f5-05d7-4ddb-b65c-848e45ca6f58"
      },
      "source": [
        "number_clusters = range(1, 15)\n",
        "\n",
        "kmeans = [KMeans(n_clusters=i, max_iter = 600) for i in number_clusters]\n",
        "kmeans\n",
        "\n",
        "score = [kmeans[i].fit(X).score(X) for i in range(len(kmeans))]\n",
        "score\n",
        "\n",
        "plt.plot(number_clusters, score)\n",
        "plt.xlabel('Number of Clusters')\n",
        "plt.ylabel('Score')\n",
        "plt.title('Elbow Method')\n",
        "plt.show()"
      ],
      "execution_count": null,
      "outputs": [
        {
          "output_type": "display_data",
          "data": {
            "image/png": "[encoded data removed]",
            "text/plain": [
              "<Figure size 432x288 with 1 Axes>"
            ]
          },
          "metadata": {
            "tags": []
          }
        }
      ]
    },
    {
      "cell_type": "code",
      "metadata": {
        "id": "Pv_0qIQO5sxK",
        "colab_type": "code",
        "colab": {
          "base_uri": "https://localhost:8080/",
          "height": 281
        },
        "outputId": "d0f66bed-634f-4a75-d87d-c68793ea97f0"
      },
      "source": [
        "from sklearn.metrics import silhouette_score\n",
        "metric_silhouette = []\n",
        "for n in range(1, 15):\n",
        "    kmeans = KMeans(n_clusters=n)\n",
        "    kmeans.fit(X)\n",
        "    if n > 1:  #silhouette_score needs at least 2 cluster to work\n",
        "        metric_silhouette.append(silhouette_score(X, kmeans.labels_))\n",
        "\n",
        "plt.title('Silhouetten-Koeffizient')\n",
        "plt.plot(metric_silhouette);"
      ],
      "execution_count": null,
      "outputs": [
        {
          "output_type": "display_data",
          "data": {
            "image/png": "[encoded data removed]",
            "text/plain": [
              "<Figure size 432x288 with 1 Axes>"
            ]
          },
          "metadata": {
            "tags": []
          }
        }
      ]
    },
    {
      "cell_type": "markdown",
      "metadata": {
        "id": "bdt0nert1qxP",
        "colab_type": "text"
      },
      "source": [
        "## Hierarchisches Clustering"
      ]
    },
    {
      "cell_type": "code",
      "metadata": {
        "id": "sfM3wO21G7eu",
        "colab_type": "code",
        "colab": {}
      },
      "source": [
        "def linkage_matrix(n_samples, children, distances):\n",
        "    \"\"\"\n",
        "    create a linkage matrix for the dendogram method in scipy\n",
        "    n_samples: int, number of samples\n",
        "    children: list of lists, clustered data points (should be 2)\n",
        "    distances: list of distances between nodes\n",
        "    \"\"\"\n",
        "    # Create linkage matrix\n",
        "    \n",
        "\n",
        "    # create the counts of samples under each node\n",
        "    counts = np.zeros(children.shape[0])\n",
        "    for i, merge in enumerate(children):\n",
        "        current_count = 0\n",
        "        for child_idx in merge:\n",
        "            if child_idx < n_samples:\n",
        "                current_count += 1  # leaf node\n",
        "            else:\n",
        "                current_count += counts[child_idx - n_samples]\n",
        "        counts[i] = current_count\n",
        "\n",
        "    return np.column_stack([children, distances, counts]).astype(float)"
      ],
      "execution_count": null,
      "outputs": []
    },
    {
      "cell_type": "code",
      "metadata": {
        "id": "bV6PUUAAG8ai",
        "colab_type": "code",
        "colab": {
          "base_uri": "https://localhost:8080/",
          "height": 512
        },
        "outputId": "0a8b42b1-c6aa-4a14-fb11-254b00360de2"
      },
      "source": [
        "model = AgglomerativeClustering(n_clusters=None, distance_threshold=0).fit(X)\n",
        "link_matrix = linkage_matrix(len(X), model.children_, model.distances_)\n",
        "plt.figure(figsize=(70,20))\n",
        "plt.title('Doc2Vec auf alle Daten trainiert, HC')\n",
        "dendrogram(link_matrix, labels = (songs.Genre1.values), leaf_font_size=20);\n",
        "plt.savefig('/content/d2v_all_HC.png', bbox_inches = \"tight\")"
      ],
      "execution_count": null,
      "outputs": [
        {
          "output_type": "display_data",
          "data": {
            "image/png": "[encoded data removed]",
            "text/plain": [
              "<Figure size 5040x1440 with 1 Axes>"
            ]
          },
          "metadata": {
            "tags": []
          }
        }
      ]
    },
    {
      "cell_type": "code",
      "metadata": {
        "id": "H9DEnu0hEt1S",
        "colab_type": "code",
        "colab": {
          "base_uri": "https://localhost:8080/",
          "height": 185
        },
        "outputId": "bdd7132e-8af2-4e1d-c8c7-3b1943598514"
      },
      "source": [
        "ii = itertools.count(X.shape[0])\n",
        "[{'node_id': next(ii), 'left': x[0], 'right':x[1]} for x in model.children_]"
      ],
      "execution_count": null,
      "outputs": [
        {
          "output_type": "error",
          "ename": "NameError",
          "evalue": "ignored",
          "traceback": [
            "\u001b[0;31m---------------------------------------------------------------------------\u001b[0m",
            "\u001b[0;31mNameError\u001b[0m                                 Traceback (most recent call last)",
            "\u001b[0;32m<ipython-input-193-b0e2bbb6ba66>\u001b[0m in \u001b[0;36m<module>\u001b[0;34m()\u001b[0m\n\u001b[0;32m----> 1\u001b[0;31m \u001b[0mii\u001b[0m \u001b[0;34m=\u001b[0m \u001b[0mitertools\u001b[0m\u001b[0;34m.\u001b[0m\u001b[0mcount\u001b[0m\u001b[0;34m(\u001b[0m\u001b[0mX\u001b[0m\u001b[0;34m.\u001b[0m\u001b[0mshape\u001b[0m\u001b[0;34m[\u001b[0m\u001b[0;36m0\u001b[0m\u001b[0;34m]\u001b[0m\u001b[0;34m)\u001b[0m\u001b[0;34m\u001b[0m\u001b[0;34m\u001b[0m\u001b[0m\n\u001b[0m\u001b[1;32m      2\u001b[0m \u001b[0;34m[\u001b[0m\u001b[0;34m{\u001b[0m\u001b[0;34m'node_id'\u001b[0m\u001b[0;34m:\u001b[0m \u001b[0mnext\u001b[0m\u001b[0;34m(\u001b[0m\u001b[0mii\u001b[0m\u001b[0;34m)\u001b[0m\u001b[0;34m,\u001b[0m \u001b[0;34m'left'\u001b[0m\u001b[0;34m:\u001b[0m \u001b[0mx\u001b[0m\u001b[0;34m[\u001b[0m\u001b[0;36m0\u001b[0m\u001b[0;34m]\u001b[0m\u001b[0;34m,\u001b[0m \u001b[0;34m'right'\u001b[0m\u001b[0;34m:\u001b[0m\u001b[0mx\u001b[0m\u001b[0;34m[\u001b[0m\u001b[0;36m1\u001b[0m\u001b[0;34m]\u001b[0m\u001b[0;34m}\u001b[0m \u001b[0;32mfor\u001b[0m \u001b[0mx\u001b[0m \u001b[0;32min\u001b[0m \u001b[0mmodel\u001b[0m\u001b[0;34m.\u001b[0m\u001b[0mchildren_\u001b[0m\u001b[0;34m]\u001b[0m\u001b[0;34m\u001b[0m\u001b[0;34m\u001b[0m\u001b[0m\n",
            "\u001b[0;31mNameError\u001b[0m: name 'itertools' is not defined"
          ]
        }
      ]
    },
    {
      "cell_type": "code",
      "metadata": {
        "id": "AxyxVZZL2zJo",
        "colab_type": "code",
        "colab": {}
      },
      "source": [
        "import random\n",
        "Y = random.sample(X, 100)"
      ],
      "execution_count": null,
      "outputs": []
    },
    {
      "cell_type": "code",
      "metadata": {
        "id": "cU-GbBsr8D90",
        "colab_type": "code",
        "colab": {
          "base_uri": "https://localhost:8080/",
          "height": 709
        },
        "outputId": "9db56fb9-1d84-4a00-c660-26e2fdefa9a3"
      },
      "source": [
        "model = AgglomerativeClustering(n_clusters=None, distance_threshold=0).fit(Y)\n",
        "link_matrix = linkage_matrix(len(Y), model.children_, model.distances_)\n",
        "plt.figure(figsize=(50,20))\n",
        "plt.title('Doc2Vec auf alle Daten trainiert, HC')\n",
        "dendrogram(link_matrix, labels = (songs.Genre1.values), leaf_font_size=20);\n",
        "plt.savefig('/content/d2v_all_HC_sample.png', bbox_inches = \"tight\")"
      ],
      "execution_count": null,
      "outputs": [
        {
          "output_type": "display_data",
          "data": {
            "image/png": "[encoded data removed]",
            "text/plain": [
              "<Figure size 3600x1440 with 1 Axes>"
            ]
          },
          "metadata": {
            "tags": []
          }
        }
      ]
    },
    {
      "cell_type": "code",
      "metadata": {
        "id": "xnwsBxZy29QY",
        "colab_type": "code",
        "colab": {}
      },
      "source": [
        ""
      ],
      "execution_count": null,
      "outputs": []
    }
  ]
}