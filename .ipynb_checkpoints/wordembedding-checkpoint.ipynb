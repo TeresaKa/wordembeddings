{
 "cells": [
  {
   "cell_type": "code",
   "execution_count": null,
   "metadata": {
    "colab": {
     "base_uri": "https://localhost:8080/",
     "height": 1000
    },
    "colab_type": "code",
    "id": "GyR1vF___DF4",
    "outputId": "ab48afa6-82b4-466d-f1f5-963f6e5dca42"
   },
   "outputs": [
    {
     "name": "stdout",
     "output_type": "stream",
     "text": [
      "Collecting flair\n",
      "\u001b[?25l  Downloading https://files.pythonhosted.org/packages/60/8f/51d1f2eb5f9b09beb1e6858b4c174a087bc3b05893438e2cd3ffbf9c6e8b/flair-0.5.1-py3-none-any.whl (201kB)\n",
      "\r",
      "\u001b[K     |█▋                              | 10kB 23.0MB/s eta 0:00:01\r",
      "\u001b[K     |███▎                            | 20kB 4.6MB/s eta 0:00:01\r",
      "\u001b[K     |████▉                           | 30kB 5.6MB/s eta 0:00:01\r",
      "\u001b[K     |██████▌                         | 40kB 6.4MB/s eta 0:00:01\r",
      "\u001b[K     |████████▏                       | 51kB 5.2MB/s eta 0:00:01\r",
      "\u001b[K     |█████████▊                      | 61kB 5.7MB/s eta 0:00:01\r",
      "\u001b[K     |███████████▍                    | 71kB 6.1MB/s eta 0:00:01\r",
      "\u001b[K     |█████████████                   | 81kB 6.7MB/s eta 0:00:01\r",
      "\u001b[K     |██████████████▋                 | 92kB 7.0MB/s eta 0:00:01\r",
      "\u001b[K     |████████████████▎               | 102kB 7.1MB/s eta 0:00:01\r",
      "\u001b[K     |██████████████████              | 112kB 7.1MB/s eta 0:00:01\r",
      "\u001b[K     |███████████████████▌            | 122kB 7.1MB/s eta 0:00:01\r",
      "\u001b[K     |█████████████████████▏          | 133kB 7.1MB/s eta 0:00:01\r",
      "\u001b[K     |██████████████████████▉         | 143kB 7.1MB/s eta 0:00:01\r",
      "\u001b[K     |████████████████████████▍       | 153kB 7.1MB/s eta 0:00:01\r",
      "\u001b[K     |██████████████████████████      | 163kB 7.1MB/s eta 0:00:01\r",
      "\u001b[K     |███████████████████████████▋    | 174kB 7.1MB/s eta 0:00:01\r",
      "\u001b[K     |█████████████████████████████▎  | 184kB 7.1MB/s eta 0:00:01\r",
      "\u001b[K     |███████████████████████████████ | 194kB 7.1MB/s eta 0:00:01\r",
      "\u001b[K     |████████████████████████████████| 204kB 7.1MB/s \n",
      "\u001b[?25hRequirement already satisfied: regex in /usr/local/lib/python3.6/dist-packages (from flair) (2019.12.20)\n",
      "Requirement already satisfied: python-dateutil>=2.6.1 in /usr/local/lib/python3.6/dist-packages (from flair) (2.8.1)\n",
      "Collecting transformers>=3.0.0\n",
      "\u001b[?25l  Downloading https://files.pythonhosted.org/packages/27/3c/91ed8f5c4e7ef3227b4119200fc0ed4b4fd965b1f0172021c25701087825/transformers-3.0.2-py3-none-any.whl (769kB)\n",
      "\r",
      "\u001b[K     |▍                               | 10kB 22.7MB/s eta 0:00:01\r",
      "\u001b[K     |▉                               | 20kB 28.0MB/s eta 0:00:01\r",
      "\u001b[K     |█▎                              | 30kB 31.9MB/s eta 0:00:01\r",
      "\u001b[K     |█▊                              | 40kB 28.3MB/s eta 0:00:01\r",
      "\u001b[K     |██▏                             | 51kB 19.6MB/s eta 0:00:01\r",
      "\u001b[K     |██▋                             | 61kB 18.0MB/s eta 0:00:01\r",
      "\u001b[K     |███                             | 71kB 15.7MB/s eta 0:00:01\r",
      "\u001b[K     |███▍                            | 81kB 15.0MB/s eta 0:00:01\r",
      "\u001b[K     |███▉                            | 92kB 14.6MB/s eta 0:00:01\r",
      "\u001b[K     |████▎                           | 102kB 14.8MB/s eta 0:00:01\r",
      "\u001b[K     |████▊                           | 112kB 14.8MB/s eta 0:00:01\r",
      "\u001b[K     |█████▏                          | 122kB 14.8MB/s eta 0:00:01\r",
      "\u001b[K     |█████▌                          | 133kB 14.8MB/s eta 0:00:01\r",
      "\u001b[K     |██████                          | 143kB 14.8MB/s eta 0:00:01\r",
      "\u001b[K     |██████▍                         | 153kB 14.8MB/s eta 0:00:01\r",
      "\u001b[K     |██████▉                         | 163kB 14.8MB/s eta 0:00:01\r",
      "\u001b[K     |███████▎                        | 174kB 14.8MB/s eta 0:00:01\r",
      "\u001b[K     |███████▊                        | 184kB 14.8MB/s eta 0:00:01\r",
      "\u001b[K     |████████                        | 194kB 14.8MB/s eta 0:00:01\r",
      "\u001b[K     |████████▌                       | 204kB 14.8MB/s eta 0:00:01\r",
      "\u001b[K     |█████████                       | 215kB 14.8MB/s eta 0:00:01\r",
      "\u001b[K     |█████████▍                      | 225kB 14.8MB/s eta 0:00:01\r",
      "\u001b[K     |█████████▉                      | 235kB 14.8MB/s eta 0:00:01\r",
      "\u001b[K     |██████████▎                     | 245kB 14.8MB/s eta 0:00:01\r",
      "\u001b[K     |██████████▋                     | 256kB 14.8MB/s eta 0:00:01\r",
      "\u001b[K     |███████████                     | 266kB 14.8MB/s eta 0:00:01\r",
      "\u001b[K     |███████████▌                    | 276kB 14.8MB/s eta 0:00:01\r",
      "\u001b[K     |████████████                    | 286kB 14.8MB/s eta 0:00:01\r",
      "\u001b[K     |████████████▍                   | 296kB 14.8MB/s eta 0:00:01\r",
      "\u001b[K     |████████████▉                   | 307kB 14.8MB/s eta 0:00:01\r",
      "\u001b[K     |█████████████▏                  | 317kB 14.8MB/s eta 0:00:01\r",
      "\u001b[K     |█████████████▋                  | 327kB 14.8MB/s eta 0:00:01\r",
      "\u001b[K     |██████████████                  | 337kB 14.8MB/s eta 0:00:01\r",
      "\u001b[K     |██████████████▌                 | 348kB 14.8MB/s eta 0:00:01\r",
      "\u001b[K     |███████████████                 | 358kB 14.8MB/s eta 0:00:01\r",
      "\u001b[K     |███████████████▍                | 368kB 14.8MB/s eta 0:00:01\r",
      "\u001b[K     |███████████████▊                | 378kB 14.8MB/s eta 0:00:01\r",
      "\u001b[K     |████████████████▏               | 389kB 14.8MB/s eta 0:00:01\r",
      "\u001b[K     |████████████████▋               | 399kB 14.8MB/s eta 0:00:01\r",
      "\u001b[K     |█████████████████               | 409kB 14.8MB/s eta 0:00:01\r",
      "\u001b[K     |█████████████████▌              | 419kB 14.8MB/s eta 0:00:01\r",
      "\u001b[K     |██████████████████              | 430kB 14.8MB/s eta 0:00:01\r",
      "\u001b[K     |██████████████████▎             | 440kB 14.8MB/s eta 0:00:01\r",
      "\u001b[K     |██████████████████▊             | 450kB 14.8MB/s eta 0:00:01\r",
      "\u001b[K     |███████████████████▏            | 460kB 14.8MB/s eta 0:00:01\r",
      "\u001b[K     |███████████████████▋            | 471kB 14.8MB/s eta 0:00:01\r",
      "\u001b[K     |████████████████████            | 481kB 14.8MB/s eta 0:00:01\r",
      "\u001b[K     |████████████████████▌           | 491kB 14.8MB/s eta 0:00:01\r",
      "\u001b[K     |████████████████████▉           | 501kB 14.8MB/s eta 0:00:01\r",
      "\u001b[K     |█████████████████████▎          | 512kB 14.8MB/s eta 0:00:01\r",
      "\u001b[K     |█████████████████████▊          | 522kB 14.8MB/s eta 0:00:01\r",
      "\u001b[K     |██████████████████████▏         | 532kB 14.8MB/s eta 0:00:01\r",
      "\u001b[K     |██████████████████████▋         | 542kB 14.8MB/s eta 0:00:01\r",
      "\u001b[K     |███████████████████████         | 552kB 14.8MB/s eta 0:00:01\r",
      "\u001b[K     |███████████████████████▍        | 563kB 14.8MB/s eta 0:00:01\r",
      "\u001b[K     |███████████████████████▉        | 573kB 14.8MB/s eta 0:00:01\r",
      "\u001b[K     |████████████████████████▎       | 583kB 14.8MB/s eta 0:00:01\r",
      "\u001b[K     |████████████████████████▊       | 593kB 14.8MB/s eta 0:00:01\r",
      "\u001b[K     |█████████████████████████▏      | 604kB 14.8MB/s eta 0:00:01\r",
      "\u001b[K     |█████████████████████████▋      | 614kB 14.8MB/s eta 0:00:01\r",
      "\u001b[K     |██████████████████████████      | 624kB 14.8MB/s eta 0:00:01\r",
      "\u001b[K     |██████████████████████████▍     | 634kB 14.8MB/s eta 0:00:01\r",
      "\u001b[K     |██████████████████████████▉     | 645kB 14.8MB/s eta 0:00:01\r",
      "\u001b[K     |███████████████████████████▎    | 655kB 14.8MB/s eta 0:00:01\r",
      "\u001b[K     |███████████████████████████▊    | 665kB 14.8MB/s eta 0:00:01\r",
      "\u001b[K     |████████████████████████████▏   | 675kB 14.8MB/s eta 0:00:01\r",
      "\u001b[K     |████████████████████████████▌   | 686kB 14.8MB/s eta 0:00:01\r",
      "\u001b[K     |█████████████████████████████   | 696kB 14.8MB/s eta 0:00:01\r",
      "\u001b[K     |█████████████████████████████▍  | 706kB 14.8MB/s eta 0:00:01\r",
      "\u001b[K     |█████████████████████████████▉  | 716kB 14.8MB/s eta 0:00:01\r",
      "\u001b[K     |██████████████████████████████▎ | 727kB 14.8MB/s eta 0:00:01\r",
      "\u001b[K     |██████████████████████████████▊ | 737kB 14.8MB/s eta 0:00:01\r",
      "\u001b[K     |███████████████████████████████ | 747kB 14.8MB/s eta 0:00:01\r",
      "\u001b[K     |███████████████████████████████▌| 757kB 14.8MB/s eta 0:00:01\r",
      "\u001b[K     |████████████████████████████████| 768kB 14.8MB/s eta 0:00:01\r",
      "\u001b[K     |████████████████████████████████| 778kB 14.8MB/s \n",
      "\u001b[?25hCollecting segtok>=1.5.7\n",
      "  Downloading https://files.pythonhosted.org/packages/41/08/582dab5f4b1d5ca23bc6927b4bb977c8ff7f3a87a3b98844ef833e2f5623/segtok-1.5.10.tar.gz\n",
      "Collecting sqlitedict>=1.6.0\n",
      "  Downloading https://files.pythonhosted.org/packages/0f/1c/c757b93147a219cf1e25cef7e1ad9b595b7f802159493c45ce116521caff/sqlitedict-1.6.0.tar.gz\n",
      "Requirement already satisfied: gensim>=3.4.0 in /usr/local/lib/python3.6/dist-packages (from flair) (3.6.0)\n",
      "Requirement already satisfied: hyperopt>=0.1.1 in /usr/local/lib/python3.6/dist-packages (from flair) (0.1.2)\n",
      "Requirement already satisfied: tqdm>=4.26.0 in /usr/local/lib/python3.6/dist-packages (from flair) (4.41.1)\n",
      "Requirement already satisfied: matplotlib>=2.2.3 in /usr/local/lib/python3.6/dist-packages (from flair) (3.2.2)\n",
      "Collecting bpemb>=0.2.9\n",
      "  Downloading https://files.pythonhosted.org/packages/91/77/3f0f53856e86af32b1d3c86652815277f7b5f880002584eb30db115b6df5/bpemb-0.3.2-py3-none-any.whl\n",
      "Collecting langdetect\n",
      "\u001b[?25l  Downloading https://files.pythonhosted.org/packages/56/a3/8407c1e62d5980188b4acc45ef3d94b933d14a2ebc9ef3505f22cf772570/langdetect-1.0.8.tar.gz (981kB)\n",
      "\u001b[K     |████████████████████████████████| 983kB 41.3MB/s \n",
      "\u001b[?25hRequirement already satisfied: scikit-learn>=0.21.3 in /usr/local/lib/python3.6/dist-packages (from flair) (0.22.2.post1)\n",
      "Collecting sentencepiece!=0.1.92\n",
      "\u001b[?25l  Downloading https://files.pythonhosted.org/packages/d4/a4/d0a884c4300004a78cca907a6ff9a5e9fe4f090f5d95ab341c53d28cbc58/sentencepiece-0.1.91-cp36-cp36m-manylinux1_x86_64.whl (1.1MB)\n",
      "\u001b[K     |████████████████████████████████| 1.1MB 38.4MB/s \n",
      "\u001b[?25hRequirement already satisfied: tabulate in /usr/local/lib/python3.6/dist-packages (from flair) (0.8.7)\n",
      "Collecting mpld3==0.3\n",
      "\u001b[?25l  Downloading https://files.pythonhosted.org/packages/91/95/a52d3a83d0a29ba0d6898f6727e9858fe7a43f6c2ce81a5fe7e05f0f4912/mpld3-0.3.tar.gz (788kB)\n",
      "\u001b[K     |████████████████████████████████| 798kB 43.2MB/s \n",
      "\u001b[?25hCollecting pytest>=5.3.2\n",
      "\u001b[?25l  Downloading https://files.pythonhosted.org/packages/98/db/712bee56f9ab20373508a5a1c662e1db49b407dacf03b5224c6171ed0a3d/pytest-6.0.1-py3-none-any.whl (270kB)\n",
      "\u001b[K     |████████████████████████████████| 276kB 39.1MB/s \n",
      "\u001b[?25hCollecting deprecated>=1.2.4\n",
      "  Downloading https://files.pythonhosted.org/packages/76/a1/05d7f62f956d77b23a640efc650f80ce24483aa2f85a09c03fb64f49e879/Deprecated-1.2.10-py2.py3-none-any.whl\n",
      "Requirement already satisfied: torch>=1.1.0 in /usr/local/lib/python3.6/dist-packages (from flair) (1.6.0+cu101)\n",
      "Requirement already satisfied: six>=1.5 in /usr/local/lib/python3.6/dist-packages (from python-dateutil>=2.6.1->flair) (1.15.0)\n",
      "Requirement already satisfied: requests in /usr/local/lib/python3.6/dist-packages (from transformers>=3.0.0->flair) (2.23.0)\n",
      "Requirement already satisfied: numpy in /usr/local/lib/python3.6/dist-packages (from transformers>=3.0.0->flair) (1.18.5)\n",
      "Collecting sacremoses\n",
      "\u001b[?25l  Downloading https://files.pythonhosted.org/packages/7d/34/09d19aff26edcc8eb2a01bed8e98f13a1537005d31e95233fd48216eed10/sacremoses-0.0.43.tar.gz (883kB)\n",
      "\u001b[K     |████████████████████████████████| 890kB 41.3MB/s \n",
      "\u001b[?25hRequirement already satisfied: packaging in /usr/local/lib/python3.6/dist-packages (from transformers>=3.0.0->flair) (20.4)\n",
      "Collecting tokenizers==0.8.1.rc1\n",
      "\u001b[?25l  Downloading https://files.pythonhosted.org/packages/40/d0/30d5f8d221a0ed981a186c8eb986ce1c94e3a6e87f994eae9f4aa5250217/tokenizers-0.8.1rc1-cp36-cp36m-manylinux1_x86_64.whl (3.0MB)\n",
      "\u001b[K     |████████████████████████████████| 3.0MB 41.0MB/s \n",
      "\u001b[?25hRequirement already satisfied: filelock in /usr/local/lib/python3.6/dist-packages (from transformers>=3.0.0->flair) (3.0.12)\n",
      "Requirement already satisfied: dataclasses; python_version < \"3.7\" in /usr/local/lib/python3.6/dist-packages (from transformers>=3.0.0->flair) (0.7)\n",
      "Requirement already satisfied: smart-open>=1.2.1 in /usr/local/lib/python3.6/dist-packages (from gensim>=3.4.0->flair) (2.1.0)\n",
      "Requirement already satisfied: scipy>=0.18.1 in /usr/local/lib/python3.6/dist-packages (from gensim>=3.4.0->flair) (1.4.1)\n",
      "Requirement already satisfied: pymongo in /usr/local/lib/python3.6/dist-packages (from hyperopt>=0.1.1->flair) (3.11.0)\n",
      "Requirement already satisfied: networkx in /usr/local/lib/python3.6/dist-packages (from hyperopt>=0.1.1->flair) (2.4)\n",
      "Requirement already satisfied: future in /usr/local/lib/python3.6/dist-packages (from hyperopt>=0.1.1->flair) (0.16.0)\n",
      "Requirement already satisfied: kiwisolver>=1.0.1 in /usr/local/lib/python3.6/dist-packages (from matplotlib>=2.2.3->flair) (1.2.0)\n",
      "Requirement already satisfied: cycler>=0.10 in /usr/local/lib/python3.6/dist-packages (from matplotlib>=2.2.3->flair) (0.10.0)\n",
      "Requirement already satisfied: pyparsing!=2.0.4,!=2.1.2,!=2.1.6,>=2.0.1 in /usr/local/lib/python3.6/dist-packages (from matplotlib>=2.2.3->flair) (2.4.7)\n",
      "Requirement already satisfied: joblib>=0.11 in /usr/local/lib/python3.6/dist-packages (from scikit-learn>=0.21.3->flair) (0.16.0)\n",
      "Requirement already satisfied: iniconfig in /usr/local/lib/python3.6/dist-packages (from pytest>=5.3.2->flair) (1.0.1)\n",
      "Requirement already satisfied: attrs>=17.4.0 in /usr/local/lib/python3.6/dist-packages (from pytest>=5.3.2->flair) (19.3.0)\n",
      "Collecting pluggy<1.0,>=0.12\n",
      "  Downloading https://files.pythonhosted.org/packages/a0/28/85c7aa31b80d150b772fbe4a229487bc6644da9ccb7e427dd8cc60cb8a62/pluggy-0.13.1-py2.py3-none-any.whl\n",
      "Requirement already satisfied: py>=1.8.2 in /usr/local/lib/python3.6/dist-packages (from pytest>=5.3.2->flair) (1.9.0)\n",
      "Requirement already satisfied: importlib-metadata>=0.12; python_version < \"3.8\" in /usr/local/lib/python3.6/dist-packages (from pytest>=5.3.2->flair) (1.7.0)\n",
      "Requirement already satisfied: toml in /usr/local/lib/python3.6/dist-packages (from pytest>=5.3.2->flair) (0.10.1)\n",
      "Requirement already satisfied: more-itertools>=4.0.0 in /usr/local/lib/python3.6/dist-packages (from pytest>=5.3.2->flair) (8.4.0)\n",
      "Requirement already satisfied: wrapt<2,>=1.10 in /usr/local/lib/python3.6/dist-packages (from deprecated>=1.2.4->flair) (1.12.1)\n",
      "Requirement already satisfied: chardet<4,>=3.0.2 in /usr/local/lib/python3.6/dist-packages (from requests->transformers>=3.0.0->flair) (3.0.4)\n",
      "Requirement already satisfied: idna<3,>=2.5 in /usr/local/lib/python3.6/dist-packages (from requests->transformers>=3.0.0->flair) (2.10)\n",
      "Requirement already satisfied: urllib3!=1.25.0,!=1.25.1,<1.26,>=1.21.1 in /usr/local/lib/python3.6/dist-packages (from requests->transformers>=3.0.0->flair) (1.24.3)\n",
      "Requirement already satisfied: certifi>=2017.4.17 in /usr/local/lib/python3.6/dist-packages (from requests->transformers>=3.0.0->flair) (2020.6.20)\n",
      "Requirement already satisfied: click in /usr/local/lib/python3.6/dist-packages (from sacremoses->transformers>=3.0.0->flair) (7.1.2)\n",
      "Requirement already satisfied: boto3 in /usr/local/lib/python3.6/dist-packages (from smart-open>=1.2.1->gensim>=3.4.0->flair) (1.14.37)\n",
      "Requirement already satisfied: boto in /usr/local/lib/python3.6/dist-packages (from smart-open>=1.2.1->gensim>=3.4.0->flair) (2.49.0)\n",
      "Requirement already satisfied: decorator>=4.3.0 in /usr/local/lib/python3.6/dist-packages (from networkx->hyperopt>=0.1.1->flair) (4.4.2)\n",
      "Requirement already satisfied: zipp>=0.5 in /usr/local/lib/python3.6/dist-packages (from importlib-metadata>=0.12; python_version < \"3.8\"->pytest>=5.3.2->flair) (3.1.0)\n",
      "Requirement already satisfied: s3transfer<0.4.0,>=0.3.0 in /usr/local/lib/python3.6/dist-packages (from boto3->smart-open>=1.2.1->gensim>=3.4.0->flair) (0.3.3)\n",
      "Requirement already satisfied: botocore<1.18.0,>=1.17.37 in /usr/local/lib/python3.6/dist-packages (from boto3->smart-open>=1.2.1->gensim>=3.4.0->flair) (1.17.37)\n",
      "Requirement already satisfied: jmespath<1.0.0,>=0.7.1 in /usr/local/lib/python3.6/dist-packages (from boto3->smart-open>=1.2.1->gensim>=3.4.0->flair) (0.10.0)\n",
      "Requirement already satisfied: docutils<0.16,>=0.10 in /usr/local/lib/python3.6/dist-packages (from botocore<1.18.0,>=1.17.37->boto3->smart-open>=1.2.1->gensim>=3.4.0->flair) (0.15.2)\n",
      "Building wheels for collected packages: segtok, sqlitedict, langdetect, mpld3, sacremoses\n",
      "  Building wheel for segtok (setup.py) ... \u001b[?25l\u001b[?25hdone\n",
      "  Created wheel for segtok: filename=segtok-1.5.10-cp36-none-any.whl size=25020 sha256=8b5e0472e825a6daf1d5b7e260b5b75daf38ab599d837c6c88817ba4c64fed12\n",
      "  Stored in directory: /root/.cache/pip/wheels/b4/39/f6/9ca1c5cabde964d728023b5751c3a206a5c8cc40252321fb6b\n",
      "  Building wheel for sqlitedict (setup.py) ... \u001b[?25l\u001b[?25hdone\n",
      "  Created wheel for sqlitedict: filename=sqlitedict-1.6.0-cp36-none-any.whl size=14689 sha256=2de4f99823cfe4bdfcf03ca87d84ae816aaa76e12950642946c22972e998ebca\n",
      "  Stored in directory: /root/.cache/pip/wheels/bd/57/d3/907c3ee02d35e66f674ad0106e61f06eeeb98f6ee66a6cc3fe\n",
      "  Building wheel for langdetect (setup.py) ... \u001b[?25l\u001b[?25hdone\n",
      "  Created wheel for langdetect: filename=langdetect-1.0.8-cp36-none-any.whl size=993193 sha256=8d9c94dc8d2bc31651171de1e2e62cf2ab6b15a5a8bdacf7649170f221cf705c\n",
      "  Stored in directory: /root/.cache/pip/wheels/8d/b3/aa/6d99de9f3841d7d3d40a60ea06e6d669e8e5012e6c8b947a57\n",
      "  Building wheel for mpld3 (setup.py) ... \u001b[?25l\u001b[?25hdone\n",
      "  Created wheel for mpld3: filename=mpld3-0.3-cp36-none-any.whl size=116679 sha256=31cba367a660ab4aecaef1c0685137d16286077b8b7e24e412a9ecf09bcd7810\n",
      "  Stored in directory: /root/.cache/pip/wheels/c0/47/fb/8a64f89aecfe0059830479308ad42d62e898a3e3cefdf6ba28\n",
      "  Building wheel for sacremoses (setup.py) ... \u001b[?25l\u001b[?25hdone\n",
      "  Created wheel for sacremoses: filename=sacremoses-0.0.43-cp36-none-any.whl size=893260 sha256=5cbae90d75d2361ccc1eb768289aed064a1df200de328f920103f1e884f3fdf9\n",
      "  Stored in directory: /root/.cache/pip/wheels/29/3c/fd/7ce5c3f0666dab31a50123635e6fb5e19ceb42ce38d4e58f45\n",
      "Successfully built segtok sqlitedict langdetect mpld3 sacremoses\n",
      "\u001b[31mERROR: datascience 0.10.6 has requirement folium==0.2.1, but you'll have folium 0.8.3 which is incompatible.\u001b[0m\n",
      "Installing collected packages: sacremoses, tokenizers, sentencepiece, transformers, segtok, sqlitedict, bpemb, langdetect, mpld3, pluggy, pytest, deprecated, flair\n",
      "  Found existing installation: pluggy 0.7.1\n",
      "    Uninstalling pluggy-0.7.1:\n",
      "      Successfully uninstalled pluggy-0.7.1\n",
      "  Found existing installation: pytest 3.6.4\n",
      "    Uninstalling pytest-3.6.4:\n",
      "      Successfully uninstalled pytest-3.6.4\n",
      "Successfully installed bpemb-0.3.2 deprecated-1.2.10 flair-0.5.1 langdetect-1.0.8 mpld3-0.3 pluggy-0.13.1 pytest-6.0.1 sacremoses-0.0.43 segtok-1.5.10 sentencepiece-0.1.91 sqlitedict-1.6.0 tokenizers-0.8.1rc1 transformers-3.0.2\n"
     ]
    }
   ],
   "source": [
    "!pip install flair\n",
    "import flair\n",
    "# import fasttext\n",
    "import gensim\n",
    "from flair.data import Sentence"
   ]
  },
  {
   "cell_type": "code",
   "execution_count": null,
   "metadata": {
    "colab": {
     "base_uri": "https://localhost:8080/",
     "height": 124
    },
    "colab_type": "code",
    "id": "MAbwaal89ABC",
    "outputId": "9af52e1a-2017-4030-cf09-a5559329e855"
   },
   "outputs": [
    {
     "name": "stdout",
     "output_type": "stream",
     "text": [
      "Go to this URL in a browser: https://accounts.google.com/o/oauth2/auth?client_id=947318989803-6bn6qk8qdgf4n4g3pfee6491hc0brc4i.apps.googleusercontent.com&redirect_uri=urn%3aietf%3awg%3aoauth%3a2.0%3aoob&scope=email%20https%3a%2f%2fwww.googleapis.com%2fauth%2fdocs.test%20https%3a%2f%2fwww.googleapis.com%2fauth%2fdrive%20https%3a%2f%2fwww.googleapis.com%2fauth%2fdrive.photos.readonly%20https%3a%2f%2fwww.googleapis.com%2fauth%2fpeopleapi.readonly&response_type=code\n",
      "\n",
      "Enter your authorization code:\n",
      "··········\n",
      "Mounted at /content/drive\n"
     ]
    }
   ],
   "source": [
    "import os, sys\n",
    "from google.colab import drive\n",
    "drive.mount('/content/drive')\n"
   ]
  },
  {
   "cell_type": "code",
   "execution_count": null,
   "metadata": {
    "colab": {
     "base_uri": "https://localhost:8080/",
     "height": 202
    },
    "colab_type": "code",
    "id": "WDwDR5Zn_Kz9",
    "outputId": "194fb43e-ea83-4829-f80d-15754c1b7e01"
   },
   "outputs": [
    {
     "ename": "FileExistsError",
     "evalue": "ignored",
     "output_type": "error",
     "traceback": [
      "\u001b[0;31m---------------------------------------------------------------------------\u001b[0m",
      "\u001b[0;31mFileExistsError\u001b[0m                           Traceback (most recent call last)",
      "\u001b[0;32m<ipython-input-12-f09d2949b56b>\u001b[0m in \u001b[0;36m<module>\u001b[0;34m()\u001b[0m\n\u001b[1;32m      1\u001b[0m \u001b[0mnb_path\u001b[0m \u001b[0;34m=\u001b[0m \u001b[0;34m'/content/notebooks2'\u001b[0m\u001b[0;34m\u001b[0m\u001b[0;34m\u001b[0m\u001b[0m\n\u001b[0;32m----> 2\u001b[0;31m \u001b[0mos\u001b[0m\u001b[0;34m.\u001b[0m\u001b[0msymlink\u001b[0m\u001b[0;34m(\u001b[0m\u001b[0;34m'/content/drive/My Drive/Colab Notebooks'\u001b[0m\u001b[0;34m,\u001b[0m \u001b[0mnb_path\u001b[0m\u001b[0;34m)\u001b[0m\u001b[0;34m\u001b[0m\u001b[0;34m\u001b[0m\u001b[0m\n\u001b[0m\u001b[1;32m      3\u001b[0m \u001b[0msys\u001b[0m\u001b[0;34m.\u001b[0m\u001b[0mpath\u001b[0m\u001b[0;34m.\u001b[0m\u001b[0minsert\u001b[0m\u001b[0;34m(\u001b[0m\u001b[0;36m0\u001b[0m\u001b[0;34m,\u001b[0m\u001b[0mnb_path\u001b[0m\u001b[0;34m)\u001b[0m\u001b[0;34m\u001b[0m\u001b[0;34m\u001b[0m\u001b[0m\n",
      "\u001b[0;31mFileExistsError\u001b[0m: [Errno 17] File exists: '/content/drive/My Drive/Colab Notebooks' -> '/content/notebooks2'"
     ]
    }
   ],
   "source": [
    "nb_path = '/content/notebooks'\n",
    "os.symlink('/content/drive/My Drive/Colab Notebooks', nb_path)\n",
    "sys.path.insert(0,nb_path)"
   ]
  },
  {
   "cell_type": "code",
   "execution_count": null,
   "metadata": {
    "colab": {
     "base_uri": "https://localhost:8080/",
     "height": 1000
    },
    "colab_type": "code",
    "id": "ivMuuuscF8Wq",
    "outputId": "610b27ca-9994-4b0d-b95a-0cbb1031dd16"
   },
   "outputs": [
    {
     "name": "stdout",
     "output_type": "stream",
     "text": [
      "Collecting allennlp==0.9.0\n",
      "\u001b[?25l  Downloading https://files.pythonhosted.org/packages/bb/bb/041115d8bad1447080e5d1e30097c95e4b66e36074277afce8620a61cee3/allennlp-0.9.0-py3-none-any.whl (7.6MB)\n",
      "\u001b[K     |████████████████████████████████| 7.6MB 4.7MB/s \n",
      "\u001b[?25hRequirement already satisfied: numpy in /usr/local/lib/python3.6/dist-packages (from allennlp==0.9.0) (1.18.5)\n",
      "Requirement already satisfied: matplotlib>=2.2.3 in /usr/local/lib/python3.6/dist-packages (from allennlp==0.9.0) (3.2.2)\n",
      "Collecting jsonpickle\n",
      "  Downloading https://files.pythonhosted.org/packages/af/ca/4fee219cc4113a5635e348ad951cf8a2e47fed2e3342312493f5b73d0007/jsonpickle-1.4.1-py2.py3-none-any.whl\n",
      "Collecting pytorch-transformers==1.1.0\n",
      "\u001b[?25l  Downloading https://files.pythonhosted.org/packages/50/89/ad0d6bb932d0a51793eaabcf1617a36ff530dc9ab9e38f765a35dc293306/pytorch_transformers-1.1.0-py3-none-any.whl (158kB)\n",
      "\u001b[K     |████████████████████████████████| 163kB 43.5MB/s \n",
      "\u001b[?25hCollecting parsimonious>=0.8.0\n",
      "\u001b[?25l  Downloading https://files.pythonhosted.org/packages/02/fc/067a3f89869a41009e1a7cdfb14725f8ddd246f30f63c645e8ef8a1c56f4/parsimonious-0.8.1.tar.gz (45kB)\n",
      "\u001b[K     |████████████████████████████████| 51kB 6.3MB/s \n",
      "\u001b[?25hRequirement already satisfied: pytest in /usr/local/lib/python3.6/dist-packages (from allennlp==0.9.0) (6.0.1)\n",
      "Collecting responses>=0.7\n",
      "  Downloading https://files.pythonhosted.org/packages/6a/28/340847834f4db9b0302a6bc525b2e46ea2f8b2fd1d8d460b401b707eb89d/responses-0.10.16-py2.py3-none-any.whl\n",
      "Requirement already satisfied: tqdm>=4.19 in /usr/local/lib/python3.6/dist-packages (from allennlp==0.9.0) (4.41.1)\n",
      "Requirement already satisfied: h5py in /usr/local/lib/python3.6/dist-packages (from allennlp==0.9.0) (2.10.0)\n",
      "Requirement already satisfied: nltk in /usr/local/lib/python3.6/dist-packages (from allennlp==0.9.0) (3.2.5)\n",
      "Requirement already satisfied: editdistance in /usr/local/lib/python3.6/dist-packages (from allennlp==0.9.0) (0.5.3)\n",
      "Collecting flaky\n",
      "  Downloading https://files.pythonhosted.org/packages/43/0e/2f50064e327f41a1eb811df089f813036e19a64b95e33f8e9e0b96c2447e/flaky-3.7.0-py2.py3-none-any.whl\n",
      "Collecting conllu==1.3.1\n",
      "  Downloading https://files.pythonhosted.org/packages/ae/54/b0ae1199f3d01666821b028cd967f7c0ac527ab162af433d3da69242cea2/conllu-1.3.1-py2.py3-none-any.whl\n",
      "Requirement already satisfied: requests>=2.18 in /usr/local/lib/python3.6/dist-packages (from allennlp==0.9.0) (2.23.0)\n",
      "Requirement already satisfied: sqlparse>=0.2.4 in /usr/local/lib/python3.6/dist-packages (from allennlp==0.9.0) (0.3.1)\n",
      "Requirement already satisfied: pytz>=2017.3 in /usr/local/lib/python3.6/dist-packages (from allennlp==0.9.0) (2018.9)\n",
      "Collecting ftfy\n",
      "\u001b[?25l  Downloading https://files.pythonhosted.org/packages/ff/e2/3b51c53dffb1e52d9210ebc01f1fb9f2f6eba9b3201fa971fd3946643c71/ftfy-5.8.tar.gz (64kB)\n",
      "\u001b[K     |████████████████████████████████| 71kB 9.2MB/s \n",
      "\u001b[?25hCollecting gevent>=1.3.6\n",
      "\u001b[?25l  Downloading https://files.pythonhosted.org/packages/05/18/3932900a42d7010cc63529fc5cb7a5a20fb61878d1721d0d4387567d5973/gevent-20.6.2-cp36-cp36m-manylinux2010_x86_64.whl (5.3MB)\n",
      "\u001b[K     |████████████████████████████████| 5.3MB 42.6MB/s \n",
      "\u001b[?25hCollecting flask-cors>=3.0.7\n",
      "  Downloading https://files.pythonhosted.org/packages/78/38/e68b11daa5d613e3a91e4bf3da76c94ac9ee0d9cd515af9c1ab80d36f709/Flask_Cors-3.0.8-py2.py3-none-any.whl\n",
      "Requirement already satisfied: scipy in /usr/local/lib/python3.6/dist-packages (from allennlp==0.9.0) (1.4.1)\n",
      "Collecting numpydoc>=0.8.0\n",
      "\u001b[?25l  Downloading https://files.pythonhosted.org/packages/60/1d/9e398c53d6ae27d5ab312ddc16a9ffe1bee0dfdf1d6ec88c40b0ca97582e/numpydoc-1.1.0-py3-none-any.whl (47kB)\n",
      "\u001b[K     |████████████████████████████████| 51kB 6.9MB/s \n",
      "\u001b[?25hCollecting tensorboardX>=1.2\n",
      "\u001b[?25l  Downloading https://files.pythonhosted.org/packages/af/0c/4f41bcd45db376e6fe5c619c01100e9b7531c55791b7244815bac6eac32c/tensorboardX-2.1-py2.py3-none-any.whl (308kB)\n",
      "\u001b[K     |████████████████████████████████| 317kB 41.5MB/s \n",
      "\u001b[?25hRequirement already satisfied: torch>=1.2.0 in /usr/local/lib/python3.6/dist-packages (from allennlp==0.9.0) (1.6.0+cu101)\n",
      "Collecting unidecode\n",
      "\u001b[?25l  Downloading https://files.pythonhosted.org/packages/d0/42/d9edfed04228bacea2d824904cae367ee9efd05e6cce7ceaaedd0b0ad964/Unidecode-1.1.1-py2.py3-none-any.whl (238kB)\n",
      "\u001b[K     |████████████████████████████████| 245kB 35.9MB/s \n",
      "\u001b[?25hCollecting word2number>=1.1\n",
      "  Downloading https://files.pythonhosted.org/packages/4a/29/a31940c848521f0725f0df6b25dca8917f13a2025b0e8fcbe5d0457e45e6/word2number-1.1.zip\n",
      "Requirement already satisfied: scikit-learn in /usr/local/lib/python3.6/dist-packages (from allennlp==0.9.0) (0.22.2.post1)\n",
      "Collecting pytorch-pretrained-bert>=0.6.0\n",
      "\u001b[?25l  Downloading https://files.pythonhosted.org/packages/d7/e0/c08d5553b89973d9a240605b9c12404bcf8227590de62bae27acbcfe076b/pytorch_pretrained_bert-0.6.2-py3-none-any.whl (123kB)\n",
      "\u001b[K     |████████████████████████████████| 133kB 29.4MB/s \n",
      "\u001b[?25hCollecting spacy<2.2,>=2.1.0\n",
      "\u001b[?25l  Downloading https://files.pythonhosted.org/packages/41/5b/e07dd3bf104237bce4b398558b104c8e500333d6f30eabe3fa9685356b7d/spacy-2.1.9-cp36-cp36m-manylinux1_x86_64.whl (30.8MB)\n",
      "\u001b[K     |████████████████████████████████| 30.9MB 101kB/s \n",
      "\u001b[?25hRequirement already satisfied: boto3 in /usr/local/lib/python3.6/dist-packages (from allennlp==0.9.0) (1.14.37)\n",
      "Requirement already satisfied: flask>=1.0.2 in /usr/local/lib/python3.6/dist-packages (from allennlp==0.9.0) (1.1.2)\n",
      "Collecting jsonnet>=0.10.0; sys_platform != \"win32\"\n",
      "\u001b[?25l  Downloading https://files.pythonhosted.org/packages/86/70/ed1ba808a87d896b9f4d25400dda54e089ca7a97e87cee620b3744997c89/jsonnet-0.16.0.tar.gz (256kB)\n",
      "\u001b[K     |████████████████████████████████| 266kB 39.8MB/s \n",
      "\u001b[?25hCollecting overrides\n",
      "  Downloading https://files.pythonhosted.org/packages/ff/b1/10f69c00947518e6676bbd43e739733048de64b8dd998e9c2d5a71f44c5d/overrides-3.1.0.tar.gz\n",
      "Requirement already satisfied: kiwisolver>=1.0.1 in /usr/local/lib/python3.6/dist-packages (from matplotlib>=2.2.3->allennlp==0.9.0) (1.2.0)\n",
      "Requirement already satisfied: cycler>=0.10 in /usr/local/lib/python3.6/dist-packages (from matplotlib>=2.2.3->allennlp==0.9.0) (0.10.0)\n",
      "Requirement already satisfied: python-dateutil>=2.1 in /usr/local/lib/python3.6/dist-packages (from matplotlib>=2.2.3->allennlp==0.9.0) (2.8.1)\n",
      "Requirement already satisfied: pyparsing!=2.0.4,!=2.1.2,!=2.1.6,>=2.0.1 in /usr/local/lib/python3.6/dist-packages (from matplotlib>=2.2.3->allennlp==0.9.0) (2.4.7)\n",
      "Requirement already satisfied: importlib-metadata in /usr/local/lib/python3.6/dist-packages (from jsonpickle->allennlp==0.9.0) (1.7.0)\n",
      "Requirement already satisfied: sentencepiece in /usr/local/lib/python3.6/dist-packages (from pytorch-transformers==1.1.0->allennlp==0.9.0) (0.1.91)\n",
      "Requirement already satisfied: regex in /usr/local/lib/python3.6/dist-packages (from pytorch-transformers==1.1.0->allennlp==0.9.0) (2019.12.20)\n",
      "Requirement already satisfied: six>=1.9.0 in /usr/local/lib/python3.6/dist-packages (from parsimonious>=0.8.0->allennlp==0.9.0) (1.15.0)\n",
      "Requirement already satisfied: more-itertools>=4.0.0 in /usr/local/lib/python3.6/dist-packages (from pytest->allennlp==0.9.0) (8.4.0)\n",
      "Requirement already satisfied: pluggy<1.0,>=0.12 in /usr/local/lib/python3.6/dist-packages (from pytest->allennlp==0.9.0) (0.13.1)\n",
      "Requirement already satisfied: attrs>=17.4.0 in /usr/local/lib/python3.6/dist-packages (from pytest->allennlp==0.9.0) (19.3.0)\n",
      "Requirement already satisfied: py>=1.8.2 in /usr/local/lib/python3.6/dist-packages (from pytest->allennlp==0.9.0) (1.9.0)\n",
      "Requirement already satisfied: iniconfig in /usr/local/lib/python3.6/dist-packages (from pytest->allennlp==0.9.0) (1.0.1)\n",
      "Requirement already satisfied: packaging in /usr/local/lib/python3.6/dist-packages (from pytest->allennlp==0.9.0) (20.4)\n",
      "Requirement already satisfied: toml in /usr/local/lib/python3.6/dist-packages (from pytest->allennlp==0.9.0) (0.10.1)\n",
      "Collecting urllib3>=1.25.10\n",
      "\u001b[?25l  Downloading https://files.pythonhosted.org/packages/9f/f0/a391d1463ebb1b233795cabfc0ef38d3db4442339de68f847026199e69d7/urllib3-1.25.10-py2.py3-none-any.whl (127kB)\n",
      "\u001b[K     |████████████████████████████████| 133kB 40.0MB/s \n",
      "\u001b[?25hRequirement already satisfied: chardet<4,>=3.0.2 in /usr/local/lib/python3.6/dist-packages (from requests>=2.18->allennlp==0.9.0) (3.0.4)\n",
      "Requirement already satisfied: certifi>=2017.4.17 in /usr/local/lib/python3.6/dist-packages (from requests>=2.18->allennlp==0.9.0) (2020.6.20)\n",
      "Requirement already satisfied: idna<3,>=2.5 in /usr/local/lib/python3.6/dist-packages (from requests>=2.18->allennlp==0.9.0) (2.10)\n",
      "Requirement already satisfied: wcwidth in /usr/local/lib/python3.6/dist-packages (from ftfy->allennlp==0.9.0) (0.2.5)\n",
      "Collecting zope.event\n",
      "  Downloading https://files.pythonhosted.org/packages/c5/96/361edb421a077a4c208b4a5c212737d78ae03ce67fbbcd01621c49f332d1/zope.event-4.4-py2.py3-none-any.whl\n",
      "Requirement already satisfied: setuptools in /usr/local/lib/python3.6/dist-packages (from gevent>=1.3.6->allennlp==0.9.0) (49.2.0)\n",
      "Collecting greenlet>=0.4.16; platform_python_implementation == \"CPython\"\n",
      "\u001b[?25l  Downloading https://files.pythonhosted.org/packages/7e/a4/0d8685c98986326534b0753a8b92b3082bc9df42b348bc50d6c69839c9f9/greenlet-0.4.16-cp36-cp36m-manylinux1_x86_64.whl (44kB)\n",
      "\u001b[K     |████████████████████████████████| 51kB 6.8MB/s \n",
      "\u001b[?25hCollecting zope.interface\n",
      "\u001b[?25l  Downloading https://files.pythonhosted.org/packages/57/33/565274c28a11af60b7cfc0519d46bde4125fcd7d32ebc0a81b480d0e8da6/zope.interface-5.1.0-cp36-cp36m-manylinux2010_x86_64.whl (234kB)\n",
      "\u001b[K     |████████████████████████████████| 235kB 36.0MB/s \n",
      "\u001b[?25hRequirement already satisfied: sphinx>=1.6.5 in /usr/local/lib/python3.6/dist-packages (from numpydoc>=0.8.0->allennlp==0.9.0) (1.8.5)\n",
      "Requirement already satisfied: Jinja2>=2.3 in /usr/local/lib/python3.6/dist-packages (from numpydoc>=0.8.0->allennlp==0.9.0) (2.11.2)\n",
      "Requirement already satisfied: protobuf>=3.8.0 in /usr/local/lib/python3.6/dist-packages (from tensorboardX>=1.2->allennlp==0.9.0) (3.12.4)\n",
      "Requirement already satisfied: future in /usr/local/lib/python3.6/dist-packages (from torch>=1.2.0->allennlp==0.9.0) (0.16.0)\n",
      "Requirement already satisfied: joblib>=0.11 in /usr/local/lib/python3.6/dist-packages (from scikit-learn->allennlp==0.9.0) (0.16.0)\n",
      "Collecting thinc<7.1.0,>=7.0.8\n",
      "\u001b[?25l  Downloading https://files.pythonhosted.org/packages/18/a5/9ace20422e7bb1bdcad31832ea85c52a09900cd4a7ce711246bfb92206ba/thinc-7.0.8-cp36-cp36m-manylinux1_x86_64.whl (2.1MB)\n",
      "\u001b[K     |████████████████████████████████| 2.1MB 38.9MB/s \n",
      "\u001b[?25hRequirement already satisfied: wasabi<1.1.0,>=0.2.0 in /usr/local/lib/python3.6/dist-packages (from spacy<2.2,>=2.1.0->allennlp==0.9.0) (0.7.1)\n",
      "Collecting preshed<2.1.0,>=2.0.1\n",
      "\u001b[?25l  Downloading https://files.pythonhosted.org/packages/20/93/f222fb957764a283203525ef20e62008675fd0a14ffff8cc1b1490147c63/preshed-2.0.1-cp36-cp36m-manylinux1_x86_64.whl (83kB)\n",
      "\u001b[K     |████████████████████████████████| 92kB 10.6MB/s \n",
      "\u001b[?25hRequirement already satisfied: srsly<1.1.0,>=0.0.6 in /usr/local/lib/python3.6/dist-packages (from spacy<2.2,>=2.1.0->allennlp==0.9.0) (1.0.2)\n",
      "Collecting blis<0.3.0,>=0.2.2\n",
      "\u001b[?25l  Downloading https://files.pythonhosted.org/packages/34/46/b1d0bb71d308e820ed30316c5f0a017cb5ef5f4324bcbc7da3cf9d3b075c/blis-0.2.4-cp36-cp36m-manylinux1_x86_64.whl (3.2MB)\n",
      "\u001b[K     |████████████████████████████████| 3.2MB 39.3MB/s \n",
      "\u001b[?25hCollecting plac<1.0.0,>=0.9.6\n",
      "  Downloading https://files.pythonhosted.org/packages/9e/9b/62c60d2f5bc135d2aa1d8c8a86aaf84edb719a59c7f11a4316259e61a298/plac-0.9.6-py2.py3-none-any.whl\n",
      "Requirement already satisfied: murmurhash<1.1.0,>=0.28.0 in /usr/local/lib/python3.6/dist-packages (from spacy<2.2,>=2.1.0->allennlp==0.9.0) (1.0.2)\n",
      "Requirement already satisfied: cymem<2.1.0,>=2.0.2 in /usr/local/lib/python3.6/dist-packages (from spacy<2.2,>=2.1.0->allennlp==0.9.0) (2.0.3)\n",
      "Requirement already satisfied: botocore<1.18.0,>=1.17.37 in /usr/local/lib/python3.6/dist-packages (from boto3->allennlp==0.9.0) (1.17.37)\n",
      "Requirement already satisfied: s3transfer<0.4.0,>=0.3.0 in /usr/local/lib/python3.6/dist-packages (from boto3->allennlp==0.9.0) (0.3.3)\n",
      "Requirement already satisfied: jmespath<1.0.0,>=0.7.1 in /usr/local/lib/python3.6/dist-packages (from boto3->allennlp==0.9.0) (0.10.0)\n",
      "Requirement already satisfied: click>=5.1 in /usr/local/lib/python3.6/dist-packages (from flask>=1.0.2->allennlp==0.9.0) (7.1.2)\n",
      "Requirement already satisfied: itsdangerous>=0.24 in /usr/local/lib/python3.6/dist-packages (from flask>=1.0.2->allennlp==0.9.0) (1.1.0)\n",
      "Requirement already satisfied: Werkzeug>=0.15 in /usr/local/lib/python3.6/dist-packages (from flask>=1.0.2->allennlp==0.9.0) (1.0.1)\n",
      "Requirement already satisfied: zipp>=0.5 in /usr/local/lib/python3.6/dist-packages (from importlib-metadata->jsonpickle->allennlp==0.9.0) (3.1.0)\n",
      "Requirement already satisfied: docutils>=0.11 in /usr/local/lib/python3.6/dist-packages (from sphinx>=1.6.5->numpydoc>=0.8.0->allennlp==0.9.0) (0.15.2)\n",
      "Requirement already satisfied: sphinxcontrib-websupport in /usr/local/lib/python3.6/dist-packages (from sphinx>=1.6.5->numpydoc>=0.8.0->allennlp==0.9.0) (1.2.3)\n",
      "Requirement already satisfied: babel!=2.0,>=1.3 in /usr/local/lib/python3.6/dist-packages (from sphinx>=1.6.5->numpydoc>=0.8.0->allennlp==0.9.0) (2.8.0)\n",
      "Requirement already satisfied: imagesize in /usr/local/lib/python3.6/dist-packages (from sphinx>=1.6.5->numpydoc>=0.8.0->allennlp==0.9.0) (1.2.0)\n",
      "Requirement already satisfied: Pygments>=2.0 in /usr/local/lib/python3.6/dist-packages (from sphinx>=1.6.5->numpydoc>=0.8.0->allennlp==0.9.0) (2.1.3)\n",
      "Requirement already satisfied: alabaster<0.8,>=0.7 in /usr/local/lib/python3.6/dist-packages (from sphinx>=1.6.5->numpydoc>=0.8.0->allennlp==0.9.0) (0.7.12)\n",
      "Requirement already satisfied: snowballstemmer>=1.1 in /usr/local/lib/python3.6/dist-packages (from sphinx>=1.6.5->numpydoc>=0.8.0->allennlp==0.9.0) (2.0.0)\n",
      "Requirement already satisfied: MarkupSafe>=0.23 in /usr/local/lib/python3.6/dist-packages (from Jinja2>=2.3->numpydoc>=0.8.0->allennlp==0.9.0) (1.1.1)\n",
      "Building wheels for collected packages: parsimonious, ftfy, word2number, jsonnet, overrides\n",
      "  Building wheel for parsimonious (setup.py) ... \u001b[?25l\u001b[?25hdone\n",
      "  Created wheel for parsimonious: filename=parsimonious-0.8.1-cp36-none-any.whl size=42712 sha256=8d97511bab0dde157ecc08172f470c69da1d84eb7d85f85a6d23de9b8fdfa33c\n",
      "  Stored in directory: /root/.cache/pip/wheels/b7/8d/e7/a0e74217da5caeb3c1c7689639b6d28ddbf9985b840bc96a9a\n",
      "  Building wheel for ftfy (setup.py) ... \u001b[?25l\u001b[?25hdone\n",
      "  Created wheel for ftfy: filename=ftfy-5.8-cp36-none-any.whl size=45612 sha256=46550410eef8f0be430bd188ff95b67566e704b9c3572eeb082ff7eca3026be4\n",
      "  Stored in directory: /root/.cache/pip/wheels/ba/c0/ef/f28c4da5ac84a4e06ac256ca9182fc34fa57fefffdbc68425b\n",
      "  Building wheel for word2number (setup.py) ... \u001b[?25l\u001b[?25hdone\n",
      "  Created wheel for word2number: filename=word2number-1.1-cp36-none-any.whl size=5587 sha256=87ba019f9a0873c0d5d71dcf44df652ee81ff8ac85eea5e68725033c88b68c9f\n",
      "  Stored in directory: /root/.cache/pip/wheels/46/2f/53/5f5c1d275492f2fce1cdab9a9bb12d49286dead829a4078e0e\n",
      "  Building wheel for jsonnet (setup.py) ... \u001b[?25l\u001b[?25hdone\n",
      "  Created wheel for jsonnet: filename=jsonnet-0.16.0-cp36-cp36m-linux_x86_64.whl size=3321598 sha256=7dcf1404530f0f072beffb1a602a23f89065cfad4a86071aaf2874f7e8a126c2\n",
      "  Stored in directory: /root/.cache/pip/wheels/64/a9/43/bc5e0463deeec89dfca928a2a64595f1bdb520c891f6fbd09c\n",
      "  Building wheel for overrides (setup.py) ... \u001b[?25l\u001b[?25hdone\n",
      "  Created wheel for overrides: filename=overrides-3.1.0-cp36-none-any.whl size=10174 sha256=3df6d238142a5e9c37086f2967088f4a95b975d2898dc483ba0267b96d7ae211\n",
      "  Stored in directory: /root/.cache/pip/wheels/5c/24/13/6ef8600e6f147c95e595f1289a86a3cc82ed65df57582c65a9\n",
      "Successfully built parsimonious ftfy word2number jsonnet overrides\n",
      "\u001b[31mERROR: kaggle 1.5.6 has requirement urllib3<1.25,>=1.21.1, but you'll have urllib3 1.25.10 which is incompatible.\u001b[0m\n",
      "\u001b[31mERROR: en-core-web-sm 2.2.5 has requirement spacy>=2.2.2, but you'll have spacy 2.1.9 which is incompatible.\u001b[0m\n",
      "\u001b[31mERROR: datascience 0.10.6 has requirement folium==0.2.1, but you'll have folium 0.8.3 which is incompatible.\u001b[0m\n",
      "Installing collected packages: jsonpickle, pytorch-transformers, parsimonious, urllib3, responses, flaky, conllu, ftfy, zope.event, greenlet, zope.interface, gevent, flask-cors, numpydoc, tensorboardX, unidecode, word2number, pytorch-pretrained-bert, preshed, blis, plac, thinc, spacy, jsonnet, overrides, allennlp\n",
      "  Found existing installation: urllib3 1.24.3\n",
      "    Uninstalling urllib3-1.24.3:\n",
      "      Successfully uninstalled urllib3-1.24.3\n",
      "  Found existing installation: preshed 3.0.2\n",
      "    Uninstalling preshed-3.0.2:\n",
      "      Successfully uninstalled preshed-3.0.2\n",
      "  Found existing installation: blis 0.4.1\n",
      "    Uninstalling blis-0.4.1:\n",
      "      Successfully uninstalled blis-0.4.1\n",
      "  Found existing installation: plac 1.1.3\n",
      "    Uninstalling plac-1.1.3:\n",
      "      Successfully uninstalled plac-1.1.3\n",
      "  Found existing installation: thinc 7.4.0\n",
      "    Uninstalling thinc-7.4.0:\n",
      "      Successfully uninstalled thinc-7.4.0\n",
      "  Found existing installation: spacy 2.2.4\n",
      "    Uninstalling spacy-2.2.4:\n",
      "      Successfully uninstalled spacy-2.2.4\n",
      "Successfully installed allennlp-0.9.0 blis-0.2.4 conllu-1.3.1 flaky-3.7.0 flask-cors-3.0.8 ftfy-5.8 gevent-20.6.2 greenlet-0.4.16 jsonnet-0.16.0 jsonpickle-1.4.1 numpydoc-1.1.0 overrides-3.1.0 parsimonious-0.8.1 plac-0.9.6 preshed-2.0.1 pytorch-pretrained-bert-0.6.2 pytorch-transformers-1.1.0 responses-0.10.16 spacy-2.1.9 tensorboardX-2.1 thinc-7.0.8 unidecode-1.1.1 urllib3-1.25.10 word2number-1.1 zope.event-4.4 zope.interface-5.1.0\n"
     ]
    },
    {
     "data": {
      "application/vnd.colab-display-data+json": {
       "pip_warning": {
        "packages": [
         "urllib3"
        ]
       }
      }
     },
     "metadata": {
      "tags": []
     },
     "output_type": "display_data"
    },
    {
     "name": "stdout",
     "output_type": "stream",
     "text": [
      "Requirement already satisfied: transformers in /usr/local/lib/python3.6/dist-packages (3.0.2)\n",
      "Requirement already satisfied: tokenizers==0.8.1.rc1 in /usr/local/lib/python3.6/dist-packages (from transformers) (0.8.1rc1)\n",
      "Requirement already satisfied: regex!=2019.12.17 in /usr/local/lib/python3.6/dist-packages (from transformers) (2019.12.20)\n",
      "Requirement already satisfied: sacremoses in /usr/local/lib/python3.6/dist-packages (from transformers) (0.0.43)\n",
      "Requirement already satisfied: filelock in /usr/local/lib/python3.6/dist-packages (from transformers) (3.0.12)\n",
      "Requirement already satisfied: dataclasses; python_version < \"3.7\" in /usr/local/lib/python3.6/dist-packages (from transformers) (0.7)\n",
      "Requirement already satisfied: packaging in /usr/local/lib/python3.6/dist-packages (from transformers) (20.4)\n",
      "Requirement already satisfied: tqdm>=4.27 in /usr/local/lib/python3.6/dist-packages (from transformers) (4.41.1)\n",
      "Requirement already satisfied: requests in /usr/local/lib/python3.6/dist-packages (from transformers) (2.23.0)\n",
      "Requirement already satisfied: sentencepiece!=0.1.92 in /usr/local/lib/python3.6/dist-packages (from transformers) (0.1.91)\n",
      "Requirement already satisfied: numpy in /usr/local/lib/python3.6/dist-packages (from transformers) (1.18.5)\n",
      "Requirement already satisfied: joblib in /usr/local/lib/python3.6/dist-packages (from sacremoses->transformers) (0.16.0)\n",
      "Requirement already satisfied: click in /usr/local/lib/python3.6/dist-packages (from sacremoses->transformers) (7.1.2)\n",
      "Requirement already satisfied: six in /usr/local/lib/python3.6/dist-packages (from sacremoses->transformers) (1.15.0)\n",
      "Requirement already satisfied: pyparsing>=2.0.2 in /usr/local/lib/python3.6/dist-packages (from packaging->transformers) (2.4.7)\n",
      "Requirement already satisfied: urllib3!=1.25.0,!=1.25.1,<1.26,>=1.21.1 in /usr/local/lib/python3.6/dist-packages (from requests->transformers) (1.25.10)\n",
      "Requirement already satisfied: chardet<4,>=3.0.2 in /usr/local/lib/python3.6/dist-packages (from requests->transformers) (3.0.4)\n",
      "Requirement already satisfied: certifi>=2017.4.17 in /usr/local/lib/python3.6/dist-packages (from requests->transformers) (2020.6.20)\n",
      "Requirement already satisfied: idna<3,>=2.5 in /usr/local/lib/python3.6/dist-packages (from requests->transformers) (2.10)\n"
     ]
    }
   ],
   "source": [
    "!pip install --target=$nb_path allennlp==0.9.0\n",
    "!pip install transformers\n"
   ]
  },
  {
   "cell_type": "code",
   "execution_count": null,
   "metadata": {
    "colab": {
     "base_uri": "https://localhost:8080/",
     "height": 1000
    },
    "colab_type": "code",
    "id": "rc2EdzJ2YwO4",
    "outputId": "26b1c0bb-1e81-4f07-da1d-089a0e2b8b09"
   },
   "outputs": [
    {
     "name": "stdout",
     "output_type": "stream",
     "text": [
      "Collecting flair\n",
      "\u001b[?25l  Downloading https://files.pythonhosted.org/packages/60/8f/51d1f2eb5f9b09beb1e6858b4c174a087bc3b05893438e2cd3ffbf9c6e8b/flair-0.5.1-py3-none-any.whl (201kB)\n",
      "\u001b[K     |████████████████████████████████| 204kB 2.7MB/s \n",
      "\u001b[?25hCollecting transformers>=3.0.0\n",
      "\u001b[?25l  Downloading https://files.pythonhosted.org/packages/27/3c/91ed8f5c4e7ef3227b4119200fc0ed4b4fd965b1f0172021c25701087825/transformers-3.0.2-py3-none-any.whl (769kB)\n",
      "\u001b[K     |████████████████████████████████| 778kB 7.8MB/s \n",
      "\u001b[?25hRequirement already satisfied: gensim>=3.4.0 in /usr/local/lib/python3.6/dist-packages (from flair) (3.6.0)\n",
      "Collecting sqlitedict>=1.6.0\n",
      "  Downloading https://files.pythonhosted.org/packages/0f/1c/c757b93147a219cf1e25cef7e1ad9b595b7f802159493c45ce116521caff/sqlitedict-1.6.0.tar.gz\n",
      "Requirement already satisfied: tqdm>=4.26.0 in /usr/local/lib/python3.6/dist-packages (from flair) (4.41.1)\n",
      "Requirement already satisfied: matplotlib>=2.2.3 in /usr/local/lib/python3.6/dist-packages (from flair) (3.2.2)\n",
      "Requirement already satisfied: hyperopt>=0.1.1 in /usr/local/lib/python3.6/dist-packages (from flair) (0.1.2)\n",
      "Requirement already satisfied: tabulate in /usr/local/lib/python3.6/dist-packages (from flair) (0.8.7)\n",
      "Requirement already satisfied: scikit-learn>=0.21.3 in /usr/local/lib/python3.6/dist-packages (from flair) (0.22.2.post1)\n",
      "Collecting pytest>=5.3.2\n",
      "\u001b[?25l  Downloading https://files.pythonhosted.org/packages/98/db/712bee56f9ab20373508a5a1c662e1db49b407dacf03b5224c6171ed0a3d/pytest-6.0.1-py3-none-any.whl (270kB)\n",
      "\u001b[K     |████████████████████████████████| 276kB 13.9MB/s \n",
      "\u001b[?25hCollecting deprecated>=1.2.4\n",
      "  Downloading https://files.pythonhosted.org/packages/76/a1/05d7f62f956d77b23a640efc650f80ce24483aa2f85a09c03fb64f49e879/Deprecated-1.2.10-py2.py3-none-any.whl\n",
      "Collecting segtok>=1.5.7\n",
      "  Downloading https://files.pythonhosted.org/packages/41/08/582dab5f4b1d5ca23bc6927b4bb977c8ff7f3a87a3b98844ef833e2f5623/segtok-1.5.10.tar.gz\n",
      "Collecting bpemb>=0.2.9\n",
      "  Downloading https://files.pythonhosted.org/packages/91/77/3f0f53856e86af32b1d3c86652815277f7b5f880002584eb30db115b6df5/bpemb-0.3.2-py3-none-any.whl\n",
      "Requirement already satisfied: torch>=1.1.0 in /usr/local/lib/python3.6/dist-packages (from flair) (1.6.0+cu101)\n",
      "Requirement already satisfied: sentencepiece!=0.1.92 in /usr/local/lib/python3.6/dist-packages (from flair) (0.1.91)\n",
      "Collecting mpld3==0.3\n",
      "\u001b[?25l  Downloading https://files.pythonhosted.org/packages/91/95/a52d3a83d0a29ba0d6898f6727e9858fe7a43f6c2ce81a5fe7e05f0f4912/mpld3-0.3.tar.gz (788kB)\n",
      "\u001b[K     |████████████████████████████████| 798kB 15.7MB/s \n",
      "\u001b[?25hRequirement already satisfied: python-dateutil>=2.6.1 in /usr/local/lib/python3.6/dist-packages (from flair) (2.8.1)\n",
      "Requirement already satisfied: regex in /usr/local/lib/python3.6/dist-packages (from flair) (2019.12.20)\n",
      "Collecting langdetect\n",
      "\u001b[?25l  Downloading https://files.pythonhosted.org/packages/56/a3/8407c1e62d5980188b4acc45ef3d94b933d14a2ebc9ef3505f22cf772570/langdetect-1.0.8.tar.gz (981kB)\n",
      "\u001b[K     |████████████████████████████████| 983kB 19.2MB/s \n",
      "\u001b[?25hRequirement already satisfied: numpy in /usr/local/lib/python3.6/dist-packages (from transformers>=3.0.0->flair) (1.18.5)\n",
      "Requirement already satisfied: packaging in /usr/local/lib/python3.6/dist-packages (from transformers>=3.0.0->flair) (20.4)\n",
      "Requirement already satisfied: requests in /usr/local/lib/python3.6/dist-packages (from transformers>=3.0.0->flair) (2.23.0)\n",
      "Requirement already satisfied: dataclasses; python_version < \"3.7\" in /usr/local/lib/python3.6/dist-packages (from transformers>=3.0.0->flair) (0.7)\n",
      "Collecting sacremoses\n",
      "\u001b[?25l  Downloading https://files.pythonhosted.org/packages/7d/34/09d19aff26edcc8eb2a01bed8e98f13a1537005d31e95233fd48216eed10/sacremoses-0.0.43.tar.gz (883kB)\n",
      "\u001b[K     |████████████████████████████████| 890kB 23.7MB/s \n",
      "\u001b[?25hRequirement already satisfied: filelock in /usr/local/lib/python3.6/dist-packages (from transformers>=3.0.0->flair) (3.0.12)\n",
      "Collecting tokenizers==0.8.1.rc1\n",
      "\u001b[?25l  Downloading https://files.pythonhosted.org/packages/40/d0/30d5f8d221a0ed981a186c8eb986ce1c94e3a6e87f994eae9f4aa5250217/tokenizers-0.8.1rc1-cp36-cp36m-manylinux1_x86_64.whl (3.0MB)\n",
      "\u001b[K     |████████████████████████████████| 3.0MB 31.1MB/s \n",
      "\u001b[?25hRequirement already satisfied: smart-open>=1.2.1 in /usr/local/lib/python3.6/dist-packages (from gensim>=3.4.0->flair) (2.1.0)\n",
      "Requirement already satisfied: scipy>=0.18.1 in /usr/local/lib/python3.6/dist-packages (from gensim>=3.4.0->flair) (1.4.1)\n",
      "Requirement already satisfied: six>=1.5.0 in /usr/local/lib/python3.6/dist-packages (from gensim>=3.4.0->flair) (1.15.0)\n",
      "Requirement already satisfied: kiwisolver>=1.0.1 in /usr/local/lib/python3.6/dist-packages (from matplotlib>=2.2.3->flair) (1.2.0)\n",
      "Requirement already satisfied: pyparsing!=2.0.4,!=2.1.2,!=2.1.6,>=2.0.1 in /usr/local/lib/python3.6/dist-packages (from matplotlib>=2.2.3->flair) (2.4.7)\n",
      "Requirement already satisfied: cycler>=0.10 in /usr/local/lib/python3.6/dist-packages (from matplotlib>=2.2.3->flair) (0.10.0)\n",
      "Requirement already satisfied: pymongo in /usr/local/lib/python3.6/dist-packages (from hyperopt>=0.1.1->flair) (3.11.0)\n",
      "Requirement already satisfied: future in /usr/local/lib/python3.6/dist-packages (from hyperopt>=0.1.1->flair) (0.16.0)\n",
      "Requirement already satisfied: networkx in /usr/local/lib/python3.6/dist-packages (from hyperopt>=0.1.1->flair) (2.4)\n",
      "Requirement already satisfied: joblib>=0.11 in /usr/local/lib/python3.6/dist-packages (from scikit-learn>=0.21.3->flair) (0.16.0)\n",
      "Collecting pluggy<1.0,>=0.12\n",
      "  Downloading https://files.pythonhosted.org/packages/a0/28/85c7aa31b80d150b772fbe4a229487bc6644da9ccb7e427dd8cc60cb8a62/pluggy-0.13.1-py2.py3-none-any.whl\n",
      "Requirement already satisfied: attrs>=17.4.0 in /usr/local/lib/python3.6/dist-packages (from pytest>=5.3.2->flair) (19.3.0)\n",
      "Requirement already satisfied: importlib-metadata>=0.12; python_version < \"3.8\" in /usr/local/lib/python3.6/dist-packages (from pytest>=5.3.2->flair) (1.7.0)\n",
      "Requirement already satisfied: more-itertools>=4.0.0 in /usr/local/lib/python3.6/dist-packages (from pytest>=5.3.2->flair) (8.4.0)\n",
      "Requirement already satisfied: py>=1.8.2 in /usr/local/lib/python3.6/dist-packages (from pytest>=5.3.2->flair) (1.9.0)\n",
      "Requirement already satisfied: iniconfig in /usr/local/lib/python3.6/dist-packages (from pytest>=5.3.2->flair) (1.0.1)\n",
      "Requirement already satisfied: toml in /usr/local/lib/python3.6/dist-packages (from pytest>=5.3.2->flair) (0.10.1)\n",
      "Requirement already satisfied: wrapt<2,>=1.10 in /usr/local/lib/python3.6/dist-packages (from deprecated>=1.2.4->flair) (1.12.1)\n",
      "Requirement already satisfied: idna<3,>=2.5 in /usr/local/lib/python3.6/dist-packages (from requests->transformers>=3.0.0->flair) (2.10)\n",
      "Requirement already satisfied: urllib3!=1.25.0,!=1.25.1,<1.26,>=1.21.1 in /usr/local/lib/python3.6/dist-packages (from requests->transformers>=3.0.0->flair) (1.24.3)\n",
      "Requirement already satisfied: chardet<4,>=3.0.2 in /usr/local/lib/python3.6/dist-packages (from requests->transformers>=3.0.0->flair) (3.0.4)\n",
      "Requirement already satisfied: certifi>=2017.4.17 in /usr/local/lib/python3.6/dist-packages (from requests->transformers>=3.0.0->flair) (2020.6.20)\n",
      "Requirement already satisfied: click in /usr/local/lib/python3.6/dist-packages (from sacremoses->transformers>=3.0.0->flair) (7.1.2)\n",
      "Requirement already satisfied: boto3 in /usr/local/lib/python3.6/dist-packages (from smart-open>=1.2.1->gensim>=3.4.0->flair) (1.14.37)\n",
      "Requirement already satisfied: boto in /usr/local/lib/python3.6/dist-packages (from smart-open>=1.2.1->gensim>=3.4.0->flair) (2.49.0)\n",
      "Requirement already satisfied: decorator>=4.3.0 in /usr/local/lib/python3.6/dist-packages (from networkx->hyperopt>=0.1.1->flair) (4.4.2)\n",
      "Requirement already satisfied: zipp>=0.5 in /usr/local/lib/python3.6/dist-packages (from importlib-metadata>=0.12; python_version < \"3.8\"->pytest>=5.3.2->flair) (3.1.0)\n",
      "Requirement already satisfied: botocore<1.18.0,>=1.17.37 in /usr/local/lib/python3.6/dist-packages (from boto3->smart-open>=1.2.1->gensim>=3.4.0->flair) (1.17.37)\n",
      "Requirement already satisfied: s3transfer<0.4.0,>=0.3.0 in /usr/local/lib/python3.6/dist-packages (from boto3->smart-open>=1.2.1->gensim>=3.4.0->flair) (0.3.3)\n",
      "Requirement already satisfied: jmespath<1.0.0,>=0.7.1 in /usr/local/lib/python3.6/dist-packages (from boto3->smart-open>=1.2.1->gensim>=3.4.0->flair) (0.10.0)\n",
      "Requirement already satisfied: docutils<0.16,>=0.10 in /usr/local/lib/python3.6/dist-packages (from botocore<1.18.0,>=1.17.37->boto3->smart-open>=1.2.1->gensim>=3.4.0->flair) (0.15.2)\n",
      "Building wheels for collected packages: sqlitedict, segtok, mpld3, langdetect, sacremoses\n",
      "  Building wheel for sqlitedict (setup.py) ... \u001b[?25l\u001b[?25hdone\n",
      "  Created wheel for sqlitedict: filename=sqlitedict-1.6.0-cp36-none-any.whl size=14689 sha256=b41f035cd3f6a7f1f8f17c0893e2333360d6a956cae2080cc121197004153256\n",
      "  Stored in directory: /root/.cache/pip/wheels/bd/57/d3/907c3ee02d35e66f674ad0106e61f06eeeb98f6ee66a6cc3fe\n",
      "  Building wheel for segtok (setup.py) ... \u001b[?25l\u001b[?25hdone\n",
      "  Created wheel for segtok: filename=segtok-1.5.10-cp36-none-any.whl size=25020 sha256=5aa68185e07990fb9be1ab25a721cad2194db598ed07246984cb2d4ef2e8282e\n",
      "  Stored in directory: /root/.cache/pip/wheels/b4/39/f6/9ca1c5cabde964d728023b5751c3a206a5c8cc40252321fb6b\n",
      "  Building wheel for mpld3 (setup.py) ... \u001b[?25l\u001b[?25hdone\n",
      "  Created wheel for mpld3: filename=mpld3-0.3-cp36-none-any.whl size=116679 sha256=40e39b8bd1fcc31335a1d7a0a0de06086bb440f017a6b8b3669435d5c51fa321\n",
      "  Stored in directory: /root/.cache/pip/wheels/c0/47/fb/8a64f89aecfe0059830479308ad42d62e898a3e3cefdf6ba28\n",
      "  Building wheel for langdetect (setup.py) ... \u001b[?25l\u001b[?25hdone\n",
      "  Created wheel for langdetect: filename=langdetect-1.0.8-cp36-none-any.whl size=993193 sha256=d64007dc7c818ed2f26a4b65f806724d70a6c8dafd696d181382d3068caf339b\n",
      "  Stored in directory: /root/.cache/pip/wheels/8d/b3/aa/6d99de9f3841d7d3d40a60ea06e6d669e8e5012e6c8b947a57\n",
      "  Building wheel for sacremoses (setup.py) ... \u001b[?25l\u001b[?25hdone\n",
      "  Created wheel for sacremoses: filename=sacremoses-0.0.43-cp36-none-any.whl size=893260 sha256=e202796301ea9a6f6e8f78bce2097a5236f001a613958bb22ca2a4937749a9a3\n",
      "  Stored in directory: /root/.cache/pip/wheels/29/3c/fd/7ce5c3f0666dab31a50123635e6fb5e19ceb42ce38d4e58f45\n",
      "Successfully built sqlitedict segtok mpld3 langdetect sacremoses\n",
      "\u001b[31mERROR: datascience 0.10.6 has requirement folium==0.2.1, but you'll have folium 0.8.3 which is incompatible.\u001b[0m\n",
      "Installing collected packages: sacremoses, tokenizers, transformers, sqlitedict, pluggy, pytest, deprecated, segtok, bpemb, mpld3, langdetect, flair\n",
      "  Found existing installation: pluggy 0.7.1\n",
      "    Uninstalling pluggy-0.7.1:\n",
      "      Successfully uninstalled pluggy-0.7.1\n",
      "  Found existing installation: pytest 3.6.4\n",
      "    Uninstalling pytest-3.6.4:\n",
      "      Successfully uninstalled pytest-3.6.4\n",
      "Successfully installed bpemb-0.3.2 deprecated-1.2.10 flair-0.5.1 langdetect-1.0.8 mpld3-0.3 pluggy-0.13.1 pytest-6.0.1 sacremoses-0.0.43 segtok-1.5.10 sqlitedict-1.6.0 tokenizers-0.8.1rc1 transformers-3.0.2\n"
     ]
    }
   ],
   "source": [
    "!pip install --target=$nb_path flair"
   ]
  },
  {
   "cell_type": "code",
   "execution_count": null,
   "metadata": {
    "colab": {
     "base_uri": "https://localhost:8080/",
     "height": 332
    },
    "colab_type": "code",
    "id": "YaLeJ2Nk9RER",
    "outputId": "d35471e3-f01c-4317-9e1f-6c4010d7faca"
   },
   "outputs": [
    {
     "name": "stdout",
     "output_type": "stream",
     "text": [
      "Requirement already satisfied: gensim in /usr/local/lib/python3.6/dist-packages (3.6.0)\n",
      "Requirement already satisfied: smart-open>=1.2.1 in /usr/local/lib/python3.6/dist-packages (from gensim) (2.1.0)\n",
      "Requirement already satisfied: numpy>=1.11.3 in /usr/local/lib/python3.6/dist-packages (from gensim) (1.18.5)\n",
      "Requirement already satisfied: six>=1.5.0 in /usr/local/lib/python3.6/dist-packages (from gensim) (1.15.0)\n",
      "Requirement already satisfied: scipy>=0.18.1 in /usr/local/lib/python3.6/dist-packages (from gensim) (1.4.1)\n",
      "Requirement already satisfied: boto3 in /usr/local/lib/python3.6/dist-packages (from smart-open>=1.2.1->gensim) (1.14.37)\n",
      "Requirement already satisfied: boto in /usr/local/lib/python3.6/dist-packages (from smart-open>=1.2.1->gensim) (2.49.0)\n",
      "Requirement already satisfied: requests in /usr/local/lib/python3.6/dist-packages (from smart-open>=1.2.1->gensim) (2.23.0)\n",
      "Requirement already satisfied: s3transfer<0.4.0,>=0.3.0 in /usr/local/lib/python3.6/dist-packages (from boto3->smart-open>=1.2.1->gensim) (0.3.3)\n",
      "Requirement already satisfied: jmespath<1.0.0,>=0.7.1 in /usr/local/lib/python3.6/dist-packages (from boto3->smart-open>=1.2.1->gensim) (0.10.0)\n",
      "Requirement already satisfied: botocore<1.18.0,>=1.17.37 in /usr/local/lib/python3.6/dist-packages (from boto3->smart-open>=1.2.1->gensim) (1.17.37)\n",
      "Requirement already satisfied: chardet<4,>=3.0.2 in /usr/local/lib/python3.6/dist-packages (from requests->smart-open>=1.2.1->gensim) (3.0.4)\n",
      "Requirement already satisfied: urllib3!=1.25.0,!=1.25.1,<1.26,>=1.21.1 in /usr/local/lib/python3.6/dist-packages (from requests->smart-open>=1.2.1->gensim) (1.24.3)\n",
      "Requirement already satisfied: certifi>=2017.4.17 in /usr/local/lib/python3.6/dist-packages (from requests->smart-open>=1.2.1->gensim) (2020.6.20)\n",
      "Requirement already satisfied: idna<3,>=2.5 in /usr/local/lib/python3.6/dist-packages (from requests->smart-open>=1.2.1->gensim) (2.10)\n",
      "Requirement already satisfied: python-dateutil<3.0.0,>=2.1 in /usr/local/lib/python3.6/dist-packages (from botocore<1.18.0,>=1.17.37->boto3->smart-open>=1.2.1->gensim) (2.8.1)\n",
      "Requirement already satisfied: docutils<0.16,>=0.10 in /usr/local/lib/python3.6/dist-packages (from botocore<1.18.0,>=1.17.37->boto3->smart-open>=1.2.1->gensim) (0.15.2)\n"
     ]
    }
   ],
   "source": [
    "!pip install --target=$nb_path gensim"
   ]
  },
  {
   "cell_type": "code",
   "execution_count": null,
   "metadata": {
    "colab": {
     "base_uri": "https://localhost:8080/",
     "height": 121
    },
    "colab_type": "code",
    "id": "I1VQ97Ys9XB4",
    "outputId": "cc518e4c-08d8-4567-a970-cd357a673a26"
   },
   "outputs": [
    {
     "name": "stdout",
     "output_type": "stream",
     "text": [
      "Processing /root/.cache/pip/wheels/98/ba/7f/b154944a1cf5a8cee91c154b75231136cc3a3321ab0e30f592/fasttext-0.9.2-cp36-cp36m-linux_x86_64.whl\n",
      "Requirement already satisfied: pybind11>=2.2 in /usr/local/lib/python3.6/dist-packages (from fasttext) (2.5.0)\n",
      "Requirement already satisfied: setuptools>=0.7.0 in /usr/local/lib/python3.6/dist-packages (from fasttext) (49.2.0)\n",
      "Requirement already satisfied: numpy in /usr/local/lib/python3.6/dist-packages (from fasttext) (1.18.5)\n",
      "Installing collected packages: fasttext\n",
      "Successfully installed fasttext-0.9.2\n"
     ]
    }
   ],
   "source": [
    "!pip install --target=$nb_path fasttext"
   ]
  },
  {
   "cell_type": "markdown",
   "metadata": {
    "colab_type": "text",
    "id": "ZwhNQjvUZOce"
   },
   "source": [
    "### GloVe"
   ]
  },
  {
   "cell_type": "code",
   "execution_count": null,
   "metadata": {
    "colab": {
     "base_uri": "https://localhost:8080/",
     "height": 1000
    },
    "colab_type": "code",
    "id": "HSQIhhnCwd7s",
    "outputId": "bc032c4f-5dc5-475a-b1ef-840aeb03cf63"
   },
   "outputs": [
    {
     "name": "stdout",
     "output_type": "stream",
     "text": [
      "Collecting flair\n",
      "\u001b[?25l  Downloading https://files.pythonhosted.org/packages/60/8f/51d1f2eb5f9b09beb1e6858b4c174a087bc3b05893438e2cd3ffbf9c6e8b/flair-0.5.1-py3-none-any.whl (201kB)\n",
      "\r",
      "\u001b[K     |█▋                              | 10kB 18.1MB/s eta 0:00:01\r",
      "\u001b[K     |███▎                            | 20kB 4.6MB/s eta 0:00:01\r",
      "\u001b[K     |████▉                           | 30kB 5.5MB/s eta 0:00:01\r",
      "\u001b[K     |██████▌                         | 40kB 6.5MB/s eta 0:00:01\r",
      "\u001b[K     |████████▏                       | 51kB 5.1MB/s eta 0:00:01\r",
      "\u001b[K     |█████████▊                      | 61kB 5.7MB/s eta 0:00:01\r",
      "\u001b[K     |███████████▍                    | 71kB 6.1MB/s eta 0:00:01\r",
      "\u001b[K     |█████████████                   | 81kB 6.7MB/s eta 0:00:01\r",
      "\u001b[K     |██████████████▋                 | 92kB 7.0MB/s eta 0:00:01\r",
      "\u001b[K     |████████████████▎               | 102kB 6.8MB/s eta 0:00:01\r",
      "\u001b[K     |██████████████████              | 112kB 6.8MB/s eta 0:00:01\r",
      "\u001b[K     |███████████████████▌            | 122kB 6.8MB/s eta 0:00:01\r",
      "\u001b[K     |█████████████████████▏          | 133kB 6.8MB/s eta 0:00:01\r",
      "\u001b[K     |██████████████████████▉         | 143kB 6.8MB/s eta 0:00:01\r",
      "\u001b[K     |████████████████████████▍       | 153kB 6.8MB/s eta 0:00:01\r",
      "\u001b[K     |██████████████████████████      | 163kB 6.8MB/s eta 0:00:01\r",
      "\u001b[K     |███████████████████████████▋    | 174kB 6.8MB/s eta 0:00:01\r",
      "\u001b[K     |█████████████████████████████▎  | 184kB 6.8MB/s eta 0:00:01\r",
      "\u001b[K     |███████████████████████████████ | 194kB 6.8MB/s eta 0:00:01\r",
      "\u001b[K     |████████████████████████████████| 204kB 6.8MB/s \n",
      "\u001b[?25hCollecting pytest>=5.3.2\n",
      "\u001b[?25l  Downloading https://files.pythonhosted.org/packages/98/db/712bee56f9ab20373508a5a1c662e1db49b407dacf03b5224c6171ed0a3d/pytest-6.0.1-py3-none-any.whl (270kB)\n",
      "\r",
      "\u001b[K     |█▏                              | 10kB 22.7MB/s eta 0:00:01\r",
      "\u001b[K     |██▍                             | 20kB 26.6MB/s eta 0:00:01\r",
      "\u001b[K     |███▋                            | 30kB 25.7MB/s eta 0:00:01\r",
      "\u001b[K     |████▉                           | 40kB 19.1MB/s eta 0:00:01\r",
      "\u001b[K     |██████                          | 51kB 16.7MB/s eta 0:00:01\r",
      "\u001b[K     |███████▎                        | 61kB 15.6MB/s eta 0:00:01\r",
      "\u001b[K     |████████▌                       | 71kB 14.4MB/s eta 0:00:01\r",
      "\u001b[K     |█████████▊                      | 81kB 14.0MB/s eta 0:00:01\r",
      "\u001b[K     |███████████                     | 92kB 13.7MB/s eta 0:00:01\r",
      "\u001b[K     |████████████                    | 102kB 13.1MB/s eta 0:00:01\r",
      "\u001b[K     |█████████████▎                  | 112kB 13.1MB/s eta 0:00:01\r",
      "\u001b[K     |██████████████▌                 | 122kB 13.1MB/s eta 0:00:01\r",
      "\u001b[K     |███████████████▊                | 133kB 13.1MB/s eta 0:00:01\r",
      "\u001b[K     |█████████████████               | 143kB 13.1MB/s eta 0:00:01\r",
      "\u001b[K     |██████████████████▏             | 153kB 13.1MB/s eta 0:00:01\r",
      "\u001b[K     |███████████████████▍            | 163kB 13.1MB/s eta 0:00:01\r",
      "\u001b[K     |████████████████████▋           | 174kB 13.1MB/s eta 0:00:01\r",
      "\u001b[K     |█████████████████████▉          | 184kB 13.1MB/s eta 0:00:01\r",
      "\u001b[K     |███████████████████████         | 194kB 13.1MB/s eta 0:00:01\r",
      "\u001b[K     |████████████████████████▏       | 204kB 13.1MB/s eta 0:00:01\r",
      "\u001b[K     |█████████████████████████▍      | 215kB 13.1MB/s eta 0:00:01\r",
      "\u001b[K     |██████████████████████████▋     | 225kB 13.1MB/s eta 0:00:01\r",
      "\u001b[K     |███████████████████████████▉    | 235kB 13.1MB/s eta 0:00:01\r",
      "\u001b[K     |█████████████████████████████   | 245kB 13.1MB/s eta 0:00:01\r",
      "\u001b[K     |██████████████████████████████▎ | 256kB 13.1MB/s eta 0:00:01\r",
      "\u001b[K     |███████████████████████████████▌| 266kB 13.1MB/s eta 0:00:01\r",
      "\u001b[K     |████████████████████████████████| 276kB 13.1MB/s \n",
      "\u001b[?25hRequirement already satisfied: python-dateutil>=2.6.1 in /usr/local/lib/python3.6/dist-packages (from flair) (2.8.1)\n",
      "Requirement already satisfied: gensim>=3.4.0 in /usr/local/lib/python3.6/dist-packages (from flair) (3.6.0)\n",
      "Requirement already satisfied: matplotlib>=2.2.3 in /usr/local/lib/python3.6/dist-packages (from flair) (3.2.2)\n",
      "Requirement already satisfied: hyperopt>=0.1.1 in /usr/local/lib/python3.6/dist-packages (from flair) (0.1.2)\n",
      "Collecting mpld3==0.3\n",
      "\u001b[?25l  Downloading https://files.pythonhosted.org/packages/91/95/a52d3a83d0a29ba0d6898f6727e9858fe7a43f6c2ce81a5fe7e05f0f4912/mpld3-0.3.tar.gz (788kB)\n",
      "\u001b[K     |████████████████████████████████| 798kB 23.4MB/s \n",
      "\u001b[?25hCollecting sentencepiece!=0.1.92\n",
      "\u001b[?25l  Downloading https://files.pythonhosted.org/packages/d4/a4/d0a884c4300004a78cca907a6ff9a5e9fe4f090f5d95ab341c53d28cbc58/sentencepiece-0.1.91-cp36-cp36m-manylinux1_x86_64.whl (1.1MB)\n",
      "\u001b[K     |████████████████████████████████| 1.1MB 40.8MB/s \n",
      "\u001b[?25hCollecting transformers>=3.0.0\n",
      "\u001b[?25l  Downloading https://files.pythonhosted.org/packages/27/3c/91ed8f5c4e7ef3227b4119200fc0ed4b4fd965b1f0172021c25701087825/transformers-3.0.2-py3-none-any.whl (769kB)\n",
      "\u001b[K     |████████████████████████████████| 778kB 41.2MB/s \n",
      "\u001b[?25hRequirement already satisfied: torch>=1.1.0 in /usr/local/lib/python3.6/dist-packages (from flair) (1.6.0+cu101)\n",
      "Collecting bpemb>=0.2.9\n",
      "  Downloading https://files.pythonhosted.org/packages/91/77/3f0f53856e86af32b1d3c86652815277f7b5f880002584eb30db115b6df5/bpemb-0.3.2-py3-none-any.whl\n",
      "Requirement already satisfied: tqdm>=4.26.0 in /usr/local/lib/python3.6/dist-packages (from flair) (4.41.1)\n",
      "Collecting sqlitedict>=1.6.0\n",
      "  Downloading https://files.pythonhosted.org/packages/0f/1c/c757b93147a219cf1e25cef7e1ad9b595b7f802159493c45ce116521caff/sqlitedict-1.6.0.tar.gz\n",
      "Collecting langdetect\n",
      "\u001b[?25l  Downloading https://files.pythonhosted.org/packages/56/a3/8407c1e62d5980188b4acc45ef3d94b933d14a2ebc9ef3505f22cf772570/langdetect-1.0.8.tar.gz (981kB)\n",
      "\u001b[K     |████████████████████████████████| 983kB 37.0MB/s \n",
      "\u001b[?25hCollecting segtok>=1.5.7\n",
      "  Downloading https://files.pythonhosted.org/packages/41/08/582dab5f4b1d5ca23bc6927b4bb977c8ff7f3a87a3b98844ef833e2f5623/segtok-1.5.10.tar.gz\n",
      "Requirement already satisfied: scikit-learn>=0.21.3 in /usr/local/lib/python3.6/dist-packages (from flair) (0.22.2.post1)\n",
      "Collecting deprecated>=1.2.4\n",
      "  Downloading https://files.pythonhosted.org/packages/76/a1/05d7f62f956d77b23a640efc650f80ce24483aa2f85a09c03fb64f49e879/Deprecated-1.2.10-py2.py3-none-any.whl\n",
      "Requirement already satisfied: regex in /usr/local/lib/python3.6/dist-packages (from flair) (2019.12.20)\n",
      "Requirement already satisfied: tabulate in /usr/local/lib/python3.6/dist-packages (from flair) (0.8.7)\n",
      "Requirement already satisfied: attrs>=17.4.0 in /usr/local/lib/python3.6/dist-packages (from pytest>=5.3.2->flair) (19.3.0)\n",
      "Collecting pluggy<1.0,>=0.12\n",
      "  Downloading https://files.pythonhosted.org/packages/a0/28/85c7aa31b80d150b772fbe4a229487bc6644da9ccb7e427dd8cc60cb8a62/pluggy-0.13.1-py2.py3-none-any.whl\n",
      "Requirement already satisfied: iniconfig in /usr/local/lib/python3.6/dist-packages (from pytest>=5.3.2->flair) (1.0.1)\n",
      "Requirement already satisfied: py>=1.8.2 in /usr/local/lib/python3.6/dist-packages (from pytest>=5.3.2->flair) (1.9.0)\n",
      "Requirement already satisfied: toml in /usr/local/lib/python3.6/dist-packages (from pytest>=5.3.2->flair) (0.10.1)\n",
      "Requirement already satisfied: packaging in /usr/local/lib/python3.6/dist-packages (from pytest>=5.3.2->flair) (20.4)\n",
      "Requirement already satisfied: more-itertools>=4.0.0 in /usr/local/lib/python3.6/dist-packages (from pytest>=5.3.2->flair) (8.4.0)\n",
      "Requirement already satisfied: importlib-metadata>=0.12; python_version < \"3.8\" in /usr/local/lib/python3.6/dist-packages (from pytest>=5.3.2->flair) (1.7.0)\n",
      "Requirement already satisfied: six>=1.5 in /usr/local/lib/python3.6/dist-packages (from python-dateutil>=2.6.1->flair) (1.15.0)\n",
      "Requirement already satisfied: scipy>=0.18.1 in /usr/local/lib/python3.6/dist-packages (from gensim>=3.4.0->flair) (1.4.1)\n",
      "Requirement already satisfied: smart-open>=1.2.1 in /usr/local/lib/python3.6/dist-packages (from gensim>=3.4.0->flair) (2.1.0)\n",
      "Requirement already satisfied: numpy>=1.11.3 in /usr/local/lib/python3.6/dist-packages (from gensim>=3.4.0->flair) (1.18.5)\n",
      "Requirement already satisfied: pyparsing!=2.0.4,!=2.1.2,!=2.1.6,>=2.0.1 in /usr/local/lib/python3.6/dist-packages (from matplotlib>=2.2.3->flair) (2.4.7)\n",
      "Requirement already satisfied: cycler>=0.10 in /usr/local/lib/python3.6/dist-packages (from matplotlib>=2.2.3->flair) (0.10.0)\n",
      "Requirement already satisfied: kiwisolver>=1.0.1 in /usr/local/lib/python3.6/dist-packages (from matplotlib>=2.2.3->flair) (1.2.0)\n",
      "Requirement already satisfied: pymongo in /usr/local/lib/python3.6/dist-packages (from hyperopt>=0.1.1->flair) (3.11.0)\n",
      "Requirement already satisfied: future in /usr/local/lib/python3.6/dist-packages (from hyperopt>=0.1.1->flair) (0.16.0)\n",
      "Requirement already satisfied: networkx in /usr/local/lib/python3.6/dist-packages (from hyperopt>=0.1.1->flair) (2.4)\n",
      "Requirement already satisfied: dataclasses; python_version < \"3.7\" in /usr/local/lib/python3.6/dist-packages (from transformers>=3.0.0->flair) (0.7)\n",
      "Collecting tokenizers==0.8.1.rc1\n",
      "\u001b[?25l  Downloading https://files.pythonhosted.org/packages/40/d0/30d5f8d221a0ed981a186c8eb986ce1c94e3a6e87f994eae9f4aa5250217/tokenizers-0.8.1rc1-cp36-cp36m-manylinux1_x86_64.whl (3.0MB)\n",
      "\u001b[K     |████████████████████████████████| 3.0MB 42.8MB/s \n",
      "\u001b[?25hRequirement already satisfied: filelock in /usr/local/lib/python3.6/dist-packages (from transformers>=3.0.0->flair) (3.0.12)\n",
      "Requirement already satisfied: requests in /usr/local/lib/python3.6/dist-packages (from transformers>=3.0.0->flair) (2.23.0)\n",
      "Collecting sacremoses\n",
      "\u001b[?25l  Downloading https://files.pythonhosted.org/packages/7d/34/09d19aff26edcc8eb2a01bed8e98f13a1537005d31e95233fd48216eed10/sacremoses-0.0.43.tar.gz (883kB)\n",
      "\u001b[K     |████████████████████████████████| 890kB 41.7MB/s \n",
      "\u001b[?25hRequirement already satisfied: joblib>=0.11 in /usr/local/lib/python3.6/dist-packages (from scikit-learn>=0.21.3->flair) (0.16.0)\n",
      "Requirement already satisfied: wrapt<2,>=1.10 in /usr/local/lib/python3.6/dist-packages (from deprecated>=1.2.4->flair) (1.12.1)\n",
      "Requirement already satisfied: zipp>=0.5 in /usr/local/lib/python3.6/dist-packages (from importlib-metadata>=0.12; python_version < \"3.8\"->pytest>=5.3.2->flair) (3.1.0)\n",
      "Requirement already satisfied: boto in /usr/local/lib/python3.6/dist-packages (from smart-open>=1.2.1->gensim>=3.4.0->flair) (2.49.0)\n",
      "Requirement already satisfied: boto3 in /usr/local/lib/python3.6/dist-packages (from smart-open>=1.2.1->gensim>=3.4.0->flair) (1.14.37)\n",
      "Requirement already satisfied: decorator>=4.3.0 in /usr/local/lib/python3.6/dist-packages (from networkx->hyperopt>=0.1.1->flair) (4.4.2)\n",
      "Requirement already satisfied: idna<3,>=2.5 in /usr/local/lib/python3.6/dist-packages (from requests->transformers>=3.0.0->flair) (2.10)\n",
      "Requirement already satisfied: urllib3!=1.25.0,!=1.25.1,<1.26,>=1.21.1 in /usr/local/lib/python3.6/dist-packages (from requests->transformers>=3.0.0->flair) (1.24.3)\n",
      "Requirement already satisfied: chardet<4,>=3.0.2 in /usr/local/lib/python3.6/dist-packages (from requests->transformers>=3.0.0->flair) (3.0.4)\n",
      "Requirement already satisfied: certifi>=2017.4.17 in /usr/local/lib/python3.6/dist-packages (from requests->transformers>=3.0.0->flair) (2020.6.20)\n",
      "Requirement already satisfied: click in /usr/local/lib/python3.6/dist-packages (from sacremoses->transformers>=3.0.0->flair) (7.1.2)\n",
      "Requirement already satisfied: jmespath<1.0.0,>=0.7.1 in /usr/local/lib/python3.6/dist-packages (from boto3->smart-open>=1.2.1->gensim>=3.4.0->flair) (0.10.0)\n",
      "Requirement already satisfied: s3transfer<0.4.0,>=0.3.0 in /usr/local/lib/python3.6/dist-packages (from boto3->smart-open>=1.2.1->gensim>=3.4.0->flair) (0.3.3)\n",
      "Requirement already satisfied: botocore<1.18.0,>=1.17.37 in /usr/local/lib/python3.6/dist-packages (from boto3->smart-open>=1.2.1->gensim>=3.4.0->flair) (1.17.37)\n",
      "Requirement already satisfied: docutils<0.16,>=0.10 in /usr/local/lib/python3.6/dist-packages (from botocore<1.18.0,>=1.17.37->boto3->smart-open>=1.2.1->gensim>=3.4.0->flair) (0.15.2)\n",
      "Building wheels for collected packages: mpld3, sqlitedict, langdetect, segtok, sacremoses\n",
      "  Building wheel for mpld3 (setup.py) ... \u001b[?25l\u001b[?25hdone\n",
      "  Created wheel for mpld3: filename=mpld3-0.3-cp36-none-any.whl size=116679 sha256=1bcef292d9265e8e8e8bf05d623dddf4e105a6329b9361d23e13487e23fd3f80\n",
      "  Stored in directory: /root/.cache/pip/wheels/c0/47/fb/8a64f89aecfe0059830479308ad42d62e898a3e3cefdf6ba28\n",
      "  Building wheel for sqlitedict (setup.py) ... \u001b[?25l\u001b[?25hdone\n",
      "  Created wheel for sqlitedict: filename=sqlitedict-1.6.0-cp36-none-any.whl size=14689 sha256=d558c0e15ad3e3b05d8ccf8e7a65cefd5e1eee5797da209123b89f55b26c2116\n",
      "  Stored in directory: /root/.cache/pip/wheels/bd/57/d3/907c3ee02d35e66f674ad0106e61f06eeeb98f6ee66a6cc3fe\n",
      "  Building wheel for langdetect (setup.py) ... \u001b[?25l\u001b[?25hdone\n",
      "  Created wheel for langdetect: filename=langdetect-1.0.8-cp36-none-any.whl size=993193 sha256=70e5c066a30779d1a43788aac4ef6edaccda7ea1154b3b879a7bfdc68d9b3831\n",
      "  Stored in directory: /root/.cache/pip/wheels/8d/b3/aa/6d99de9f3841d7d3d40a60ea06e6d669e8e5012e6c8b947a57\n",
      "  Building wheel for segtok (setup.py) ... \u001b[?25l\u001b[?25hdone\n",
      "  Created wheel for segtok: filename=segtok-1.5.10-cp36-none-any.whl size=25020 sha256=70d1311e445a1119628395f70b8737ffe39c732499f6c1c01b2dfea860c36c9c\n",
      "  Stored in directory: /root/.cache/pip/wheels/b4/39/f6/9ca1c5cabde964d728023b5751c3a206a5c8cc40252321fb6b\n",
      "  Building wheel for sacremoses (setup.py) ... \u001b[?25l\u001b[?25hdone\n",
      "  Created wheel for sacremoses: filename=sacremoses-0.0.43-cp36-none-any.whl size=893260 sha256=2aee29f9f87f8793c2b43b087523ffff9b8c91df26f66e1a1cb8b190a1b676fb\n",
      "  Stored in directory: /root/.cache/pip/wheels/29/3c/fd/7ce5c3f0666dab31a50123635e6fb5e19ceb42ce38d4e58f45\n",
      "Successfully built mpld3 sqlitedict langdetect segtok sacremoses\n",
      "\u001b[31mERROR: datascience 0.10.6 has requirement folium==0.2.1, but you'll have folium 0.8.3 which is incompatible.\u001b[0m\n",
      "Installing collected packages: pluggy, pytest, mpld3, sentencepiece, tokenizers, sacremoses, transformers, bpemb, sqlitedict, langdetect, segtok, deprecated, flair\n",
      "  Found existing installation: pluggy 0.7.1\n",
      "    Uninstalling pluggy-0.7.1:\n",
      "      Successfully uninstalled pluggy-0.7.1\n",
      "  Found existing installation: pytest 3.6.4\n",
      "    Uninstalling pytest-3.6.4:\n",
      "      Successfully uninstalled pytest-3.6.4\n",
      "Successfully installed bpemb-0.3.2 deprecated-1.2.10 flair-0.5.1 langdetect-1.0.8 mpld3-0.3 pluggy-0.13.1 pytest-6.0.1 sacremoses-0.0.43 segtok-1.5.10 sentencepiece-0.1.91 sqlitedict-1.6.0 tokenizers-0.8.1rc1 transformers-3.0.2\n"
     ]
    }
   ],
   "source": [
    "!pip install flair"
   ]
  },
  {
   "cell_type": "code",
   "execution_count": null,
   "metadata": {
    "colab": {
     "base_uri": "https://localhost:8080/",
     "height": 211
    },
    "colab_type": "code",
    "id": "oO3l-dgJqzjC",
    "outputId": "c135ab8e-f7ab-4ab9-fe79-fdaba344973b"
   },
   "outputs": [
    {
     "name": "stdout",
     "output_type": "stream",
     "text": [
      "2020-08-13 07:39:39,430 https://s3.eu-central-1.amazonaws.com/alan-nlp/resources/embeddings/glove.gensim.vectors.npy not found in cache, downloading to /tmp/tmpatk5pd6f\n"
     ]
    },
    {
     "name": "stderr",
     "output_type": "stream",
     "text": [
      "100%|██████████| 160000128/160000128 [00:02<00:00, 53591805.05B/s]"
     ]
    },
    {
     "name": "stdout",
     "output_type": "stream",
     "text": [
      "2020-08-13 07:39:42,532 copying /tmp/tmpatk5pd6f to cache at /root/.flair/embeddings/glove.gensim.vectors.npy\n"
     ]
    },
    {
     "name": "stderr",
     "output_type": "stream",
     "text": [
      "\n"
     ]
    },
    {
     "name": "stdout",
     "output_type": "stream",
     "text": [
      "2020-08-13 07:39:42,846 removing temp file /tmp/tmpatk5pd6f\n",
      "2020-08-13 07:39:42,929 https://s3.eu-central-1.amazonaws.com/alan-nlp/resources/embeddings/glove.gensim not found in cache, downloading to /tmp/tmposhz4k89\n"
     ]
    },
    {
     "name": "stderr",
     "output_type": "stream",
     "text": [
      "100%|██████████| 21494764/21494764 [00:00<00:00, 47607029.79B/s]"
     ]
    },
    {
     "name": "stdout",
     "output_type": "stream",
     "text": [
      "2020-08-13 07:39:43,474 copying /tmp/tmposhz4k89 to cache at /root/.flair/embeddings/glove.gensim\n",
      "2020-08-13 07:39:43,504 removing temp file /tmp/tmposhz4k89\n"
     ]
    },
    {
     "name": "stderr",
     "output_type": "stream",
     "text": [
      "\n",
      "/usr/local/lib/python3.6/dist-packages/smart_open/smart_open_lib.py:254: UserWarning: This function is deprecated, use smart_open.open instead. See the migration notes for details: https://github.com/RaRe-Technologies/smart_open/blob/master/README.rst#migrating-to-the-new-open-function\n",
      "  'See the migration notes for details: %s' % _MIGRATION_NOTES_URL\n"
     ]
    }
   ],
   "source": [
    "from flair.embeddings import WordEmbeddings, BertEmbeddings, ELMoEmbeddings\n",
    "\n",
    "glove = WordEmbeddings('glove')"
   ]
  },
  {
   "cell_type": "code",
   "execution_count": null,
   "metadata": {
    "colab": {
     "base_uri": "https://localhost:8080/",
     "height": 34
    },
    "colab_type": "code",
    "id": "GHdBKd2SqwLn",
    "outputId": "cbe50a30-16a0-4462-93de-23393c3837de"
   },
   "outputs": [
    {
     "data": {
      "text/plain": [
       "[Sentence: \"A band is a musical group but a band is also a ring you put on your finger.\"   [− Tokens: 18]]"
      ]
     },
     "execution_count": 7,
     "metadata": {
      "tags": []
     },
     "output_type": "execute_result"
    }
   ],
   "source": [
    "text1 = \"Delivering an address means to give a speech at an event but an address describes also the place where you live.\"\n",
    "text = \"A band is a musical group but a band is also a ring you put on your finger.\"\n",
    "sentence = Sentence(text) # tokenize data and store in flairs inner format\n",
    "glove.embed(sentence) # add the stacked embedding"
   ]
  },
  {
   "cell_type": "code",
   "execution_count": null,
   "metadata": {
    "colab": {
     "base_uri": "https://localhost:8080/",
     "height": 330
    },
    "colab_type": "code",
    "id": "8kEASwlIwsUP",
    "outputId": "8980550e-d42a-4f88-faed-fc7ee1964fa8"
   },
   "outputs": [
    {
     "name": "stdout",
     "output_type": "stream",
     "text": [
      "'A': tensor([-0.2709,  0.0440, -0.0203, -0.1740,  0.6444], device='cuda:0') (Vektorlänge: 100)\n",
      "'band': tensor([-0.1216, -0.2435,  0.0302, -1.2775,  0.6242], device='cuda:0') (Vektorlänge: 100)\n",
      "'is': tensor([-0.5426,  0.4148,  1.0322, -0.4024,  0.4669], device='cuda:0') (Vektorlänge: 100)\n",
      "'a': tensor([-0.2709,  0.0440, -0.0203, -0.1740,  0.6444], device='cuda:0') (Vektorlänge: 100)\n",
      "'musical': tensor([ 0.5539,  0.4077, -0.0672,  0.1415,  0.7471], device='cuda:0') (Vektorlänge: 100)\n",
      "'group': tensor([ 0.0610,  0.3868, -0.2595, -0.4500,  0.6382], device='cuda:0') (Vektorlänge: 100)\n",
      "'but': tensor([-0.0571,  0.3987,  0.6886, -0.6815, -0.4558], device='cuda:0') (Vektorlänge: 100)\n",
      "'a': tensor([-0.2709,  0.0440, -0.0203, -0.1740,  0.6444], device='cuda:0') (Vektorlänge: 100)\n",
      "'band': tensor([-0.1216, -0.2435,  0.0302, -1.2775,  0.6242], device='cuda:0') (Vektorlänge: 100)\n",
      "'is': tensor([-0.5426,  0.4148,  1.0322, -0.4024,  0.4669], device='cuda:0') (Vektorlänge: 100)\n",
      "'also': tensor([-0.3382,  0.0646, -0.0326, -0.2945,  0.8413], device='cuda:0') (Vektorlänge: 100)\n",
      "'a': tensor([-0.2709,  0.0440, -0.0203, -0.1740,  0.6444], device='cuda:0') (Vektorlänge: 100)\n",
      "'ring': tensor([ 0.7133, -0.0441, -0.0516, -0.5621,  0.4645], device='cuda:0') (Vektorlänge: 100)\n",
      "'you': tensor([-0.4989,  0.7660,  0.8975, -0.7855, -0.6855], device='cuda:0') (Vektorlänge: 100)\n",
      "'put': tensor([-0.3754, -0.0166, -0.0087, -0.5152, -0.0310], device='cuda:0') (Vektorlänge: 100)\n",
      "'on': tensor([-0.2186, -0.4266,  0.5196,  0.0043,  0.5804], device='cuda:0') (Vektorlänge: 100)\n",
      "'your': tensor([-0.5718,  0.0463,  0.8673, -0.5903, -0.6493], device='cuda:0') (Vektorlänge: 100)\n",
      "'finger.': tensor([0., 0., 0., 0., 0.], device='cuda:0') (Vektorlänge: 100)\n"
     ]
    }
   ],
   "source": [
    "for token in sentence:\n",
    "  print(f\"'{token.text}': {token.embedding[:5]} \" +\n",
    "f\"(Vektorlänge: {len(token.embedding)})\")"
   ]
  },
  {
   "cell_type": "code",
   "execution_count": null,
   "metadata": {
    "colab": {
     "base_uri": "https://localhost:8080/",
     "height": 330
    },
    "colab_type": "code",
    "id": "D4ID6HIGHmyp",
    "outputId": "1bcfc71a-469f-4ba2-c46a-e646faa8a70a"
   },
   "outputs": [
    {
     "name": "stdout",
     "output_type": "stream",
     "text": [
      "'A': tensor([-0.2709,  0.0440, -0.0203, -0.1740,  0.6444], device='cuda:0') (Vektorlänge: 100)\n",
      "'band': tensor([-0.1216, -0.2435,  0.0302, -1.2775,  0.6242], device='cuda:0') (Vektorlänge: 100)\n",
      "'is': tensor([-0.5426,  0.4148,  1.0322, -0.4024,  0.4669], device='cuda:0') (Vektorlänge: 100)\n",
      "'a': tensor([-0.2709,  0.0440, -0.0203, -0.1740,  0.6444], device='cuda:0') (Vektorlänge: 100)\n",
      "'musical': tensor([ 0.5539,  0.4077, -0.0672,  0.1415,  0.7471], device='cuda:0') (Vektorlänge: 100)\n",
      "'group': tensor([ 0.0610,  0.3868, -0.2595, -0.4500,  0.6382], device='cuda:0') (Vektorlänge: 100)\n",
      "'but': tensor([-0.0571,  0.3987,  0.6886, -0.6815, -0.4558], device='cuda:0') (Vektorlänge: 100)\n",
      "'a': tensor([-0.2709,  0.0440, -0.0203, -0.1740,  0.6444], device='cuda:0') (Vektorlänge: 100)\n",
      "'band': tensor([-0.1216, -0.2435,  0.0302, -1.2775,  0.6242], device='cuda:0') (Vektorlänge: 100)\n",
      "'is': tensor([-0.5426,  0.4148,  1.0322, -0.4024,  0.4669], device='cuda:0') (Vektorlänge: 100)\n",
      "'also': tensor([-0.3382,  0.0646, -0.0326, -0.2945,  0.8413], device='cuda:0') (Vektorlänge: 100)\n",
      "'a': tensor([-0.2709,  0.0440, -0.0203, -0.1740,  0.6444], device='cuda:0') (Vektorlänge: 100)\n",
      "'ring': tensor([ 0.7133, -0.0441, -0.0516, -0.5621,  0.4645], device='cuda:0') (Vektorlänge: 100)\n",
      "'you': tensor([-0.4989,  0.7660,  0.8975, -0.7855, -0.6855], device='cuda:0') (Vektorlänge: 100)\n",
      "'put': tensor([-0.3754, -0.0166, -0.0087, -0.5152, -0.0310], device='cuda:0') (Vektorlänge: 100)\n",
      "'on': tensor([-0.2186, -0.4266,  0.5196,  0.0043,  0.5804], device='cuda:0') (Vektorlänge: 100)\n",
      "'your': tensor([-0.5718,  0.0463,  0.8673, -0.5903, -0.6493], device='cuda:0') (Vektorlänge: 100)\n",
      "'finger.': tensor([0., 0., 0., 0., 0.], device='cuda:0') (Vektorlänge: 100)\n"
     ]
    }
   ],
   "source": [
    "glove_tensors = []\n",
    "for token in sentence:\n",
    "  if token.text == \"band\":\n",
    "    glove_tensors.append(token.embedding)\n",
    "  print(f\"'{token.text}': {token.embedding[:5]} \" +\n",
    "f\"(Vektorlänge: {len(token.embedding)})\")"
   ]
  },
  {
   "cell_type": "code",
   "execution_count": null,
   "metadata": {
    "colab": {
     "base_uri": "https://localhost:8080/",
     "height": 34
    },
    "colab_type": "code",
    "id": "X2UI_z4FHhHP",
    "outputId": "bac75b27-2e4a-4d7f-c8d6-a3c8ca0578be"
   },
   "outputs": [
    {
     "name": "stdout",
     "output_type": "stream",
     "text": [
      "Die Vektoren der beiden unterschiedlichen Bedeutungen von 'band' unterscheiden sich bei GloVe in 0 von 3072 Stellen\n"
     ]
    }
   ],
   "source": [
    "diff = glove_tensors[1] - glove_tensors[0]\n",
    "print(\"Die Vektoren der beiden unterschiedlichen Bedeutungen \" +\n",
    "\"von 'band' unterscheiden sich bei GloVe in \" +\n",
    "str(len([i for i in diff.tolist() if i != 0])) + ' von 3072 Stellen')"
   ]
  },
  {
   "cell_type": "code",
   "execution_count": null,
   "metadata": {
    "colab": {
     "base_uri": "https://localhost:8080/",
     "height": 382
    },
    "colab_type": "code",
    "id": "WJyJrm7YZXSf",
    "outputId": "4aba845a-8aca-4f48-9cf6-7609cc04ff48"
   },
   "outputs": [
    {
     "data": {
      "text/plain": [
       "tensor([ 4.2104e-01, -6.5824e-01, -1.0020e+00, -8.7506e-01,  1.5732e-01,\n",
       "         1.7390e-01,  1.4027e-01, -2.6911e-01, -6.1497e-01,  3.5972e-01,\n",
       "         3.9325e-01, -4.6603e-01, -1.6016e-01,  1.4485e-01,  2.5860e-01,\n",
       "        -1.9007e-01,  2.9901e-01, -7.0316e-01,  5.1471e-01, -2.2466e-01,\n",
       "         5.8002e-01, -7.5191e-01, -4.3701e-01, -3.7704e-01, -3.5274e-01,\n",
       "        -3.9100e-03, -1.0690e-01,  2.7760e-02,  2.2789e+00,  3.2356e-01,\n",
       "         4.2592e-01, -3.8521e-01, -4.2079e-01,  4.8114e-01, -3.6431e-01,\n",
       "        -6.9585e-01,  2.5601e-01,  7.3001e-04,  5.3666e-01, -9.0530e-01,\n",
       "         6.2787e-01,  5.9193e-01, -6.7258e-01,  1.4593e+00, -2.0330e-02,\n",
       "        -2.7202e-01, -1.1821e+00,  4.4549e-01,  9.7436e-01, -2.8496e-01,\n",
       "        -2.2132e-01,  7.8550e-01, -6.0845e-01, -1.3344e+00,  5.5650e-01,\n",
       "         1.6610e-01, -4.7630e-02, -1.0702e-01, -8.3543e-01,  8.9985e-01,\n",
       "         5.8857e-01,  4.3265e-01, -3.9954e-01,  2.9885e-01, -2.9471e-01,\n",
       "        -5.0935e-01, -5.8163e-01, -3.9386e-01,  2.1717e-01, -2.3676e-01,\n",
       "        -8.7698e-02,  8.5529e-01, -5.0224e-01,  5.6470e-02, -1.1125e+00,\n",
       "         4.1241e-01,  3.1146e-01, -3.8559e-01,  1.7200e+00, -2.2234e-01,\n",
       "        -2.0098e-01,  2.1355e-01,  1.4428e+00,  6.7322e-02,  5.3600e-02,\n",
       "         1.3149e-01, -3.1277e-02, -2.1600e-01, -8.8785e-01,  1.6944e+00,\n",
       "        -5.7086e-01, -1.7668e-01, -5.2452e-01,  2.8705e-01, -1.4987e-01,\n",
       "        -1.0943e+00, -1.3666e+00,  1.8004e+00,  5.9330e-02, -5.0780e-01],\n",
       "       device='cuda:0')"
      ]
     },
     "execution_count": 28,
     "metadata": {
      "tags": []
     },
     "output_type": "execute_result"
    }
   ],
   "source": [
    "sentence[1].embedding - sentence[2].embedding"
   ]
  },
  {
   "cell_type": "markdown",
   "metadata": {
    "colab_type": "text",
    "id": "4Ed3dCb4ZqSA"
   },
   "source": [
    "### FastText"
   ]
  },
  {
   "cell_type": "code",
   "execution_count": null,
   "metadata": {
    "colab": {
     "base_uri": "https://localhost:8080/",
     "height": 211
    },
    "colab_type": "code",
    "id": "UC1_ZMIkZrhI",
    "outputId": "29ff1c72-1cfc-45a1-9e00-323e60c4a1f8"
   },
   "outputs": [
    {
     "name": "stdout",
     "output_type": "stream",
     "text": [
      "2020-08-12 10:05:30,962 https://s3.eu-central-1.amazonaws.com/alan-nlp/resources/embeddings-v0.3/en-fasttext-news-300d-1M.vectors.npy not found in cache, downloading to /tmp/tmpcz56_wex\n"
     ]
    },
    {
     "name": "stderr",
     "output_type": "stream",
     "text": [
      "100%|██████████| 1200000128/1200000128 [01:04<00:00, 18590717.97B/s]"
     ]
    },
    {
     "name": "stdout",
     "output_type": "stream",
     "text": [
      "2020-08-12 10:06:36,325 copying /tmp/tmpcz56_wex to cache at /root/.flair/embeddings/en-fasttext-news-300d-1M.vectors.npy\n"
     ]
    },
    {
     "name": "stderr",
     "output_type": "stream",
     "text": [
      "\n"
     ]
    },
    {
     "name": "stdout",
     "output_type": "stream",
     "text": [
      "2020-08-12 10:06:40,818 removing temp file /tmp/tmpcz56_wex\n",
      "2020-08-12 10:06:41,569 https://s3.eu-central-1.amazonaws.com/alan-nlp/resources/embeddings-v0.3/en-fasttext-news-300d-1M not found in cache, downloading to /tmp/tmp5f5cy6wp\n"
     ]
    },
    {
     "name": "stderr",
     "output_type": "stream",
     "text": [
      "100%|██████████| 54600983/54600983 [00:04<00:00, 11979063.96B/s]"
     ]
    },
    {
     "name": "stdout",
     "output_type": "stream",
     "text": [
      "2020-08-12 10:06:46,878 copying /tmp/tmp5f5cy6wp to cache at /root/.flair/embeddings/en-fasttext-news-300d-1M\n"
     ]
    },
    {
     "name": "stderr",
     "output_type": "stream",
     "text": [
      "\n"
     ]
    },
    {
     "name": "stdout",
     "output_type": "stream",
     "text": [
      "2020-08-12 10:06:46,934 removing temp file /tmp/tmp5f5cy6wp\n"
     ]
    },
    {
     "name": "stderr",
     "output_type": "stream",
     "text": [
      "/usr/local/lib/python3.6/dist-packages/smart_open/smart_open_lib.py:254: UserWarning: This function is deprecated, use smart_open.open instead. See the migration notes for details: https://github.com/RaRe-Technologies/smart_open/blob/master/README.rst#migrating-to-the-new-open-function\n",
      "  'See the migration notes for details: %s' % _MIGRATION_NOTES_URL\n"
     ]
    }
   ],
   "source": [
    "from flair.embeddings import WordEmbeddings\n",
    "\n",
    "# init embedding\n",
    "fasttext = WordEmbeddings('en')"
   ]
  },
  {
   "cell_type": "code",
   "execution_count": null,
   "metadata": {
    "colab": {
     "base_uri": "https://localhost:8080/",
     "height": 34
    },
    "colab_type": "code",
    "id": "thGLlPkYZr51",
    "outputId": "5588f625-7010-4467-a124-e8418acdc463"
   },
   "outputs": [
    {
     "data": {
      "text/plain": [
       "[Sentence: \"A band is a musical group but a band is also a ring you put on your finger.\"   [− Tokens: 18]]"
      ]
     },
     "execution_count": 30,
     "metadata": {
      "tags": []
     },
     "output_type": "execute_result"
    }
   ],
   "source": [
    "# text = \"They went for a walk with the dog.\"\n",
    "sentence = Sentence(text) # tokenize data and store in flairs inner format\n",
    "fasttext.embed(sentence) # add the stacked embedding"
   ]
  },
  {
   "cell_type": "code",
   "execution_count": null,
   "metadata": {
    "colab": {
     "base_uri": "https://localhost:8080/",
     "height": 330
    },
    "colab_type": "code",
    "id": "hFeywxmqIe-Z",
    "outputId": "36de270c-7e6f-426d-f1ec-8512d2fc4e9d"
   },
   "outputs": [
    {
     "name": "stdout",
     "output_type": "stream",
     "text": [
      "'A': tensor([-0.0595, -0.0428,  0.0600,  0.0231, -0.0145], device='cuda:0') (Vektorlänge: 300)\n",
      "'band': tensor([ 0.0405,  0.0368,  0.0015,  0.0430, -0.1072], device='cuda:0') (Vektorlänge: 300)\n",
      "'is': tensor([ 0.0156,  0.0752, -0.0780,  0.0241, -0.1448], device='cuda:0') (Vektorlänge: 300)\n",
      "'a': tensor([ 0.0047,  0.0223, -0.0087,  0.0250, -0.0660], device='cuda:0') (Vektorlänge: 300)\n",
      "'musical': tensor([-0.0046,  0.0626, -0.0863, -0.0556,  0.0889], device='cuda:0') (Vektorlänge: 300)\n",
      "'group': tensor([ 0.1484,  0.0310,  0.0480,  0.0215, -0.0563], device='cuda:0') (Vektorlänge: 300)\n",
      "'but': tensor([-0.0014, -0.0141, -0.0194,  0.0330, -0.0752], device='cuda:0') (Vektorlänge: 300)\n",
      "'a': tensor([ 0.0047,  0.0223, -0.0087,  0.0250, -0.0660], device='cuda:0') (Vektorlänge: 300)\n",
      "'band': tensor([ 0.0405,  0.0368,  0.0015,  0.0430, -0.1072], device='cuda:0') (Vektorlänge: 300)\n",
      "'is': tensor([ 0.0156,  0.0752, -0.0780,  0.0241, -0.1448], device='cuda:0') (Vektorlänge: 300)\n",
      "'also': tensor([-0.0764,  0.0451, -0.0883,  0.0223, -0.2671], device='cuda:0') (Vektorlänge: 300)\n",
      "'a': tensor([ 0.0047,  0.0223, -0.0087,  0.0250, -0.0660], device='cuda:0') (Vektorlänge: 300)\n",
      "'ring': tensor([ 0.0510, -0.1036, -0.0733,  0.1073, -0.0845], device='cuda:0') (Vektorlänge: 300)\n",
      "'you': tensor([-0.1202,  0.0700,  0.1030,  0.0568,  0.1457], device='cuda:0') (Vektorlänge: 300)\n",
      "'put': tensor([ 0.0045, -0.0797, -0.0194, -0.0819,  0.0008], device='cuda:0') (Vektorlänge: 300)\n",
      "'on': tensor([ 0.0206,  0.0231, -0.0574,  0.0388, -0.1158], device='cuda:0') (Vektorlänge: 300)\n",
      "'your': tensor([-0.1001, -0.0906, -0.0496, -0.0332,  0.0295], device='cuda:0') (Vektorlänge: 300)\n",
      "'finger.': tensor([0., 0., 0., 0., 0.], device='cuda:0') (Vektorlänge: 300)\n"
     ]
    }
   ],
   "source": [
    "fasttext_tensors = []\n",
    "for token in sentence:\n",
    "  if token.text == \"band\":\n",
    "    fasttext_tensors.append(token.embedding)\n",
    "  print(f\"'{token.text}': {token.embedding[:5]} \" +\n",
    "f\"(Vektorlänge: {len(token.embedding)})\")"
   ]
  },
  {
   "cell_type": "code",
   "execution_count": null,
   "metadata": {
    "colab": {
     "base_uri": "https://localhost:8080/",
     "height": 34
    },
    "colab_type": "code",
    "id": "TNQJxDLJIjmv",
    "outputId": "93e3ca23-cfcc-4d5b-d8b6-e64f5a0c00b9"
   },
   "outputs": [
    {
     "name": "stdout",
     "output_type": "stream",
     "text": [
      "Die Vektoren der beiden unterschiedlichen Bedeutungen von 'band' unterscheiden sich bei fastText in 0 von 3072 Stellen\n"
     ]
    }
   ],
   "source": [
    "diff = fasttext_tensors[1] - fasttext_tensors[0]\n",
    "print(\"Die Vektoren der beiden unterschiedlichen Bedeutungen \" +\n",
    "\"von 'band' unterscheiden sich bei fastText in \" +\n",
    "str(len([i for i in diff.tolist() if i != 0])) + ' von 3072 Stellen')"
   ]
  },
  {
   "cell_type": "markdown",
   "metadata": {
    "colab_type": "text",
    "id": "aV-Sik2Yc7ax"
   },
   "source": [
    "### Word2Vec"
   ]
  },
  {
   "cell_type": "code",
   "execution_count": null,
   "metadata": {
    "colab": {
     "base_uri": "https://localhost:8080/",
     "height": 332
    },
    "colab_type": "code",
    "id": "RuSp3PwnV2bk",
    "outputId": "901886ab-9812-47b2-d6bd-06c33cf93db7"
   },
   "outputs": [
    {
     "name": "stdout",
     "output_type": "stream",
     "text": [
      "Requirement already satisfied: gensim in /usr/local/lib/python3.6/dist-packages (3.6.0)\n",
      "Requirement already satisfied: smart-open>=1.2.1 in /usr/local/lib/python3.6/dist-packages (from gensim) (2.1.0)\n",
      "Requirement already satisfied: six>=1.5.0 in /usr/local/lib/python3.6/dist-packages (from gensim) (1.15.0)\n",
      "Requirement already satisfied: scipy>=0.18.1 in /usr/local/lib/python3.6/dist-packages (from gensim) (1.4.1)\n",
      "Requirement already satisfied: numpy>=1.11.3 in /usr/local/lib/python3.6/dist-packages (from gensim) (1.18.5)\n",
      "Requirement already satisfied: boto in /usr/local/lib/python3.6/dist-packages (from smart-open>=1.2.1->gensim) (2.49.0)\n",
      "Requirement already satisfied: boto3 in /usr/local/lib/python3.6/dist-packages (from smart-open>=1.2.1->gensim) (1.14.37)\n",
      "Requirement already satisfied: requests in /usr/local/lib/python3.6/dist-packages (from smart-open>=1.2.1->gensim) (2.23.0)\n",
      "Requirement already satisfied: s3transfer<0.4.0,>=0.3.0 in /usr/local/lib/python3.6/dist-packages (from boto3->smart-open>=1.2.1->gensim) (0.3.3)\n",
      "Requirement already satisfied: botocore<1.18.0,>=1.17.37 in /usr/local/lib/python3.6/dist-packages (from boto3->smart-open>=1.2.1->gensim) (1.17.37)\n",
      "Requirement already satisfied: jmespath<1.0.0,>=0.7.1 in /usr/local/lib/python3.6/dist-packages (from boto3->smart-open>=1.2.1->gensim) (0.10.0)\n",
      "Requirement already satisfied: chardet<4,>=3.0.2 in /usr/local/lib/python3.6/dist-packages (from requests->smart-open>=1.2.1->gensim) (3.0.4)\n",
      "Requirement already satisfied: idna<3,>=2.5 in /usr/local/lib/python3.6/dist-packages (from requests->smart-open>=1.2.1->gensim) (2.10)\n",
      "Requirement already satisfied: urllib3!=1.25.0,!=1.25.1,<1.26,>=1.21.1 in /usr/local/lib/python3.6/dist-packages (from requests->smart-open>=1.2.1->gensim) (1.24.3)\n",
      "Requirement already satisfied: certifi>=2017.4.17 in /usr/local/lib/python3.6/dist-packages (from requests->smart-open>=1.2.1->gensim) (2020.6.20)\n",
      "Requirement already satisfied: python-dateutil<3.0.0,>=2.1 in /usr/local/lib/python3.6/dist-packages (from botocore<1.18.0,>=1.17.37->boto3->smart-open>=1.2.1->gensim) (2.8.1)\n",
      "Requirement already satisfied: docutils<0.16,>=0.10 in /usr/local/lib/python3.6/dist-packages (from botocore<1.18.0,>=1.17.37->boto3->smart-open>=1.2.1->gensim) (0.15.2)\n"
     ]
    }
   ],
   "source": [
    "!pip install gensim"
   ]
  },
  {
   "cell_type": "code",
   "execution_count": null,
   "metadata": {
    "colab": {},
    "colab_type": "code",
    "id": "6V_8lVEXc8nV"
   },
   "outputs": [],
   "source": [
    "import gensim\n",
    "import warnings\n",
    "import numpy as np \n",
    "\n",
    "warnings.filterwarnings(\"ignore\", category=FutureWarning)\n",
    "warnings.filterwarnings(\"ignore\", category=DeprecationWarning)"
   ]
  },
  {
   "cell_type": "code",
   "execution_count": null,
   "metadata": {
    "colab": {
     "base_uri": "https://localhost:8080/",
     "height": 72
    },
    "colab_type": "code",
    "id": "VDshqY9Wkynr",
    "outputId": "2d129a5e-ae14-46bb-81cf-ab5f12215c46"
   },
   "outputs": [
    {
     "name": "stderr",
     "output_type": "stream",
     "text": [
      "/usr/local/lib/python3.6/dist-packages/smart_open/smart_open_lib.py:254: UserWarning: This function is deprecated, use smart_open.open instead. See the migration notes for details: https://github.com/RaRe-Technologies/smart_open/blob/master/README.rst#migrating-to-the-new-open-function\n",
      "  'See the migration notes for details: %s' % _MIGRATION_NOTES_URL\n"
     ]
    }
   ],
   "source": [
    "model = gensim.models.KeyedVectors.load_word2vec_format('/content/drive/My Drive/GoogleNews-vectors-negative300 (1).bin', binary=True)"
   ]
  },
  {
   "cell_type": "code",
   "execution_count": null,
   "metadata": {
    "colab": {
     "base_uri": "https://localhost:8080/",
     "height": 104
    },
    "colab_type": "code",
    "id": "UosWIdw91gsA",
    "outputId": "d93015f1-8848-4537-8b07-f981ffc53ca1"
   },
   "outputs": [
    {
     "name": "stdout",
     "output_type": "stream",
     "text": [
      "bands: 0.798\n",
      "punk_band: 0.717\n",
      "alt_rock_band: 0.707\n",
      "indie_rock_band: 0.698\n",
      "rockers: 0.686\n"
     ]
    }
   ],
   "source": [
    "for t in model.most_similar('band', topn=5):\n",
    "  print(f\"{t[0]}: {np.around(t[1], decimals=3)}\")\n"
   ]
  },
  {
   "cell_type": "code",
   "execution_count": null,
   "metadata": {
    "colab": {
     "base_uri": "https://localhost:8080/",
     "height": 225
    },
    "colab_type": "code",
    "id": "HQ0aL7kw1qnq",
    "outputId": "e5f314f1-a396-401e-9a6c-93367e7bf172"
   },
   "outputs": [
    {
     "name": "stdout",
     "output_type": "stream",
     "text": [
      "queen: 0.712\n",
      "monarch: 0.619\n",
      "princess: 0.59\n",
      "crown_prince: 0.55\n",
      "prince: 0.538\n",
      "\n",
      "\n",
      "jazz: 0.636\n",
      "musicians: 0.632\n",
      "bands: 0.628\n",
      "indie_rock: 0.594\n",
      "songs: 0.572\n"
     ]
    }
   ],
   "source": [
    "for t in model.most_similar(positive=['king', 'woman'],negative=['man'], topn=5):\n",
    "  print(f\"{t[0]}: {np.around(t[1], decimals=3)}\")\n",
    "print('\\n')\n",
    "for t in model.most_similar(positive=['band', 'music'],negative=['ring'], topn=5):\n",
    "  print(f\"{t[0]}: {np.around(t[1], decimals=3)}\")\n",
    "print('\\n')\n",
    "for t in model.most_similar(positive=['address', 'location'],negative=['speech'], topn=5):\n",
    "  print(f\"{t[0]}: {np.around(t[1], decimals=3)}\")\n"
   ]
  },
  {
   "cell_type": "code",
   "execution_count": null,
   "metadata": {
    "colab": {
     "base_uri": "https://localhost:8080/",
     "height": 36
    },
    "colab_type": "code",
    "id": "HBvx_4NpRA02",
    "outputId": "b5e1a48b-aa22-4641-e3c1-fa68a192b41a"
   },
   "outputs": [
    {
     "data": {
      "application/vnd.google.colaboratory.intrinsic+json": {
       "type": "string"
      },
      "text/plain": [
       "'ring'"
      ]
     },
     "execution_count": 6,
     "metadata": {
      "tags": []
     },
     "output_type": "execute_result"
    }
   ],
   "source": [
    "model.doesnt_match(\"A band is a musical group but a band is also a ring you put on your finger.\".split())"
   ]
  },
  {
   "cell_type": "code",
   "execution_count": null,
   "metadata": {
    "colab": {
     "base_uri": "https://localhost:8080/",
     "height": 86
    },
    "colab_type": "code",
    "id": "_6vwALs-RWCc",
    "outputId": "412b3d44-07ea-4bf6-abba-f223d346b441"
   },
   "outputs": [
    {
     "name": "stdout",
     "output_type": "stream",
     "text": [
      "Similarity of 'band' and 'ring':  0.18643719\n",
      "Similarity of 'band' and 'finger':  0.063859195\n",
      "Similarity of 'band' and 'musical':  0.5258738\n",
      "Similarity of 'band' and 'group':  0.35205075\n"
     ]
    }
   ],
   "source": [
    "print(\"Similarity of 'band' and 'ring': \", model.similarity('band','ring'))\n",
    "print(\"Similarity of 'band' and 'finger': \", model.similarity('band','finger'))\n",
    "print(\"Similarity of 'band' and 'musical': \", model.similarity('band','musical'))\n",
    "print(\"Similarity of 'band' and 'group': \", model.similarity('band','group'))"
   ]
  },
  {
   "cell_type": "code",
   "execution_count": null,
   "metadata": {
    "colab": {},
    "colab_type": "code",
    "id": "nyJwwrY1X1lq"
   },
   "outputs": [],
   "source": [
    "sentence1 = [\"London\", \"is\", \"the\", \"capital\", \"of\", \"Great\", \"Britain\"]\n",
    "sentence2 = [\"Delivering\", \"an\", \"address\", \"means\", \"to\", \"give\", \"a\", \"speech\", \"at\" ,\"an\" ,\"event\", \"but\", \"an\", \"address\", \"describes\", \"also\", \"the\", \"place\", \"where\", \"you\", \"live\"]\n"
   ]
  },
  {
   "cell_type": "code",
   "execution_count": null,
   "metadata": {
    "colab": {},
    "colab_type": "code",
    "id": "fOgK68Oak6Gl"
   },
   "outputs": [],
   "source": [
    "sentence1 = [\"A\", \"band\", \"is\", \"a\", \"musical\", \"group\", \n",
    "            \"but\", \"a\", \"band\", \"is\", \"also\", \"a\", \"ring\", \"you\", \"put\", \"on\", \"your\", \"finger\"]\n",
    "sentence2 = [\"A\",\"long\",\"holiday\", \"is\", \"relaxing\", \n",
    "             \"but\", \"a\", \"short\",\"trip\",\"is\", \"also\",\"great\"]"
   ]
  },
  {
   "cell_type": "code",
   "execution_count": null,
   "metadata": {
    "colab": {
     "base_uri": "https://localhost:8080/",
     "height": 330
    },
    "colab_type": "code",
    "id": "MT2d_IRg8P4A",
    "outputId": "09b6c6b2-140b-466b-e7e5-b59df7d7a217"
   },
   "outputs": [
    {
     "name": "stdout",
     "output_type": "stream",
     "text": [
      "'A': [-0.10595703  0.21386719  0.11865234 -0.03149414 -0.08984375] (Vektorlänge: 300)\n",
      "'band': [ 0.13476562 -0.14550781 -0.23730469  0.15917969 -0.19628906] (Vektorlänge: 300)\n",
      "'is': [ 0.00704956 -0.07324219  0.171875    0.02258301 -0.1328125 ] (Vektorlänge: 300)\n",
      "Token 'a' is not in vocabulary.\n",
      "'musical': [ 0.11083984 -0.10644531 -0.09375     0.07226562 -0.02539062] (Vektorlänge: 300)\n",
      "'group': [-0.02197266  0.01519775 -0.02990723  0.00085449  0.00071335] (Vektorlänge: 300)\n",
      "'but': [-0.04760742  0.08154297  0.0456543   0.09179688 -0.01470947] (Vektorlänge: 300)\n",
      "Token 'a' is not in vocabulary.\n",
      "'band': [ 0.13476562 -0.14550781 -0.23730469  0.15917969 -0.19628906] (Vektorlänge: 300)\n",
      "'is': [ 0.00704956 -0.07324219  0.171875    0.02258301 -0.1328125 ] (Vektorlänge: 300)\n",
      "'also': [ 0.0534668   0.01202393 -0.00650024  0.00854492  0.01647949] (Vektorlänge: 300)\n",
      "Token 'a' is not in vocabulary.\n",
      "'ring': [-0.17285156 -0.22851562 -0.2109375  -0.19628906  0.06542969] (Vektorlänge: 300)\n",
      "'you': [ 0.20410156  0.01318359  0.07568359  0.28515625 -0.10888672] (Vektorlänge: 300)\n",
      "'put': [-0.01422119  0.10058594  0.00034332  0.06494141  0.00689697] (Vektorlänge: 300)\n",
      "'on': [ 0.0267334  -0.09082031  0.02783203  0.20410156  0.00622559] (Vektorlänge: 300)\n",
      "'your': [ 0.19433594  0.09960938  0.08251953  0.45507812 -0.28515625] (Vektorlänge: 300)\n",
      "'finger': [ 0.25976562 -0.13964844  0.02441406 -0.18945312 -0.4765625 ] (Vektorlänge: 300)\n"
     ]
    }
   ],
   "source": [
    "vocab = model.vocab.keys()\n",
    "word2vec_tensors = []\n",
    "for token in sentence1:\n",
    "  if token in vocab:\n",
    "      if token == \"band\":\n",
    "            word2vec_tensors.append(model[token][:5])\n",
    "      print(f\"'{token}': {model[token][:5]} \" + f\"(Vektorlänge: {len(model[token])})\")\n",
    "  else:\n",
    "    print(f\"Token '{token}' is not in vocabulary.\")"
   ]
  },
  {
   "cell_type": "code",
   "execution_count": null,
   "metadata": {
    "colab": {
     "base_uri": "https://localhost:8080/",
     "height": 34
    },
    "colab_type": "code",
    "id": "fQw1Jwvp8QHM",
    "outputId": "666adfaf-3754-4925-cfb2-341db0179ea9"
   },
   "outputs": [
    {
     "name": "stdout",
     "output_type": "stream",
     "text": [
      "Die Vektoren der beiden unterschiedlichen Bedeutungenvon 'band' unterscheiden sich bei Word2Vec in 0 von 3072 Stellen\n"
     ]
    }
   ],
   "source": [
    "diff = word2vec_tensors[1] - word2vec_tensors[0]\n",
    "print(\"Die Vektoren der beiden unterschiedlichen Bedeutungen\" +\n",
    "\"von 'band' unterscheiden sich bei Word2Vec in \" +\n",
    "str(len([i for i in diff.tolist() if i != 0])) + ' von 3072 Stellen')"
   ]
  },
  {
   "cell_type": "code",
   "execution_count": null,
   "metadata": {
    "colab": {
     "base_uri": "https://localhost:8080/",
     "height": 295
    },
    "colab_type": "code",
    "id": "fv2tlKO6OLJR",
    "outputId": "822c3e32-98e0-4418-91c8-5c28788d47f7"
   },
   "outputs": [
    {
     "name": "stdout",
     "output_type": "stream",
     "text": [
      "[array([-0.10595703,  0.21386719,  0.11865234, -0.03149414, -0.08984375],\n",
      "      dtype=float32), array([ 0.13476562, -0.14550781, -0.23730469,  0.15917969, -0.19628906],\n",
      "      dtype=float32), array([ 0.00704956, -0.07324219,  0.171875  ,  0.02258301, -0.1328125 ],\n",
      "      dtype=float32), array([ 0.11083984, -0.10644531, -0.09375   ,  0.07226562, -0.02539062],\n",
      "      dtype=float32), array([-0.02197266,  0.01519775, -0.02990723,  0.00085449,  0.00071335],\n",
      "      dtype=float32), array([-0.04760742,  0.08154297,  0.0456543 ,  0.09179688, -0.01470947],\n",
      "      dtype=float32), array([ 0.13476562, -0.14550781, -0.23730469,  0.15917969, -0.19628906],\n",
      "      dtype=float32), array([ 0.00704956, -0.07324219,  0.171875  ,  0.02258301, -0.1328125 ],\n",
      "      dtype=float32), array([ 0.0534668 ,  0.01202393, -0.00650024,  0.00854492,  0.01647949],\n",
      "      dtype=float32), array([-0.17285156, -0.22851562, -0.2109375 , -0.19628906,  0.06542969],\n",
      "      dtype=float32), array([ 0.20410156,  0.01318359,  0.07568359,  0.28515625, -0.10888672],\n",
      "      dtype=float32), array([-0.01422119,  0.10058594,  0.00034332,  0.06494141,  0.00689697],\n",
      "      dtype=float32), array([ 0.0267334 , -0.09082031,  0.02783203,  0.20410156,  0.00622559],\n",
      "      dtype=float32), array([ 0.19433594,  0.09960938,  0.08251953,  0.45507812, -0.28515625],\n",
      "      dtype=float32), array([ 0.25976562, -0.13964844,  0.02441406, -0.18945312, -0.4765625 ],\n",
      "      dtype=float32)]\n"
     ]
    }
   ],
   "source": [
    "sentence = [[\"A\", \"band\", \"is\", \"a\", \"musical\", \"group\"],[\"but\", \"a\", \"band\", \"is\", \"also\", \"a\", \"ring\", \"you\", \"put\", \"on\", \"your\", \"finger\"]]\n",
    "word2vec_tensors=[]\n",
    "for s in sentence:\n",
    "  for token in s:\n",
    "    if token in vocab:\n",
    "        word2vec_tensors.append(model[token][:5])\n",
    "      \n",
    "      \n",
    "print(word2vec_tensors)\n"
   ]
  },
  {
   "cell_type": "code",
   "execution_count": null,
   "metadata": {
    "colab": {
     "base_uri": "https://localhost:8080/",
     "height": 322
    },
    "colab_type": "code",
    "id": "2_nvAsx6NWGH",
    "outputId": "8799e4fc-d69e-49fc-8fd2-7a205fff57f1"
   },
   "outputs": [
    {
     "name": "stderr",
     "output_type": "stream",
     "text": [
      "/usr/local/lib/python3.6/dist-packages/ipykernel_launcher.py:7: DeprecationWarning: Call to deprecated `__getitem__` (Method will be removed in 4.0.0, use self.wv.__getitem__() instead).\n",
      "  import sys\n"
     ]
    },
    {
     "data": {
      "image/png": "[encoded data removed]",
      "text/plain": [
       "<Figure size 432x288 with 1 Axes>"
      ]
     },
     "metadata": {
      "needs_background": "light",
      "tags": []
     },
     "output_type": "display_data"
    }
   ],
   "source": [
    "from sklearn.decomposition import PCA\n",
    "from matplotlib import pyplot\n",
    "from gensim.models import Word2Vec \n",
    "\n",
    "model = Word2Vec(sentence, min_count=0)\n",
    "\n",
    "X = model[model.wv.vocab]\n",
    "pca = PCA(n_components=2)\n",
    "result = pca.fit_transform(word2vec_tensors)\n",
    "# create a scatter plot of the projection\n",
    "pyplot.scatter(result[:, 0], result[:, 1])\n",
    "words = list(model.wv.vocab)\n",
    "for i, word in enumerate(words):\n",
    "\tpyplot.annotate(word, xy=(result[i, 0], result[i, 1]))\n",
    "pyplot.show()"
   ]
  },
  {
   "cell_type": "code",
   "execution_count": null,
   "metadata": {
    "colab": {},
    "colab_type": "code",
    "id": "JlWQh7c4JU7Y"
   },
   "outputs": [],
   "source": [
    "def plot_word_embeddings(model, search_list):\n",
    "    words = []\n",
    "    for term in search_list:\n",
    "      if term in model.vocab.keys():\n",
    "        words += [w[0] for w in model.wv.most_similar([term], topn=5)]                                   \n",
    "    words += search_list    \n",
    "\n",
    "    vectors = model.wv[words]\n",
    "\n",
    "    tsne = TSNE(n_components=2, random_state=0, n_iter=10000, perplexity=7)\n",
    "    T = tsne.fit_transform(vectors)\n",
    "\n",
    "    plt.figure(figsize=(20, 14))\n",
    "    plt.scatter(T[:, 0], T[:, 1])\n",
    "    for label, x, y in zip(words, T[:, 0], T[:, 1]):\n",
    "        plt.annotate(label, xy=(x+2, y+2), xytext=(0, 0), textcoords='offset points')\n",
    "    plt.savefig('/content/drive/My Drive/word2vec.png')\n"
   ]
  },
  {
   "cell_type": "code",
   "execution_count": null,
   "metadata": {
    "colab": {
     "base_uri": "https://localhost:8080/",
     "height": 811
    },
    "colab_type": "code",
    "id": "z22WD0pGJZdO",
    "outputId": "d30639fe-d7b3-40ac-d7a9-f897b86be45e"
   },
   "outputs": [
    {
     "data": {
      "image/png": "[encoded data removed]",
      "text/plain": [
       "<Figure size 1440x1008 with 1 Axes>"
      ]
     },
     "metadata": {
      "needs_background": "light",
      "tags": []
     },
     "output_type": "display_data"
    }
   ],
   "source": [
    "from sklearn.manifold import TSNE  # besser wäre umap\n",
    "import matplotlib.pyplot as plt\n",
    "\n",
    "search_list = [\"band\", \"musical\", \"group\", \"ring\", \"you\", \"put\",\"your\", \"finger\"]\n",
    "\n",
    "plot_word_embeddings(model, search_list)"
   ]
  },
  {
   "cell_type": "markdown",
   "metadata": {
    "colab_type": "text",
    "id": "1V1Sqhr98QNg"
   },
   "source": [
    "## ELMo"
   ]
  },
  {
   "cell_type": "code",
   "execution_count": null,
   "metadata": {
    "colab": {
     "base_uri": "https://localhost:8080/",
     "height": 1000
    },
    "colab_type": "code",
    "id": "rRN3eQcv8nIx",
    "outputId": "5a36318e-6239-4858-8d21-ef96ffcaf98f"
   },
   "outputs": [
    {
     "name": "stdout",
     "output_type": "stream",
     "text": [
      "Collecting allennlp==0.9.0\n",
      "\u001b[?25l  Downloading https://files.pythonhosted.org/packages/bb/bb/041115d8bad1447080e5d1e30097c95e4b66e36074277afce8620a61cee3/allennlp-0.9.0-py3-none-any.whl (7.6MB)\n",
      "\u001b[K     |████████████████████████████████| 7.6MB 3.2MB/s \n",
      "\u001b[?25hRequirement already satisfied: requests>=2.18 in /usr/local/lib/python3.6/dist-packages (from allennlp==0.9.0) (2.23.0)\n",
      "Collecting flaky\n",
      "  Downloading https://files.pythonhosted.org/packages/43/0e/2f50064e327f41a1eb811df089f813036e19a64b95e33f8e9e0b96c2447e/flaky-3.7.0-py2.py3-none-any.whl\n",
      "Collecting flask-cors>=3.0.7\n",
      "  Downloading https://files.pythonhosted.org/packages/78/38/e68b11daa5d613e3a91e4bf3da76c94ac9ee0d9cd515af9c1ab80d36f709/Flask_Cors-3.0.8-py2.py3-none-any.whl\n",
      "Requirement already satisfied: scipy in /usr/local/lib/python3.6/dist-packages (from allennlp==0.9.0) (1.4.1)\n",
      "Requirement already satisfied: tqdm>=4.19 in /usr/local/lib/python3.6/dist-packages (from allennlp==0.9.0) (4.41.1)\n",
      "Requirement already satisfied: numpy in /usr/local/lib/python3.6/dist-packages (from allennlp==0.9.0) (1.18.5)\n",
      "Collecting ftfy\n",
      "\u001b[?25l  Downloading https://files.pythonhosted.org/packages/ff/e2/3b51c53dffb1e52d9210ebc01f1fb9f2f6eba9b3201fa971fd3946643c71/ftfy-5.8.tar.gz (64kB)\n",
      "\u001b[K     |████████████████████████████████| 71kB 7.8MB/s \n",
      "\u001b[?25hRequirement already satisfied: h5py in /usr/local/lib/python3.6/dist-packages (from allennlp==0.9.0) (2.10.0)\n",
      "Requirement already satisfied: editdistance in /usr/local/lib/python3.6/dist-packages (from allennlp==0.9.0) (0.5.3)\n",
      "Requirement already satisfied: nltk in /usr/local/lib/python3.6/dist-packages (from allennlp==0.9.0) (3.2.5)\n",
      "Collecting pytorch-transformers==1.1.0\n",
      "\u001b[?25l  Downloading https://files.pythonhosted.org/packages/50/89/ad0d6bb932d0a51793eaabcf1617a36ff530dc9ab9e38f765a35dc293306/pytorch_transformers-1.1.0-py3-none-any.whl (158kB)\n",
      "\u001b[K     |████████████████████████████████| 163kB 36.2MB/s \n",
      "\u001b[?25hCollecting conllu==1.3.1\n",
      "  Downloading https://files.pythonhosted.org/packages/ae/54/b0ae1199f3d01666821b028cd967f7c0ac527ab162af433d3da69242cea2/conllu-1.3.1-py2.py3-none-any.whl\n",
      "Collecting jsonnet>=0.10.0; sys_platform != \"win32\"\n",
      "\u001b[?25l  Downloading https://files.pythonhosted.org/packages/86/70/ed1ba808a87d896b9f4d25400dda54e089ca7a97e87cee620b3744997c89/jsonnet-0.16.0.tar.gz (256kB)\n",
      "\u001b[K     |████████████████████████████████| 266kB 37.1MB/s \n",
      "\u001b[?25hCollecting spacy<2.2,>=2.1.0\n",
      "\u001b[?25l  Downloading https://files.pythonhosted.org/packages/41/5b/e07dd3bf104237bce4b398558b104c8e500333d6f30eabe3fa9685356b7d/spacy-2.1.9-cp36-cp36m-manylinux1_x86_64.whl (30.8MB)\n",
      "\u001b[K     |████████████████████████████████| 30.9MB 101kB/s \n",
      "\u001b[?25hCollecting jsonpickle\n",
      "  Downloading https://files.pythonhosted.org/packages/af/ca/4fee219cc4113a5635e348ad951cf8a2e47fed2e3342312493f5b73d0007/jsonpickle-1.4.1-py2.py3-none-any.whl\n",
      "Requirement already satisfied: sqlparse>=0.2.4 in /usr/local/lib/python3.6/dist-packages (from allennlp==0.9.0) (0.3.1)\n",
      "Collecting overrides\n",
      "  Downloading https://files.pythonhosted.org/packages/ff/b1/10f69c00947518e6676bbd43e739733048de64b8dd998e9c2d5a71f44c5d/overrides-3.1.0.tar.gz\n",
      "Requirement already satisfied: pytz>=2017.3 in /usr/local/lib/python3.6/dist-packages (from allennlp==0.9.0) (2018.9)\n",
      "Collecting unidecode\n",
      "\u001b[?25l  Downloading https://files.pythonhosted.org/packages/d0/42/d9edfed04228bacea2d824904cae367ee9efd05e6cce7ceaaedd0b0ad964/Unidecode-1.1.1-py2.py3-none-any.whl (238kB)\n",
      "\u001b[K     |████████████████████████████████| 245kB 37.4MB/s \n",
      "\u001b[?25hRequirement already satisfied: pytest in /usr/local/lib/python3.6/dist-packages (from allennlp==0.9.0) (6.0.1)\n",
      "Requirement already satisfied: flask>=1.0.2 in /usr/local/lib/python3.6/dist-packages (from allennlp==0.9.0) (1.1.2)\n",
      "Collecting numpydoc>=0.8.0\n",
      "\u001b[?25l  Downloading https://files.pythonhosted.org/packages/60/1d/9e398c53d6ae27d5ab312ddc16a9ffe1bee0dfdf1d6ec88c40b0ca97582e/numpydoc-1.1.0-py3-none-any.whl (47kB)\n",
      "\u001b[K     |████████████████████████████████| 51kB 6.5MB/s \n",
      "\u001b[?25hRequirement already satisfied: torch>=1.2.0 in /usr/local/lib/python3.6/dist-packages (from allennlp==0.9.0) (1.6.0+cu101)\n",
      "Collecting tensorboardX>=1.2\n",
      "\u001b[?25l  Downloading https://files.pythonhosted.org/packages/af/0c/4f41bcd45db376e6fe5c619c01100e9b7531c55791b7244815bac6eac32c/tensorboardX-2.1-py2.py3-none-any.whl (308kB)\n",
      "\u001b[K     |████████████████████████████████| 317kB 36.2MB/s \n",
      "\u001b[?25hRequirement already satisfied: scikit-learn in /usr/local/lib/python3.6/dist-packages (from allennlp==0.9.0) (0.22.2.post1)\n",
      "Collecting word2number>=1.1\n",
      "  Downloading https://files.pythonhosted.org/packages/4a/29/a31940c848521f0725f0df6b25dca8917f13a2025b0e8fcbe5d0457e45e6/word2number-1.1.zip\n",
      "Collecting gevent>=1.3.6\n",
      "\u001b[?25l  Downloading https://files.pythonhosted.org/packages/05/18/3932900a42d7010cc63529fc5cb7a5a20fb61878d1721d0d4387567d5973/gevent-20.6.2-cp36-cp36m-manylinux2010_x86_64.whl (5.3MB)\n",
      "\u001b[K     |████████████████████████████████| 5.3MB 37.7MB/s \n",
      "\u001b[?25hRequirement already satisfied: matplotlib>=2.2.3 in /usr/local/lib/python3.6/dist-packages (from allennlp==0.9.0) (3.2.2)\n",
      "Collecting pytorch-pretrained-bert>=0.6.0\n",
      "\u001b[?25l  Downloading https://files.pythonhosted.org/packages/d7/e0/c08d5553b89973d9a240605b9c12404bcf8227590de62bae27acbcfe076b/pytorch_pretrained_bert-0.6.2-py3-none-any.whl (123kB)\n",
      "\u001b[K     |████████████████████████████████| 133kB 42.4MB/s \n",
      "\u001b[?25hRequirement already satisfied: boto3 in /usr/local/lib/python3.6/dist-packages (from allennlp==0.9.0) (1.14.37)\n",
      "Collecting responses>=0.7\n",
      "  Downloading https://files.pythonhosted.org/packages/6a/28/340847834f4db9b0302a6bc525b2e46ea2f8b2fd1d8d460b401b707eb89d/responses-0.10.16-py2.py3-none-any.whl\n",
      "Collecting parsimonious>=0.8.0\n",
      "\u001b[?25l  Downloading https://files.pythonhosted.org/packages/02/fc/067a3f89869a41009e1a7cdfb14725f8ddd246f30f63c645e8ef8a1c56f4/parsimonious-0.8.1.tar.gz (45kB)\n",
      "\u001b[K     |████████████████████████████████| 51kB 6.6MB/s \n",
      "\u001b[?25hRequirement already satisfied: urllib3!=1.25.0,!=1.25.1,<1.26,>=1.21.1 in /usr/local/lib/python3.6/dist-packages (from requests>=2.18->allennlp==0.9.0) (1.24.3)\n",
      "Requirement already satisfied: certifi>=2017.4.17 in /usr/local/lib/python3.6/dist-packages (from requests>=2.18->allennlp==0.9.0) (2020.6.20)\n",
      "Requirement already satisfied: idna<3,>=2.5 in /usr/local/lib/python3.6/dist-packages (from requests>=2.18->allennlp==0.9.0) (2.10)\n",
      "Requirement already satisfied: chardet<4,>=3.0.2 in /usr/local/lib/python3.6/dist-packages (from requests>=2.18->allennlp==0.9.0) (3.0.4)\n",
      "Requirement already satisfied: Six in /usr/local/lib/python3.6/dist-packages (from flask-cors>=3.0.7->allennlp==0.9.0) (1.15.0)\n",
      "Requirement already satisfied: wcwidth in /usr/local/lib/python3.6/dist-packages (from ftfy->allennlp==0.9.0) (0.2.5)\n",
      "Requirement already satisfied: regex in /usr/local/lib/python3.6/dist-packages (from pytorch-transformers==1.1.0->allennlp==0.9.0) (2019.12.20)\n",
      "Requirement already satisfied: sentencepiece in /usr/local/lib/python3.6/dist-packages (from pytorch-transformers==1.1.0->allennlp==0.9.0) (0.1.91)\n",
      "Collecting thinc<7.1.0,>=7.0.8\n",
      "\u001b[?25l  Downloading https://files.pythonhosted.org/packages/18/a5/9ace20422e7bb1bdcad31832ea85c52a09900cd4a7ce711246bfb92206ba/thinc-7.0.8-cp36-cp36m-manylinux1_x86_64.whl (2.1MB)\n",
      "\u001b[K     |████████████████████████████████| 2.1MB 30.8MB/s \n",
      "\u001b[?25hRequirement already satisfied: murmurhash<1.1.0,>=0.28.0 in /usr/local/lib/python3.6/dist-packages (from spacy<2.2,>=2.1.0->allennlp==0.9.0) (1.0.2)\n",
      "Collecting blis<0.3.0,>=0.2.2\n",
      "\u001b[?25l  Downloading https://files.pythonhosted.org/packages/34/46/b1d0bb71d308e820ed30316c5f0a017cb5ef5f4324bcbc7da3cf9d3b075c/blis-0.2.4-cp36-cp36m-manylinux1_x86_64.whl (3.2MB)\n",
      "\u001b[K     |████████████████████████████████| 3.2MB 38.0MB/s \n",
      "\u001b[?25hCollecting plac<1.0.0,>=0.9.6\n",
      "  Downloading https://files.pythonhosted.org/packages/9e/9b/62c60d2f5bc135d2aa1d8c8a86aaf84edb719a59c7f11a4316259e61a298/plac-0.9.6-py2.py3-none-any.whl\n",
      "Collecting preshed<2.1.0,>=2.0.1\n",
      "\u001b[?25l  Downloading https://files.pythonhosted.org/packages/20/93/f222fb957764a283203525ef20e62008675fd0a14ffff8cc1b1490147c63/preshed-2.0.1-cp36-cp36m-manylinux1_x86_64.whl (83kB)\n",
      "\u001b[K     |████████████████████████████████| 92kB 9.9MB/s \n",
      "\u001b[?25hRequirement already satisfied: cymem<2.1.0,>=2.0.2 in /usr/local/lib/python3.6/dist-packages (from spacy<2.2,>=2.1.0->allennlp==0.9.0) (2.0.3)\n",
      "Requirement already satisfied: srsly<1.1.0,>=0.0.6 in /usr/local/lib/python3.6/dist-packages (from spacy<2.2,>=2.1.0->allennlp==0.9.0) (1.0.2)\n",
      "Requirement already satisfied: wasabi<1.1.0,>=0.2.0 in /usr/local/lib/python3.6/dist-packages (from spacy<2.2,>=2.1.0->allennlp==0.9.0) (0.7.1)\n",
      "Requirement already satisfied: importlib-metadata in /usr/local/lib/python3.6/dist-packages (from jsonpickle->allennlp==0.9.0) (1.7.0)\n",
      "Requirement already satisfied: toml in /usr/local/lib/python3.6/dist-packages (from pytest->allennlp==0.9.0) (0.10.1)\n",
      "Requirement already satisfied: pluggy<1.0,>=0.12 in /usr/local/lib/python3.6/dist-packages (from pytest->allennlp==0.9.0) (0.13.1)\n",
      "Requirement already satisfied: py>=1.8.2 in /usr/local/lib/python3.6/dist-packages (from pytest->allennlp==0.9.0) (1.9.0)\n",
      "Requirement already satisfied: packaging in /usr/local/lib/python3.6/dist-packages (from pytest->allennlp==0.9.0) (20.4)\n",
      "Requirement already satisfied: attrs>=17.4.0 in /usr/local/lib/python3.6/dist-packages (from pytest->allennlp==0.9.0) (19.3.0)\n",
      "Requirement already satisfied: iniconfig in /usr/local/lib/python3.6/dist-packages (from pytest->allennlp==0.9.0) (1.0.1)\n",
      "Requirement already satisfied: more-itertools>=4.0.0 in /usr/local/lib/python3.6/dist-packages (from pytest->allennlp==0.9.0) (8.4.0)\n",
      "Requirement already satisfied: Jinja2>=2.10.1 in /usr/local/lib/python3.6/dist-packages (from flask>=1.0.2->allennlp==0.9.0) (2.11.2)\n",
      "Requirement already satisfied: Werkzeug>=0.15 in /usr/local/lib/python3.6/dist-packages (from flask>=1.0.2->allennlp==0.9.0) (1.0.1)\n",
      "Requirement already satisfied: click>=5.1 in /usr/local/lib/python3.6/dist-packages (from flask>=1.0.2->allennlp==0.9.0) (7.1.2)\n",
      "Requirement already satisfied: itsdangerous>=0.24 in /usr/local/lib/python3.6/dist-packages (from flask>=1.0.2->allennlp==0.9.0) (1.1.0)\n",
      "Requirement already satisfied: sphinx>=1.6.5 in /usr/local/lib/python3.6/dist-packages (from numpydoc>=0.8.0->allennlp==0.9.0) (1.8.5)\n",
      "Requirement already satisfied: future in /usr/local/lib/python3.6/dist-packages (from torch>=1.2.0->allennlp==0.9.0) (0.16.0)\n",
      "Requirement already satisfied: protobuf>=3.8.0 in /usr/local/lib/python3.6/dist-packages (from tensorboardX>=1.2->allennlp==0.9.0) (3.12.4)\n",
      "Requirement already satisfied: joblib>=0.11 in /usr/local/lib/python3.6/dist-packages (from scikit-learn->allennlp==0.9.0) (0.16.0)\n",
      "Collecting zope.event\n",
      "  Downloading https://files.pythonhosted.org/packages/c5/96/361edb421a077a4c208b4a5c212737d78ae03ce67fbbcd01621c49f332d1/zope.event-4.4-py2.py3-none-any.whl\n",
      "Collecting zope.interface\n",
      "\u001b[?25l  Downloading https://files.pythonhosted.org/packages/57/33/565274c28a11af60b7cfc0519d46bde4125fcd7d32ebc0a81b480d0e8da6/zope.interface-5.1.0-cp36-cp36m-manylinux2010_x86_64.whl (234kB)\n",
      "\u001b[K     |████████████████████████████████| 235kB 42.3MB/s \n",
      "\u001b[?25hRequirement already satisfied: setuptools in /usr/local/lib/python3.6/dist-packages (from gevent>=1.3.6->allennlp==0.9.0) (49.2.0)\n",
      "Collecting greenlet>=0.4.16; platform_python_implementation == \"CPython\"\n",
      "\u001b[?25l  Downloading https://files.pythonhosted.org/packages/7e/a4/0d8685c98986326534b0753a8b92b3082bc9df42b348bc50d6c69839c9f9/greenlet-0.4.16-cp36-cp36m-manylinux1_x86_64.whl (44kB)\n",
      "\u001b[K     |████████████████████████████████| 51kB 5.6MB/s \n",
      "\u001b[?25hRequirement already satisfied: kiwisolver>=1.0.1 in /usr/local/lib/python3.6/dist-packages (from matplotlib>=2.2.3->allennlp==0.9.0) (1.2.0)\n",
      "Requirement already satisfied: python-dateutil>=2.1 in /usr/local/lib/python3.6/dist-packages (from matplotlib>=2.2.3->allennlp==0.9.0) (2.8.1)\n",
      "Requirement already satisfied: pyparsing!=2.0.4,!=2.1.2,!=2.1.6,>=2.0.1 in /usr/local/lib/python3.6/dist-packages (from matplotlib>=2.2.3->allennlp==0.9.0) (2.4.7)\n",
      "Requirement already satisfied: cycler>=0.10 in /usr/local/lib/python3.6/dist-packages (from matplotlib>=2.2.3->allennlp==0.9.0) (0.10.0)\n",
      "Requirement already satisfied: s3transfer<0.4.0,>=0.3.0 in /usr/local/lib/python3.6/dist-packages (from boto3->allennlp==0.9.0) (0.3.3)\n",
      "Requirement already satisfied: botocore<1.18.0,>=1.17.37 in /usr/local/lib/python3.6/dist-packages (from boto3->allennlp==0.9.0) (1.17.37)\n",
      "Requirement already satisfied: jmespath<1.0.0,>=0.7.1 in /usr/local/lib/python3.6/dist-packages (from boto3->allennlp==0.9.0) (0.10.0)\n",
      "Requirement already satisfied: zipp>=0.5 in /usr/local/lib/python3.6/dist-packages (from importlib-metadata->jsonpickle->allennlp==0.9.0) (3.1.0)\n",
      "Requirement already satisfied: MarkupSafe>=0.23 in /usr/local/lib/python3.6/dist-packages (from Jinja2>=2.10.1->flask>=1.0.2->allennlp==0.9.0) (1.1.1)\n",
      "Requirement already satisfied: babel!=2.0,>=1.3 in /usr/local/lib/python3.6/dist-packages (from sphinx>=1.6.5->numpydoc>=0.8.0->allennlp==0.9.0) (2.8.0)\n",
      "Requirement already satisfied: snowballstemmer>=1.1 in /usr/local/lib/python3.6/dist-packages (from sphinx>=1.6.5->numpydoc>=0.8.0->allennlp==0.9.0) (2.0.0)\n",
      "Requirement already satisfied: sphinxcontrib-websupport in /usr/local/lib/python3.6/dist-packages (from sphinx>=1.6.5->numpydoc>=0.8.0->allennlp==0.9.0) (1.2.3)\n",
      "Requirement already satisfied: docutils>=0.11 in /usr/local/lib/python3.6/dist-packages (from sphinx>=1.6.5->numpydoc>=0.8.0->allennlp==0.9.0) (0.15.2)\n",
      "Requirement already satisfied: imagesize in /usr/local/lib/python3.6/dist-packages (from sphinx>=1.6.5->numpydoc>=0.8.0->allennlp==0.9.0) (1.2.0)\n",
      "Requirement already satisfied: alabaster<0.8,>=0.7 in /usr/local/lib/python3.6/dist-packages (from sphinx>=1.6.5->numpydoc>=0.8.0->allennlp==0.9.0) (0.7.12)\n",
      "Requirement already satisfied: Pygments>=2.0 in /usr/local/lib/python3.6/dist-packages (from sphinx>=1.6.5->numpydoc>=0.8.0->allennlp==0.9.0) (2.1.3)\n",
      "Building wheels for collected packages: ftfy, jsonnet, overrides, word2number, parsimonious\n",
      "  Building wheel for ftfy (setup.py) ... \u001b[?25l\u001b[?25hdone\n",
      "  Created wheel for ftfy: filename=ftfy-5.8-cp36-none-any.whl size=45612 sha256=4be5995790182b5782b71d8735d37ef8a34314668c0ca5758521a7879478c476\n",
      "  Stored in directory: /root/.cache/pip/wheels/ba/c0/ef/f28c4da5ac84a4e06ac256ca9182fc34fa57fefffdbc68425b\n",
      "  Building wheel for jsonnet (setup.py) ... \u001b[?25l\u001b[?25hdone\n",
      "  Created wheel for jsonnet: filename=jsonnet-0.16.0-cp36-cp36m-linux_x86_64.whl size=3321540 sha256=2d6be0f35e2ee3fec6d485fd6e07b53735ee65fae602d5b811531f03d4eb9cbb\n",
      "  Stored in directory: /root/.cache/pip/wheels/64/a9/43/bc5e0463deeec89dfca928a2a64595f1bdb520c891f6fbd09c\n",
      "  Building wheel for overrides (setup.py) ... \u001b[?25l\u001b[?25hdone\n",
      "  Created wheel for overrides: filename=overrides-3.1.0-cp36-none-any.whl size=10174 sha256=9cbce2bdd0660b1dfe117ff26042575fb840418539fd67444c6662461dd624aa\n",
      "  Stored in directory: /root/.cache/pip/wheels/5c/24/13/6ef8600e6f147c95e595f1289a86a3cc82ed65df57582c65a9\n",
      "  Building wheel for word2number (setup.py) ... \u001b[?25l\u001b[?25hdone\n",
      "  Created wheel for word2number: filename=word2number-1.1-cp36-none-any.whl size=5587 sha256=5a0d11b3fe656d9852dc5685e69f3eb89a3c3880875553d8ac7cbdf61491ec6c\n",
      "  Stored in directory: /root/.cache/pip/wheels/46/2f/53/5f5c1d275492f2fce1cdab9a9bb12d49286dead829a4078e0e\n",
      "  Building wheel for parsimonious (setup.py) ... \u001b[?25l\u001b[?25hdone\n",
      "  Created wheel for parsimonious: filename=parsimonious-0.8.1-cp36-none-any.whl size=42712 sha256=54e16e537a81ac69cfa82e6d4d8d851c0144da7aaf320b738dd881e637e6bbbb\n",
      "  Stored in directory: /root/.cache/pip/wheels/b7/8d/e7/a0e74217da5caeb3c1c7689639b6d28ddbf9985b840bc96a9a\n",
      "Successfully built ftfy jsonnet overrides word2number parsimonious\n",
      "\u001b[31mERROR: en-core-web-sm 2.2.5 has requirement spacy>=2.2.2, but you'll have spacy 2.1.9 which is incompatible.\u001b[0m\n",
      "\u001b[31mERROR: responses 0.10.16 has requirement urllib3>=1.25.10, but you'll have urllib3 1.24.3 which is incompatible.\u001b[0m\n",
      "Installing collected packages: flaky, flask-cors, ftfy, pytorch-transformers, conllu, jsonnet, preshed, plac, blis, thinc, spacy, jsonpickle, overrides, unidecode, numpydoc, tensorboardX, word2number, zope.event, zope.interface, greenlet, gevent, pytorch-pretrained-bert, responses, parsimonious, allennlp\n",
      "  Found existing installation: preshed 3.0.2\n",
      "    Uninstalling preshed-3.0.2:\n",
      "      Successfully uninstalled preshed-3.0.2\n",
      "  Found existing installation: plac 1.1.3\n",
      "    Uninstalling plac-1.1.3:\n",
      "      Successfully uninstalled plac-1.1.3\n",
      "  Found existing installation: blis 0.4.1\n",
      "    Uninstalling blis-0.4.1:\n",
      "      Successfully uninstalled blis-0.4.1\n",
      "  Found existing installation: thinc 7.4.0\n",
      "    Uninstalling thinc-7.4.0:\n",
      "      Successfully uninstalled thinc-7.4.0\n",
      "  Found existing installation: spacy 2.2.4\n",
      "    Uninstalling spacy-2.2.4:\n",
      "      Successfully uninstalled spacy-2.2.4\n",
      "Successfully installed allennlp-0.9.0 blis-0.2.4 conllu-1.3.1 flaky-3.7.0 flask-cors-3.0.8 ftfy-5.8 gevent-20.6.2 greenlet-0.4.16 jsonnet-0.16.0 jsonpickle-1.4.1 numpydoc-1.1.0 overrides-3.1.0 parsimonious-0.8.1 plac-0.9.6 preshed-2.0.1 pytorch-pretrained-bert-0.6.2 pytorch-transformers-1.1.0 responses-0.10.16 spacy-2.1.9 tensorboardX-2.1 thinc-7.0.8 unidecode-1.1.1 word2number-1.1 zope.event-4.4 zope.interface-5.1.0\n"
     ]
    }
   ],
   "source": [
    "!pip install allennlp==0.9.0"
   ]
  },
  {
   "cell_type": "code",
   "execution_count": null,
   "metadata": {
    "colab": {
     "base_uri": "https://localhost:8080/",
     "height": 69
    },
    "colab_type": "code",
    "id": "wRRF8DaB8Rkn",
    "outputId": "bb5383f8-0a07-4e69-e22b-8db70673336d"
   },
   "outputs": [
    {
     "name": "stderr",
     "output_type": "stream",
     "text": [
      "100%|██████████| 336/336 [00:00<00:00, 701486.38B/s]\n",
      "100%|██████████| 374434792/374434792 [00:10<00:00, 36583612.06B/s]\n"
     ]
    },
    {
     "data": {
      "text/plain": [
       "[Sentence: \"A band is a musical group but a band is also a ring you put on your finger\"   [− Tokens: 18]]"
      ]
     },
     "execution_count": 3,
     "metadata": {
      "tags": []
     },
     "output_type": "execute_result"
    }
   ],
   "source": [
    "from flair.embeddings import ELMoEmbeddings\n",
    "from flair.data import Sentence\n",
    "\n",
    "elmo = ELMoEmbeddings()\n",
    "\n",
    "sentence1 = \"A band is a musical group but a band is also a ring you put on your finger\"\n",
    "\n",
    "sentence = Sentence(sentence1)\n",
    "\n",
    "elmo.embed(sentence)"
   ]
  },
  {
   "cell_type": "code",
   "execution_count": null,
   "metadata": {
    "colab": {
     "base_uri": "https://localhost:8080/",
     "height": 330
    },
    "colab_type": "code",
    "id": "6ENkvVpA8cr7",
    "outputId": "15321767-2916-4c60-fda1-665678a6cb0a"
   },
   "outputs": [
    {
     "name": "stdout",
     "output_type": "stream",
     "text": [
      "'A': tensor([ 0.1688, -0.0987, -1.0669], device='cuda:0') (Vektorlänge: 3072)\n",
      "'band': tensor([0.1105, 0.0301, 0.2736], device='cuda:0') (Vektorlänge: 3072)\n",
      "'is': tensor([ 0.1915,  0.2300, -0.2894], device='cuda:0') (Vektorlänge: 3072)\n",
      "'a': tensor([ 0.1040,  0.1229, -0.0706], device='cuda:0') (Vektorlänge: 3072)\n",
      "'musical': tensor([-0.2634,  0.2971,  0.5403], device='cuda:0') (Vektorlänge: 3072)\n",
      "'group': tensor([-0.1656,  0.4269, -0.3066], device='cuda:0') (Vektorlänge: 3072)\n",
      "'but': tensor([-0.2404, -0.2742, -0.2190], device='cuda:0') (Vektorlänge: 3072)\n",
      "'a': tensor([ 0.1040,  0.1229, -0.0706], device='cuda:0') (Vektorlänge: 3072)\n",
      "'band': tensor([0.1105, 0.0301, 0.2736], device='cuda:0') (Vektorlänge: 3072)\n",
      "'is': tensor([ 0.1915,  0.2300, -0.2894], device='cuda:0') (Vektorlänge: 3072)\n",
      "'also': tensor([ 0.8475, -0.2688,  0.2739], device='cuda:0') (Vektorlänge: 3072)\n",
      "'a': tensor([ 0.1040,  0.1229, -0.0706], device='cuda:0') (Vektorlänge: 3072)\n",
      "'ring': tensor([0.9698, 0.3503, 0.1530], device='cuda:0') (Vektorlänge: 3072)\n",
      "'you': tensor([ 0.3645, -0.1415, -0.0662], device='cuda:0') (Vektorlänge: 3072)\n",
      "'put': tensor([-0.2500, -0.4305, -0.0924], device='cuda:0') (Vektorlänge: 3072)\n",
      "'on': tensor([ 0.0434,  0.1392, -0.4155], device='cuda:0') (Vektorlänge: 3072)\n",
      "'your': tensor([-0.0062,  0.5871,  0.0844], device='cuda:0') (Vektorlänge: 3072)\n",
      "'finger': tensor([-0.5601,  0.6018, -0.0405], device='cuda:0') (Vektorlänge: 3072)\n"
     ]
    }
   ],
   "source": [
    "elmo_tensors = []\n",
    "for token in sentence:\n",
    "  if token.text == \"band\":\n",
    "    elmo_tensors.append(token.embedding)\n",
    "  print(f\"'{token.text}': {token.embedding[:3]} \" +\n",
    "f\"(Vektorlänge: {len(token.embedding)})\")\n"
   ]
  },
  {
   "cell_type": "code",
   "execution_count": null,
   "metadata": {
    "colab": {
     "base_uri": "https://localhost:8080/",
     "height": 34
    },
    "colab_type": "code",
    "id": "9D-1tyG6AZxM",
    "outputId": "d839a1e9-2660-4984-88b1-b5ceefdf6803"
   },
   "outputs": [
    {
     "data": {
      "text/plain": [
       "2"
      ]
     },
     "execution_count": 6,
     "metadata": {
      "tags": []
     },
     "output_type": "execute_result"
    }
   ],
   "source": [
    "len(elmo_tensors)"
   ]
  },
  {
   "cell_type": "code",
   "execution_count": null,
   "metadata": {
    "colab": {
     "base_uri": "https://localhost:8080/",
     "height": 231
    },
    "colab_type": "code",
    "id": "avii9MjX-tUG",
    "outputId": "1272a18a-6f6b-43c6-ef5d-9cdfa46cbdb9"
   },
   "outputs": [
    {
     "ename": "IndexError",
     "evalue": "ignored",
     "output_type": "error",
     "traceback": [
      "\u001b[0;31m---------------------------------------------------------------------------\u001b[0m",
      "\u001b[0;31mIndexError\u001b[0m                                Traceback (most recent call last)",
      "\u001b[0;32m<ipython-input-46-94396ed0be3e>\u001b[0m in \u001b[0;36m<module>\u001b[0;34m()\u001b[0m\n\u001b[1;32m      1\u001b[0m \u001b[0mdiff1\u001b[0m \u001b[0;34m=\u001b[0m \u001b[0melmo_tensors\u001b[0m\u001b[0;34m[\u001b[0m\u001b[0;36m1\u001b[0m\u001b[0;34m]\u001b[0m \u001b[0;34m-\u001b[0m \u001b[0melmo_tensors\u001b[0m\u001b[0;34m[\u001b[0m\u001b[0;36m0\u001b[0m\u001b[0;34m]\u001b[0m\u001b[0;34m\u001b[0m\u001b[0;34m\u001b[0m\u001b[0m\n\u001b[0;32m----> 2\u001b[0;31m \u001b[0mdiff2\u001b[0m \u001b[0;34m=\u001b[0m \u001b[0melmo_tensors\u001b[0m\u001b[0;34m[\u001b[0m\u001b[0;36m1\u001b[0m\u001b[0;34m]\u001b[0m \u001b[0;34m-\u001b[0m \u001b[0melmo_tensors\u001b[0m\u001b[0;34m[\u001b[0m\u001b[0;36m2\u001b[0m\u001b[0;34m]\u001b[0m\u001b[0;34m\u001b[0m\u001b[0;34m\u001b[0m\u001b[0m\n\u001b[0m\u001b[1;32m      3\u001b[0m \u001b[0mdiff3\u001b[0m \u001b[0;34m=\u001b[0m \u001b[0melmo_tensors\u001b[0m\u001b[0;34m[\u001b[0m\u001b[0;36m2\u001b[0m\u001b[0;34m]\u001b[0m \u001b[0;34m-\u001b[0m \u001b[0melmo_tensors\u001b[0m\u001b[0;34m[\u001b[0m\u001b[0;36m0\u001b[0m\u001b[0;34m]\u001b[0m\u001b[0;34m\u001b[0m\u001b[0;34m\u001b[0m\u001b[0m\n\u001b[1;32m      4\u001b[0m \u001b[0mdiff4\u001b[0m \u001b[0;34m=\u001b[0m \u001b[0melmo_tensors\u001b[0m\u001b[0;34m[\u001b[0m\u001b[0;36m2\u001b[0m\u001b[0;34m]\u001b[0m \u001b[0;34m-\u001b[0m \u001b[0melmo_tensors\u001b[0m\u001b[0;34m[\u001b[0m\u001b[0;36m1\u001b[0m\u001b[0;34m]\u001b[0m\u001b[0;34m\u001b[0m\u001b[0;34m\u001b[0m\u001b[0m\n\u001b[1;32m      5\u001b[0m \u001b[0mdiff5\u001b[0m \u001b[0;34m=\u001b[0m \u001b[0melmo_tensors\u001b[0m\u001b[0;34m[\u001b[0m\u001b[0;36m2\u001b[0m\u001b[0;34m]\u001b[0m \u001b[0;34m-\u001b[0m \u001b[0melmo_tensors\u001b[0m\u001b[0;34m[\u001b[0m\u001b[0;36m3\u001b[0m\u001b[0;34m]\u001b[0m\u001b[0;34m\u001b[0m\u001b[0;34m\u001b[0m\u001b[0m\n",
      "\u001b[0;31mIndexError\u001b[0m: list index out of range"
     ]
    }
   ],
   "source": [
    "diff1 = elmo_tensors[1] - elmo_tensors[0]\n",
    "diff2 = elmo_tensors[1] - elmo_tensors[2]\n",
    "diff3 = elmo_tensors[2] - elmo_tensors[0]\n",
    "diff4 = elmo_tensors[2] - elmo_tensors[1]\n",
    "diff5 = elmo_tensors[2] - elmo_tensors[3]\n",
    "print(\"Die Vektoren der beiden unterschiedlichen Bedeutungen \" +\n",
    "\"von 'bow' unterscheiden sich bei ELMo in \" +\n",
    "str(len([i for i in diff1.tolist() if i != 0])) + ','+\n",
    "str(len([i for i in diff2.tolist() if i != 0])) + ','+\n",
    "str(len([i for i in diff3.tolist() if i != 0])) + ','+\n",
    "str(len([i for i in diff4.tolist() if i != 0])) + ','+\n",
    "str(len([i for i in diff5.tolist() if i != 0])) + \"von 3072 Stellen.\")\n"
   ]
  },
  {
   "cell_type": "code",
   "execution_count": null,
   "metadata": {
    "colab": {
     "base_uri": "https://localhost:8080/",
     "height": 34
    },
    "colab_type": "code",
    "id": "QE-ipDTDcaoU",
    "outputId": "56aa4087-16db-462d-cd65-94aef46b0959"
   },
   "outputs": [
    {
     "name": "stdout",
     "output_type": "stream",
     "text": [
      "Die Vektoren der beiden unterschiedlichen Bedeutungen von 'band' unterscheiden sich bei ELMo in 2045 von 3072 Stellen\n"
     ]
    }
   ],
   "source": [
    "diff = elmo_tensors[1] - elmo_tensors[0]\n",
    "print(\"Die Vektoren der beiden unterschiedlichen Bedeutungen \" +\n",
    "\"von 'band' unterscheiden sich bei ELMo in \" +\n",
    "str(len([i for i in diff.tolist() if i != 0])) + ' von 3072 Stellen')"
   ]
  },
  {
   "cell_type": "markdown",
   "metadata": {
    "colab_type": "text",
    "id": "wfCyhXvV8c0g"
   },
   "source": [
    "### BERT"
   ]
  },
  {
   "cell_type": "code",
   "execution_count": null,
   "metadata": {
    "colab": {},
    "colab_type": "code",
    "id": "QnJU3CKECOVW"
   },
   "outputs": [],
   "source": [
    "from flair.embeddings import BertEmbeddings"
   ]
  },
  {
   "cell_type": "code",
   "execution_count": null,
   "metadata": {
    "colab": {
     "base_uri": "https://localhost:8080/",
     "height": 220,
     "referenced_widgets": [
      "406484dcdfc043bc961caf2266432a17",
      "16d3c70f4a3e4b309d69cc47bb010a4f",
      "97f3c362c1ce4406b1dd92a7c2609eaf",
      "90b22262a2d94b76be15a122a57ce18b",
      "15fc31ec24d74d4eb5681206138e9f9b",
      "94c5b92acbd44e7897e0cc23c06f0533",
      "c61e8dae086442bfa7c7c7688d32efd2",
      "4c0f2e104eb946bcb4f7ad06679d9876",
      "caefb60b94064ac79ed08b7db6c80484",
      "a4508d50d06443b68c5f59f3d5ed1770",
      "6200acf9d7a049bea7082ece6c8237c2",
      "060ef762c29b45bd8019e5496f708783",
      "debbd3de60834279b106dd625a5e76f5",
      "1887f736f55c45b5b2b90d89641c8a5c",
      "7ff98e9edbd1437687d136874e5bb95f",
      "02e032febf3f43189118e882f0a01b15",
      "4e0edac54344405089dfcea7815110cb",
      "a74ba0b49fdb4b5dae294c0ff79983b1",
      "70b45fe6ed9d49b088a32e4ae7bfe827",
      "a536cca1b52f494089ed834b2a5fe93d",
      "b204f717c7934e31a47bbe2c0ee8c35d",
      "81357239f9f04331ac0c269f2a90f063",
      "a1251b0e0a1e4143b63521bc3a67f901",
      "3a63d111b54e4dfd8efa206583558094"
     ]
    },
    "colab_type": "code",
    "id": "dJOGd3VM8d1-",
    "outputId": "f9fa2d17-66d1-476b-8f1e-4ea031bf0e69"
   },
   "outputs": [
    {
     "name": "stderr",
     "output_type": "stream",
     "text": [
      "/usr/local/lib/python3.6/dist-packages/ipykernel_launcher.py:1: DeprecationWarning: Call to deprecated method __init__. (Use 'TransformerWordEmbeddings' for all transformer-based word embeddings) -- Deprecated since version 0.4.5.\n",
      "  \"\"\"Entry point for launching an IPython kernel.\n"
     ]
    },
    {
     "data": {
      "application/vnd.jupyter.widget-view+json": {
       "model_id": "406484dcdfc043bc961caf2266432a17",
       "version_major": 2,
       "version_minor": 0
      },
      "text/plain": [
       "HBox(children=(FloatProgress(value=0.0, description='Downloading', max=231508.0, style=ProgressStyle(descripti…"
      ]
     },
     "metadata": {
      "tags": []
     },
     "output_type": "display_data"
    },
    {
     "name": "stdout",
     "output_type": "stream",
     "text": [
      "\n"
     ]
    },
    {
     "data": {
      "application/vnd.jupyter.widget-view+json": {
       "model_id": "caefb60b94064ac79ed08b7db6c80484",
       "version_major": 2,
       "version_minor": 0
      },
      "text/plain": [
       "HBox(children=(FloatProgress(value=0.0, description='Downloading', max=433.0, style=ProgressStyle(description_…"
      ]
     },
     "metadata": {
      "tags": []
     },
     "output_type": "display_data"
    },
    {
     "name": "stdout",
     "output_type": "stream",
     "text": [
      "\n"
     ]
    },
    {
     "data": {
      "application/vnd.jupyter.widget-view+json": {
       "model_id": "4e0edac54344405089dfcea7815110cb",
       "version_major": 2,
       "version_minor": 0
      },
      "text/plain": [
       "HBox(children=(FloatProgress(value=0.0, description='Downloading', max=440473133.0, style=ProgressStyle(descri…"
      ]
     },
     "metadata": {
      "tags": []
     },
     "output_type": "display_data"
    },
    {
     "name": "stdout",
     "output_type": "stream",
     "text": [
      "\n"
     ]
    }
   ],
   "source": [
    "bert = BertEmbeddings()"
   ]
  },
  {
   "cell_type": "code",
   "execution_count": null,
   "metadata": {
    "colab": {
     "base_uri": "https://localhost:8080/",
     "height": 34
    },
    "colab_type": "code",
    "id": "DGIY7b2pCHxb",
    "outputId": "ce46b9ef-ad14-46ab-f28d-8d5bbdc4cfec"
   },
   "outputs": [
    {
     "data": {
      "text/plain": [
       "[Sentence: \"A long holiday is relaxing but a short trip is also great\"   [− Tokens: 12]]"
      ]
     },
     "execution_count": 15,
     "metadata": {
      "tags": []
     },
     "output_type": "execute_result"
    }
   ],
   "source": [
    "sentence1 = \"A band is a musical group but a band is also a ring you put on your finger\"\n",
    "sentence2 = \"A long holiday is relaxing but a short trip is also great\"\n",
    "sentence = Sentence(sentence2)\n",
    "\n",
    "bert.embed(sentence)"
   ]
  },
  {
   "cell_type": "code",
   "execution_count": null,
   "metadata": {
    "colab": {
     "base_uri": "https://localhost:8080/",
     "height": 225
    },
    "colab_type": "code",
    "id": "VqFBJRF2Cixj",
    "outputId": "ce829e17-f9e0-4353-ef65-bcd7b79d1216"
   },
   "outputs": [
    {
     "name": "stdout",
     "output_type": "stream",
     "text": [
      "'A': tensor([-0.1919,  0.2010, -0.1375], device='cuda:0') (Vektorlänge: 3072)\n",
      "'long': tensor([-0.1536, -0.4012,  0.9806], device='cuda:0') (Vektorlänge: 3072)\n",
      "'holiday': tensor([ 0.3066, -0.3822,  1.1594], device='cuda:0') (Vektorlänge: 3072)\n",
      "'is': tensor([-0.7113,  0.1753,  0.1477], device='cuda:0') (Vektorlänge: 3072)\n",
      "'relaxing': tensor([-0.1143,  0.2193,  0.3618], device='cuda:0') (Vektorlänge: 3072)\n",
      "'but': tensor([ 0.3374, -0.5067,  0.4074], device='cuda:0') (Vektorlänge: 3072)\n",
      "'a': tensor([-0.3217, -0.0360,  0.0989], device='cuda:0') (Vektorlänge: 3072)\n",
      "'short': tensor([-0.1338, -0.5511, -0.1262], device='cuda:0') (Vektorlänge: 3072)\n",
      "'trip': tensor([ 0.4017, -0.5759,  1.2235], device='cuda:0') (Vektorlänge: 3072)\n",
      "'is': tensor([-0.8594, -0.2433,  0.1305], device='cuda:0') (Vektorlänge: 3072)\n",
      "'also': tensor([-1.1629, -0.4321, -0.1871], device='cuda:0') (Vektorlänge: 3072)\n",
      "'great': tensor([-0.4442, -0.3618, -0.2741], device='cuda:0') (Vektorlänge: 3072)\n"
     ]
    }
   ],
   "source": [
    "bert_tensors = []\n",
    "for token in sentence:\n",
    "  if token.text == \"long\" or token.text==\"short\":\n",
    "    bert_tensors.append(token.embedding)\n",
    "  print(f\"'{token.text}': {token.embedding[:3]} \" +\n",
    "f\"(Vektorlänge: {len(token.embedding)})\")\n"
   ]
  },
  {
   "cell_type": "code",
   "execution_count": null,
   "metadata": {
    "colab": {
     "base_uri": "https://localhost:8080/",
     "height": 34
    },
    "colab_type": "code",
    "id": "r0rIKcGHCv3L",
    "outputId": "392afc09-f2b0-4c47-ecbc-8fc4a3d21547"
   },
   "outputs": [
    {
     "name": "stdout",
     "output_type": "stream",
     "text": [
      "Die Vektoren der beiden unterschiedlichen Bedeutungen von 'band' unterscheiden sich bei BERT in 3072 von 3072 Stellen\n"
     ]
    }
   ],
   "source": [
    "diff = bert_tensors[0] - bert_tensors[1]\n",
    "\n",
    "print(\"Die Vektoren der beiden unterschiedlichen Bedeutungen \" +\n",
    "\"von 'band' unterscheiden sich bei BERT in \" +\n",
    "str(len([i for i in diff.tolist() if i != 0])) + ' von 3072 Stellen')"
   ]
  },
  {
   "cell_type": "code",
   "execution_count": null,
   "metadata": {
    "colab": {
     "base_uri": "https://localhost:8080/",
     "height": 34
    },
    "colab_type": "code",
    "id": "KX5KvlH4DFyw",
    "outputId": "7e60960b-5aa8-427a-eff0-0c05204e319c"
   },
   "outputs": [
    {
     "name": "stdout",
     "output_type": "stream",
     "text": [
      "Die Vektoren der beiden unterschiedlichen Bedeutungen von 'bow' unterscheiden sich bei BERT in 3072,3072,3072,3072,3072von 3072 Stellen.\n"
     ]
    }
   ],
   "source": [
    "diff1 = bert_tensors[1] - bert_tensors[0]\n",
    "diff2 = bert_tensors[1] - bert_tensors[2]\n",
    "diff3 = bert_tensors[2] - bert_tensors[0]\n",
    "diff4 = bert_tensors[2] - bert_tensors[1]\n",
    "diff5 = bert_tensors[2] - bert_tensors[3]\n",
    "print(\"Die Vektoren der beiden unterschiedlichen Bedeutungen \" +\n",
    "\"von 'bow' unterscheiden sich bei BERT in \" +\n",
    "str(len([i for i in diff1.tolist() if i != 0])) + ','+\n",
    "str(len([i for i in diff2.tolist() if i != 0])) + ','+\n",
    "str(len([i for i in diff3.tolist() if i != 0])) + ','+\n",
    "str(len([i for i in diff4.tolist() if i != 0])) + ','+\n",
    "str(len([i for i in diff5.tolist() if i != 0])) + \"von 3072 Stellen.\")\n"
   ]
  },
  {
   "cell_type": "code",
   "execution_count": null,
   "metadata": {
    "colab": {
     "base_uri": "https://localhost:8080/",
     "height": 347
    },
    "colab_type": "code",
    "id": "b7P0lKdjDmCT",
    "outputId": "ba34db6b-5e44-4fe6-878c-654b7f868eb1"
   },
   "outputs": [
    {
     "name": "stdout",
     "output_type": "stream",
     "text": [
      "Requirement already satisfied: transformers in /usr/local/lib/python3.6/dist-packages (3.0.2)\n",
      "Requirement already satisfied: sacremoses in /usr/local/lib/python3.6/dist-packages (from transformers) (0.0.43)\n",
      "Requirement already satisfied: tokenizers==0.8.1.rc1 in /usr/local/lib/python3.6/dist-packages (from transformers) (0.8.1rc1)\n",
      "Requirement already satisfied: requests in /usr/local/lib/python3.6/dist-packages (from transformers) (2.23.0)\n",
      "Requirement already satisfied: numpy in /usr/local/lib/python3.6/dist-packages (from transformers) (1.18.5)\n",
      "Requirement already satisfied: packaging in /usr/local/lib/python3.6/dist-packages (from transformers) (20.4)\n",
      "Requirement already satisfied: regex!=2019.12.17 in /usr/local/lib/python3.6/dist-packages (from transformers) (2019.12.20)\n",
      "Requirement already satisfied: dataclasses; python_version < \"3.7\" in /usr/local/lib/python3.6/dist-packages (from transformers) (0.7)\n",
      "Requirement already satisfied: tqdm>=4.27 in /usr/local/lib/python3.6/dist-packages (from transformers) (4.41.1)\n",
      "Requirement already satisfied: filelock in /usr/local/lib/python3.6/dist-packages (from transformers) (3.0.12)\n",
      "Requirement already satisfied: sentencepiece!=0.1.92 in /usr/local/lib/python3.6/dist-packages (from transformers) (0.1.91)\n",
      "Requirement already satisfied: click in /usr/local/lib/python3.6/dist-packages (from sacremoses->transformers) (7.1.2)\n",
      "Requirement already satisfied: joblib in /usr/local/lib/python3.6/dist-packages (from sacremoses->transformers) (0.16.0)\n",
      "Requirement already satisfied: six in /usr/local/lib/python3.6/dist-packages (from sacremoses->transformers) (1.15.0)\n",
      "Requirement already satisfied: urllib3!=1.25.0,!=1.25.1,<1.26,>=1.21.1 in /usr/local/lib/python3.6/dist-packages (from requests->transformers) (1.24.3)\n",
      "Requirement already satisfied: certifi>=2017.4.17 in /usr/local/lib/python3.6/dist-packages (from requests->transformers) (2020.6.20)\n",
      "Requirement already satisfied: idna<3,>=2.5 in /usr/local/lib/python3.6/dist-packages (from requests->transformers) (2.10)\n",
      "Requirement already satisfied: chardet<4,>=3.0.2 in /usr/local/lib/python3.6/dist-packages (from requests->transformers) (3.0.4)\n",
      "Requirement already satisfied: pyparsing>=2.0.2 in /usr/local/lib/python3.6/dist-packages (from packaging->transformers) (2.4.7)\n"
     ]
    }
   ],
   "source": []
  },
  {
   "cell_type": "markdown",
   "metadata": {
    "colab_type": "text",
    "id": "aO209n_MXEIr"
   },
   "source": [
    "# mit pytorch"
   ]
  },
  {
   "cell_type": "code",
   "execution_count": null,
   "metadata": {
    "colab": {
     "base_uri": "https://localhost:8080/",
     "height": 66,
     "referenced_widgets": [
      "37a4dee44a39434a80624d3fb3888720",
      "be6d1426432046e8ba923e20326f0ed7",
      "54d959c5df4147b6b399a0c33aface18",
      "965f551090cb4acf9893efb54d15fdb7",
      "347df64b470d43acb8c3838aff52feba",
      "05328af29b8942a7a0da00da03ca2bae",
      "da3d7f0f7a224bfdb05cc356e0f2dbf1",
      "d1e4d186c5a0418a8b5268121274532d"
     ]
    },
    "colab_type": "code",
    "id": "TwXsaHGrMdSs",
    "outputId": "74fbf8d2-2645-4fcc-b6e3-96d31550a011"
   },
   "outputs": [
    {
     "data": {
      "application/vnd.jupyter.widget-view+json": {
       "model_id": "37a4dee44a39434a80624d3fb3888720",
       "version_major": 2,
       "version_minor": 0
      },
      "text/plain": [
       "HBox(children=(FloatProgress(value=0.0, description='Downloading', max=231508.0, style=ProgressStyle(descripti…"
      ]
     },
     "metadata": {
      "tags": []
     },
     "output_type": "display_data"
    },
    {
     "name": "stdout",
     "output_type": "stream",
     "text": [
      "\n"
     ]
    }
   ],
   "source": [
    "import torch\n",
    "from transformers import BertTokenizer, BertModel\n",
    "\n",
    "# OPTIONAL: if you want to have more information on what's happening, activate the logger as follows\n",
    "import logging\n",
    "#logging.basicConfig(level=logging.INFO)\n",
    "\n",
    "import matplotlib.pyplot as plt\n",
    "% matplotlib inline\n",
    "\n",
    "# Load pre-trained model tokenizer (vocabulary)\n",
    "tokenizer = BertTokenizer.from_pretrained('bert-base-uncased')\n",
    "\n"
   ]
  },
  {
   "cell_type": "code",
   "execution_count": null,
   "metadata": {
    "colab": {
     "base_uri": "https://localhost:8080/",
     "height": 116,
     "referenced_widgets": [
      "e733a601781e45ff88b92960e20ac17f",
      "d7696af3dc7147b5b6fb08b6a7553df5",
      "675810a61e684edba6f9a62d4008f866",
      "2e42673fe4994002ab96bd79e98175e7",
      "d74fb0d0fa3043a99ea1d4a9d447b564",
      "6689278ae57740b292df14aa79cb60bb",
      "e92ab08661ea4e0abd9f49a26e193562",
      "df2d30cdeef04db59a319fb87e106d24",
      "da4aa07e5ab84a50abfe4f81fc8511f6",
      "d707728c6beb45348b350d5d78282bd6",
      "d415047f09a449fc964846f1e28e1398",
      "6f14235d1b584951ae8ebb8fae8be9fa",
      "956591b99e5043a1bc4e8ab4a6e8aa85",
      "63600b7ea39447f2af787ba91c9ff9a0",
      "d166458f288f439f8e83ce80ef75487a",
      "c6fb687ac5954055a40963948c22592e"
     ]
    },
    "colab_type": "code",
    "id": "5VGFvHquMjpA",
    "outputId": "1a455e19-9cce-4506-922f-cbcf27a45fd7"
   },
   "outputs": [
    {
     "data": {
      "application/vnd.jupyter.widget-view+json": {
       "model_id": "e733a601781e45ff88b92960e20ac17f",
       "version_major": 2,
       "version_minor": 0
      },
      "text/plain": [
       "HBox(children=(FloatProgress(value=0.0, description='Downloading', max=433.0, style=ProgressStyle(description_…"
      ]
     },
     "metadata": {
      "tags": []
     },
     "output_type": "display_data"
    },
    {
     "name": "stdout",
     "output_type": "stream",
     "text": [
      "\n"
     ]
    },
    {
     "data": {
      "application/vnd.jupyter.widget-view+json": {
       "model_id": "da4aa07e5ab84a50abfe4f81fc8511f6",
       "version_major": 2,
       "version_minor": 0
      },
      "text/plain": [
       "HBox(children=(FloatProgress(value=0.0, description='Downloading', max=440473133.0, style=ProgressStyle(descri…"
      ]
     },
     "metadata": {
      "tags": []
     },
     "output_type": "display_data"
    },
    {
     "name": "stdout",
     "output_type": "stream",
     "text": [
      "\n"
     ]
    }
   ],
   "source": [
    "text = \"A band is a musical group but a band is also a ring you put on your finger\"\n",
    "\n",
    "marked_text = \"[CLS] \" + text + \" [SEP]\"\n",
    "\n",
    "# Satz tokenisieren\n",
    "tokenized_text = tokenizer.tokenize(marked_text)\n",
    "\n",
    "# Token strings und Vokabular Indexe verbinden\n",
    "indexed_tokens = tokenizer.convert_tokens_to_ids(tokenized_text)\n",
    "segments_ids = [1] * len(tokenized_text)\n",
    "\n",
    "# Tensoren erstellen\n",
    "tokens_tensor = torch.tensor([indexed_tokens])\n",
    "segments_tensors = torch.tensor([segments_ids])\n",
    "\n",
    "# vortrainiertes Modell laden\n",
    "model = BertModel.from_pretrained('bert-base-uncased',\n",
    "                                  output_hidden_states = True,\n",
    "                                  )"
   ]
  },
  {
   "cell_type": "code",
   "execution_count": null,
   "metadata": {
    "colab": {
     "base_uri": "https://localhost:8080/",
     "height": 1000
    },
    "colab_type": "code",
    "id": "MImmg74hXgHN",
    "outputId": "0c5318b6-2dac-4f73-acf7-c17af04bc0cd"
   },
   "outputs": [
    {
     "data": {
      "text/plain": [
       "BertModel(\n",
       "  (embeddings): BertEmbeddings(\n",
       "    (word_embeddings): Embedding(30522, 768, padding_idx=0)\n",
       "    (position_embeddings): Embedding(512, 768)\n",
       "    (token_type_embeddings): Embedding(2, 768)\n",
       "    (LayerNorm): LayerNorm((768,), eps=1e-12, elementwise_affine=True)\n",
       "    (dropout): Dropout(p=0.1, inplace=False)\n",
       "  )\n",
       "  (encoder): BertEncoder(\n",
       "    (layer): ModuleList(\n",
       "      (0): BertLayer(\n",
       "        (attention): BertAttention(\n",
       "          (self): BertSelfAttention(\n",
       "            (query): Linear(in_features=768, out_features=768, bias=True)\n",
       "            (key): Linear(in_features=768, out_features=768, bias=True)\n",
       "            (value): Linear(in_features=768, out_features=768, bias=True)\n",
       "            (dropout): Dropout(p=0.1, inplace=False)\n",
       "          )\n",
       "          (output): BertSelfOutput(\n",
       "            (dense): Linear(in_features=768, out_features=768, bias=True)\n",
       "            (LayerNorm): LayerNorm((768,), eps=1e-12, elementwise_affine=True)\n",
       "            (dropout): Dropout(p=0.1, inplace=False)\n",
       "          )\n",
       "        )\n",
       "        (intermediate): BertIntermediate(\n",
       "          (dense): Linear(in_features=768, out_features=3072, bias=True)\n",
       "        )\n",
       "        (output): BertOutput(\n",
       "          (dense): Linear(in_features=3072, out_features=768, bias=True)\n",
       "          (LayerNorm): LayerNorm((768,), eps=1e-12, elementwise_affine=True)\n",
       "          (dropout): Dropout(p=0.1, inplace=False)\n",
       "        )\n",
       "      )\n",
       "      (1): BertLayer(\n",
       "        (attention): BertAttention(\n",
       "          (self): BertSelfAttention(\n",
       "            (query): Linear(in_features=768, out_features=768, bias=True)\n",
       "            (key): Linear(in_features=768, out_features=768, bias=True)\n",
       "            (value): Linear(in_features=768, out_features=768, bias=True)\n",
       "            (dropout): Dropout(p=0.1, inplace=False)\n",
       "          )\n",
       "          (output): BertSelfOutput(\n",
       "            (dense): Linear(in_features=768, out_features=768, bias=True)\n",
       "            (LayerNorm): LayerNorm((768,), eps=1e-12, elementwise_affine=True)\n",
       "            (dropout): Dropout(p=0.1, inplace=False)\n",
       "          )\n",
       "        )\n",
       "        (intermediate): BertIntermediate(\n",
       "          (dense): Linear(in_features=768, out_features=3072, bias=True)\n",
       "        )\n",
       "        (output): BertOutput(\n",
       "          (dense): Linear(in_features=3072, out_features=768, bias=True)\n",
       "          (LayerNorm): LayerNorm((768,), eps=1e-12, elementwise_affine=True)\n",
       "          (dropout): Dropout(p=0.1, inplace=False)\n",
       "        )\n",
       "      )\n",
       "      (2): BertLayer(\n",
       "        (attention): BertAttention(\n",
       "          (self): BertSelfAttention(\n",
       "            (query): Linear(in_features=768, out_features=768, bias=True)\n",
       "            (key): Linear(in_features=768, out_features=768, bias=True)\n",
       "            (value): Linear(in_features=768, out_features=768, bias=True)\n",
       "            (dropout): Dropout(p=0.1, inplace=False)\n",
       "          )\n",
       "          (output): BertSelfOutput(\n",
       "            (dense): Linear(in_features=768, out_features=768, bias=True)\n",
       "            (LayerNorm): LayerNorm((768,), eps=1e-12, elementwise_affine=True)\n",
       "            (dropout): Dropout(p=0.1, inplace=False)\n",
       "          )\n",
       "        )\n",
       "        (intermediate): BertIntermediate(\n",
       "          (dense): Linear(in_features=768, out_features=3072, bias=True)\n",
       "        )\n",
       "        (output): BertOutput(\n",
       "          (dense): Linear(in_features=3072, out_features=768, bias=True)\n",
       "          (LayerNorm): LayerNorm((768,), eps=1e-12, elementwise_affine=True)\n",
       "          (dropout): Dropout(p=0.1, inplace=False)\n",
       "        )\n",
       "      )\n",
       "      (3): BertLayer(\n",
       "        (attention): BertAttention(\n",
       "          (self): BertSelfAttention(\n",
       "            (query): Linear(in_features=768, out_features=768, bias=True)\n",
       "            (key): Linear(in_features=768, out_features=768, bias=True)\n",
       "            (value): Linear(in_features=768, out_features=768, bias=True)\n",
       "            (dropout): Dropout(p=0.1, inplace=False)\n",
       "          )\n",
       "          (output): BertSelfOutput(\n",
       "            (dense): Linear(in_features=768, out_features=768, bias=True)\n",
       "            (LayerNorm): LayerNorm((768,), eps=1e-12, elementwise_affine=True)\n",
       "            (dropout): Dropout(p=0.1, inplace=False)\n",
       "          )\n",
       "        )\n",
       "        (intermediate): BertIntermediate(\n",
       "          (dense): Linear(in_features=768, out_features=3072, bias=True)\n",
       "        )\n",
       "        (output): BertOutput(\n",
       "          (dense): Linear(in_features=3072, out_features=768, bias=True)\n",
       "          (LayerNorm): LayerNorm((768,), eps=1e-12, elementwise_affine=True)\n",
       "          (dropout): Dropout(p=0.1, inplace=False)\n",
       "        )\n",
       "      )\n",
       "      (4): BertLayer(\n",
       "        (attention): BertAttention(\n",
       "          (self): BertSelfAttention(\n",
       "            (query): Linear(in_features=768, out_features=768, bias=True)\n",
       "            (key): Linear(in_features=768, out_features=768, bias=True)\n",
       "            (value): Linear(in_features=768, out_features=768, bias=True)\n",
       "            (dropout): Dropout(p=0.1, inplace=False)\n",
       "          )\n",
       "          (output): BertSelfOutput(\n",
       "            (dense): Linear(in_features=768, out_features=768, bias=True)\n",
       "            (LayerNorm): LayerNorm((768,), eps=1e-12, elementwise_affine=True)\n",
       "            (dropout): Dropout(p=0.1, inplace=False)\n",
       "          )\n",
       "        )\n",
       "        (intermediate): BertIntermediate(\n",
       "          (dense): Linear(in_features=768, out_features=3072, bias=True)\n",
       "        )\n",
       "        (output): BertOutput(\n",
       "          (dense): Linear(in_features=3072, out_features=768, bias=True)\n",
       "          (LayerNorm): LayerNorm((768,), eps=1e-12, elementwise_affine=True)\n",
       "          (dropout): Dropout(p=0.1, inplace=False)\n",
       "        )\n",
       "      )\n",
       "      (5): BertLayer(\n",
       "        (attention): BertAttention(\n",
       "          (self): BertSelfAttention(\n",
       "            (query): Linear(in_features=768, out_features=768, bias=True)\n",
       "            (key): Linear(in_features=768, out_features=768, bias=True)\n",
       "            (value): Linear(in_features=768, out_features=768, bias=True)\n",
       "            (dropout): Dropout(p=0.1, inplace=False)\n",
       "          )\n",
       "          (output): BertSelfOutput(\n",
       "            (dense): Linear(in_features=768, out_features=768, bias=True)\n",
       "            (LayerNorm): LayerNorm((768,), eps=1e-12, elementwise_affine=True)\n",
       "            (dropout): Dropout(p=0.1, inplace=False)\n",
       "          )\n",
       "        )\n",
       "        (intermediate): BertIntermediate(\n",
       "          (dense): Linear(in_features=768, out_features=3072, bias=True)\n",
       "        )\n",
       "        (output): BertOutput(\n",
       "          (dense): Linear(in_features=3072, out_features=768, bias=True)\n",
       "          (LayerNorm): LayerNorm((768,), eps=1e-12, elementwise_affine=True)\n",
       "          (dropout): Dropout(p=0.1, inplace=False)\n",
       "        )\n",
       "      )\n",
       "      (6): BertLayer(\n",
       "        (attention): BertAttention(\n",
       "          (self): BertSelfAttention(\n",
       "            (query): Linear(in_features=768, out_features=768, bias=True)\n",
       "            (key): Linear(in_features=768, out_features=768, bias=True)\n",
       "            (value): Linear(in_features=768, out_features=768, bias=True)\n",
       "            (dropout): Dropout(p=0.1, inplace=False)\n",
       "          )\n",
       "          (output): BertSelfOutput(\n",
       "            (dense): Linear(in_features=768, out_features=768, bias=True)\n",
       "            (LayerNorm): LayerNorm((768,), eps=1e-12, elementwise_affine=True)\n",
       "            (dropout): Dropout(p=0.1, inplace=False)\n",
       "          )\n",
       "        )\n",
       "        (intermediate): BertIntermediate(\n",
       "          (dense): Linear(in_features=768, out_features=3072, bias=True)\n",
       "        )\n",
       "        (output): BertOutput(\n",
       "          (dense): Linear(in_features=3072, out_features=768, bias=True)\n",
       "          (LayerNorm): LayerNorm((768,), eps=1e-12, elementwise_affine=True)\n",
       "          (dropout): Dropout(p=0.1, inplace=False)\n",
       "        )\n",
       "      )\n",
       "      (7): BertLayer(\n",
       "        (attention): BertAttention(\n",
       "          (self): BertSelfAttention(\n",
       "            (query): Linear(in_features=768, out_features=768, bias=True)\n",
       "            (key): Linear(in_features=768, out_features=768, bias=True)\n",
       "            (value): Linear(in_features=768, out_features=768, bias=True)\n",
       "            (dropout): Dropout(p=0.1, inplace=False)\n",
       "          )\n",
       "          (output): BertSelfOutput(\n",
       "            (dense): Linear(in_features=768, out_features=768, bias=True)\n",
       "            (LayerNorm): LayerNorm((768,), eps=1e-12, elementwise_affine=True)\n",
       "            (dropout): Dropout(p=0.1, inplace=False)\n",
       "          )\n",
       "        )\n",
       "        (intermediate): BertIntermediate(\n",
       "          (dense): Linear(in_features=768, out_features=3072, bias=True)\n",
       "        )\n",
       "        (output): BertOutput(\n",
       "          (dense): Linear(in_features=3072, out_features=768, bias=True)\n",
       "          (LayerNorm): LayerNorm((768,), eps=1e-12, elementwise_affine=True)\n",
       "          (dropout): Dropout(p=0.1, inplace=False)\n",
       "        )\n",
       "      )\n",
       "      (8): BertLayer(\n",
       "        (attention): BertAttention(\n",
       "          (self): BertSelfAttention(\n",
       "            (query): Linear(in_features=768, out_features=768, bias=True)\n",
       "            (key): Linear(in_features=768, out_features=768, bias=True)\n",
       "            (value): Linear(in_features=768, out_features=768, bias=True)\n",
       "            (dropout): Dropout(p=0.1, inplace=False)\n",
       "          )\n",
       "          (output): BertSelfOutput(\n",
       "            (dense): Linear(in_features=768, out_features=768, bias=True)\n",
       "            (LayerNorm): LayerNorm((768,), eps=1e-12, elementwise_affine=True)\n",
       "            (dropout): Dropout(p=0.1, inplace=False)\n",
       "          )\n",
       "        )\n",
       "        (intermediate): BertIntermediate(\n",
       "          (dense): Linear(in_features=768, out_features=3072, bias=True)\n",
       "        )\n",
       "        (output): BertOutput(\n",
       "          (dense): Linear(in_features=3072, out_features=768, bias=True)\n",
       "          (LayerNorm): LayerNorm((768,), eps=1e-12, elementwise_affine=True)\n",
       "          (dropout): Dropout(p=0.1, inplace=False)\n",
       "        )\n",
       "      )\n",
       "      (9): BertLayer(\n",
       "        (attention): BertAttention(\n",
       "          (self): BertSelfAttention(\n",
       "            (query): Linear(in_features=768, out_features=768, bias=True)\n",
       "            (key): Linear(in_features=768, out_features=768, bias=True)\n",
       "            (value): Linear(in_features=768, out_features=768, bias=True)\n",
       "            (dropout): Dropout(p=0.1, inplace=False)\n",
       "          )\n",
       "          (output): BertSelfOutput(\n",
       "            (dense): Linear(in_features=768, out_features=768, bias=True)\n",
       "            (LayerNorm): LayerNorm((768,), eps=1e-12, elementwise_affine=True)\n",
       "            (dropout): Dropout(p=0.1, inplace=False)\n",
       "          )\n",
       "        )\n",
       "        (intermediate): BertIntermediate(\n",
       "          (dense): Linear(in_features=768, out_features=3072, bias=True)\n",
       "        )\n",
       "        (output): BertOutput(\n",
       "          (dense): Linear(in_features=3072, out_features=768, bias=True)\n",
       "          (LayerNorm): LayerNorm((768,), eps=1e-12, elementwise_affine=True)\n",
       "          (dropout): Dropout(p=0.1, inplace=False)\n",
       "        )\n",
       "      )\n",
       "      (10): BertLayer(\n",
       "        (attention): BertAttention(\n",
       "          (self): BertSelfAttention(\n",
       "            (query): Linear(in_features=768, out_features=768, bias=True)\n",
       "            (key): Linear(in_features=768, out_features=768, bias=True)\n",
       "            (value): Linear(in_features=768, out_features=768, bias=True)\n",
       "            (dropout): Dropout(p=0.1, inplace=False)\n",
       "          )\n",
       "          (output): BertSelfOutput(\n",
       "            (dense): Linear(in_features=768, out_features=768, bias=True)\n",
       "            (LayerNorm): LayerNorm((768,), eps=1e-12, elementwise_affine=True)\n",
       "            (dropout): Dropout(p=0.1, inplace=False)\n",
       "          )\n",
       "        )\n",
       "        (intermediate): BertIntermediate(\n",
       "          (dense): Linear(in_features=768, out_features=3072, bias=True)\n",
       "        )\n",
       "        (output): BertOutput(\n",
       "          (dense): Linear(in_features=3072, out_features=768, bias=True)\n",
       "          (LayerNorm): LayerNorm((768,), eps=1e-12, elementwise_affine=True)\n",
       "          (dropout): Dropout(p=0.1, inplace=False)\n",
       "        )\n",
       "      )\n",
       "      (11): BertLayer(\n",
       "        (attention): BertAttention(\n",
       "          (self): BertSelfAttention(\n",
       "            (query): Linear(in_features=768, out_features=768, bias=True)\n",
       "            (key): Linear(in_features=768, out_features=768, bias=True)\n",
       "            (value): Linear(in_features=768, out_features=768, bias=True)\n",
       "            (dropout): Dropout(p=0.1, inplace=False)\n",
       "          )\n",
       "          (output): BertSelfOutput(\n",
       "            (dense): Linear(in_features=768, out_features=768, bias=True)\n",
       "            (LayerNorm): LayerNorm((768,), eps=1e-12, elementwise_affine=True)\n",
       "            (dropout): Dropout(p=0.1, inplace=False)\n",
       "          )\n",
       "        )\n",
       "        (intermediate): BertIntermediate(\n",
       "          (dense): Linear(in_features=768, out_features=3072, bias=True)\n",
       "        )\n",
       "        (output): BertOutput(\n",
       "          (dense): Linear(in_features=3072, out_features=768, bias=True)\n",
       "          (LayerNorm): LayerNorm((768,), eps=1e-12, elementwise_affine=True)\n",
       "          (dropout): Dropout(p=0.1, inplace=False)\n",
       "        )\n",
       "      )\n",
       "    )\n",
       "  )\n",
       "  (pooler): BertPooler(\n",
       "    (dense): Linear(in_features=768, out_features=768, bias=True)\n",
       "    (activation): Tanh()\n",
       "  )\n",
       ")"
      ]
     },
     "execution_count": 26,
     "metadata": {
      "tags": []
     },
     "output_type": "execute_result"
    }
   ],
   "source": [
    "# Load pre-trained model (weights)\n",
    "model = BertModel.from_pretrained('bert-base-uncased',\n",
    "                                  output_hidden_states = True, # Whether the model returns all hidden-states.\n",
    "                                  )\n",
    "\n",
    "# Put the model in \"evaluation\" mode, meaning feed-forward operation.\n",
    "model.eval()\n",
    "\n"
   ]
  },
  {
   "cell_type": "code",
   "execution_count": null,
   "metadata": {
    "colab": {},
    "colab_type": "code",
    "id": "0V_gN9eBYJfe"
   },
   "outputs": [],
   "source": [
    "# Run the text through BERT, and collect all of the hidden states produced\n",
    "# from all 12 layers. \n",
    "with torch.no_grad():\n",
    "\n",
    "    outputs = model(tokens_tensor, segments_tensors)\n",
    "\n",
    "    # Evaluating the model will return a different number of objects based on \n",
    "    # how it's  configured in the `from_pretrained` call earlier. In this case, \n",
    "    # becase we set `output_hidden_states = True`, the third item will be the \n",
    "    # hidden states from all layers. See the documentation for more details:\n",
    "    # https://huggingface.co/transformers/model_doc/bert.html#bertmodel\n",
    "    hidden_states = outputs[2]\n"
   ]
  },
  {
   "cell_type": "code",
   "execution_count": null,
   "metadata": {
    "colab": {
     "base_uri": "https://localhost:8080/",
     "height": 34
    },
    "colab_type": "code",
    "id": "lT9e6olCY_Mi",
    "outputId": "e8d0d94d-7331-4498-f5ee-a3214e3aff09"
   },
   "outputs": [
    {
     "data": {
      "text/plain": [
       "torch.Size([20, 13, 768])"
      ]
     },
     "execution_count": 7,
     "metadata": {
      "tags": []
     },
     "output_type": "execute_result"
    }
   ],
   "source": [
    "token_embeddings = torch.stack(hidden_states, dim=0)\n",
    "\n",
    "token_embeddings = torch.squeeze(token_embeddings, dim=1)\n",
    "\n",
    "token_embeddings = token_embeddings.permute(1,0,2)\n",
    "\n",
    "token_embeddings.size()"
   ]
  },
  {
   "cell_type": "code",
   "execution_count": null,
   "metadata": {
    "colab": {
     "base_uri": "https://localhost:8080/",
     "height": 34
    },
    "colab_type": "code",
    "id": "p5KA406iYK0K",
    "outputId": "b1efa8be-30e4-4a27-8415-c27fb8091fe5"
   },
   "outputs": [
    {
     "name": "stdout",
     "output_type": "stream",
     "text": [
      "Shape is: 20 x 3072\n"
     ]
    }
   ],
   "source": [
    "#create word vectors\n",
    "# Stores the token vectors, with shape [22 x 3,072]\n",
    "token_vecs_cat = []\n",
    "\n",
    "# `token_embeddings` is a [22 x 12 x 768] tensor.\n",
    "\n",
    "# For each token in the sentence...\n",
    "for token in token_embeddings:\n",
    "    \n",
    "    # `token` is a [12 x 768] tensor\n",
    "\n",
    "    # Concatenate the vectors (that is, append them together) from the last \n",
    "    # four layers.\n",
    "    # Each layer vector is 768 values, so `cat_vec` is length 3,072.\n",
    "    cat_vec = torch.cat((token[-1], token[-2], token[-3], token[-4]), dim=0)\n",
    "    \n",
    "    # Use `cat_vec` to represent `token`.\n",
    "    token_vecs_cat.append(cat_vec)\n",
    "\n",
    "print ('Shape is: %d x %d' % (len(token_vecs_cat), len(token_vecs_cat[0])))\n"
   ]
  },
  {
   "cell_type": "code",
   "execution_count": null,
   "metadata": {
    "colab": {
     "base_uri": "https://localhost:8080/",
     "height": 34
    },
    "colab_type": "code",
    "id": "jbCIw4cgZprD",
    "outputId": "34fd28f0-8d95-4805-d145-75e9302b5321"
   },
   "outputs": [
    {
     "name": "stdout",
     "output_type": "stream",
     "text": [
      "Shape is: 20 x 768\n"
     ]
    }
   ],
   "source": [
    "# Stores the token vectors, with shape [22 x 768]\n",
    "token_vecs_sum = []\n",
    "\n",
    "# `token_embeddings` is a [22 x 12 x 768] tensor.\n",
    "\n",
    "# For each token in the sentence...\n",
    "for token in token_embeddings:\n",
    "\n",
    "    # `token` is a [12 x 768] tensor\n",
    "\n",
    "    # Sum the vectors from the last four layers.\n",
    "    sum_vec = torch.sum(token[-4:], dim=0)\n",
    "    \n",
    "    # Use `sum_vec` to represent `token`.\n",
    "    token_vecs_sum.append(sum_vec)\n",
    "\n",
    "print ('Shape is: %d x %d' % (len(token_vecs_sum), len(token_vecs_sum[0])))\n",
    "\n"
   ]
  },
  {
   "cell_type": "code",
   "execution_count": null,
   "metadata": {
    "colab": {
     "base_uri": "https://localhost:8080/",
     "height": 364
    },
    "colab_type": "code",
    "id": "RW6P0CaTY7gb",
    "outputId": "836fbfbe-4d5b-468d-aea5-1b71dd212129"
   },
   "outputs": [
    {
     "name": "stdout",
     "output_type": "stream",
     "text": [
      "0 [CLS]\n",
      "1 a\n",
      "2 band\n",
      "3 is\n",
      "4 a\n",
      "5 musical\n",
      "6 group\n",
      "7 but\n",
      "8 a\n",
      "9 band\n",
      "10 is\n",
      "11 also\n",
      "12 a\n",
      "13 ring\n",
      "14 you\n",
      "15 put\n",
      "16 on\n",
      "17 your\n",
      "18 finger\n",
      "19 [SEP]\n"
     ]
    }
   ],
   "source": [
    "for i, token_str in enumerate(tokenized_text):\n",
    "  print(i, token_str)"
   ]
  },
  {
   "cell_type": "code",
   "execution_count": null,
   "metadata": {
    "colab": {
     "base_uri": "https://localhost:8080/",
     "height": 86
    },
    "colab_type": "code",
    "id": "VZc-l1sSZWIT",
    "outputId": "13d40ffb-73b3-44bf-bc63-686887a07edf"
   },
   "outputs": [
    {
     "name": "stdout",
     "output_type": "stream",
     "text": [
      "First 5 vector values for each instance of \"band\".\n",
      "\n",
      "band group    tensor([ 0.4679, -0.3127, -0.1065, -0.5272, -0.2471])\n",
      "bank ring   tensor([ 0.4778, -0.2842,  0.0066, -0.4430, -0.2879])\n"
     ]
    }
   ],
   "source": [
    "# Die beiden Vorkommen von 'band' haben die Indexe 2 und 9\n",
    "print('First 5 vector values for each instance of \"band\".')\n",
    "print('')\n",
    "print(\"band group   \", str(token_vecs_cat[2][:5]))\n",
    "print(\"bank ring  \", str(token_vecs_cat[9][:5]))"
   ]
  },
  {
   "cell_type": "code",
   "execution_count": null,
   "metadata": {
    "colab": {
     "base_uri": "https://localhost:8080/",
     "height": 34
    },
    "colab_type": "code",
    "id": "2DvVX60NZzBS",
    "outputId": "2dd45f5c-b746-4ba7-caa4-59bf06a463fe"
   },
   "outputs": [
    {
     "data": {
      "text/plain": [
       "0.8975476622581482"
      ]
     },
     "execution_count": 39,
     "metadata": {
      "tags": []
     },
     "output_type": "execute_result"
    }
   ],
   "source": [
    "from scipy.spatial.distance import cosine\n",
    "\n",
    "diff_band = 1 - cosine(token_vecs_cat[2], token_vecs_cat[9])\n",
    "diff_band"
   ]
  },
  {
   "cell_type": "code",
   "execution_count": null,
   "metadata": {
    "colab": {
     "base_uri": "https://localhost:8080/",
     "height": 34
    },
    "colab_type": "code",
    "id": "tfXgJA1VDyKU",
    "outputId": "ad317b64-f51c-4b53-ef5d-c19ccf6373d7"
   },
   "outputs": [
    {
     "name": "stdout",
     "output_type": "stream",
     "text": [
      "Die Vektoren der beiden unterschiedlichen Bedeutungen von 'band' unterscheiden sich bei BERT in 3072 von 3072 Stellen\n"
     ]
    }
   ],
   "source": [
    "diff = token_vecs_cat[2] - token_vecs_cat[9]\n",
    "print(\"Die Vektoren der beiden unterschiedlichen Bedeutungen \" +\n",
    "\"von 'band' unterscheiden sich bei BERT in \" +\n",
    "str(len([i for i in diff.tolist() if i != 0])) + ' von 3072 Stellen')"
   ]
  },
  {
   "cell_type": "code",
   "execution_count": null,
   "metadata": {
    "colab": {},
    "colab_type": "code",
    "id": "p6jmPzFfEDYV"
   },
   "outputs": [],
   "source": []
  }
 ],
 "metadata": {
  "accelerator": "GPU",
  "colab": {
   "collapsed_sections": [],
   "name": "wordembedding.ipynb",
   "provenance": [],
   "toc_visible": true
  },
  "kernelspec": {
   "display_name": "Python 3",
   "language": "python",
   "name": "python3"
  },
  "language_info": {
   "codemirror_mode": {
    "name": "ipython",
    "version": 3
   },
   "file_extension": ".py",
   "mimetype": "text/x-python",
   "name": "python",
   "nbconvert_exporter": "python",
   "pygments_lexer": "ipython3",
   "version": "3.7.4"
  },
  "toc": {
   "base_numbering": 1,
   "nav_menu": {},
   "number_sections": true,
   "sideBar": true,
   "skip_h1_title": false,
   "title_cell": "Table of Contents",
   "title_sidebar": "Contents",
   "toc_cell": false,
   "toc_position": {},
   "toc_section_display": true,
   "toc_window_display": false
  },
  "widgets": {
   "application/vnd.jupyter.widget-state+json": {
    "02e032febf3f43189118e882f0a01b15": {
     "model_module": "@jupyter-widgets/base",
     "model_name": "LayoutModel",
     "state": {
      "_model_module": "@jupyter-widgets/base",
      "_model_module_version": "1.2.0",
      "_model_name": "LayoutModel",
      "_view_count": null,
      "_view_module": "@jupyter-widgets/base",
      "_view_module_version": "1.2.0",
      "_view_name": "LayoutView",
      "align_content": null,
      "align_items": null,
      "align_self": null,
      "border": null,
      "bottom": null,
      "display": null,
      "flex": null,
      "flex_flow": null,
      "grid_area": null,
      "grid_auto_columns": null,
      "grid_auto_flow": null,
      "grid_auto_rows": null,
      "grid_column": null,
      "grid_gap": null,
      "grid_row": null,
      "grid_template_areas": null,
      "grid_template_columns": null,
      "grid_template_rows": null,
      "height": null,
      "justify_content": null,
      "justify_items": null,
      "left": null,
      "margin": null,
      "max_height": null,
      "max_width": null,
      "min_height": null,
      "min_width": null,
      "object_fit": null,
      "object_position": null,
      "order": null,
      "overflow": null,
      "overflow_x": null,
      "overflow_y": null,
      "padding": null,
      "right": null,
      "top": null,
      "visibility": null,
      "width": null
     }
    },
    "05328af29b8942a7a0da00da03ca2bae": {
     "model_module": "@jupyter-widgets/base",
     "model_name": "LayoutModel",
     "state": {
      "_model_module": "@jupyter-widgets/base",
      "_model_module_version": "1.2.0",
      "_model_name": "LayoutModel",
      "_view_count": null,
      "_view_module": "@jupyter-widgets/base",
      "_view_module_version": "1.2.0",
      "_view_name": "LayoutView",
      "align_content": null,
      "align_items": null,
      "align_self": null,
      "border": null,
      "bottom": null,
      "display": null,
      "flex": null,
      "flex_flow": null,
      "grid_area": null,
      "grid_auto_columns": null,
      "grid_auto_flow": null,
      "grid_auto_rows": null,
      "grid_column": null,
      "grid_gap": null,
      "grid_row": null,
      "grid_template_areas": null,
      "grid_template_columns": null,
      "grid_template_rows": null,
      "height": null,
      "justify_content": null,
      "justify_items": null,
      "left": null,
      "margin": null,
      "max_height": null,
      "max_width": null,
      "min_height": null,
      "min_width": null,
      "object_fit": null,
      "object_position": null,
      "order": null,
      "overflow": null,
      "overflow_x": null,
      "overflow_y": null,
      "padding": null,
      "right": null,
      "top": null,
      "visibility": null,
      "width": null
     }
    },
    "060ef762c29b45bd8019e5496f708783": {
     "model_module": "@jupyter-widgets/controls",
     "model_name": "HTMLModel",
     "state": {
      "_dom_classes": [],
      "_model_module": "@jupyter-widgets/controls",
      "_model_module_version": "1.5.0",
      "_model_name": "HTMLModel",
      "_view_count": null,
      "_view_module": "@jupyter-widgets/controls",
      "_view_module_version": "1.5.0",
      "_view_name": "HTMLView",
      "description": "",
      "description_tooltip": null,
      "layout": "IPY_MODEL_02e032febf3f43189118e882f0a01b15",
      "placeholder": "​",
      "style": "IPY_MODEL_7ff98e9edbd1437687d136874e5bb95f",
      "value": " 433/433 [00:11&lt;00:00, 39.0B/s]"
     }
    },
    "15fc31ec24d74d4eb5681206138e9f9b": {
     "model_module": "@jupyter-widgets/controls",
     "model_name": "ProgressStyleModel",
     "state": {
      "_model_module": "@jupyter-widgets/controls",
      "_model_module_version": "1.5.0",
      "_model_name": "ProgressStyleModel",
      "_view_count": null,
      "_view_module": "@jupyter-widgets/base",
      "_view_module_version": "1.2.0",
      "_view_name": "StyleView",
      "bar_color": null,
      "description_width": "initial"
     }
    },
    "16d3c70f4a3e4b309d69cc47bb010a4f": {
     "model_module": "@jupyter-widgets/base",
     "model_name": "LayoutModel",
     "state": {
      "_model_module": "@jupyter-widgets/base",
      "_model_module_version": "1.2.0",
      "_model_name": "LayoutModel",
      "_view_count": null,
      "_view_module": "@jupyter-widgets/base",
      "_view_module_version": "1.2.0",
      "_view_name": "LayoutView",
      "align_content": null,
      "align_items": null,
      "align_self": null,
      "border": null,
      "bottom": null,
      "display": null,
      "flex": null,
      "flex_flow": null,
      "grid_area": null,
      "grid_auto_columns": null,
      "grid_auto_flow": null,
      "grid_auto_rows": null,
      "grid_column": null,
      "grid_gap": null,
      "grid_row": null,
      "grid_template_areas": null,
      "grid_template_columns": null,
      "grid_template_rows": null,
      "height": null,
      "justify_content": null,
      "justify_items": null,
      "left": null,
      "margin": null,
      "max_height": null,
      "max_width": null,
      "min_height": null,
      "min_width": null,
      "object_fit": null,
      "object_position": null,
      "order": null,
      "overflow": null,
      "overflow_x": null,
      "overflow_y": null,
      "padding": null,
      "right": null,
      "top": null,
      "visibility": null,
      "width": null
     }
    },
    "1887f736f55c45b5b2b90d89641c8a5c": {
     "model_module": "@jupyter-widgets/base",
     "model_name": "LayoutModel",
     "state": {
      "_model_module": "@jupyter-widgets/base",
      "_model_module_version": "1.2.0",
      "_model_name": "LayoutModel",
      "_view_count": null,
      "_view_module": "@jupyter-widgets/base",
      "_view_module_version": "1.2.0",
      "_view_name": "LayoutView",
      "align_content": null,
      "align_items": null,
      "align_self": null,
      "border": null,
      "bottom": null,
      "display": null,
      "flex": null,
      "flex_flow": null,
      "grid_area": null,
      "grid_auto_columns": null,
      "grid_auto_flow": null,
      "grid_auto_rows": null,
      "grid_column": null,
      "grid_gap": null,
      "grid_row": null,
      "grid_template_areas": null,
      "grid_template_columns": null,
      "grid_template_rows": null,
      "height": null,
      "justify_content": null,
      "justify_items": null,
      "left": null,
      "margin": null,
      "max_height": null,
      "max_width": null,
      "min_height": null,
      "min_width": null,
      "object_fit": null,
      "object_position": null,
      "order": null,
      "overflow": null,
      "overflow_x": null,
      "overflow_y": null,
      "padding": null,
      "right": null,
      "top": null,
      "visibility": null,
      "width": null
     }
    },
    "2e42673fe4994002ab96bd79e98175e7": {
     "model_module": "@jupyter-widgets/controls",
     "model_name": "HTMLModel",
     "state": {
      "_dom_classes": [],
      "_model_module": "@jupyter-widgets/controls",
      "_model_module_version": "1.5.0",
      "_model_name": "HTMLModel",
      "_view_count": null,
      "_view_module": "@jupyter-widgets/controls",
      "_view_module_version": "1.5.0",
      "_view_name": "HTMLView",
      "description": "",
      "description_tooltip": null,
      "layout": "IPY_MODEL_df2d30cdeef04db59a319fb87e106d24",
      "placeholder": "​",
      "style": "IPY_MODEL_e92ab08661ea4e0abd9f49a26e193562",
      "value": " 433/433 [00:00&lt;00:00, 2.53kB/s]"
     }
    },
    "347df64b470d43acb8c3838aff52feba": {
     "model_module": "@jupyter-widgets/controls",
     "model_name": "ProgressStyleModel",
     "state": {
      "_model_module": "@jupyter-widgets/controls",
      "_model_module_version": "1.5.0",
      "_model_name": "ProgressStyleModel",
      "_view_count": null,
      "_view_module": "@jupyter-widgets/base",
      "_view_module_version": "1.2.0",
      "_view_name": "StyleView",
      "bar_color": null,
      "description_width": "initial"
     }
    },
    "37a4dee44a39434a80624d3fb3888720": {
     "model_module": "@jupyter-widgets/controls",
     "model_name": "HBoxModel",
     "state": {
      "_dom_classes": [],
      "_model_module": "@jupyter-widgets/controls",
      "_model_module_version": "1.5.0",
      "_model_name": "HBoxModel",
      "_view_count": null,
      "_view_module": "@jupyter-widgets/controls",
      "_view_module_version": "1.5.0",
      "_view_name": "HBoxView",
      "box_style": "",
      "children": [
       "IPY_MODEL_54d959c5df4147b6b399a0c33aface18",
       "IPY_MODEL_965f551090cb4acf9893efb54d15fdb7"
      ],
      "layout": "IPY_MODEL_be6d1426432046e8ba923e20326f0ed7"
     }
    },
    "3a63d111b54e4dfd8efa206583558094": {
     "model_module": "@jupyter-widgets/base",
     "model_name": "LayoutModel",
     "state": {
      "_model_module": "@jupyter-widgets/base",
      "_model_module_version": "1.2.0",
      "_model_name": "LayoutModel",
      "_view_count": null,
      "_view_module": "@jupyter-widgets/base",
      "_view_module_version": "1.2.0",
      "_view_name": "LayoutView",
      "align_content": null,
      "align_items": null,
      "align_self": null,
      "border": null,
      "bottom": null,
      "display": null,
      "flex": null,
      "flex_flow": null,
      "grid_area": null,
      "grid_auto_columns": null,
      "grid_auto_flow": null,
      "grid_auto_rows": null,
      "grid_column": null,
      "grid_gap": null,
      "grid_row": null,
      "grid_template_areas": null,
      "grid_template_columns": null,
      "grid_template_rows": null,
      "height": null,
      "justify_content": null,
      "justify_items": null,
      "left": null,
      "margin": null,
      "max_height": null,
      "max_width": null,
      "min_height": null,
      "min_width": null,
      "object_fit": null,
      "object_position": null,
      "order": null,
      "overflow": null,
      "overflow_x": null,
      "overflow_y": null,
      "padding": null,
      "right": null,
      "top": null,
      "visibility": null,
      "width": null
     }
    },
    "406484dcdfc043bc961caf2266432a17": {
     "model_module": "@jupyter-widgets/controls",
     "model_name": "HBoxModel",
     "state": {
      "_dom_classes": [],
      "_model_module": "@jupyter-widgets/controls",
      "_model_module_version": "1.5.0",
      "_model_name": "HBoxModel",
      "_view_count": null,
      "_view_module": "@jupyter-widgets/controls",
      "_view_module_version": "1.5.0",
      "_view_name": "HBoxView",
      "box_style": "",
      "children": [
       "IPY_MODEL_97f3c362c1ce4406b1dd92a7c2609eaf",
       "IPY_MODEL_90b22262a2d94b76be15a122a57ce18b"
      ],
      "layout": "IPY_MODEL_16d3c70f4a3e4b309d69cc47bb010a4f"
     }
    },
    "4c0f2e104eb946bcb4f7ad06679d9876": {
     "model_module": "@jupyter-widgets/base",
     "model_name": "LayoutModel",
     "state": {
      "_model_module": "@jupyter-widgets/base",
      "_model_module_version": "1.2.0",
      "_model_name": "LayoutModel",
      "_view_count": null,
      "_view_module": "@jupyter-widgets/base",
      "_view_module_version": "1.2.0",
      "_view_name": "LayoutView",
      "align_content": null,
      "align_items": null,
      "align_self": null,
      "border": null,
      "bottom": null,
      "display": null,
      "flex": null,
      "flex_flow": null,
      "grid_area": null,
      "grid_auto_columns": null,
      "grid_auto_flow": null,
      "grid_auto_rows": null,
      "grid_column": null,
      "grid_gap": null,
      "grid_row": null,
      "grid_template_areas": null,
      "grid_template_columns": null,
      "grid_template_rows": null,
      "height": null,
      "justify_content": null,
      "justify_items": null,
      "left": null,
      "margin": null,
      "max_height": null,
      "max_width": null,
      "min_height": null,
      "min_width": null,
      "object_fit": null,
      "object_position": null,
      "order": null,
      "overflow": null,
      "overflow_x": null,
      "overflow_y": null,
      "padding": null,
      "right": null,
      "top": null,
      "visibility": null,
      "width": null
     }
    },
    "4e0edac54344405089dfcea7815110cb": {
     "model_module": "@jupyter-widgets/controls",
     "model_name": "HBoxModel",
     "state": {
      "_dom_classes": [],
      "_model_module": "@jupyter-widgets/controls",
      "_model_module_version": "1.5.0",
      "_model_name": "HBoxModel",
      "_view_count": null,
      "_view_module": "@jupyter-widgets/controls",
      "_view_module_version": "1.5.0",
      "_view_name": "HBoxView",
      "box_style": "",
      "children": [
       "IPY_MODEL_70b45fe6ed9d49b088a32e4ae7bfe827",
       "IPY_MODEL_a536cca1b52f494089ed834b2a5fe93d"
      ],
      "layout": "IPY_MODEL_a74ba0b49fdb4b5dae294c0ff79983b1"
     }
    },
    "54d959c5df4147b6b399a0c33aface18": {
     "model_module": "@jupyter-widgets/controls",
     "model_name": "FloatProgressModel",
     "state": {
      "_dom_classes": [],
      "_model_module": "@jupyter-widgets/controls",
      "_model_module_version": "1.5.0",
      "_model_name": "FloatProgressModel",
      "_view_count": null,
      "_view_module": "@jupyter-widgets/controls",
      "_view_module_version": "1.5.0",
      "_view_name": "ProgressView",
      "bar_style": "success",
      "description": "Downloading: 100%",
      "description_tooltip": null,
      "layout": "IPY_MODEL_05328af29b8942a7a0da00da03ca2bae",
      "max": 231508,
      "min": 0,
      "orientation": "horizontal",
      "style": "IPY_MODEL_347df64b470d43acb8c3838aff52feba",
      "value": 231508
     }
    },
    "6200acf9d7a049bea7082ece6c8237c2": {
     "model_module": "@jupyter-widgets/controls",
     "model_name": "FloatProgressModel",
     "state": {
      "_dom_classes": [],
      "_model_module": "@jupyter-widgets/controls",
      "_model_module_version": "1.5.0",
      "_model_name": "FloatProgressModel",
      "_view_count": null,
      "_view_module": "@jupyter-widgets/controls",
      "_view_module_version": "1.5.0",
      "_view_name": "ProgressView",
      "bar_style": "success",
      "description": "Downloading: 100%",
      "description_tooltip": null,
      "layout": "IPY_MODEL_1887f736f55c45b5b2b90d89641c8a5c",
      "max": 433,
      "min": 0,
      "orientation": "horizontal",
      "style": "IPY_MODEL_debbd3de60834279b106dd625a5e76f5",
      "value": 433
     }
    },
    "63600b7ea39447f2af787ba91c9ff9a0": {
     "model_module": "@jupyter-widgets/base",
     "model_name": "LayoutModel",
     "state": {
      "_model_module": "@jupyter-widgets/base",
      "_model_module_version": "1.2.0",
      "_model_name": "LayoutModel",
      "_view_count": null,
      "_view_module": "@jupyter-widgets/base",
      "_view_module_version": "1.2.0",
      "_view_name": "LayoutView",
      "align_content": null,
      "align_items": null,
      "align_self": null,
      "border": null,
      "bottom": null,
      "display": null,
      "flex": null,
      "flex_flow": null,
      "grid_area": null,
      "grid_auto_columns": null,
      "grid_auto_flow": null,
      "grid_auto_rows": null,
      "grid_column": null,
      "grid_gap": null,
      "grid_row": null,
      "grid_template_areas": null,
      "grid_template_columns": null,
      "grid_template_rows": null,
      "height": null,
      "justify_content": null,
      "justify_items": null,
      "left": null,
      "margin": null,
      "max_height": null,
      "max_width": null,
      "min_height": null,
      "min_width": null,
      "object_fit": null,
      "object_position": null,
      "order": null,
      "overflow": null,
      "overflow_x": null,
      "overflow_y": null,
      "padding": null,
      "right": null,
      "top": null,
      "visibility": null,
      "width": null
     }
    },
    "6689278ae57740b292df14aa79cb60bb": {
     "model_module": "@jupyter-widgets/base",
     "model_name": "LayoutModel",
     "state": {
      "_model_module": "@jupyter-widgets/base",
      "_model_module_version": "1.2.0",
      "_model_name": "LayoutModel",
      "_view_count": null,
      "_view_module": "@jupyter-widgets/base",
      "_view_module_version": "1.2.0",
      "_view_name": "LayoutView",
      "align_content": null,
      "align_items": null,
      "align_self": null,
      "border": null,
      "bottom": null,
      "display": null,
      "flex": null,
      "flex_flow": null,
      "grid_area": null,
      "grid_auto_columns": null,
      "grid_auto_flow": null,
      "grid_auto_rows": null,
      "grid_column": null,
      "grid_gap": null,
      "grid_row": null,
      "grid_template_areas": null,
      "grid_template_columns": null,
      "grid_template_rows": null,
      "height": null,
      "justify_content": null,
      "justify_items": null,
      "left": null,
      "margin": null,
      "max_height": null,
      "max_width": null,
      "min_height": null,
      "min_width": null,
      "object_fit": null,
      "object_position": null,
      "order": null,
      "overflow": null,
      "overflow_x": null,
      "overflow_y": null,
      "padding": null,
      "right": null,
      "top": null,
      "visibility": null,
      "width": null
     }
    },
    "675810a61e684edba6f9a62d4008f866": {
     "model_module": "@jupyter-widgets/controls",
     "model_name": "FloatProgressModel",
     "state": {
      "_dom_classes": [],
      "_model_module": "@jupyter-widgets/controls",
      "_model_module_version": "1.5.0",
      "_model_name": "FloatProgressModel",
      "_view_count": null,
      "_view_module": "@jupyter-widgets/controls",
      "_view_module_version": "1.5.0",
      "_view_name": "ProgressView",
      "bar_style": "success",
      "description": "Downloading: 100%",
      "description_tooltip": null,
      "layout": "IPY_MODEL_6689278ae57740b292df14aa79cb60bb",
      "max": 433,
      "min": 0,
      "orientation": "horizontal",
      "style": "IPY_MODEL_d74fb0d0fa3043a99ea1d4a9d447b564",
      "value": 433
     }
    },
    "6f14235d1b584951ae8ebb8fae8be9fa": {
     "model_module": "@jupyter-widgets/controls",
     "model_name": "HTMLModel",
     "state": {
      "_dom_classes": [],
      "_model_module": "@jupyter-widgets/controls",
      "_model_module_version": "1.5.0",
      "_model_name": "HTMLModel",
      "_view_count": null,
      "_view_module": "@jupyter-widgets/controls",
      "_view_module_version": "1.5.0",
      "_view_name": "HTMLView",
      "description": "",
      "description_tooltip": null,
      "layout": "IPY_MODEL_c6fb687ac5954055a40963948c22592e",
      "placeholder": "​",
      "style": "IPY_MODEL_d166458f288f439f8e83ce80ef75487a",
      "value": " 440M/440M [00:11&lt;00:00, 39.4MB/s]"
     }
    },
    "70b45fe6ed9d49b088a32e4ae7bfe827": {
     "model_module": "@jupyter-widgets/controls",
     "model_name": "FloatProgressModel",
     "state": {
      "_dom_classes": [],
      "_model_module": "@jupyter-widgets/controls",
      "_model_module_version": "1.5.0",
      "_model_name": "FloatProgressModel",
      "_view_count": null,
      "_view_module": "@jupyter-widgets/controls",
      "_view_module_version": "1.5.0",
      "_view_name": "ProgressView",
      "bar_style": "success",
      "description": "Downloading: 100%",
      "description_tooltip": null,
      "layout": "IPY_MODEL_81357239f9f04331ac0c269f2a90f063",
      "max": 440473133,
      "min": 0,
      "orientation": "horizontal",
      "style": "IPY_MODEL_b204f717c7934e31a47bbe2c0ee8c35d",
      "value": 440473133
     }
    },
    "7ff98e9edbd1437687d136874e5bb95f": {
     "model_module": "@jupyter-widgets/controls",
     "model_name": "DescriptionStyleModel",
     "state": {
      "_model_module": "@jupyter-widgets/controls",
      "_model_module_version": "1.5.0",
      "_model_name": "DescriptionStyleModel",
      "_view_count": null,
      "_view_module": "@jupyter-widgets/base",
      "_view_module_version": "1.2.0",
      "_view_name": "StyleView",
      "description_width": ""
     }
    },
    "81357239f9f04331ac0c269f2a90f063": {
     "model_module": "@jupyter-widgets/base",
     "model_name": "LayoutModel",
     "state": {
      "_model_module": "@jupyter-widgets/base",
      "_model_module_version": "1.2.0",
      "_model_name": "LayoutModel",
      "_view_count": null,
      "_view_module": "@jupyter-widgets/base",
      "_view_module_version": "1.2.0",
      "_view_name": "LayoutView",
      "align_content": null,
      "align_items": null,
      "align_self": null,
      "border": null,
      "bottom": null,
      "display": null,
      "flex": null,
      "flex_flow": null,
      "grid_area": null,
      "grid_auto_columns": null,
      "grid_auto_flow": null,
      "grid_auto_rows": null,
      "grid_column": null,
      "grid_gap": null,
      "grid_row": null,
      "grid_template_areas": null,
      "grid_template_columns": null,
      "grid_template_rows": null,
      "height": null,
      "justify_content": null,
      "justify_items": null,
      "left": null,
      "margin": null,
      "max_height": null,
      "max_width": null,
      "min_height": null,
      "min_width": null,
      "object_fit": null,
      "object_position": null,
      "order": null,
      "overflow": null,
      "overflow_x": null,
      "overflow_y": null,
      "padding": null,
      "right": null,
      "top": null,
      "visibility": null,
      "width": null
     }
    },
    "90b22262a2d94b76be15a122a57ce18b": {
     "model_module": "@jupyter-widgets/controls",
     "model_name": "HTMLModel",
     "state": {
      "_dom_classes": [],
      "_model_module": "@jupyter-widgets/controls",
      "_model_module_version": "1.5.0",
      "_model_name": "HTMLModel",
      "_view_count": null,
      "_view_module": "@jupyter-widgets/controls",
      "_view_module_version": "1.5.0",
      "_view_name": "HTMLView",
      "description": "",
      "description_tooltip": null,
      "layout": "IPY_MODEL_4c0f2e104eb946bcb4f7ad06679d9876",
      "placeholder": "​",
      "style": "IPY_MODEL_c61e8dae086442bfa7c7c7688d32efd2",
      "value": " 232k/232k [00:00&lt;00:00, 1.35MB/s]"
     }
    },
    "94c5b92acbd44e7897e0cc23c06f0533": {
     "model_module": "@jupyter-widgets/base",
     "model_name": "LayoutModel",
     "state": {
      "_model_module": "@jupyter-widgets/base",
      "_model_module_version": "1.2.0",
      "_model_name": "LayoutModel",
      "_view_count": null,
      "_view_module": "@jupyter-widgets/base",
      "_view_module_version": "1.2.0",
      "_view_name": "LayoutView",
      "align_content": null,
      "align_items": null,
      "align_self": null,
      "border": null,
      "bottom": null,
      "display": null,
      "flex": null,
      "flex_flow": null,
      "grid_area": null,
      "grid_auto_columns": null,
      "grid_auto_flow": null,
      "grid_auto_rows": null,
      "grid_column": null,
      "grid_gap": null,
      "grid_row": null,
      "grid_template_areas": null,
      "grid_template_columns": null,
      "grid_template_rows": null,
      "height": null,
      "justify_content": null,
      "justify_items": null,
      "left": null,
      "margin": null,
      "max_height": null,
      "max_width": null,
      "min_height": null,
      "min_width": null,
      "object_fit": null,
      "object_position": null,
      "order": null,
      "overflow": null,
      "overflow_x": null,
      "overflow_y": null,
      "padding": null,
      "right": null,
      "top": null,
      "visibility": null,
      "width": null
     }
    },
    "956591b99e5043a1bc4e8ab4a6e8aa85": {
     "model_module": "@jupyter-widgets/controls",
     "model_name": "ProgressStyleModel",
     "state": {
      "_model_module": "@jupyter-widgets/controls",
      "_model_module_version": "1.5.0",
      "_model_name": "ProgressStyleModel",
      "_view_count": null,
      "_view_module": "@jupyter-widgets/base",
      "_view_module_version": "1.2.0",
      "_view_name": "StyleView",
      "bar_color": null,
      "description_width": "initial"
     }
    },
    "965f551090cb4acf9893efb54d15fdb7": {
     "model_module": "@jupyter-widgets/controls",
     "model_name": "HTMLModel",
     "state": {
      "_dom_classes": [],
      "_model_module": "@jupyter-widgets/controls",
      "_model_module_version": "1.5.0",
      "_model_name": "HTMLModel",
      "_view_count": null,
      "_view_module": "@jupyter-widgets/controls",
      "_view_module_version": "1.5.0",
      "_view_name": "HTMLView",
      "description": "",
      "description_tooltip": null,
      "layout": "IPY_MODEL_d1e4d186c5a0418a8b5268121274532d",
      "placeholder": "​",
      "style": "IPY_MODEL_da3d7f0f7a224bfdb05cc356e0f2dbf1",
      "value": " 232k/232k [00:00&lt;00:00, 722kB/s]"
     }
    },
    "97f3c362c1ce4406b1dd92a7c2609eaf": {
     "model_module": "@jupyter-widgets/controls",
     "model_name": "FloatProgressModel",
     "state": {
      "_dom_classes": [],
      "_model_module": "@jupyter-widgets/controls",
      "_model_module_version": "1.5.0",
      "_model_name": "FloatProgressModel",
      "_view_count": null,
      "_view_module": "@jupyter-widgets/controls",
      "_view_module_version": "1.5.0",
      "_view_name": "ProgressView",
      "bar_style": "success",
      "description": "Downloading: 100%",
      "description_tooltip": null,
      "layout": "IPY_MODEL_94c5b92acbd44e7897e0cc23c06f0533",
      "max": 231508,
      "min": 0,
      "orientation": "horizontal",
      "style": "IPY_MODEL_15fc31ec24d74d4eb5681206138e9f9b",
      "value": 231508
     }
    },
    "a1251b0e0a1e4143b63521bc3a67f901": {
     "model_module": "@jupyter-widgets/controls",
     "model_name": "DescriptionStyleModel",
     "state": {
      "_model_module": "@jupyter-widgets/controls",
      "_model_module_version": "1.5.0",
      "_model_name": "DescriptionStyleModel",
      "_view_count": null,
      "_view_module": "@jupyter-widgets/base",
      "_view_module_version": "1.2.0",
      "_view_name": "StyleView",
      "description_width": ""
     }
    },
    "a4508d50d06443b68c5f59f3d5ed1770": {
     "model_module": "@jupyter-widgets/base",
     "model_name": "LayoutModel",
     "state": {
      "_model_module": "@jupyter-widgets/base",
      "_model_module_version": "1.2.0",
      "_model_name": "LayoutModel",
      "_view_count": null,
      "_view_module": "@jupyter-widgets/base",
      "_view_module_version": "1.2.0",
      "_view_name": "LayoutView",
      "align_content": null,
      "align_items": null,
      "align_self": null,
      "border": null,
      "bottom": null,
      "display": null,
      "flex": null,
      "flex_flow": null,
      "grid_area": null,
      "grid_auto_columns": null,
      "grid_auto_flow": null,
      "grid_auto_rows": null,
      "grid_column": null,
      "grid_gap": null,
      "grid_row": null,
      "grid_template_areas": null,
      "grid_template_columns": null,
      "grid_template_rows": null,
      "height": null,
      "justify_content": null,
      "justify_items": null,
      "left": null,
      "margin": null,
      "max_height": null,
      "max_width": null,
      "min_height": null,
      "min_width": null,
      "object_fit": null,
      "object_position": null,
      "order": null,
      "overflow": null,
      "overflow_x": null,
      "overflow_y": null,
      "padding": null,
      "right": null,
      "top": null,
      "visibility": null,
      "width": null
     }
    },
    "a536cca1b52f494089ed834b2a5fe93d": {
     "model_module": "@jupyter-widgets/controls",
     "model_name": "HTMLModel",
     "state": {
      "_dom_classes": [],
      "_model_module": "@jupyter-widgets/controls",
      "_model_module_version": "1.5.0",
      "_model_name": "HTMLModel",
      "_view_count": null,
      "_view_module": "@jupyter-widgets/controls",
      "_view_module_version": "1.5.0",
      "_view_name": "HTMLView",
      "description": "",
      "description_tooltip": null,
      "layout": "IPY_MODEL_3a63d111b54e4dfd8efa206583558094",
      "placeholder": "​",
      "style": "IPY_MODEL_a1251b0e0a1e4143b63521bc3a67f901",
      "value": " 440M/440M [00:10&lt;00:00, 41.0MB/s]"
     }
    },
    "a74ba0b49fdb4b5dae294c0ff79983b1": {
     "model_module": "@jupyter-widgets/base",
     "model_name": "LayoutModel",
     "state": {
      "_model_module": "@jupyter-widgets/base",
      "_model_module_version": "1.2.0",
      "_model_name": "LayoutModel",
      "_view_count": null,
      "_view_module": "@jupyter-widgets/base",
      "_view_module_version": "1.2.0",
      "_view_name": "LayoutView",
      "align_content": null,
      "align_items": null,
      "align_self": null,
      "border": null,
      "bottom": null,
      "display": null,
      "flex": null,
      "flex_flow": null,
      "grid_area": null,
      "grid_auto_columns": null,
      "grid_auto_flow": null,
      "grid_auto_rows": null,
      "grid_column": null,
      "grid_gap": null,
      "grid_row": null,
      "grid_template_areas": null,
      "grid_template_columns": null,
      "grid_template_rows": null,
      "height": null,
      "justify_content": null,
      "justify_items": null,
      "left": null,
      "margin": null,
      "max_height": null,
      "max_width": null,
      "min_height": null,
      "min_width": null,
      "object_fit": null,
      "object_position": null,
      "order": null,
      "overflow": null,
      "overflow_x": null,
      "overflow_y": null,
      "padding": null,
      "right": null,
      "top": null,
      "visibility": null,
      "width": null
     }
    },
    "b204f717c7934e31a47bbe2c0ee8c35d": {
     "model_module": "@jupyter-widgets/controls",
     "model_name": "ProgressStyleModel",
     "state": {
      "_model_module": "@jupyter-widgets/controls",
      "_model_module_version": "1.5.0",
      "_model_name": "ProgressStyleModel",
      "_view_count": null,
      "_view_module": "@jupyter-widgets/base",
      "_view_module_version": "1.2.0",
      "_view_name": "StyleView",
      "bar_color": null,
      "description_width": "initial"
     }
    },
    "be6d1426432046e8ba923e20326f0ed7": {
     "model_module": "@jupyter-widgets/base",
     "model_name": "LayoutModel",
     "state": {
      "_model_module": "@jupyter-widgets/base",
      "_model_module_version": "1.2.0",
      "_model_name": "LayoutModel",
      "_view_count": null,
      "_view_module": "@jupyter-widgets/base",
      "_view_module_version": "1.2.0",
      "_view_name": "LayoutView",
      "align_content": null,
      "align_items": null,
      "align_self": null,
      "border": null,
      "bottom": null,
      "display": null,
      "flex": null,
      "flex_flow": null,
      "grid_area": null,
      "grid_auto_columns": null,
      "grid_auto_flow": null,
      "grid_auto_rows": null,
      "grid_column": null,
      "grid_gap": null,
      "grid_row": null,
      "grid_template_areas": null,
      "grid_template_columns": null,
      "grid_template_rows": null,
      "height": null,
      "justify_content": null,
      "justify_items": null,
      "left": null,
      "margin": null,
      "max_height": null,
      "max_width": null,
      "min_height": null,
      "min_width": null,
      "object_fit": null,
      "object_position": null,
      "order": null,
      "overflow": null,
      "overflow_x": null,
      "overflow_y": null,
      "padding": null,
      "right": null,
      "top": null,
      "visibility": null,
      "width": null
     }
    },
    "c61e8dae086442bfa7c7c7688d32efd2": {
     "model_module": "@jupyter-widgets/controls",
     "model_name": "DescriptionStyleModel",
     "state": {
      "_model_module": "@jupyter-widgets/controls",
      "_model_module_version": "1.5.0",
      "_model_name": "DescriptionStyleModel",
      "_view_count": null,
      "_view_module": "@jupyter-widgets/base",
      "_view_module_version": "1.2.0",
      "_view_name": "StyleView",
      "description_width": ""
     }
    },
    "c6fb687ac5954055a40963948c22592e": {
     "model_module": "@jupyter-widgets/base",
     "model_name": "LayoutModel",
     "state": {
      "_model_module": "@jupyter-widgets/base",
      "_model_module_version": "1.2.0",
      "_model_name": "LayoutModel",
      "_view_count": null,
      "_view_module": "@jupyter-widgets/base",
      "_view_module_version": "1.2.0",
      "_view_name": "LayoutView",
      "align_content": null,
      "align_items": null,
      "align_self": null,
      "border": null,
      "bottom": null,
      "display": null,
      "flex": null,
      "flex_flow": null,
      "grid_area": null,
      "grid_auto_columns": null,
      "grid_auto_flow": null,
      "grid_auto_rows": null,
      "grid_column": null,
      "grid_gap": null,
      "grid_row": null,
      "grid_template_areas": null,
      "grid_template_columns": null,
      "grid_template_rows": null,
      "height": null,
      "justify_content": null,
      "justify_items": null,
      "left": null,
      "margin": null,
      "max_height": null,
      "max_width": null,
      "min_height": null,
      "min_width": null,
      "object_fit": null,
      "object_position": null,
      "order": null,
      "overflow": null,
      "overflow_x": null,
      "overflow_y": null,
      "padding": null,
      "right": null,
      "top": null,
      "visibility": null,
      "width": null
     }
    },
    "caefb60b94064ac79ed08b7db6c80484": {
     "model_module": "@jupyter-widgets/controls",
     "model_name": "HBoxModel",
     "state": {
      "_dom_classes": [],
      "_model_module": "@jupyter-widgets/controls",
      "_model_module_version": "1.5.0",
      "_model_name": "HBoxModel",
      "_view_count": null,
      "_view_module": "@jupyter-widgets/controls",
      "_view_module_version": "1.5.0",
      "_view_name": "HBoxView",
      "box_style": "",
      "children": [
       "IPY_MODEL_6200acf9d7a049bea7082ece6c8237c2",
       "IPY_MODEL_060ef762c29b45bd8019e5496f708783"
      ],
      "layout": "IPY_MODEL_a4508d50d06443b68c5f59f3d5ed1770"
     }
    },
    "d166458f288f439f8e83ce80ef75487a": {
     "model_module": "@jupyter-widgets/controls",
     "model_name": "DescriptionStyleModel",
     "state": {
      "_model_module": "@jupyter-widgets/controls",
      "_model_module_version": "1.5.0",
      "_model_name": "DescriptionStyleModel",
      "_view_count": null,
      "_view_module": "@jupyter-widgets/base",
      "_view_module_version": "1.2.0",
      "_view_name": "StyleView",
      "description_width": ""
     }
    },
    "d1e4d186c5a0418a8b5268121274532d": {
     "model_module": "@jupyter-widgets/base",
     "model_name": "LayoutModel",
     "state": {
      "_model_module": "@jupyter-widgets/base",
      "_model_module_version": "1.2.0",
      "_model_name": "LayoutModel",
      "_view_count": null,
      "_view_module": "@jupyter-widgets/base",
      "_view_module_version": "1.2.0",
      "_view_name": "LayoutView",
      "align_content": null,
      "align_items": null,
      "align_self": null,
      "border": null,
      "bottom": null,
      "display": null,
      "flex": null,
      "flex_flow": null,
      "grid_area": null,
      "grid_auto_columns": null,
      "grid_auto_flow": null,
      "grid_auto_rows": null,
      "grid_column": null,
      "grid_gap": null,
      "grid_row": null,
      "grid_template_areas": null,
      "grid_template_columns": null,
      "grid_template_rows": null,
      "height": null,
      "justify_content": null,
      "justify_items": null,
      "left": null,
      "margin": null,
      "max_height": null,
      "max_width": null,
      "min_height": null,
      "min_width": null,
      "object_fit": null,
      "object_position": null,
      "order": null,
      "overflow": null,
      "overflow_x": null,
      "overflow_y": null,
      "padding": null,
      "right": null,
      "top": null,
      "visibility": null,
      "width": null
     }
    },
    "d415047f09a449fc964846f1e28e1398": {
     "model_module": "@jupyter-widgets/controls",
     "model_name": "FloatProgressModel",
     "state": {
      "_dom_classes": [],
      "_model_module": "@jupyter-widgets/controls",
      "_model_module_version": "1.5.0",
      "_model_name": "FloatProgressModel",
      "_view_count": null,
      "_view_module": "@jupyter-widgets/controls",
      "_view_module_version": "1.5.0",
      "_view_name": "ProgressView",
      "bar_style": "success",
      "description": "Downloading: 100%",
      "description_tooltip": null,
      "layout": "IPY_MODEL_63600b7ea39447f2af787ba91c9ff9a0",
      "max": 440473133,
      "min": 0,
      "orientation": "horizontal",
      "style": "IPY_MODEL_956591b99e5043a1bc4e8ab4a6e8aa85",
      "value": 440473133
     }
    },
    "d707728c6beb45348b350d5d78282bd6": {
     "model_module": "@jupyter-widgets/base",
     "model_name": "LayoutModel",
     "state": {
      "_model_module": "@jupyter-widgets/base",
      "_model_module_version": "1.2.0",
      "_model_name": "LayoutModel",
      "_view_count": null,
      "_view_module": "@jupyter-widgets/base",
      "_view_module_version": "1.2.0",
      "_view_name": "LayoutView",
      "align_content": null,
      "align_items": null,
      "align_self": null,
      "border": null,
      "bottom": null,
      "display": null,
      "flex": null,
      "flex_flow": null,
      "grid_area": null,
      "grid_auto_columns": null,
      "grid_auto_flow": null,
      "grid_auto_rows": null,
      "grid_column": null,
      "grid_gap": null,
      "grid_row": null,
      "grid_template_areas": null,
      "grid_template_columns": null,
      "grid_template_rows": null,
      "height": null,
      "justify_content": null,
      "justify_items": null,
      "left": null,
      "margin": null,
      "max_height": null,
      "max_width": null,
      "min_height": null,
      "min_width": null,
      "object_fit": null,
      "object_position": null,
      "order": null,
      "overflow": null,
      "overflow_x": null,
      "overflow_y": null,
      "padding": null,
      "right": null,
      "top": null,
      "visibility": null,
      "width": null
     }
    },
    "d74fb0d0fa3043a99ea1d4a9d447b564": {
     "model_module": "@jupyter-widgets/controls",
     "model_name": "ProgressStyleModel",
     "state": {
      "_model_module": "@jupyter-widgets/controls",
      "_model_module_version": "1.5.0",
      "_model_name": "ProgressStyleModel",
      "_view_count": null,
      "_view_module": "@jupyter-widgets/base",
      "_view_module_version": "1.2.0",
      "_view_name": "StyleView",
      "bar_color": null,
      "description_width": "initial"
     }
    },
    "d7696af3dc7147b5b6fb08b6a7553df5": {
     "model_module": "@jupyter-widgets/base",
     "model_name": "LayoutModel",
     "state": {
      "_model_module": "@jupyter-widgets/base",
      "_model_module_version": "1.2.0",
      "_model_name": "LayoutModel",
      "_view_count": null,
      "_view_module": "@jupyter-widgets/base",
      "_view_module_version": "1.2.0",
      "_view_name": "LayoutView",
      "align_content": null,
      "align_items": null,
      "align_self": null,
      "border": null,
      "bottom": null,
      "display": null,
      "flex": null,
      "flex_flow": null,
      "grid_area": null,
      "grid_auto_columns": null,
      "grid_auto_flow": null,
      "grid_auto_rows": null,
      "grid_column": null,
      "grid_gap": null,
      "grid_row": null,
      "grid_template_areas": null,
      "grid_template_columns": null,
      "grid_template_rows": null,
      "height": null,
      "justify_content": null,
      "justify_items": null,
      "left": null,
      "margin": null,
      "max_height": null,
      "max_width": null,
      "min_height": null,
      "min_width": null,
      "object_fit": null,
      "object_position": null,
      "order": null,
      "overflow": null,
      "overflow_x": null,
      "overflow_y": null,
      "padding": null,
      "right": null,
      "top": null,
      "visibility": null,
      "width": null
     }
    },
    "da3d7f0f7a224bfdb05cc356e0f2dbf1": {
     "model_module": "@jupyter-widgets/controls",
     "model_name": "DescriptionStyleModel",
     "state": {
      "_model_module": "@jupyter-widgets/controls",
      "_model_module_version": "1.5.0",
      "_model_name": "DescriptionStyleModel",
      "_view_count": null,
      "_view_module": "@jupyter-widgets/base",
      "_view_module_version": "1.2.0",
      "_view_name": "StyleView",
      "description_width": ""
     }
    },
    "da4aa07e5ab84a50abfe4f81fc8511f6": {
     "model_module": "@jupyter-widgets/controls",
     "model_name": "HBoxModel",
     "state": {
      "_dom_classes": [],
      "_model_module": "@jupyter-widgets/controls",
      "_model_module_version": "1.5.0",
      "_model_name": "HBoxModel",
      "_view_count": null,
      "_view_module": "@jupyter-widgets/controls",
      "_view_module_version": "1.5.0",
      "_view_name": "HBoxView",
      "box_style": "",
      "children": [
       "IPY_MODEL_d415047f09a449fc964846f1e28e1398",
       "IPY_MODEL_6f14235d1b584951ae8ebb8fae8be9fa"
      ],
      "layout": "IPY_MODEL_d707728c6beb45348b350d5d78282bd6"
     }
    },
    "debbd3de60834279b106dd625a5e76f5": {
     "model_module": "@jupyter-widgets/controls",
     "model_name": "ProgressStyleModel",
     "state": {
      "_model_module": "@jupyter-widgets/controls",
      "_model_module_version": "1.5.0",
      "_model_name": "ProgressStyleModel",
      "_view_count": null,
      "_view_module": "@jupyter-widgets/base",
      "_view_module_version": "1.2.0",
      "_view_name": "StyleView",
      "bar_color": null,
      "description_width": "initial"
     }
    },
    "df2d30cdeef04db59a319fb87e106d24": {
     "model_module": "@jupyter-widgets/base",
     "model_name": "LayoutModel",
     "state": {
      "_model_module": "@jupyter-widgets/base",
      "_model_module_version": "1.2.0",
      "_model_name": "LayoutModel",
      "_view_count": null,
      "_view_module": "@jupyter-widgets/base",
      "_view_module_version": "1.2.0",
      "_view_name": "LayoutView",
      "align_content": null,
      "align_items": null,
      "align_self": null,
      "border": null,
      "bottom": null,
      "display": null,
      "flex": null,
      "flex_flow": null,
      "grid_area": null,
      "grid_auto_columns": null,
      "grid_auto_flow": null,
      "grid_auto_rows": null,
      "grid_column": null,
      "grid_gap": null,
      "grid_row": null,
      "grid_template_areas": null,
      "grid_template_columns": null,
      "grid_template_rows": null,
      "height": null,
      "justify_content": null,
      "justify_items": null,
      "left": null,
      "margin": null,
      "max_height": null,
      "max_width": null,
      "min_height": null,
      "min_width": null,
      "object_fit": null,
      "object_position": null,
      "order": null,
      "overflow": null,
      "overflow_x": null,
      "overflow_y": null,
      "padding": null,
      "right": null,
      "top": null,
      "visibility": null,
      "width": null
     }
    },
    "e733a601781e45ff88b92960e20ac17f": {
     "model_module": "@jupyter-widgets/controls",
     "model_name": "HBoxModel",
     "state": {
      "_dom_classes": [],
      "_model_module": "@jupyter-widgets/controls",
      "_model_module_version": "1.5.0",
      "_model_name": "HBoxModel",
      "_view_count": null,
      "_view_module": "@jupyter-widgets/controls",
      "_view_module_version": "1.5.0",
      "_view_name": "HBoxView",
      "box_style": "",
      "children": [
       "IPY_MODEL_675810a61e684edba6f9a62d4008f866",
       "IPY_MODEL_2e42673fe4994002ab96bd79e98175e7"
      ],
      "layout": "IPY_MODEL_d7696af3dc7147b5b6fb08b6a7553df5"
     }
    },
    "e92ab08661ea4e0abd9f49a26e193562": {
     "model_module": "@jupyter-widgets/controls",
     "model_name": "DescriptionStyleModel",
     "state": {
      "_model_module": "@jupyter-widgets/controls",
      "_model_module_version": "1.5.0",
      "_model_name": "DescriptionStyleModel",
      "_view_count": null,
      "_view_module": "@jupyter-widgets/base",
      "_view_module_version": "1.2.0",
      "_view_name": "StyleView",
      "description_width": ""
     }
    }
   }
  }
 },
 "nbformat": 4,
 "nbformat_minor": 1
}
